{
 "cells": [
  {
   "cell_type": "code",
   "execution_count": 3,
   "metadata": {
    "collapsed": true
   },
   "outputs": [
    {
     "ename": "ModuleNotFoundError",
     "evalue": "No module named 'condition'",
     "output_type": "error",
     "traceback": [
      "\u001B[1;31m---------------------------------------------------------------------------\u001B[0m",
      "\u001B[1;31mModuleNotFoundError\u001B[0m                       Traceback (most recent call last)",
      "Cell \u001B[1;32mIn [3], line 1\u001B[0m\n\u001B[1;32m----> 1\u001B[0m \u001B[38;5;28;01mfrom\u001B[39;00m \u001B[38;5;21;01mselenium_pages\u001B[39;00m \u001B[38;5;28;01mimport\u001B[39;00m UseSelenium\n\u001B[0;32m      3\u001B[0m \u001B[38;5;28;01mdef\u001B[39;00m \u001B[38;5;21mmain\u001B[39m():\n\u001B[0;32m      4\u001B[0m     url \u001B[38;5;241m=\u001B[39m \u001B[38;5;124m\"\u001B[39m\u001B[38;5;124mhttps://www.ozon.ru/category/kompasy-11461/\u001B[39m\u001B[38;5;124m\"\u001B[39m\n",
      "File \u001B[1;32m~\\anaconda3\\envs\\tf\\lib\\site-packages\\selenium_pages\\__init__.py:1\u001B[0m\n\u001B[1;32m----> 1\u001B[0m \u001B[38;5;28;01mfrom\u001B[39;00m \u001B[38;5;21;01mselenium_pages\u001B[39;00m\u001B[38;5;21;01m.\u001B[39;00m\u001B[38;5;21;01mpage\u001B[39;00m \u001B[38;5;28;01mimport\u001B[39;00m Page, Locator\n\u001B[0;32m      2\u001B[0m \u001B[38;5;28;01mfrom\u001B[39;00m \u001B[38;5;21;01mselenium_pages\u001B[39;00m\u001B[38;5;21;01m.\u001B[39;00m\u001B[38;5;21;01mcondition\u001B[39;00m \u001B[38;5;28;01mimport\u001B[39;00m Condition\n\u001B[0;32m      3\u001B[0m \u001B[38;5;28;01mfrom\u001B[39;00m \u001B[38;5;21;01mselenium_pages\u001B[39;00m\u001B[38;5;21;01m.\u001B[39;00m\u001B[38;5;21;01mpage_manager\u001B[39;00m \u001B[38;5;28;01mimport\u001B[39;00m PageManager\n",
      "File \u001B[1;32m~\\anaconda3\\envs\\tf\\lib\\site-packages\\selenium_pages\\page.py:10\u001B[0m\n\u001B[0;32m      7\u001B[0m \u001B[38;5;28;01mfrom\u001B[39;00m \u001B[38;5;21;01mselenium\u001B[39;00m\u001B[38;5;21;01m.\u001B[39;00m\u001B[38;5;21;01mwebdriver\u001B[39;00m\u001B[38;5;21;01m.\u001B[39;00m\u001B[38;5;21;01mcommon\u001B[39;00m\u001B[38;5;21;01m.\u001B[39;00m\u001B[38;5;21;01mkeys\u001B[39;00m \u001B[38;5;28;01mimport\u001B[39;00m Keys\n\u001B[0;32m      8\u001B[0m \u001B[38;5;28;01mfrom\u001B[39;00m \u001B[38;5;21;01mselenium\u001B[39;00m\u001B[38;5;21;01m.\u001B[39;00m\u001B[38;5;21;01mwebdriver\u001B[39;00m\u001B[38;5;21;01m.\u001B[39;00m\u001B[38;5;21;01msupport\u001B[39;00m \u001B[38;5;28;01mimport\u001B[39;00m expected_conditions \u001B[38;5;28;01mas\u001B[39;00m ec\n\u001B[1;32m---> 10\u001B[0m \u001B[38;5;28;01mfrom\u001B[39;00m \u001B[38;5;21;01mcondition\u001B[39;00m \u001B[38;5;28;01mimport\u001B[39;00m Condition\n\u001B[0;32m     13\u001B[0m \u001B[38;5;28;01mdef\u001B[39;00m \u001B[38;5;21m_parse_elem\u001B[39m(element):\n\u001B[0;32m     14\u001B[0m     \u001B[38;5;28;01mif\u001B[39;00m \u001B[38;5;28misinstance\u001B[39m(element[\u001B[38;5;241m0\u001B[39m], Locator):\n",
      "\u001B[1;31mModuleNotFoundError\u001B[0m: No module named 'condition'"
     ]
    }
   ],
   "source": [
    "from selenium_pages import UseSelenium\n",
    "\n",
    "def main():\n",
    "    url = \"https://www.ozon.ru/category/kompasy-11461/\"\n",
    "    url = \"https://www.ozon.ru/category/otdyh-i-piknik-14666/\"\n",
    "\n",
    "    # Ограничим парсинг первыми 10 страницами\n",
    "    MAX_PAGE = 10\n",
    "    i = 1\n",
    "    while i <= MAX_PAGE:\n",
    "        filename = f'page_' + str(i) + '.html'\n",
    "        if i == 1:\n",
    "            UseSelenium(url, filename).save_page()\n",
    "        else:\n",
    "            url_param = url + '?page=' + str(i)\n",
    "            UseSelenium(url_param, filename).save_page()\n",
    "\n",
    "        i += 1\n",
    "\n",
    "main()"
   ]
  },
  {
   "cell_type": "code",
   "execution_count": 1,
   "outputs": [
    {
     "name": "stdout",
     "output_type": "stream",
     "text": [
      "Collecting selenium_pages\n",
      "  Downloading selenium-pages-0.1.0a0.tar.gz (5.5 kB)\n",
      "  Preparing metadata (setup.py): started\n",
      "  Preparing metadata (setup.py): finished with status 'done'\n",
      "Collecting selenium\n",
      "  Downloading selenium-4.6.0-py3-none-any.whl (5.2 MB)\n",
      "     ---------------------------------------- 5.2/5.2 MB 6.9 MB/s eta 0:00:00\n",
      "Requirement already satisfied: urllib3[socks]~=1.26 in c:\\users\\venag\\anaconda3\\envs\\tf\\lib\\site-packages (from selenium->selenium_pages) (1.26.12)\n",
      "Requirement already satisfied: certifi>=2021.10.8 in c:\\users\\venag\\anaconda3\\envs\\tf\\lib\\site-packages (from selenium->selenium_pages) (2022.9.24)\n",
      "Collecting trio~=0.17\n",
      "  Downloading trio-0.22.0-py3-none-any.whl (384 kB)\n",
      "     -------------------------------------- 384.9/384.9 kB 5.9 MB/s eta 0:00:00\n",
      "Collecting trio-websocket~=0.9\n",
      "  Using cached trio_websocket-0.9.2-py3-none-any.whl (16 kB)\n",
      "Requirement already satisfied: idna in c:\\users\\venag\\anaconda3\\envs\\tf\\lib\\site-packages (from trio~=0.17->selenium->selenium_pages) (3.4)\n",
      "Requirement already satisfied: sniffio in c:\\users\\venag\\anaconda3\\envs\\tf\\lib\\site-packages (from trio~=0.17->selenium->selenium_pages) (1.2.0)\n",
      "Collecting async-generator>=1.9\n",
      "  Using cached async_generator-1.10-py3-none-any.whl (18 kB)\n",
      "Collecting exceptiongroup>=1.0.0rc9\n",
      "  Downloading exceptiongroup-1.0.3-py3-none-any.whl (14 kB)\n",
      "Collecting sortedcontainers\n",
      "  Using cached sortedcontainers-2.4.0-py2.py3-none-any.whl (29 kB)\n",
      "Collecting outcome\n",
      "  Using cached outcome-1.2.0-py2.py3-none-any.whl (9.7 kB)\n",
      "Requirement already satisfied: attrs>=19.2.0 in c:\\users\\venag\\anaconda3\\envs\\tf\\lib\\site-packages (from trio~=0.17->selenium->selenium_pages) (21.4.0)\n",
      "Requirement already satisfied: cffi>=1.14 in c:\\users\\venag\\anaconda3\\envs\\tf\\lib\\site-packages (from trio~=0.17->selenium->selenium_pages) (1.15.1)\n",
      "Collecting wsproto>=0.14\n",
      "  Downloading wsproto-1.2.0-py3-none-any.whl (24 kB)\n",
      "Requirement already satisfied: PySocks!=1.5.7,<2.0,>=1.5.6 in c:\\users\\venag\\anaconda3\\envs\\tf\\lib\\site-packages (from urllib3[socks]~=1.26->selenium->selenium_pages) (1.7.1)\n",
      "Requirement already satisfied: pycparser in c:\\users\\venag\\anaconda3\\envs\\tf\\lib\\site-packages (from cffi>=1.14->trio~=0.17->selenium->selenium_pages) (2.21)\n",
      "Collecting h11<1,>=0.9.0\n",
      "  Downloading h11-0.14.0-py3-none-any.whl (58 kB)\n",
      "     ---------------------------------------- 58.3/58.3 kB ? eta 0:00:00\n",
      "Building wheels for collected packages: selenium_pages\n",
      "  Building wheel for selenium_pages (setup.py): started\n",
      "  Building wheel for selenium_pages (setup.py): finished with status 'done'\n",
      "  Created wheel for selenium_pages: filename=selenium_pages-0.1.0a0-py3-none-any.whl size=6915 sha256=9563c7fed97fdeb642ef63aa199687cf8bb826d31792e50d4d5bfda6cbf573e9\n",
      "  Stored in directory: c:\\users\\venag\\appdata\\local\\pip\\cache\\wheels\\fb\\fe\\33\\01c3a9e4329bc126a6d43ef920064dbd1373ff7bff28d642d5\n",
      "Successfully built selenium_pages\n",
      "Installing collected packages: sortedcontainers, outcome, h11, exceptiongroup, async-generator, wsproto, trio, trio-websocket, selenium, selenium_pages\n",
      "Successfully installed async-generator-1.10 exceptiongroup-1.0.3 h11-0.14.0 outcome-1.2.0 selenium-4.6.0 selenium_pages-0.1.0a0 sortedcontainers-2.4.0 trio-0.22.0 trio-websocket-0.9.2 wsproto-1.2.0\n"
     ]
    }
   ],
   "source": [
    "!pip install selenium_pages"
   ],
   "metadata": {
    "collapsed": false
   }
  },
  {
   "cell_type": "code",
   "execution_count": null,
   "outputs": [],
   "source": [],
   "metadata": {
    "collapsed": false
   }
  }
 ],
 "metadata": {
  "kernelspec": {
   "display_name": "Python 3",
   "language": "python",
   "name": "python3"
  },
  "language_info": {
   "codemirror_mode": {
    "name": "ipython",
    "version": 2
   },
   "file_extension": ".py",
   "mimetype": "text/x-python",
   "name": "python",
   "nbconvert_exporter": "python",
   "pygments_lexer": "ipython2",
   "version": "2.7.6"
  }
 },
 "nbformat": 4,
 "nbformat_minor": 0
}
