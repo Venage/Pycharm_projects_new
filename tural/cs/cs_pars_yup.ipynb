{
 "cells": [
  {
   "cell_type": "code",
   "execution_count": 2,
   "outputs": [
    {
     "name": "stdout",
     "output_type": "stream",
     "text": [
      "--- 43.559950828552246 seconds ---\n"
     ]
    }
   ],
   "source": [
    "import multiprocessing as mp\n",
    "import time\n",
    "import re\n",
    "import os.path\n",
    "import random\n",
    "import pandas as pd\n",
    "from bs4 import BeautifulSoup\n",
    "from seleniumwire import webdriver\n",
    "from selenium.webdriver.chrome.service import Service\n",
    "from selenium.webdriver.common.by import By\n",
    "from selenium.webdriver.support.ui import WebDriverWait\n",
    "from selenium.webdriver.support import expected_conditions as EC\n",
    "from openpyxl import load_workbook\n",
    "\n",
    "\n",
    "start_time = time.time()\n",
    "\n",
    "url = 'https://market.csgo.com/item/3757781165'\n",
    "\n",
    "\n",
    "filename = '\\parsing_cs.xlsx'\n",
    "\n",
    "\n",
    "\n",
    "global driver\n",
    "\n",
    "\n",
    "def get_html(url):\n",
    "\n",
    "    users = [{'http_proxy': '193.31.103.210:9244',\n",
    "              'user-agent': 'Mozilla/5.0 (X11; Ubuntu; Linux x86_64; rv:94.0) Gecko/20100101 Firefox/94.0'},\n",
    "             {'http_proxy': '193.31.101.224:9604',\n",
    "              'user-agent': 'Opera/9.80 (J2ME/MIDP; Opera Mini/5.0.18635/886; U; en) Presto/2.4.15'},\n",
    "             {'http_proxy': '193.31.102.78:9514',\n",
    "              'user-agent': 'Mozilla/5.0 (X11; U; Linux x86_64; en-US) AppleWebKit/532.0 (KHTML, like Gecko) Chrome/4.0.209.0 Safari/532.0'}]\n",
    "\n",
    "    persona = random.choice(users)\n",
    "\n",
    "\n",
    "    # PROXY = persona['http_proxy']\n",
    "    # webdriver.DesiredCapabilities.CHROME['proxy'] = {\n",
    "    #     \"httpProxy\": PROXY,\n",
    "    #     \"ftpProxy\": PROXY,\n",
    "    #     \"sslProxy\": PROXY,\n",
    "    #     \"proxyType\": \"MANUAL\",\n",
    "    #\n",
    "    # }\n",
    "    #webdriver.DesiredCapabilities.CHROME['acceptSslCerts'] = True\n",
    "\n",
    "\n",
    "\n",
    "    options = webdriver.ChromeOptions()\n",
    "    options.add_argument(f\"user-agent={persona['user-agent']}\")\n",
    "    #options.add_argument(\"--disable-blink-features=AutomationControlled\")\n",
    "\n",
    "\n",
    "    #options.add_argument(f\"proxy-server={persona['http_proxy']}\")\n",
    "\n",
    "    s = Service(executable_path=\"C:/Users/venag/Downloads/chromedriver_win32/chromedriver.exe\")\n",
    "\n",
    "    driver = webdriver.Chrome(options=options, service=s)\n",
    "\n",
    "    try:\n",
    "        #driver.request_interceptor = lib.headers.interceptor\n",
    "        driver.get(url)\n",
    "        #wait = WebDriverWait(driver, 5)\n",
    "        #time.sleep(5)\n",
    "        #wait.until(EC.presence_of_element_located((By.CLASS_NAME, \"collapsible__toggle-wrap\")))\n",
    "        html = driver.page_source\n",
    "    except:\n",
    "        html = None\n",
    "    finally:\n",
    "        driver.close()\n",
    "        driver.quit()\n",
    "    return html\n",
    "\n",
    "\n",
    "if __name__ == '__main__':\n",
    "\n",
    "    #p = mp.Pool(processes=10)\n",
    "    #html = p.map(get_html, all_url)\n",
    "    html = get_html(url)\n",
    "    #print(html)\n",
    "\n",
    "\n",
    "\n",
    "\n",
    "    print(\"--- %s seconds ---\" % (time.time() - start_time))"
   ],
   "metadata": {
    "collapsed": false
   }
  },
  {
   "cell_type": "code",
   "execution_count": 2,
   "outputs": [],
   "source": [
    "soup = BeautifulSoup(html, 'html.parser')"
   ],
   "metadata": {
    "collapsed": false
   }
  },
  {
   "cell_type": "code",
   "execution_count": 12,
   "outputs": [],
   "source": [
    "price_all = soup.find_all('button', attrs={'class': 'ibutton ibutton-buy'})\n",
    "percent_all = soup.find_all('div', attrs={'class': 'sameitem-floatnum'})"
   ],
   "metadata": {
    "collapsed": false
   }
  },
  {
   "cell_type": "code",
   "execution_count": 23,
   "outputs": [
    {
     "data": {
      "text/plain": "{'price': '94.88',\n 'percent': '17.755',\n 'url': \"BuyItem(4578724305, 519977179, 9488, '0', 1, 3757771185)\"}"
     },
     "execution_count": 23,
     "metadata": {},
     "output_type": "execute_result"
    }
   ],
   "source": [
    "data = []\n",
    "def datas(i,j):\n",
    "    mass = {\n",
    "        'price' : i.get_text().replace('\\xa0 ','').replace('\\n',''),\n",
    "        'percent' : j.find('span').get_text().replace('%',''),\n",
    "        'url' : i['onclick']#.replace('\\xa0 ','').replace('\\n',''),\n",
    "    }\n",
    "\n",
    "    return mass\n",
    "\n",
    "for i,j in zip(price_all,percent_all):\n",
    "    data.append(datas(i,j))\n",
    "data[0]"
   ],
   "metadata": {
    "collapsed": false
   }
  },
  {
   "cell_type": "code",
   "execution_count": 29,
   "outputs": [],
   "source": [
    "df = pd.DataFrame(columns = ['price','percent','url'])\n",
    "for i in range(len(data)):\n",
    "    df.loc[i] = data[i]\n",
    "\n",
    "df.to_excel(os.getcwd()+filename, index = False)"
   ],
   "metadata": {
    "collapsed": false
   }
  },
  {
   "cell_type": "code",
   "execution_count": null,
   "outputs": [],
   "source": [],
   "metadata": {
    "collapsed": false
   }
  }
 ],
 "metadata": {
  "kernelspec": {
   "display_name": "Python 3",
   "language": "python",
   "name": "python3"
  },
  "language_info": {
   "codemirror_mode": {
    "name": "ipython",
    "version": 2
   },
   "file_extension": ".py",
   "mimetype": "text/x-python",
   "name": "python",
   "nbconvert_exporter": "python",
   "pygments_lexer": "ipython2",
   "version": "2.7.6"
  }
 },
 "nbformat": 4,
 "nbformat_minor": 0
}
