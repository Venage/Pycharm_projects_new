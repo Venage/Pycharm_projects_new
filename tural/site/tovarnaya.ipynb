{
 "cells": [
  {
   "cell_type": "code",
   "execution_count": 86,
   "metadata": {
    "collapsed": true
   },
   "outputs": [],
   "source": [
    "import pandas as pd\n",
    "import numpy as np\n",
    "import matplotlib as mlp\n",
    "import seaborn as sns\n",
    "import openpyxl\n",
    "from openpyxl import load_workbook\n",
    "import warnings\n",
    "warnings.filterwarnings('ignore')"
   ]
  },
  {
   "cell_type": "code",
   "execution_count": 87,
   "outputs": [],
   "source": [
    "pyt_lical = r'C:\\PyProjects\\poject_1\\tural\\site'"
   ],
   "metadata": {
    "collapsed": false
   }
  },
  {
   "cell_type": "code",
   "execution_count": 88,
   "outputs": [],
   "source": [
    "pyt_orders = pyt_lical+'/orders11.xls'\n",
    "pyt_sebes = pyt_lical+'/sebestoim.xlsx'\n",
    "\n",
    "pyt_zapros = pyt_lical+'/tovarn_zapros.xlsx'\n",
    "pyt_result = pyt_lical+'/tovarn_result.xlsx'\n",
    "\n",
    "pyt_base_nabor = pyt_lical+'/base_nabor.xlsx'"
   ],
   "metadata": {
    "collapsed": false
   }
  },
  {
   "cell_type": "code",
   "execution_count": 89,
   "outputs": [],
   "source": [
    "df_orders = pd.read_excel(pyt_orders)\n",
    "df_sebes = pd.read_excel(pyt_sebes)"
   ],
   "metadata": {
    "collapsed": false
   }
  },
  {
   "cell_type": "code",
   "execution_count": 90,
   "outputs": [],
   "source": [
    "df_orders['Дата и время'] = pd.to_datetime(df_orders['Дата и время'], format='%d.%m.%Y %H:%M')\n",
    "df_orders = df_orders.merge(df_sebes, left_on='Артикул', right_on='sku', how = 'left')\n",
    "df_orders = df_orders.drop('sku', axis=1)\n",
    "df_tovarn = df_orders[['Номер', 'Дата и время','Название', 'Артикул', 'Количество', 'Общая сумма товара', 'sebes']]\n",
    "df_tovarn['Общая себестоимость товара'] = df_tovarn['Количество']*df_tovarn['sebes']\n",
    "df_tovarn = df_tovarn.drop('sebes', axis=1)\n",
    "\n",
    "df_orderswithdates = df_tovarn.drop(['Номер'], axis=1)\n",
    "df_orderswithdates.columns =['Дата','Название','Артикул','Количество','Выручка','Себестоимость']\n",
    "df_orderswithdates = df_orderswithdates[['Артикул','Название','Дата','Количество','Выручка','Себестоимость']]\n",
    "df_orderswithdates['Маржа']= df_orderswithdates['Выручка']-df_orderswithdates['Себестоимость']\n",
    "df_orderswithdates['Маржинальность']= (df_orderswithdates['Выручка']-df_orderswithdates['Себестоимость'])/df_orderswithdates['Выручка']\n",
    "\n",
    "df_tovarn['Месяц'] = df_tovarn['Дата и время'].dt.month\n",
    "df_tovarn['День'] = df_tovarn['Дата и время'].dt.day\n",
    "\n",
    "df_to_nabor = df_tovarn\n",
    "\n",
    "df_tovarn = df_tovarn.drop(['Номер', 'Дата и время'], axis=1)\n",
    "df_tovarn_group = df_tovarn.groupby(['Артикул','Название', 'Месяц'])['Количество','Общая сумма товара','Общая себестоимость товара'].agg({\"sum\"}).reset_index().sort_values(('Месяц'), ascending =1)\n",
    "df_tovarn_group.columns =['Артикул','Название','Месяц','Количество','Выручка','Себестоимость']\n",
    "df_tovarn_group['Маржа']= df_tovarn_group['Выручка']-df_tovarn_group['Себестоимость']\n",
    "df_tovarn_group['Маржинальность']= (df_tovarn_group['Выручка']-df_tovarn_group['Себестоимость'])/df_tovarn_group['Выручка']"
   ],
   "metadata": {
    "collapsed": false
   }
  },
  {
   "cell_type": "code",
   "execution_count": 90,
   "outputs": [],
   "source": [],
   "metadata": {
    "collapsed": false
   }
  },
  {
   "cell_type": "code",
   "execution_count": 90,
   "outputs": [],
   "source": [],
   "metadata": {
    "collapsed": false
   }
  },
  {
   "cell_type": "code",
   "execution_count": 90,
   "outputs": [],
   "source": [],
   "metadata": {
    "collapsed": false
   }
  },
  {
   "cell_type": "code",
   "execution_count": 91,
   "outputs": [],
   "source": [
    "list_naborov = ['nb-vse']"
   ],
   "metadata": {
    "collapsed": false
   }
  },
  {
   "cell_type": "code",
   "execution_count": 92,
   "outputs": [],
   "source": [
    "df_tovarn_nab = df_to_nabor.query(\"Артикул in @list_naborov\")\n",
    "df_tovarn_NE_nab = df_to_nabor.query(\"Артикул not in @list_naborov\")"
   ],
   "metadata": {
    "collapsed": false
   }
  },
  {
   "cell_type": "code",
   "execution_count": 93,
   "outputs": [
    {
     "data": {
      "text/plain": "    sku_1c              sku_nab       seb       vyr     date_1     date_2\n0   nb-vse           mk-1-6(nb)  0.563981  0.601464 2000-11-15 2022-11-09\n1   nb-vse    om-bfd-369-90(nb)  0.108610  0.096278 2000-11-15 2022-11-09\n2   nb-vse  bt-bfd-10000-90(nb)  0.165087  0.143868 2000-11-15 2022-11-09\n3   nb-vse       zk-bfd-120(nb)  0.071090  0.097498 2000-11-15 2022-11-09\n4   nb-vse                 (nb)  0.090442  0.060891 2000-11-15 2022-11-09\n5   nb-vse           mk-1-6(nb)  0.575810  0.600000 2022-11-09 2022-11-21\n6   nb-vse    om-bfd-369-90(nb)  0.110890  0.096040 2022-11-09 2022-11-21\n7   nb-vse      bt-now-5000(nb)  0.147580  0.145950 2022-11-09 2022-11-21\n8   nb-vse       zk-bfd-120(nb)  0.072580  0.097260 2022-11-09 2022-11-21\n9   nb-vse                 (nb)  0.092340  0.060740 2022-11-09 2022-11-21\n10  nb-vse           mk-1-6(nb)  0.570740  0.601460 2022-11-21 2022-12-21\n11  nb-vse    om-bfd-369-90(nb)  0.109910  0.096280 2022-11-21 2022-12-21\n12  nb-vse  bt-bfd-10000-90(nb)  0.167070  0.143870 2022-11-21 2022-12-21\n13  nb-vse         21cen-60(nb)  0.059950  0.097500 2022-11-21 2022-12-21\n14  nb-vse                 (nb)  0.091530  0.060890 2022-11-21 2022-12-21\n15  nb-vse           mk-1-6(nb)  0.563981  0.601464 2022-12-21 2025-11-09\n16  nb-vse    om-bfd-369-90(nb)  0.108610  0.096278 2022-12-21 2025-11-09\n17  nb-vse  bt-bfd-10000-90(nb)  0.165087  0.143868 2022-12-21 2025-11-09\n18  nb-vse       zk-bfd-120(nb)  0.071090  0.097498 2022-12-21 2025-11-09\n19  nb-vse                 (nb)  0.090442  0.060891 2022-12-21 2025-11-09",
      "text/html": "<div>\n<style scoped>\n    .dataframe tbody tr th:only-of-type {\n        vertical-align: middle;\n    }\n\n    .dataframe tbody tr th {\n        vertical-align: top;\n    }\n\n    .dataframe thead th {\n        text-align: right;\n    }\n</style>\n<table border=\"1\" class=\"dataframe\">\n  <thead>\n    <tr style=\"text-align: right;\">\n      <th></th>\n      <th>sku_1c</th>\n      <th>sku_nab</th>\n      <th>seb</th>\n      <th>vyr</th>\n      <th>date_1</th>\n      <th>date_2</th>\n    </tr>\n  </thead>\n  <tbody>\n    <tr>\n      <th>0</th>\n      <td>nb-vse</td>\n      <td>mk-1-6(nb)</td>\n      <td>0.563981</td>\n      <td>0.601464</td>\n      <td>2000-11-15</td>\n      <td>2022-11-09</td>\n    </tr>\n    <tr>\n      <th>1</th>\n      <td>nb-vse</td>\n      <td>om-bfd-369-90(nb)</td>\n      <td>0.108610</td>\n      <td>0.096278</td>\n      <td>2000-11-15</td>\n      <td>2022-11-09</td>\n    </tr>\n    <tr>\n      <th>2</th>\n      <td>nb-vse</td>\n      <td>bt-bfd-10000-90(nb)</td>\n      <td>0.165087</td>\n      <td>0.143868</td>\n      <td>2000-11-15</td>\n      <td>2022-11-09</td>\n    </tr>\n    <tr>\n      <th>3</th>\n      <td>nb-vse</td>\n      <td>zk-bfd-120(nb)</td>\n      <td>0.071090</td>\n      <td>0.097498</td>\n      <td>2000-11-15</td>\n      <td>2022-11-09</td>\n    </tr>\n    <tr>\n      <th>4</th>\n      <td>nb-vse</td>\n      <td>(nb)</td>\n      <td>0.090442</td>\n      <td>0.060891</td>\n      <td>2000-11-15</td>\n      <td>2022-11-09</td>\n    </tr>\n    <tr>\n      <th>5</th>\n      <td>nb-vse</td>\n      <td>mk-1-6(nb)</td>\n      <td>0.575810</td>\n      <td>0.600000</td>\n      <td>2022-11-09</td>\n      <td>2022-11-21</td>\n    </tr>\n    <tr>\n      <th>6</th>\n      <td>nb-vse</td>\n      <td>om-bfd-369-90(nb)</td>\n      <td>0.110890</td>\n      <td>0.096040</td>\n      <td>2022-11-09</td>\n      <td>2022-11-21</td>\n    </tr>\n    <tr>\n      <th>7</th>\n      <td>nb-vse</td>\n      <td>bt-now-5000(nb)</td>\n      <td>0.147580</td>\n      <td>0.145950</td>\n      <td>2022-11-09</td>\n      <td>2022-11-21</td>\n    </tr>\n    <tr>\n      <th>8</th>\n      <td>nb-vse</td>\n      <td>zk-bfd-120(nb)</td>\n      <td>0.072580</td>\n      <td>0.097260</td>\n      <td>2022-11-09</td>\n      <td>2022-11-21</td>\n    </tr>\n    <tr>\n      <th>9</th>\n      <td>nb-vse</td>\n      <td>(nb)</td>\n      <td>0.092340</td>\n      <td>0.060740</td>\n      <td>2022-11-09</td>\n      <td>2022-11-21</td>\n    </tr>\n    <tr>\n      <th>10</th>\n      <td>nb-vse</td>\n      <td>mk-1-6(nb)</td>\n      <td>0.570740</td>\n      <td>0.601460</td>\n      <td>2022-11-21</td>\n      <td>2022-12-21</td>\n    </tr>\n    <tr>\n      <th>11</th>\n      <td>nb-vse</td>\n      <td>om-bfd-369-90(nb)</td>\n      <td>0.109910</td>\n      <td>0.096280</td>\n      <td>2022-11-21</td>\n      <td>2022-12-21</td>\n    </tr>\n    <tr>\n      <th>12</th>\n      <td>nb-vse</td>\n      <td>bt-bfd-10000-90(nb)</td>\n      <td>0.167070</td>\n      <td>0.143870</td>\n      <td>2022-11-21</td>\n      <td>2022-12-21</td>\n    </tr>\n    <tr>\n      <th>13</th>\n      <td>nb-vse</td>\n      <td>21cen-60(nb)</td>\n      <td>0.059950</td>\n      <td>0.097500</td>\n      <td>2022-11-21</td>\n      <td>2022-12-21</td>\n    </tr>\n    <tr>\n      <th>14</th>\n      <td>nb-vse</td>\n      <td>(nb)</td>\n      <td>0.091530</td>\n      <td>0.060890</td>\n      <td>2022-11-21</td>\n      <td>2022-12-21</td>\n    </tr>\n    <tr>\n      <th>15</th>\n      <td>nb-vse</td>\n      <td>mk-1-6(nb)</td>\n      <td>0.563981</td>\n      <td>0.601464</td>\n      <td>2022-12-21</td>\n      <td>2025-11-09</td>\n    </tr>\n    <tr>\n      <th>16</th>\n      <td>nb-vse</td>\n      <td>om-bfd-369-90(nb)</td>\n      <td>0.108610</td>\n      <td>0.096278</td>\n      <td>2022-12-21</td>\n      <td>2025-11-09</td>\n    </tr>\n    <tr>\n      <th>17</th>\n      <td>nb-vse</td>\n      <td>bt-bfd-10000-90(nb)</td>\n      <td>0.165087</td>\n      <td>0.143868</td>\n      <td>2022-12-21</td>\n      <td>2025-11-09</td>\n    </tr>\n    <tr>\n      <th>18</th>\n      <td>nb-vse</td>\n      <td>zk-bfd-120(nb)</td>\n      <td>0.071090</td>\n      <td>0.097498</td>\n      <td>2022-12-21</td>\n      <td>2025-11-09</td>\n    </tr>\n    <tr>\n      <th>19</th>\n      <td>nb-vse</td>\n      <td>(nb)</td>\n      <td>0.090442</td>\n      <td>0.060891</td>\n      <td>2022-12-21</td>\n      <td>2025-11-09</td>\n    </tr>\n  </tbody>\n</table>\n</div>"
     },
     "execution_count": 93,
     "metadata": {},
     "output_type": "execute_result"
    }
   ],
   "source": [
    "df_base_nabor = pd.read_excel(pyt_base_nabor)\n",
    "df_base_nabor['date_1'] = pd.to_datetime(df_base_nabor['date_1'], format='%Y%m%d')\n",
    "df_base_nabor['date_2'] = pd.to_datetime(df_base_nabor['date_2'], format='%Y%m%d')\n",
    "df_base_nabor"
   ],
   "metadata": {
    "collapsed": false
   }
  },
  {
   "cell_type": "code",
   "execution_count": 99,
   "outputs": [],
   "source": [
    "df_base_nabor_merge = df_base_nabor.merge(df_tovarn_nab, left_on='sku_1c', right_on='Артикул', how = 'left')\n",
    "df_base_nabor_merge['Общая сумма товара'] = df_base_nabor_merge['Общая сумма товара']*df_base_nabor_merge['vyr']\n",
    "df_base_nabor_merge['Общая себестоимость товара'] = df_base_nabor_merge['Общая себестоимость товара']*df_base_nabor_merge['seb']\n",
    "df_base_nabor_merge = df_base_nabor_merge.rename(columns={'Дата и время': 'Дата_и_время'})\n",
    "\n",
    "df_base_nabor_merge = df_base_nabor_merge.query('Дата_и_время >= date_1 and Дата_и_время <= date_2')\n",
    "df_base_nabor_merge = df_base_nabor_merge.rename(columns={'Дата_и_время': 'Дата и время'})\n",
    "\n",
    "df_base_nabor_merge = df_base_nabor_merge[['Номер', 'Дата и время', 'Название', 'sku_nab','Количество', 'Общая сумма товара','Общая себестоимость товара', 'Месяц', 'День']]\n",
    "df_base_nabor_merge = df_base_nabor_merge.rename(columns={'sku_nab': 'Артикул'})"
   ],
   "metadata": {
    "collapsed": false
   }
  },
  {
   "cell_type": "code",
   "execution_count": 106,
   "outputs": [],
   "source": [
    "df_base_s_zamenoi_naborov = pd.concat([df_tovarn_NE_nab, df_base_nabor_merge])"
   ],
   "metadata": {
    "collapsed": false
   }
  },
  {
   "cell_type": "code",
   "execution_count": 107,
   "outputs": [],
   "source": [
    "def svod_marga(df):\n",
    "    df = df.drop(['Номер', 'Дата и время'], axis=1)\n",
    "    df_group = df.groupby(['Артикул','Название', 'Месяц'])['Количество','Общая сумма товара','Общая себестоимость товара'].agg({\"sum\"}).reset_index().sort_values(('Месяц'), ascending =1)\n",
    "    df_group.columns =['Артикул','Название','Месяц','Количество','Выручка','Себестоимость']\n",
    "    df_group['Маржа']= df_group['Выручка']-df_group['Себестоимость']\n",
    "    df_group['Маржинальность']= (df_group['Выручка']-df_group['Себестоимость'])/df_group['Выручка']\n",
    "    return df_group"
   ],
   "metadata": {
    "collapsed": false
   }
  },
  {
   "cell_type": "code",
   "execution_count": 108,
   "outputs": [
    {
     "data": {
      "text/plain": "         Артикул                                           Название  Месяц  \\\n432      kps-328  Kapous Укрепляющая сыворотка с биотином для ст...      9   \n376      iron100  Smartlife Липосомальное железо (флакон, 100мл)...      9   \n756     trs-oil2                           Trius / масло для бороды      9   \n370    gls-73334                    GLS Витамины для волос, 60 капс      9   \n367    gls-73297  GLS Биотин без сахара со вкусом вишни, 20 шипу...      9   \n..           ...                                                ...    ...   \n431      kps-327  Kapous Маска с биотином для укрепления и стиму...     11   \n429      kps-326  Kapous Лосьон с биотином для укрепления и стим...     11   \n426      kps-325  Kapous Шампунь с биотином для укрепления и сти...     11   \n420     kps-2898  Kapous Professional Увлажняющий мужской гель д...     11   \n865  НФ-00000781  IRON BARBER Паста для укладки волос Sculptor, ...     11   \n\n     Количество  Выручка  Себестоимость    Маржа  Маржинальность  \n432           2   1198.0         818.00   380.00        0.317195  \n376           1    900.0         630.00   270.00        0.300000  \n756           1   1199.0         600.00   599.00        0.499583  \n370           9   5841.0        3060.00  2781.00        0.476117  \n367           1    459.0         226.67   232.33        0.506166  \n..          ...      ...            ...      ...             ...  \n431           1    934.0         549.00   385.00        0.412206  \n429           1    899.0         429.00   470.00        0.522803  \n426           5   3854.0        1845.00  2009.00        0.521277  \n420           1   1189.0         659.00   530.00        0.445753  \n865           1    679.0           0.00   679.00        1.000000  \n\n[866 rows x 8 columns]",
      "text/html": "<div>\n<style scoped>\n    .dataframe tbody tr th:only-of-type {\n        vertical-align: middle;\n    }\n\n    .dataframe tbody tr th {\n        vertical-align: top;\n    }\n\n    .dataframe thead th {\n        text-align: right;\n    }\n</style>\n<table border=\"1\" class=\"dataframe\">\n  <thead>\n    <tr style=\"text-align: right;\">\n      <th></th>\n      <th>Артикул</th>\n      <th>Название</th>\n      <th>Месяц</th>\n      <th>Количество</th>\n      <th>Выручка</th>\n      <th>Себестоимость</th>\n      <th>Маржа</th>\n      <th>Маржинальность</th>\n    </tr>\n  </thead>\n  <tbody>\n    <tr>\n      <th>432</th>\n      <td>kps-328</td>\n      <td>Kapous Укрепляющая сыворотка с биотином для ст...</td>\n      <td>9</td>\n      <td>2</td>\n      <td>1198.0</td>\n      <td>818.00</td>\n      <td>380.00</td>\n      <td>0.317195</td>\n    </tr>\n    <tr>\n      <th>376</th>\n      <td>iron100</td>\n      <td>Smartlife Липосомальное железо (флакон, 100мл)...</td>\n      <td>9</td>\n      <td>1</td>\n      <td>900.0</td>\n      <td>630.00</td>\n      <td>270.00</td>\n      <td>0.300000</td>\n    </tr>\n    <tr>\n      <th>756</th>\n      <td>trs-oil2</td>\n      <td>Trius / масло для бороды</td>\n      <td>9</td>\n      <td>1</td>\n      <td>1199.0</td>\n      <td>600.00</td>\n      <td>599.00</td>\n      <td>0.499583</td>\n    </tr>\n    <tr>\n      <th>370</th>\n      <td>gls-73334</td>\n      <td>GLS Витамины для волос, 60 капс</td>\n      <td>9</td>\n      <td>9</td>\n      <td>5841.0</td>\n      <td>3060.00</td>\n      <td>2781.00</td>\n      <td>0.476117</td>\n    </tr>\n    <tr>\n      <th>367</th>\n      <td>gls-73297</td>\n      <td>GLS Биотин без сахара со вкусом вишни, 20 шипу...</td>\n      <td>9</td>\n      <td>1</td>\n      <td>459.0</td>\n      <td>226.67</td>\n      <td>232.33</td>\n      <td>0.506166</td>\n    </tr>\n    <tr>\n      <th>...</th>\n      <td>...</td>\n      <td>...</td>\n      <td>...</td>\n      <td>...</td>\n      <td>...</td>\n      <td>...</td>\n      <td>...</td>\n      <td>...</td>\n    </tr>\n    <tr>\n      <th>431</th>\n      <td>kps-327</td>\n      <td>Kapous Маска с биотином для укрепления и стиму...</td>\n      <td>11</td>\n      <td>1</td>\n      <td>934.0</td>\n      <td>549.00</td>\n      <td>385.00</td>\n      <td>0.412206</td>\n    </tr>\n    <tr>\n      <th>429</th>\n      <td>kps-326</td>\n      <td>Kapous Лосьон с биотином для укрепления и стим...</td>\n      <td>11</td>\n      <td>1</td>\n      <td>899.0</td>\n      <td>429.00</td>\n      <td>470.00</td>\n      <td>0.522803</td>\n    </tr>\n    <tr>\n      <th>426</th>\n      <td>kps-325</td>\n      <td>Kapous Шампунь с биотином для укрепления и сти...</td>\n      <td>11</td>\n      <td>5</td>\n      <td>3854.0</td>\n      <td>1845.00</td>\n      <td>2009.00</td>\n      <td>0.521277</td>\n    </tr>\n    <tr>\n      <th>420</th>\n      <td>kps-2898</td>\n      <td>Kapous Professional Увлажняющий мужской гель д...</td>\n      <td>11</td>\n      <td>1</td>\n      <td>1189.0</td>\n      <td>659.00</td>\n      <td>530.00</td>\n      <td>0.445753</td>\n    </tr>\n    <tr>\n      <th>865</th>\n      <td>НФ-00000781</td>\n      <td>IRON BARBER Паста для укладки волос Sculptor, ...</td>\n      <td>11</td>\n      <td>1</td>\n      <td>679.0</td>\n      <td>0.00</td>\n      <td>679.00</td>\n      <td>1.000000</td>\n    </tr>\n  </tbody>\n</table>\n<p>866 rows × 8 columns</p>\n</div>"
     },
     "execution_count": 108,
     "metadata": {},
     "output_type": "execute_result"
    }
   ],
   "source": [
    "df_base_s_zamenoi_naborov_svod =  svod_marga(df_base_s_zamenoi_naborov)\n",
    "df_base_s_zamenoi_naborov_svod"
   ],
   "metadata": {
    "collapsed": false
   }
  },
  {
   "cell_type": "code",
   "execution_count": null,
   "outputs": [],
   "source": [],
   "metadata": {
    "collapsed": false
   }
  },
  {
   "cell_type": "code",
   "execution_count": null,
   "outputs": [],
   "source": [],
   "metadata": {
    "collapsed": false
   }
  },
  {
   "cell_type": "code",
   "execution_count": null,
   "outputs": [],
   "source": [],
   "metadata": {
    "collapsed": false
   }
  },
  {
   "cell_type": "code",
   "execution_count": null,
   "outputs": [],
   "source": [],
   "metadata": {
    "collapsed": false
   }
  },
  {
   "cell_type": "code",
   "execution_count": null,
   "outputs": [],
   "source": [],
   "metadata": {
    "collapsed": false
   }
  },
  {
   "cell_type": "code",
   "execution_count": null,
   "outputs": [],
   "source": [],
   "metadata": {
    "collapsed": false
   }
  },
  {
   "cell_type": "code",
   "execution_count": null,
   "outputs": [],
   "source": [],
   "metadata": {
    "collapsed": false
   }
  },
  {
   "cell_type": "code",
   "execution_count": 6,
   "outputs": [],
   "source": [
    "def save(df,pyt):\n",
    "    with pd.ExcelWriter(pyt,engine=\"openpyxl\",mode='w') as writer:\n",
    "        df.to_excel(writer,index=False)"
   ],
   "metadata": {
    "collapsed": false
   }
  },
  {
   "cell_type": "code",
   "execution_count": 7,
   "outputs": [],
   "source": [
    "# Сохранение общей товарной аналитики\n",
    "save(df_tovarn_group,pyt_result)"
   ],
   "metadata": {
    "collapsed": false
   }
  },
  {
   "cell_type": "code",
   "execution_count": 8,
   "outputs": [
    {
     "data": {
      "text/plain": "213.1966339351417"
     },
     "execution_count": 8,
     "metadata": {},
     "output_type": "execute_result"
    }
   ],
   "source": [
    "# Расчёт наценки\n",
    "month = 10\n",
    "marja = 10000\n",
    "isklucheniya = []\n",
    "#list(set(df_tovarn_group['Артикул'].to_list()))\n",
    "vyborka = list(set(df_tovarn_group['Артикул'].to_list()))\n",
    "\n",
    "df_mesyach = df_tovarn_group.query(\"Месяц == @month and Артикул not in @isklucheniya and Артикул in @vyborka\")\n",
    "sebes = df_mesyach['Себестоимость'].sum()\n",
    "vyr = df_mesyach['Выручка'].sum()\n",
    "nacenka = (vyr-sebes)/sebes*100\n",
    "nacenka\n",
    "#Таблица всех sku, участвующих в расчёте.\n",
    "#df_mesyach.sort_values(('Маржа'),ascending=0).reset_index().head(75)"
   ],
   "metadata": {
    "collapsed": false
   }
  },
  {
   "cell_type": "code",
   "execution_count": 49,
   "outputs": [],
   "source": [
    "#Spiski\n",
    "biofoods = ['zk-bfd-120','zk-bfd-240','bt-bfd-5000-90','bt-bfd-10000-90','mc1-bfd-90','om-bfd-369-90','snh-bfd-90',\n",
    "            'om-bfd-3-90','bcx-bfd-90','wc1-bfd-90']\n",
    "xinox = ['xn-5-1','xn-5-2','xn-5-3','xn-5-4','xn-5-6-k','xn-5-12','xn-15-1','xn-15-3','xn-15-6','xn-2-1','xn-2-2','xn-2-3',\n",
    "         'xn-5','xn-15']\n",
    "natrol = ['nat-comb-90t','bt-ntrl-10000','nat-mc','nat-gluk-90','nat-ala1','nat-shn-60c','nat-b12-5000-100t','nat-d3-50-90t','nat-d3-125-90t','bt-ntrl-5000','nat-ham','nat-tcla']\n",
    "pal = ['swn-d3-5000-250s','swn-crp-200-100c','swn-ker-50-60c']"
   ],
   "metadata": {
    "collapsed": false
   }
  },
  {
   "cell_type": "code",
   "execution_count": 28,
   "outputs": [],
   "source": [
    "def spisokanalytics(spisok):\n",
    "    df_spisok = df_tovarn_group[df_tovarn_group['Артикул'].isin(spisok)]\n",
    "    return(df_spisok)"
   ],
   "metadata": {
    "collapsed": false
   }
  },
  {
   "cell_type": "code",
   "execution_count": 50,
   "outputs": [
    {
     "data": {
      "text/plain": "              Артикул                                           Название  \\\n711  swn-d3-5000-250s  Swanson Витамин D3 5000ME, 250 жевательных таб...   \n710  swn-crp-200-100c         Swanson Пиколинат хрома 200mcg, 100 капсул   \n715    swn-ker-50-60c                    Swanson Кератин 50мг, 60 капсул   \n\n     Месяц  Количество  Выручка  Себестоимость    Маржа  Маржинальность  \n711     11           4   8496.0        1866.88  6629.12        0.780264  \n710     11           1    977.0           0.00   977.00        1.000000  \n715     11           1   1399.0           0.00  1399.00        1.000000  ",
      "text/html": "<div>\n<style scoped>\n    .dataframe tbody tr th:only-of-type {\n        vertical-align: middle;\n    }\n\n    .dataframe tbody tr th {\n        vertical-align: top;\n    }\n\n    .dataframe thead th {\n        text-align: right;\n    }\n</style>\n<table border=\"1\" class=\"dataframe\">\n  <thead>\n    <tr style=\"text-align: right;\">\n      <th></th>\n      <th>Артикул</th>\n      <th>Название</th>\n      <th>Месяц</th>\n      <th>Количество</th>\n      <th>Выручка</th>\n      <th>Себестоимость</th>\n      <th>Маржа</th>\n      <th>Маржинальность</th>\n    </tr>\n  </thead>\n  <tbody>\n    <tr>\n      <th>711</th>\n      <td>swn-d3-5000-250s</td>\n      <td>Swanson Витамин D3 5000ME, 250 жевательных таб...</td>\n      <td>11</td>\n      <td>4</td>\n      <td>8496.0</td>\n      <td>1866.88</td>\n      <td>6629.12</td>\n      <td>0.780264</td>\n    </tr>\n    <tr>\n      <th>710</th>\n      <td>swn-crp-200-100c</td>\n      <td>Swanson Пиколинат хрома 200mcg, 100 капсул</td>\n      <td>11</td>\n      <td>1</td>\n      <td>977.0</td>\n      <td>0.00</td>\n      <td>977.00</td>\n      <td>1.000000</td>\n    </tr>\n    <tr>\n      <th>715</th>\n      <td>swn-ker-50-60c</td>\n      <td>Swanson Кератин 50мг, 60 капсул</td>\n      <td>11</td>\n      <td>1</td>\n      <td>1399.0</td>\n      <td>0.00</td>\n      <td>1399.00</td>\n      <td>1.000000</td>\n    </tr>\n  </tbody>\n</table>\n</div>"
     },
     "execution_count": 50,
     "metadata": {},
     "output_type": "execute_result"
    }
   ],
   "source": [
    "# Для конкретной товарной группы\n",
    "df_tovarn_zapros = spisokanalytics(pal)\n",
    "df_tovarn_zapros"
   ],
   "metadata": {
    "collapsed": false
   }
  },
  {
   "cell_type": "code",
   "execution_count": null,
   "outputs": [],
   "source": [
    "with pd.ExcelWriter(pyt_zapros,engine=\"openpyxl\",mode='w') as writer:\n",
    "        df_tovarn_zapros.to_excel(writer, sheet_name='vse',index=False)"
   ],
   "metadata": {
    "collapsed": false
   }
  },
  {
   "cell_type": "markdown",
   "source": [
    "Вычисление доли в наборах"
   ],
   "metadata": {
    "collapsed": false
   }
  },
  {
   "cell_type": "code",
   "execution_count": 18,
   "outputs": [],
   "source": [
    "period_biofoods =[['20001115', '20221109'],['20221109', '20221121'],['20221121', '20221221'],['20221221', '20251109']]\n",
    "period_xinox = [['20001115','20251109']]\n",
    "sku_nabor_biofoods = ['nb-vse','nb-eco','nb-poln','nb-vitamin','nb-optim','nb-bystr','nb-gensk','nb-xn6','nb-zvrsh']\n",
    "sku_nabor_xinox = ['nb-poln','nb-bystr','nb-gensk','nb-shag','nb-xn6']\n",
    "\n",
    "koef_nabor_biofoods = {'nb-vse':[[0.33,0.34],[0.19,0.18],[0.24,0.27],[0.33,0.34]],\n",
    "              'nb-eco':[[0.25,0.19],[0.25,0.19],[0,0],[0.25,0.19]],\n",
    "              'nb-poln':[[0.24,0.41],[0.15,0.26],[0.24,0.41],[0.24,0.41]],\n",
    "              'nb-vitamin':[[0.8,0.89],[0.56,0.59],[0.63,0.76],[0.8,0.89]],\n",
    "              'nb-optim':[[0.33,0.34],[0.13,0.1],[0.19,0.24],[0.33,0.34]],\n",
    "              'nb-bystr':[[0.28,0.43],[0.13,0.14],[0.15,0.29],[0.28,0.43]],\n",
    "              'nb-gensk':[[0.63,0.77],[0.33,0.42],[0.63,0.77],[0.63,0.77]],\n",
    "              'nb-xn6':[[0.23,0.3],[0.11,0.1],[0.12,0.2],[0.23,0.3]],\n",
    "              'nb-zvrsh':[[0.49,0.59],[0,0],[0.49,0.59],[0.49,0.59]],\n",
    "              }\n",
    "koef_nabor_xinox = {'nb-poln':[[0.56363,0.25853]],\n",
    "              'nb-bystr':[[0.47952,0.18285]],\n",
    "              'nb-gensk':[[0.33154,0.17119]],\n",
    "              'nb-shag':[[0.51893,0.33259]],\n",
    "              'nb-xn6':[[0.52884,0.55972]]\n",
    "              }\n",
    "def dfart(df,sku,period):\n",
    "    return df.query(\"Артикул == @sku and Дата > @period[0] and Дата <= @period[1]\" )\n",
    "\n",
    "def pereschet(df,koef):\n",
    "    df['Выручка'] = df['Выручка']*koef[0]\n",
    "    df['Себестоимость'] = df['Себестоимость']*koef[1]\n",
    "    df['Маржа']= df['Выручка']-df['Себестоимость']\n",
    "    df['Маржинальность']= (df['Выручка']-df['Себестоимость'])/df['Выручка']\n",
    "    return df\n",
    "\n",
    "def tov_is_nabora(df,period,koef,sku_all):\n",
    "    df_all = pd.DataFrame()\n",
    "    z = 0\n",
    "    for sku in sku_all:\n",
    "        j = 0\n",
    "        for i in period:\n",
    "            df_2 = dfart(df,sku,i)\n",
    "            df_3 = pereschet(df_2,koef[sku][j])\n",
    "            df_all = pd.concat([df_all,df_3], ignore_index=True)\n",
    "            j += 1\n",
    "        z+=1\n",
    "    df_all['Месяц'] = df_all['Дата'].dt.month\n",
    "    df_all = df_all.drop('Дата', axis=1)\n",
    "    df_all = df_all[['Артикул', 'Название','Месяц','Количество', 'Выручка', 'Себестоимость', 'Маржа', 'Маржинальность' ]]\n",
    "    return df_all.query('Выручка > 0')\n",
    "\n",
    "def brand_group(df,df2):\n",
    "    df_obsh = pd.concat([df, df2], ignore_index=True)\n",
    "    df_obsh = df_obsh.groupby(['Артикул','Название', 'Месяц']).agg({'Количество':'sum','Выручка':'sum','Себестоимость':'sum','Маржа':'sum','Маржинальность':'mean'}).reset_index().sort_values(('Месяц'), ascending =1)\n",
    "    df_obsh[['Выручка', 'Себестоимость', 'Маржа']] = df_obsh[['Выручка', 'Себестоимость', 'Маржа']].astype(int)\n",
    "    df_obsh['Маржинальность'] = df_obsh['Маржинальность'].round(3)\n",
    "    return df_obsh\n",
    "\n",
    "def svod_group(df):\n",
    "    df = df.groupby(['Месяц']).\\\n",
    "        agg({'Количество':'sum','Выручка':'sum','Себестоимость':'sum','Маржа':'sum','Маржинальность':'mean'}).\\\n",
    "        reset_index()\n",
    "    df[['Выручка', 'Себестоимость', 'Маржа']] = df[['Выручка', 'Себестоимость', 'Маржа']].astype(int)\n",
    "    df['Маржинальность'] = df['Маржинальность'].round(3)\n",
    "    return df"
   ],
   "metadata": {
    "collapsed": false
   }
  },
  {
   "cell_type": "code",
   "execution_count": 10,
   "outputs": [],
   "source": [
    "#biofoods\n",
    "df_biofoods_v_naborah = tov_is_nabora(df_orderswithdates,period_biofoods,koef_nabor_biofoods,sku_nabor_biofoods)\n",
    "df_biofoods_i_nabor = brand_group(spisokanalytics(biofoods),df_biofoods_v_naborah)\n",
    "save(df_biofoods_i_nabor,pyt_result)"
   ],
   "metadata": {
    "collapsed": false
   }
  },
  {
   "cell_type": "code",
   "execution_count": 11,
   "outputs": [
    {
     "data": {
      "text/plain": "   Месяц  Количество  Выручка  Себестоимость   Маржа  Маржинальность\n0      9         669   658653         204694  453954           0.629\n1     10         966   935139         292041  643093           0.639\n2     11         610   531428         166703  364721           0.648",
      "text/html": "<div>\n<style scoped>\n    .dataframe tbody tr th:only-of-type {\n        vertical-align: middle;\n    }\n\n    .dataframe tbody tr th {\n        vertical-align: top;\n    }\n\n    .dataframe thead th {\n        text-align: right;\n    }\n</style>\n<table border=\"1\" class=\"dataframe\">\n  <thead>\n    <tr style=\"text-align: right;\">\n      <th></th>\n      <th>Месяц</th>\n      <th>Количество</th>\n      <th>Выручка</th>\n      <th>Себестоимость</th>\n      <th>Маржа</th>\n      <th>Маржинальность</th>\n    </tr>\n  </thead>\n  <tbody>\n    <tr>\n      <th>0</th>\n      <td>9</td>\n      <td>669</td>\n      <td>658653</td>\n      <td>204694</td>\n      <td>453954</td>\n      <td>0.629</td>\n    </tr>\n    <tr>\n      <th>1</th>\n      <td>10</td>\n      <td>966</td>\n      <td>935139</td>\n      <td>292041</td>\n      <td>643093</td>\n      <td>0.639</td>\n    </tr>\n    <tr>\n      <th>2</th>\n      <td>11</td>\n      <td>610</td>\n      <td>531428</td>\n      <td>166703</td>\n      <td>364721</td>\n      <td>0.648</td>\n    </tr>\n  </tbody>\n</table>\n</div>"
     },
     "execution_count": 11,
     "metadata": {},
     "output_type": "execute_result"
    }
   ],
   "source": [
    "svod_group(df_biofoods_i_nabor)"
   ],
   "metadata": {
    "collapsed": false
   }
  },
  {
   "cell_type": "code",
   "execution_count": 19,
   "outputs": [],
   "source": [
    "#xinox\n",
    "df_xinox_v_naborah = tov_is_nabora(df_orderswithdates,period_xinox,koef_nabor_xinox,sku_nabor_xinox)\n",
    "df_xinox_i_nabor = brand_group(spisokanalytics(xinox),df_xinox_v_naborah)\n",
    "save(df_xinox_i_nabor,pyt_result)"
   ],
   "metadata": {
    "collapsed": false
   }
  },
  {
   "cell_type": "code",
   "execution_count": 20,
   "outputs": [
    {
     "data": {
      "text/plain": "   Месяц  Количество  Выручка  Себестоимость    Маржа  Маржинальность\n0      9         807  1564841         287096  1277738           0.810\n1     10        1024  2167893         395530  1772358           0.812\n2     11         834  1670248         327122  1343120           0.798",
      "text/html": "<div>\n<style scoped>\n    .dataframe tbody tr th:only-of-type {\n        vertical-align: middle;\n    }\n\n    .dataframe tbody tr th {\n        vertical-align: top;\n    }\n\n    .dataframe thead th {\n        text-align: right;\n    }\n</style>\n<table border=\"1\" class=\"dataframe\">\n  <thead>\n    <tr style=\"text-align: right;\">\n      <th></th>\n      <th>Месяц</th>\n      <th>Количество</th>\n      <th>Выручка</th>\n      <th>Себестоимость</th>\n      <th>Маржа</th>\n      <th>Маржинальность</th>\n    </tr>\n  </thead>\n  <tbody>\n    <tr>\n      <th>0</th>\n      <td>9</td>\n      <td>807</td>\n      <td>1564841</td>\n      <td>287096</td>\n      <td>1277738</td>\n      <td>0.810</td>\n    </tr>\n    <tr>\n      <th>1</th>\n      <td>10</td>\n      <td>1024</td>\n      <td>2167893</td>\n      <td>395530</td>\n      <td>1772358</td>\n      <td>0.812</td>\n    </tr>\n    <tr>\n      <th>2</th>\n      <td>11</td>\n      <td>834</td>\n      <td>1670248</td>\n      <td>327122</td>\n      <td>1343120</td>\n      <td>0.798</td>\n    </tr>\n  </tbody>\n</table>\n</div>"
     },
     "execution_count": 20,
     "metadata": {},
     "output_type": "execute_result"
    }
   ],
   "source": [
    "svod_group(df_xinox_i_nabor)"
   ],
   "metadata": {
    "collapsed": false
   }
  },
  {
   "cell_type": "code",
   "execution_count": null,
   "outputs": [],
   "source": [],
   "metadata": {
    "collapsed": false
   }
  }
 ],
 "metadata": {
  "kernelspec": {
   "display_name": "Python 3",
   "language": "python",
   "name": "python3"
  },
  "language_info": {
   "codemirror_mode": {
    "name": "ipython",
    "version": 2
   },
   "file_extension": ".py",
   "mimetype": "text/x-python",
   "name": "python",
   "nbconvert_exporter": "python",
   "pygments_lexer": "ipython2",
   "version": "2.7.6"
  }
 },
 "nbformat": 4,
 "nbformat_minor": 0
}
