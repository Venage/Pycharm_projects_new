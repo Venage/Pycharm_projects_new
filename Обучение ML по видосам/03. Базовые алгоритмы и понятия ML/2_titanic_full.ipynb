{
 "cells": [
  {
   "cell_type": "markdown",
   "metadata": {},
   "source": [
    "# Титаник. Кто выживет?"
   ]
  },
  {
   "cell_type": "markdown",
   "metadata": {},
   "source": [
    "https://www.kaggle.com/c/titanic/"
   ]
  },
  {
   "cell_type": "code",
   "execution_count": 1,
   "metadata": {
    "collapsed": true
   },
   "outputs": [],
   "source": [
    "import numpy as np\n",
    "import pandas as pd"
   ]
  },
  {
   "cell_type": "code",
   "execution_count": 2,
   "metadata": {
    "collapsed": true
   },
   "outputs": [],
   "source": [
    "from matplotlib import pyplot as plt\n",
    "%matplotlib inline\n",
    "import seaborn as sns\n",
    "\n",
    "%config InlineBackend.figure_format = 'retina'\n",
    "from pylab import rcParams\n",
    "rcParams['figure.figsize'] = (9, 6)"
   ]
  },
  {
   "cell_type": "markdown",
   "metadata": {},
   "source": [
    "### Данные"
   ]
  },
  {
   "cell_type": "code",
   "execution_count": 3,
   "metadata": {},
   "outputs": [],
   "source": [
    "train = pd.read_csv('titanic/train.csv')\n",
    "test = pd.read_csv('titanic/test.csv')"
   ]
  },
  {
   "cell_type": "code",
   "execution_count": 4,
   "metadata": {
    "scrolled": true
   },
   "outputs": [
    {
     "data": {
      "text/plain": "   PassengerId  Survived  Pclass  \\\n0            1         0       3   \n1            2         1       1   \n2            3         1       3   \n3            4         1       1   \n4            5         0       3   \n\n                                                Name     Sex   Age  SibSp  \\\n0                            Braund, Mr. Owen Harris    male  22.0      1   \n1  Cumings, Mrs. John Bradley (Florence Briggs Th...  female  38.0      1   \n2                             Heikkinen, Miss. Laina  female  26.0      0   \n3       Futrelle, Mrs. Jacques Heath (Lily May Peel)  female  35.0      1   \n4                           Allen, Mr. William Henry    male  35.0      0   \n\n   Parch            Ticket     Fare Cabin Embarked  \n0      0         A/5 21171   7.2500   NaN        S  \n1      0          PC 17599  71.2833   C85        C  \n2      0  STON/O2. 3101282   7.9250   NaN        S  \n3      0            113803  53.1000  C123        S  \n4      0            373450   8.0500   NaN        S  ",
      "text/html": "<div>\n<style scoped>\n    .dataframe tbody tr th:only-of-type {\n        vertical-align: middle;\n    }\n\n    .dataframe tbody tr th {\n        vertical-align: top;\n    }\n\n    .dataframe thead th {\n        text-align: right;\n    }\n</style>\n<table border=\"1\" class=\"dataframe\">\n  <thead>\n    <tr style=\"text-align: right;\">\n      <th></th>\n      <th>PassengerId</th>\n      <th>Survived</th>\n      <th>Pclass</th>\n      <th>Name</th>\n      <th>Sex</th>\n      <th>Age</th>\n      <th>SibSp</th>\n      <th>Parch</th>\n      <th>Ticket</th>\n      <th>Fare</th>\n      <th>Cabin</th>\n      <th>Embarked</th>\n    </tr>\n  </thead>\n  <tbody>\n    <tr>\n      <th>0</th>\n      <td>1</td>\n      <td>0</td>\n      <td>3</td>\n      <td>Braund, Mr. Owen Harris</td>\n      <td>male</td>\n      <td>22.0</td>\n      <td>1</td>\n      <td>0</td>\n      <td>A/5 21171</td>\n      <td>7.2500</td>\n      <td>NaN</td>\n      <td>S</td>\n    </tr>\n    <tr>\n      <th>1</th>\n      <td>2</td>\n      <td>1</td>\n      <td>1</td>\n      <td>Cumings, Mrs. John Bradley (Florence Briggs Th...</td>\n      <td>female</td>\n      <td>38.0</td>\n      <td>1</td>\n      <td>0</td>\n      <td>PC 17599</td>\n      <td>71.2833</td>\n      <td>C85</td>\n      <td>C</td>\n    </tr>\n    <tr>\n      <th>2</th>\n      <td>3</td>\n      <td>1</td>\n      <td>3</td>\n      <td>Heikkinen, Miss. Laina</td>\n      <td>female</td>\n      <td>26.0</td>\n      <td>0</td>\n      <td>0</td>\n      <td>STON/O2. 3101282</td>\n      <td>7.9250</td>\n      <td>NaN</td>\n      <td>S</td>\n    </tr>\n    <tr>\n      <th>3</th>\n      <td>4</td>\n      <td>1</td>\n      <td>1</td>\n      <td>Futrelle, Mrs. Jacques Heath (Lily May Peel)</td>\n      <td>female</td>\n      <td>35.0</td>\n      <td>1</td>\n      <td>0</td>\n      <td>113803</td>\n      <td>53.1000</td>\n      <td>C123</td>\n      <td>S</td>\n    </tr>\n    <tr>\n      <th>4</th>\n      <td>5</td>\n      <td>0</td>\n      <td>3</td>\n      <td>Allen, Mr. William Henry</td>\n      <td>male</td>\n      <td>35.0</td>\n      <td>0</td>\n      <td>0</td>\n      <td>373450</td>\n      <td>8.0500</td>\n      <td>NaN</td>\n      <td>S</td>\n    </tr>\n  </tbody>\n</table>\n</div>"
     },
     "execution_count": 4,
     "metadata": {},
     "output_type": "execute_result"
    }
   ],
   "source": [
    "train.head()"
   ]
  },
  {
   "cell_type": "code",
   "execution_count": 5,
   "metadata": {
    "scrolled": true
   },
   "outputs": [
    {
     "data": {
      "text/plain": "   PassengerId  Pclass                                          Name     Sex  \\\n0          892       3                              Kelly, Mr. James    male   \n1          893       3              Wilkes, Mrs. James (Ellen Needs)  female   \n2          894       2                     Myles, Mr. Thomas Francis    male   \n3          895       3                              Wirz, Mr. Albert    male   \n4          896       3  Hirvonen, Mrs. Alexander (Helga E Lindqvist)  female   \n\n    Age  SibSp  Parch   Ticket     Fare Cabin Embarked  \n0  34.5      0      0   330911   7.8292   NaN        Q  \n1  47.0      1      0   363272   7.0000   NaN        S  \n2  62.0      0      0   240276   9.6875   NaN        Q  \n3  27.0      0      0   315154   8.6625   NaN        S  \n4  22.0      1      1  3101298  12.2875   NaN        S  ",
      "text/html": "<div>\n<style scoped>\n    .dataframe tbody tr th:only-of-type {\n        vertical-align: middle;\n    }\n\n    .dataframe tbody tr th {\n        vertical-align: top;\n    }\n\n    .dataframe thead th {\n        text-align: right;\n    }\n</style>\n<table border=\"1\" class=\"dataframe\">\n  <thead>\n    <tr style=\"text-align: right;\">\n      <th></th>\n      <th>PassengerId</th>\n      <th>Pclass</th>\n      <th>Name</th>\n      <th>Sex</th>\n      <th>Age</th>\n      <th>SibSp</th>\n      <th>Parch</th>\n      <th>Ticket</th>\n      <th>Fare</th>\n      <th>Cabin</th>\n      <th>Embarked</th>\n    </tr>\n  </thead>\n  <tbody>\n    <tr>\n      <th>0</th>\n      <td>892</td>\n      <td>3</td>\n      <td>Kelly, Mr. James</td>\n      <td>male</td>\n      <td>34.5</td>\n      <td>0</td>\n      <td>0</td>\n      <td>330911</td>\n      <td>7.8292</td>\n      <td>NaN</td>\n      <td>Q</td>\n    </tr>\n    <tr>\n      <th>1</th>\n      <td>893</td>\n      <td>3</td>\n      <td>Wilkes, Mrs. James (Ellen Needs)</td>\n      <td>female</td>\n      <td>47.0</td>\n      <td>1</td>\n      <td>0</td>\n      <td>363272</td>\n      <td>7.0000</td>\n      <td>NaN</td>\n      <td>S</td>\n    </tr>\n    <tr>\n      <th>2</th>\n      <td>894</td>\n      <td>2</td>\n      <td>Myles, Mr. Thomas Francis</td>\n      <td>male</td>\n      <td>62.0</td>\n      <td>0</td>\n      <td>0</td>\n      <td>240276</td>\n      <td>9.6875</td>\n      <td>NaN</td>\n      <td>Q</td>\n    </tr>\n    <tr>\n      <th>3</th>\n      <td>895</td>\n      <td>3</td>\n      <td>Wirz, Mr. Albert</td>\n      <td>male</td>\n      <td>27.0</td>\n      <td>0</td>\n      <td>0</td>\n      <td>315154</td>\n      <td>8.6625</td>\n      <td>NaN</td>\n      <td>S</td>\n    </tr>\n    <tr>\n      <th>4</th>\n      <td>896</td>\n      <td>3</td>\n      <td>Hirvonen, Mrs. Alexander (Helga E Lindqvist)</td>\n      <td>female</td>\n      <td>22.0</td>\n      <td>1</td>\n      <td>1</td>\n      <td>3101298</td>\n      <td>12.2875</td>\n      <td>NaN</td>\n      <td>S</td>\n    </tr>\n  </tbody>\n</table>\n</div>"
     },
     "execution_count": 5,
     "metadata": {},
     "output_type": "execute_result"
    }
   ],
   "source": [
    "test.head()"
   ]
  },
  {
   "cell_type": "code",
   "execution_count": 6,
   "metadata": {},
   "outputs": [
    {
     "name": "stdout",
     "output_type": "stream",
     "text": [
      "<class 'pandas.core.frame.DataFrame'>\n",
      "RangeIndex: 891 entries, 0 to 890\n",
      "Data columns (total 12 columns):\n",
      " #   Column       Non-Null Count  Dtype  \n",
      "---  ------       --------------  -----  \n",
      " 0   PassengerId  891 non-null    int64  \n",
      " 1   Survived     891 non-null    int64  \n",
      " 2   Pclass       891 non-null    int64  \n",
      " 3   Name         891 non-null    object \n",
      " 4   Sex          891 non-null    object \n",
      " 5   Age          714 non-null    float64\n",
      " 6   SibSp        891 non-null    int64  \n",
      " 7   Parch        891 non-null    int64  \n",
      " 8   Ticket       891 non-null    object \n",
      " 9   Fare         891 non-null    float64\n",
      " 10  Cabin        204 non-null    object \n",
      " 11  Embarked     889 non-null    object \n",
      "dtypes: float64(2), int64(5), object(5)\n",
      "memory usage: 83.7+ KB\n"
     ]
    }
   ],
   "source": [
    "train.info()"
   ]
  },
  {
   "cell_type": "markdown",
   "metadata": {},
   "source": [
    "### Фичи"
   ]
  },
  {
   "cell_type": "markdown",
   "metadata": {},
   "source": [
    "чтобы одинаковым образом обработать train и test и не дублировать все операции 2 раза, соединим эти два набора данных в один, не забыв при этом:\n",
    "1. выкинуть целевую переменную из train\n",
    "2. проверить на соответствие набора признаков друг другу\n",
    "3. добавить флаг того, является ли объект тестовым или нет"
   ]
  },
  {
   "cell_type": "code",
   "execution_count": 7,
   "metadata": {
    "collapsed": true
   },
   "outputs": [],
   "source": [
    "y_train = train.Survived\n",
    "train.drop('Survived', axis=1, inplace=True)"
   ]
  },
  {
   "cell_type": "code",
   "execution_count": 8,
   "metadata": {},
   "outputs": [
    {
     "data": {
      "text/plain": "array([ True,  True,  True,  True,  True,  True,  True,  True,  True,\n        True,  True])"
     },
     "execution_count": 8,
     "metadata": {},
     "output_type": "execute_result"
    }
   ],
   "source": [
    "train.columns == test.columns"
   ]
  },
  {
   "cell_type": "code",
   "execution_count": 9,
   "metadata": {
    "collapsed": true
   },
   "outputs": [],
   "source": [
    "train['is_test'] = 0\n",
    "test['is_test'] = 1"
   ]
  },
  {
   "cell_type": "code",
   "execution_count": 10,
   "metadata": {},
   "outputs": [],
   "source": [
    "df = pd.concat([train, test])"
   ]
  },
  {
   "cell_type": "markdown",
   "metadata": {},
   "source": [
    "супер, теперь полный набор данных можно обрабатывать вместе и в любой момент, уже обработанными, обратно разъединить на обучающую и тестовую выборки"
   ]
  },
  {
   "cell_type": "markdown",
   "metadata": {},
   "source": [
    "Пол male/female закодируем в 1/0 и удалим переменные, с которыми мы не будем сейчас работать"
   ]
  },
  {
   "cell_type": "code",
   "execution_count": 11,
   "metadata": {},
   "outputs": [],
   "source": [
    "df[\"isMale\"] = df.Sex.replace({\"male\": 1, \"female\":0})\n",
    "df.drop([\"Sex\", \"Cabin\", \"Ticket\", \"Name\", \"PassengerId\"], axis=1, inplace=True)"
   ]
  },
  {
   "cell_type": "markdown",
   "metadata": {},
   "source": [
    "признаки, значения которых составляют небольшой перечислимый набор, закодируем в отдельные столбцы "
   ]
  },
  {
   "cell_type": "code",
   "execution_count": 12,
   "metadata": {},
   "outputs": [],
   "source": [
    "df_dummies = pd.get_dummies(df, columns=['Pclass', 'Embarked'])"
   ]
  },
  {
   "cell_type": "code",
   "execution_count": 13,
   "metadata": {},
   "outputs": [
    {
     "data": {
      "text/plain": "    Age  SibSp  Parch     Fare  is_test  isMale  Pclass_1  Pclass_2  Pclass_3  \\\n0  22.0      1      0   7.2500        0       1         0         0         1   \n1  38.0      1      0  71.2833        0       0         1         0         0   \n2  26.0      0      0   7.9250        0       0         0         0         1   \n3  35.0      1      0  53.1000        0       0         1         0         0   \n4  35.0      0      0   8.0500        0       1         0         0         1   \n5   NaN      0      0   8.4583        0       1         0         0         1   \n6  54.0      0      0  51.8625        0       1         1         0         0   \n7   2.0      3      1  21.0750        0       1         0         0         1   \n8  27.0      0      2  11.1333        0       0         0         0         1   \n9  14.0      1      0  30.0708        0       0         0         1         0   \n\n   Embarked_C  Embarked_Q  Embarked_S  \n0           0           0           1  \n1           1           0           0  \n2           0           0           1  \n3           0           0           1  \n4           0           0           1  \n5           0           1           0  \n6           0           0           1  \n7           0           0           1  \n8           0           0           1  \n9           1           0           0  ",
      "text/html": "<div>\n<style scoped>\n    .dataframe tbody tr th:only-of-type {\n        vertical-align: middle;\n    }\n\n    .dataframe tbody tr th {\n        vertical-align: top;\n    }\n\n    .dataframe thead th {\n        text-align: right;\n    }\n</style>\n<table border=\"1\" class=\"dataframe\">\n  <thead>\n    <tr style=\"text-align: right;\">\n      <th></th>\n      <th>Age</th>\n      <th>SibSp</th>\n      <th>Parch</th>\n      <th>Fare</th>\n      <th>is_test</th>\n      <th>isMale</th>\n      <th>Pclass_1</th>\n      <th>Pclass_2</th>\n      <th>Pclass_3</th>\n      <th>Embarked_C</th>\n      <th>Embarked_Q</th>\n      <th>Embarked_S</th>\n    </tr>\n  </thead>\n  <tbody>\n    <tr>\n      <th>0</th>\n      <td>22.0</td>\n      <td>1</td>\n      <td>0</td>\n      <td>7.2500</td>\n      <td>0</td>\n      <td>1</td>\n      <td>0</td>\n      <td>0</td>\n      <td>1</td>\n      <td>0</td>\n      <td>0</td>\n      <td>1</td>\n    </tr>\n    <tr>\n      <th>1</th>\n      <td>38.0</td>\n      <td>1</td>\n      <td>0</td>\n      <td>71.2833</td>\n      <td>0</td>\n      <td>0</td>\n      <td>1</td>\n      <td>0</td>\n      <td>0</td>\n      <td>1</td>\n      <td>0</td>\n      <td>0</td>\n    </tr>\n    <tr>\n      <th>2</th>\n      <td>26.0</td>\n      <td>0</td>\n      <td>0</td>\n      <td>7.9250</td>\n      <td>0</td>\n      <td>0</td>\n      <td>0</td>\n      <td>0</td>\n      <td>1</td>\n      <td>0</td>\n      <td>0</td>\n      <td>1</td>\n    </tr>\n    <tr>\n      <th>3</th>\n      <td>35.0</td>\n      <td>1</td>\n      <td>0</td>\n      <td>53.1000</td>\n      <td>0</td>\n      <td>0</td>\n      <td>1</td>\n      <td>0</td>\n      <td>0</td>\n      <td>0</td>\n      <td>0</td>\n      <td>1</td>\n    </tr>\n    <tr>\n      <th>4</th>\n      <td>35.0</td>\n      <td>0</td>\n      <td>0</td>\n      <td>8.0500</td>\n      <td>0</td>\n      <td>1</td>\n      <td>0</td>\n      <td>0</td>\n      <td>1</td>\n      <td>0</td>\n      <td>0</td>\n      <td>1</td>\n    </tr>\n    <tr>\n      <th>5</th>\n      <td>NaN</td>\n      <td>0</td>\n      <td>0</td>\n      <td>8.4583</td>\n      <td>0</td>\n      <td>1</td>\n      <td>0</td>\n      <td>0</td>\n      <td>1</td>\n      <td>0</td>\n      <td>1</td>\n      <td>0</td>\n    </tr>\n    <tr>\n      <th>6</th>\n      <td>54.0</td>\n      <td>0</td>\n      <td>0</td>\n      <td>51.8625</td>\n      <td>0</td>\n      <td>1</td>\n      <td>1</td>\n      <td>0</td>\n      <td>0</td>\n      <td>0</td>\n      <td>0</td>\n      <td>1</td>\n    </tr>\n    <tr>\n      <th>7</th>\n      <td>2.0</td>\n      <td>3</td>\n      <td>1</td>\n      <td>21.0750</td>\n      <td>0</td>\n      <td>1</td>\n      <td>0</td>\n      <td>0</td>\n      <td>1</td>\n      <td>0</td>\n      <td>0</td>\n      <td>1</td>\n    </tr>\n    <tr>\n      <th>8</th>\n      <td>27.0</td>\n      <td>0</td>\n      <td>2</td>\n      <td>11.1333</td>\n      <td>0</td>\n      <td>0</td>\n      <td>0</td>\n      <td>0</td>\n      <td>1</td>\n      <td>0</td>\n      <td>0</td>\n      <td>1</td>\n    </tr>\n    <tr>\n      <th>9</th>\n      <td>14.0</td>\n      <td>1</td>\n      <td>0</td>\n      <td>30.0708</td>\n      <td>0</td>\n      <td>0</td>\n      <td>0</td>\n      <td>1</td>\n      <td>0</td>\n      <td>1</td>\n      <td>0</td>\n      <td>0</td>\n    </tr>\n  </tbody>\n</table>\n</div>"
     },
     "execution_count": 13,
     "metadata": {},
     "output_type": "execute_result"
    }
   ],
   "source": [
    "df_dummies.head(10)"
   ]
  },
  {
   "cell_type": "code",
   "execution_count": 14,
   "metadata": {},
   "outputs": [
    {
     "data": {
      "text/plain": "Age           263\nSibSp           0\nParch           0\nFare            1\nis_test         0\nisMale          0\nPclass_1        0\nPclass_2        0\nPclass_3        0\nEmbarked_C      0\nEmbarked_Q      0\nEmbarked_S      0\ndtype: int64"
     },
     "execution_count": 14,
     "metadata": {},
     "output_type": "execute_result"
    }
   ],
   "source": [
    "df_dummies.isnull().sum()"
   ]
  },
  {
   "cell_type": "code",
   "execution_count": 15,
   "metadata": {
    "collapsed": true
   },
   "outputs": [],
   "source": [
    "X_train = df_dummies[df_dummies.is_test==0].drop('is_test', axis=1)\n",
    "X_test = df_dummies[df_dummies.is_test==1].drop('is_test', axis=1)"
   ]
  },
  {
   "cell_type": "code",
   "execution_count": 16,
   "metadata": {
    "collapsed": true
   },
   "outputs": [],
   "source": [
    "columns = X_train.columns"
   ]
  },
  {
   "cell_type": "code",
   "execution_count": 17,
   "metadata": {},
   "outputs": [
    {
     "data": {
      "text/plain": "    Age  SibSp  Parch     Fare  isMale  Pclass_1  Pclass_2  Pclass_3  \\\n0  22.0      1      0   7.2500       1         0         0         1   \n1  38.0      1      0  71.2833       0         1         0         0   \n2  26.0      0      0   7.9250       0         0         0         1   \n3  35.0      1      0  53.1000       0         1         0         0   \n4  35.0      0      0   8.0500       1         0         0         1   \n5   NaN      0      0   8.4583       1         0         0         1   \n6  54.0      0      0  51.8625       1         1         0         0   \n7   2.0      3      1  21.0750       1         0         0         1   \n8  27.0      0      2  11.1333       0         0         0         1   \n9  14.0      1      0  30.0708       0         0         1         0   \n\n   Embarked_C  Embarked_Q  Embarked_S  \n0           0           0           1  \n1           1           0           0  \n2           0           0           1  \n3           0           0           1  \n4           0           0           1  \n5           0           1           0  \n6           0           0           1  \n7           0           0           1  \n8           0           0           1  \n9           1           0           0  ",
      "text/html": "<div>\n<style scoped>\n    .dataframe tbody tr th:only-of-type {\n        vertical-align: middle;\n    }\n\n    .dataframe tbody tr th {\n        vertical-align: top;\n    }\n\n    .dataframe thead th {\n        text-align: right;\n    }\n</style>\n<table border=\"1\" class=\"dataframe\">\n  <thead>\n    <tr style=\"text-align: right;\">\n      <th></th>\n      <th>Age</th>\n      <th>SibSp</th>\n      <th>Parch</th>\n      <th>Fare</th>\n      <th>isMale</th>\n      <th>Pclass_1</th>\n      <th>Pclass_2</th>\n      <th>Pclass_3</th>\n      <th>Embarked_C</th>\n      <th>Embarked_Q</th>\n      <th>Embarked_S</th>\n    </tr>\n  </thead>\n  <tbody>\n    <tr>\n      <th>0</th>\n      <td>22.0</td>\n      <td>1</td>\n      <td>0</td>\n      <td>7.2500</td>\n      <td>1</td>\n      <td>0</td>\n      <td>0</td>\n      <td>1</td>\n      <td>0</td>\n      <td>0</td>\n      <td>1</td>\n    </tr>\n    <tr>\n      <th>1</th>\n      <td>38.0</td>\n      <td>1</td>\n      <td>0</td>\n      <td>71.2833</td>\n      <td>0</td>\n      <td>1</td>\n      <td>0</td>\n      <td>0</td>\n      <td>1</td>\n      <td>0</td>\n      <td>0</td>\n    </tr>\n    <tr>\n      <th>2</th>\n      <td>26.0</td>\n      <td>0</td>\n      <td>0</td>\n      <td>7.9250</td>\n      <td>0</td>\n      <td>0</td>\n      <td>0</td>\n      <td>1</td>\n      <td>0</td>\n      <td>0</td>\n      <td>1</td>\n    </tr>\n    <tr>\n      <th>3</th>\n      <td>35.0</td>\n      <td>1</td>\n      <td>0</td>\n      <td>53.1000</td>\n      <td>0</td>\n      <td>1</td>\n      <td>0</td>\n      <td>0</td>\n      <td>0</td>\n      <td>0</td>\n      <td>1</td>\n    </tr>\n    <tr>\n      <th>4</th>\n      <td>35.0</td>\n      <td>0</td>\n      <td>0</td>\n      <td>8.0500</td>\n      <td>1</td>\n      <td>0</td>\n      <td>0</td>\n      <td>1</td>\n      <td>0</td>\n      <td>0</td>\n      <td>1</td>\n    </tr>\n    <tr>\n      <th>5</th>\n      <td>NaN</td>\n      <td>0</td>\n      <td>0</td>\n      <td>8.4583</td>\n      <td>1</td>\n      <td>0</td>\n      <td>0</td>\n      <td>1</td>\n      <td>0</td>\n      <td>1</td>\n      <td>0</td>\n    </tr>\n    <tr>\n      <th>6</th>\n      <td>54.0</td>\n      <td>0</td>\n      <td>0</td>\n      <td>51.8625</td>\n      <td>1</td>\n      <td>1</td>\n      <td>0</td>\n      <td>0</td>\n      <td>0</td>\n      <td>0</td>\n      <td>1</td>\n    </tr>\n    <tr>\n      <th>7</th>\n      <td>2.0</td>\n      <td>3</td>\n      <td>1</td>\n      <td>21.0750</td>\n      <td>1</td>\n      <td>0</td>\n      <td>0</td>\n      <td>1</td>\n      <td>0</td>\n      <td>0</td>\n      <td>1</td>\n    </tr>\n    <tr>\n      <th>8</th>\n      <td>27.0</td>\n      <td>0</td>\n      <td>2</td>\n      <td>11.1333</td>\n      <td>0</td>\n      <td>0</td>\n      <td>0</td>\n      <td>1</td>\n      <td>0</td>\n      <td>0</td>\n      <td>1</td>\n    </tr>\n    <tr>\n      <th>9</th>\n      <td>14.0</td>\n      <td>1</td>\n      <td>0</td>\n      <td>30.0708</td>\n      <td>0</td>\n      <td>0</td>\n      <td>1</td>\n      <td>0</td>\n      <td>1</td>\n      <td>0</td>\n      <td>0</td>\n    </tr>\n  </tbody>\n</table>\n</div>"
     },
     "execution_count": 17,
     "metadata": {},
     "output_type": "execute_result"
    }
   ],
   "source": [
    "X_train.head(10)"
   ]
  },
  {
   "cell_type": "markdown",
   "metadata": {},
   "source": [
    "### Заполнение пустых значений"
   ]
  },
  {
   "cell_type": "markdown",
   "metadata": {},
   "source": [
    "заполним пустые значения средними по соответственным признакам"
   ]
  },
  {
   "cell_type": "markdown",
   "source": [
    "!pip install scikit-learn==0.20.4"
   ],
   "metadata": {
    "collapsed": false
   },
   "outputs": [
    {
     "name": "stdout",
     "output_type": "stream",
     "text": [
      "Collecting scikit-learn==0.20.4\n",
      "  Downloading scikit-learn-0.20.4.tar.gz (11.7 MB)\n",
      "     ---------------------------------------- 11.7/11.7 MB 8.7 MB/s eta 0:00:00\n",
      "  Preparing metadata (setup.py): started\n",
      "  Preparing metadata (setup.py): finished with status 'done'\n",
      "Requirement already satisfied: numpy>=1.8.2 in c:\\users\\venag\\anaconda3\\envs\\tf\\lib\\site-packages (from scikit-learn==0.20.4) (1.22.4)\n",
      "Requirement already satisfied: scipy>=0.13.3 in c:\\users\\venag\\anaconda3\\envs\\tf\\lib\\site-packages (from scikit-learn==0.20.4) (1.9.3)\n",
      "Building wheels for collected packages: scikit-learn\n",
      "  Building wheel for scikit-learn (setup.py): started\n",
      "  Building wheel for scikit-learn (setup.py): finished with status 'error'\n",
      "  Running setup.py clean for scikit-learn\n",
      "Failed to build scikit-learn\n",
      "Installing collected packages: scikit-learn\n",
      "  Attempting uninstall: scikit-learn\n",
      "    Found existing installation: scikit-learn 1.1.3\n",
      "    Uninstalling scikit-learn-1.1.3:\n",
      "      Successfully uninstalled scikit-learn-1.1.3\n",
      "  Running setup.py install for scikit-learn: started\n",
      "  Running setup.py install for scikit-learn: finished with status 'error'\n",
      "  Rolling back uninstall of scikit-learn\n",
      "  Moving to c:\\users\\venag\\anaconda3\\envs\\tf\\lib\\site-packages\\scikit_learn-1.1.3.dist-info\\\n",
      "   from C:\\Users\\venag\\anaconda3\\envs\\tf\\Lib\\site-packages\\~cikit_learn-1.1.3.dist-info\n",
      "  Moving to c:\\users\\venag\\anaconda3\\envs\\tf\\lib\\site-packages\\sklearn\\\n",
      "   from C:\\Users\\venag\\anaconda3\\envs\\tf\\Lib\\site-packages\\~klearn\n"
     ]
    },
    {
     "name": "stderr",
     "output_type": "stream",
     "text": [
      "  error: subprocess-exited-with-error\n",
      "  \n",
      "  python setup.py bdist_wheel did not run successfully.\n",
      "  exit code: 1\n",
      "  \n",
      "  [680 lines of output]\n",
      "  Partial import of sklearn during the build process.\n",
      "  blas_opt_info:\n",
      "  blas_mkl_info:\n",
      "  No module named 'numpy.distutils._msvccompiler' in numpy.distutils; trying from distutils\n",
      "  customize MSVCCompiler\n",
      "    libraries mkl_rt not found in ['C:/Users/venag/anaconda3/envs/tf\\\\Library\\\\lib']\n",
      "    NOT AVAILABLE\n",
      "  \n",
      "  blis_info:\n",
      "    libraries blis not found in ['C:\\\\Users\\\\venag\\\\anaconda3\\\\envs\\\\tf\\\\lib', 'C:\\\\', 'C:\\\\Users\\\\venag\\\\anaconda3\\\\envs\\\\tf\\\\libs', 'C:\\\\Users\\\\venag\\\\anaconda3\\\\Library\\\\lib']\n",
      "    NOT AVAILABLE\n",
      "  \n",
      "  openblas_info:\n",
      "    libraries openblas not found in ['C:\\\\Users\\\\venag\\\\anaconda3\\\\envs\\\\tf\\\\lib', 'C:\\\\', 'C:\\\\Users\\\\venag\\\\anaconda3\\\\envs\\\\tf\\\\libs', 'C:\\\\Users\\\\venag\\\\anaconda3\\\\Library\\\\lib']\n",
      "  get_default_fcompiler: matching types: '['gnu', 'intelv', 'absoft', 'compaqv', 'intelev', 'gnu95', 'g95', 'intelvem', 'intelem', 'flang']'\n",
      "  customize GnuFCompiler\n",
      "  Could not locate executable g77\n",
      "  Could not locate executable f77\n",
      "  customize IntelVisualFCompiler\n",
      "  Could not locate executable ifort\n",
      "  Could not locate executable ifl\n",
      "  customize AbsoftFCompiler\n",
      "  Could not locate executable f90\n",
      "  customize CompaqVisualFCompiler\n",
      "  Could not locate executable DF\n",
      "  customize IntelItaniumVisualFCompiler\n",
      "  Could not locate executable efl\n",
      "  customize Gnu95FCompiler\n",
      "  Could not locate executable gfortran\n",
      "  Could not locate executable f95\n",
      "  customize G95FCompiler\n",
      "  Could not locate executable g95\n",
      "  customize IntelEM64VisualFCompiler\n",
      "  customize IntelEM64TFCompiler\n",
      "  Could not locate executable efort\n",
      "  Could not locate executable efc\n",
      "  customize PGroupFlangCompiler\n",
      "  Could not locate executable flang\n",
      "  don't know how to compile Fortran code on platform 'nt'\n",
      "    NOT AVAILABLE\n",
      "  \n",
      "  accelerate_info:\n",
      "    NOT AVAILABLE\n",
      "  \n",
      "  atlas_3_10_blas_threads_info:\n",
      "  Setting PTATLAS=ATLAS\n",
      "    libraries tatlas not found in ['C:\\\\Users\\\\venag\\\\anaconda3\\\\envs\\\\tf\\\\lib', 'C:\\\\', 'C:\\\\Users\\\\venag\\\\anaconda3\\\\envs\\\\tf\\\\libs', 'C:\\\\Users\\\\venag\\\\anaconda3\\\\Library\\\\lib']\n",
      "    NOT AVAILABLE\n",
      "  \n",
      "  atlas_3_10_blas_info:\n",
      "    libraries satlas not found in ['C:\\\\Users\\\\venag\\\\anaconda3\\\\envs\\\\tf\\\\lib', 'C:\\\\', 'C:\\\\Users\\\\venag\\\\anaconda3\\\\envs\\\\tf\\\\libs', 'C:\\\\Users\\\\venag\\\\anaconda3\\\\Library\\\\lib']\n",
      "    NOT AVAILABLE\n",
      "  \n",
      "  atlas_blas_threads_info:\n",
      "  Setting PTATLAS=ATLAS\n",
      "    libraries ptf77blas,ptcblas,atlas not found in ['C:\\\\Users\\\\venag\\\\anaconda3\\\\envs\\\\tf\\\\lib', 'C:\\\\', 'C:\\\\Users\\\\venag\\\\anaconda3\\\\envs\\\\tf\\\\libs', 'C:\\\\Users\\\\venag\\\\anaconda3\\\\Library\\\\lib']\n",
      "    NOT AVAILABLE\n",
      "  \n",
      "  atlas_blas_info:\n",
      "    libraries f77blas,cblas,atlas not found in ['C:\\\\Users\\\\venag\\\\anaconda3\\\\envs\\\\tf\\\\lib', 'C:\\\\', 'C:\\\\Users\\\\venag\\\\anaconda3\\\\envs\\\\tf\\\\libs', 'C:\\\\Users\\\\venag\\\\anaconda3\\\\Library\\\\lib']\n",
      "    NOT AVAILABLE\n",
      "  \n",
      "  C:\\Users\\venag\\anaconda3\\envs\\tf\\lib\\site-packages\\numpy\\distutils\\system_info.py:2026: UserWarning:\n",
      "      Optimized (vendor) Blas libraries are not found.\n",
      "      Falls back to netlib Blas library which has worse performance.\n",
      "      A better performance should be easily gained by switching\n",
      "      Blas library.\n",
      "    if self._calc_info(blas):\n",
      "  blas_info:\n",
      "    libraries blas not found in ['C:\\\\Users\\\\venag\\\\anaconda3\\\\envs\\\\tf\\\\lib', 'C:\\\\', 'C:\\\\Users\\\\venag\\\\anaconda3\\\\envs\\\\tf\\\\libs', 'C:\\\\Users\\\\venag\\\\anaconda3\\\\Library\\\\lib']\n",
      "    NOT AVAILABLE\n",
      "  \n",
      "  C:\\Users\\venag\\anaconda3\\envs\\tf\\lib\\site-packages\\numpy\\distutils\\system_info.py:2026: UserWarning:\n",
      "      Blas (http://www.netlib.org/blas/) libraries not found.\n",
      "      Directories to search for the libraries can be specified in the\n",
      "      numpy/distutils/site.cfg file (section [blas]) or by setting\n",
      "      the BLAS environment variable.\n",
      "    if self._calc_info(blas):\n",
      "  blas_src_info:\n",
      "    NOT AVAILABLE\n",
      "  \n",
      "  C:\\Users\\venag\\anaconda3\\envs\\tf\\lib\\site-packages\\numpy\\distutils\\system_info.py:2026: UserWarning:\n",
      "      Blas (http://www.netlib.org/blas/) sources not found.\n",
      "      Directories to search for the sources can be specified in the\n",
      "      numpy/distutils/site.cfg file (section [blas_src]) or by setting\n",
      "      the BLAS_SRC environment variable.\n",
      "    if self._calc_info(blas):\n",
      "    NOT AVAILABLE\n",
      "  \n",
      "  sklearn\\setup.py:73: UserWarning:\n",
      "      Blas (http://www.netlib.org/blas/) libraries not found.\n",
      "      Directories to search for the libraries can be specified in the\n",
      "      numpy/distutils/site.cfg file (section [blas]) or by setting\n",
      "      the BLAS environment variable.\n",
      "    warnings.warn(BlasNotFoundError.__doc__)\n",
      "  running bdist_wheel\n",
      "  running build\n",
      "  running config_cc\n",
      "  unifing config_cc, config, build_clib, build_ext, build commands --compiler options\n",
      "  running config_fc\n",
      "  unifing config_fc, config, build_clib, build_ext, build commands --fcompiler options\n",
      "  running build_src\n",
      "  build_src\n",
      "  building library \"libsvm-skl\" sources\n",
      "  building library \"cblas\" sources\n",
      "  building extension \"sklearn.__check_build._check_build\" sources\n",
      "  building extension \"sklearn.cluster._dbscan_inner\" sources\n",
      "  building extension \"sklearn.cluster._hierarchical\" sources\n",
      "  building extension \"sklearn.cluster._k_means_elkan\" sources\n",
      "  building extension \"sklearn.cluster._k_means\" sources\n",
      "  building extension \"sklearn.datasets._svmlight_format\" sources\n",
      "  building extension \"sklearn.decomposition._online_lda\" sources\n",
      "  building extension \"sklearn.decomposition.cdnmf_fast\" sources\n",
      "  building extension \"sklearn.ensemble._gradient_boosting\" sources\n",
      "  building extension \"sklearn.feature_extraction._hashing\" sources\n",
      "  building extension \"sklearn.manifold._utils\" sources\n",
      "  building extension \"sklearn.manifold._barnes_hut_tsne\" sources\n",
      "  building extension \"sklearn.metrics.cluster.expected_mutual_info_fast\" sources\n",
      "  building extension \"sklearn.metrics.pairwise_fast\" sources\n",
      "  building extension \"sklearn.neighbors.ball_tree\" sources\n",
      "  building extension \"sklearn.neighbors.kd_tree\" sources\n",
      "  building extension \"sklearn.neighbors.dist_metrics\" sources\n",
      "  building extension \"sklearn.neighbors.typedefs\" sources\n",
      "  building extension \"sklearn.neighbors.quad_tree\" sources\n",
      "  building extension \"sklearn.tree._tree\" sources\n",
      "  building extension \"sklearn.tree._splitter\" sources\n",
      "  building extension \"sklearn.tree._criterion\" sources\n",
      "  building extension \"sklearn.tree._utils\" sources\n",
      "  building extension \"sklearn.svm.libsvm\" sources\n",
      "  building extension \"sklearn.svm.liblinear\" sources\n",
      "  building extension \"sklearn.svm.libsvm_sparse\" sources\n",
      "  building extension \"sklearn._isotonic\" sources\n",
      "  building extension \"sklearn.linear_model.cd_fast\" sources\n",
      "  building extension \"sklearn.linear_model.sgd_fast\" sources\n",
      "  building extension \"sklearn.linear_model.sag_fast\" sources\n",
      "  building extension \"sklearn.utils.sparsefuncs_fast\" sources\n",
      "  building extension \"sklearn.utils.arrayfuncs\" sources\n",
      "  building extension \"sklearn.utils.murmurhash\" sources\n",
      "  building extension \"sklearn.utils.lgamma\" sources\n",
      "  building extension \"sklearn.utils.graph_shortest_path\" sources\n",
      "  building extension \"sklearn.utils.fast_dict\" sources\n",
      "  building extension \"sklearn.utils.seq_dataset\" sources\n",
      "  building extension \"sklearn.utils.weight_vector\" sources\n",
      "  building extension \"sklearn.utils._random\" sources\n",
      "  building extension \"sklearn.utils._logistic_sigmoid\" sources\n",
      "  building data_files sources\n",
      "  build_src: building npy-pkg config files\n",
      "  C:\\Users\\venag\\anaconda3\\envs\\tf\\lib\\site-packages\\setuptools\\command\\install.py:34: SetuptoolsDeprecationWarning: setup.py install is deprecated. Use build and pip and other standards-based tools.\n",
      "    warnings.warn(\n",
      "  running build_py\n",
      "  creating build\n",
      "  creating build\\lib.win-amd64-3.9\n",
      "  creating build\\lib.win-amd64-3.9\\sklearn\n",
      "  copying sklearn\\base.py -> build\\lib.win-amd64-3.9\\sklearn\n",
      "  copying sklearn\\calibration.py -> build\\lib.win-amd64-3.9\\sklearn\n",
      "  copying sklearn\\discriminant_analysis.py -> build\\lib.win-amd64-3.9\\sklearn\n",
      "  copying sklearn\\dummy.py -> build\\lib.win-amd64-3.9\\sklearn\n",
      "  copying sklearn\\exceptions.py -> build\\lib.win-amd64-3.9\\sklearn\n",
      "  copying sklearn\\impute.py -> build\\lib.win-amd64-3.9\\sklearn\n",
      "  copying sklearn\\isotonic.py -> build\\lib.win-amd64-3.9\\sklearn\n",
      "  copying sklearn\\kernel_approximation.py -> build\\lib.win-amd64-3.9\\sklearn\n",
      "  copying sklearn\\kernel_ridge.py -> build\\lib.win-amd64-3.9\\sklearn\n",
      "  copying sklearn\\multiclass.py -> build\\lib.win-amd64-3.9\\sklearn\n",
      "  copying sklearn\\multioutput.py -> build\\lib.win-amd64-3.9\\sklearn\n",
      "  copying sklearn\\naive_bayes.py -> build\\lib.win-amd64-3.9\\sklearn\n",
      "  copying sklearn\\pipeline.py -> build\\lib.win-amd64-3.9\\sklearn\n",
      "  copying sklearn\\random_projection.py -> build\\lib.win-amd64-3.9\\sklearn\n",
      "  copying sklearn\\setup.py -> build\\lib.win-amd64-3.9\\sklearn\n",
      "  copying sklearn\\_config.py -> build\\lib.win-amd64-3.9\\sklearn\n",
      "  copying sklearn\\__init__.py -> build\\lib.win-amd64-3.9\\sklearn\n",
      "  creating build\\lib.win-amd64-3.9\\sklearn\\__check_build\n",
      "  copying sklearn\\__check_build\\setup.py -> build\\lib.win-amd64-3.9\\sklearn\\__check_build\n",
      "  copying sklearn\\__check_build\\__init__.py -> build\\lib.win-amd64-3.9\\sklearn\\__check_build\n",
      "  creating build\\lib.win-amd64-3.9\\sklearn\\_build_utils\n",
      "  copying sklearn\\_build_utils\\__init__.py -> build\\lib.win-amd64-3.9\\sklearn\\_build_utils\n",
      "  creating build\\lib.win-amd64-3.9\\sklearn\\compose\n",
      "  copying sklearn\\compose\\_column_transformer.py -> build\\lib.win-amd64-3.9\\sklearn\\compose\n",
      "  copying sklearn\\compose\\_target.py -> build\\lib.win-amd64-3.9\\sklearn\\compose\n",
      "  copying sklearn\\compose\\__init__.py -> build\\lib.win-amd64-3.9\\sklearn\\compose\n",
      "  creating build\\lib.win-amd64-3.9\\sklearn\\compose\\tests\n",
      "  copying sklearn\\compose\\tests\\test_column_transformer.py -> build\\lib.win-amd64-3.9\\sklearn\\compose/tests\n",
      "  copying sklearn\\compose\\tests\\test_target.py -> build\\lib.win-amd64-3.9\\sklearn\\compose/tests\n",
      "  copying sklearn\\compose\\tests\\__init__.py -> build\\lib.win-amd64-3.9\\sklearn\\compose/tests\n",
      "  creating build\\lib.win-amd64-3.9\\sklearn\\covariance\n",
      "  copying sklearn\\covariance\\elliptic_envelope.py -> build\\lib.win-amd64-3.9\\sklearn\\covariance\n",
      "  copying sklearn\\covariance\\empirical_covariance_.py -> build\\lib.win-amd64-3.9\\sklearn\\covariance\n",
      "  copying sklearn\\covariance\\graph_lasso_.py -> build\\lib.win-amd64-3.9\\sklearn\\covariance\n",
      "  copying sklearn\\covariance\\robust_covariance.py -> build\\lib.win-amd64-3.9\\sklearn\\covariance\n",
      "  copying sklearn\\covariance\\shrunk_covariance_.py -> build\\lib.win-amd64-3.9\\sklearn\\covariance\n",
      "  copying sklearn\\covariance\\__init__.py -> build\\lib.win-amd64-3.9\\sklearn\\covariance\n",
      "  creating build\\lib.win-amd64-3.9\\sklearn\\covariance\\tests\n",
      "  copying sklearn\\covariance\\tests\\test_covariance.py -> build\\lib.win-amd64-3.9\\sklearn\\covariance/tests\n",
      "  copying sklearn\\covariance\\tests\\test_elliptic_envelope.py -> build\\lib.win-amd64-3.9\\sklearn\\covariance/tests\n",
      "  copying sklearn\\covariance\\tests\\test_graphical_lasso.py -> build\\lib.win-amd64-3.9\\sklearn\\covariance/tests\n",
      "  copying sklearn\\covariance\\tests\\test_graph_lasso.py -> build\\lib.win-amd64-3.9\\sklearn\\covariance/tests\n",
      "  copying sklearn\\covariance\\tests\\test_robust_covariance.py -> build\\lib.win-amd64-3.9\\sklearn\\covariance/tests\n",
      "  copying sklearn\\covariance\\tests\\__init__.py -> build\\lib.win-amd64-3.9\\sklearn\\covariance/tests\n",
      "  creating build\\lib.win-amd64-3.9\\sklearn\\cross_decomposition\n",
      "  copying sklearn\\cross_decomposition\\cca_.py -> build\\lib.win-amd64-3.9\\sklearn\\cross_decomposition\n",
      "  copying sklearn\\cross_decomposition\\pls_.py -> build\\lib.win-amd64-3.9\\sklearn\\cross_decomposition\n",
      "  copying sklearn\\cross_decomposition\\__init__.py -> build\\lib.win-amd64-3.9\\sklearn\\cross_decomposition\n",
      "  creating build\\lib.win-amd64-3.9\\sklearn\\cross_decomposition\\tests\n",
      "  copying sklearn\\cross_decomposition\\tests\\test_pls.py -> build\\lib.win-amd64-3.9\\sklearn\\cross_decomposition/tests\n",
      "  copying sklearn\\cross_decomposition\\tests\\__init__.py -> build\\lib.win-amd64-3.9\\sklearn\\cross_decomposition/tests\n",
      "  creating build\\lib.win-amd64-3.9\\sklearn\\feature_selection\n",
      "  copying sklearn\\feature_selection\\base.py -> build\\lib.win-amd64-3.9\\sklearn\\feature_selection\n",
      "  copying sklearn\\feature_selection\\from_model.py -> build\\lib.win-amd64-3.9\\sklearn\\feature_selection\n",
      "  copying sklearn\\feature_selection\\mutual_info_.py -> build\\lib.win-amd64-3.9\\sklearn\\feature_selection\n",
      "  copying sklearn\\feature_selection\\rfe.py -> build\\lib.win-amd64-3.9\\sklearn\\feature_selection\n",
      "  copying sklearn\\feature_selection\\univariate_selection.py -> build\\lib.win-amd64-3.9\\sklearn\\feature_selection\n",
      "  copying sklearn\\feature_selection\\variance_threshold.py -> build\\lib.win-amd64-3.9\\sklearn\\feature_selection\n",
      "  copying sklearn\\feature_selection\\__init__.py -> build\\lib.win-amd64-3.9\\sklearn\\feature_selection\n",
      "  creating build\\lib.win-amd64-3.9\\sklearn\\feature_selection\\tests\n",
      "  copying sklearn\\feature_selection\\tests\\test_base.py -> build\\lib.win-amd64-3.9\\sklearn\\feature_selection/tests\n",
      "  copying sklearn\\feature_selection\\tests\\test_chi2.py -> build\\lib.win-amd64-3.9\\sklearn\\feature_selection/tests\n",
      "  copying sklearn\\feature_selection\\tests\\test_feature_select.py -> build\\lib.win-amd64-3.9\\sklearn\\feature_selection/tests\n",
      "  copying sklearn\\feature_selection\\tests\\test_from_model.py -> build\\lib.win-amd64-3.9\\sklearn\\feature_selection/tests\n",
      "  copying sklearn\\feature_selection\\tests\\test_mutual_info.py -> build\\lib.win-amd64-3.9\\sklearn\\feature_selection/tests\n",
      "  copying sklearn\\feature_selection\\tests\\test_rfe.py -> build\\lib.win-amd64-3.9\\sklearn\\feature_selection/tests\n",
      "  copying sklearn\\feature_selection\\tests\\test_variance_threshold.py -> build\\lib.win-amd64-3.9\\sklearn\\feature_selection/tests\n",
      "  copying sklearn\\feature_selection\\tests\\__init__.py -> build\\lib.win-amd64-3.9\\sklearn\\feature_selection/tests\n",
      "  creating build\\lib.win-amd64-3.9\\sklearn\\gaussian_process\n",
      "  copying sklearn\\gaussian_process\\correlation_models.py -> build\\lib.win-amd64-3.9\\sklearn\\gaussian_process\n",
      "  copying sklearn\\gaussian_process\\gpc.py -> build\\lib.win-amd64-3.9\\sklearn\\gaussian_process\n",
      "  copying sklearn\\gaussian_process\\gpr.py -> build\\lib.win-amd64-3.9\\sklearn\\gaussian_process\n",
      "  copying sklearn\\gaussian_process\\kernels.py -> build\\lib.win-amd64-3.9\\sklearn\\gaussian_process\n",
      "  copying sklearn\\gaussian_process\\regression_models.py -> build\\lib.win-amd64-3.9\\sklearn\\gaussian_process\n",
      "  copying sklearn\\gaussian_process\\__init__.py -> build\\lib.win-amd64-3.9\\sklearn\\gaussian_process\n",
      "  creating build\\lib.win-amd64-3.9\\sklearn\\gaussian_process\\tests\n",
      "  copying sklearn\\gaussian_process\\tests\\test_gpc.py -> build\\lib.win-amd64-3.9\\sklearn\\gaussian_process/tests\n",
      "  copying sklearn\\gaussian_process\\tests\\test_gpr.py -> build\\lib.win-amd64-3.9\\sklearn\\gaussian_process/tests\n",
      "  copying sklearn\\gaussian_process\\tests\\test_kernels.py -> build\\lib.win-amd64-3.9\\sklearn\\gaussian_process/tests\n",
      "  copying sklearn\\gaussian_process\\tests\\__init__.py -> build\\lib.win-amd64-3.9\\sklearn\\gaussian_process/tests\n",
      "  creating build\\lib.win-amd64-3.9\\sklearn\\mixture\n",
      "  copying sklearn\\mixture\\base.py -> build\\lib.win-amd64-3.9\\sklearn\\mixture\n",
      "  copying sklearn\\mixture\\bayesian_mixture.py -> build\\lib.win-amd64-3.9\\sklearn\\mixture\n",
      "  copying sklearn\\mixture\\gaussian_mixture.py -> build\\lib.win-amd64-3.9\\sklearn\\mixture\n",
      "  copying sklearn\\mixture\\__init__.py -> build\\lib.win-amd64-3.9\\sklearn\\mixture\n",
      "  creating build\\lib.win-amd64-3.9\\sklearn\\mixture\\tests\n",
      "  copying sklearn\\mixture\\tests\\test_bayesian_mixture.py -> build\\lib.win-amd64-3.9\\sklearn\\mixture/tests\n",
      "  copying sklearn\\mixture\\tests\\test_gaussian_mixture.py -> build\\lib.win-amd64-3.9\\sklearn\\mixture/tests\n",
      "  copying sklearn\\mixture\\tests\\test_mixture.py -> build\\lib.win-amd64-3.9\\sklearn\\mixture/tests\n",
      "  copying sklearn\\mixture\\tests\\__init__.py -> build\\lib.win-amd64-3.9\\sklearn\\mixture/tests\n",
      "  creating build\\lib.win-amd64-3.9\\sklearn\\model_selection\n",
      "  copying sklearn\\model_selection\\_search.py -> build\\lib.win-amd64-3.9\\sklearn\\model_selection\n",
      "  copying sklearn\\model_selection\\_split.py -> build\\lib.win-amd64-3.9\\sklearn\\model_selection\n",
      "  copying sklearn\\model_selection\\_validation.py -> build\\lib.win-amd64-3.9\\sklearn\\model_selection\n",
      "  copying sklearn\\model_selection\\__init__.py -> build\\lib.win-amd64-3.9\\sklearn\\model_selection\n",
      "  creating build\\lib.win-amd64-3.9\\sklearn\\model_selection\\tests\n",
      "  copying sklearn\\model_selection\\tests\\common.py -> build\\lib.win-amd64-3.9\\sklearn\\model_selection/tests\n",
      "  copying sklearn\\model_selection\\tests\\test_search.py -> build\\lib.win-amd64-3.9\\sklearn\\model_selection/tests\n",
      "  copying sklearn\\model_selection\\tests\\test_split.py -> build\\lib.win-amd64-3.9\\sklearn\\model_selection/tests\n",
      "  copying sklearn\\model_selection\\tests\\test_validation.py -> build\\lib.win-amd64-3.9\\sklearn\\model_selection/tests\n",
      "  copying sklearn\\model_selection\\tests\\__init__.py -> build\\lib.win-amd64-3.9\\sklearn\\model_selection/tests\n",
      "  creating build\\lib.win-amd64-3.9\\sklearn\\neural_network\n",
      "  copying sklearn\\neural_network\\multilayer_perceptron.py -> build\\lib.win-amd64-3.9\\sklearn\\neural_network\n",
      "  copying sklearn\\neural_network\\rbm.py -> build\\lib.win-amd64-3.9\\sklearn\\neural_network\n",
      "  copying sklearn\\neural_network\\_base.py -> build\\lib.win-amd64-3.9\\sklearn\\neural_network\n",
      "  copying sklearn\\neural_network\\_stochastic_optimizers.py -> build\\lib.win-amd64-3.9\\sklearn\\neural_network\n",
      "  copying sklearn\\neural_network\\__init__.py -> build\\lib.win-amd64-3.9\\sklearn\\neural_network\n",
      "  creating build\\lib.win-amd64-3.9\\sklearn\\neural_network\\tests\n",
      "  copying sklearn\\neural_network\\tests\\test_mlp.py -> build\\lib.win-amd64-3.9\\sklearn\\neural_network/tests\n",
      "  copying sklearn\\neural_network\\tests\\test_rbm.py -> build\\lib.win-amd64-3.9\\sklearn\\neural_network/tests\n",
      "  copying sklearn\\neural_network\\tests\\test_stochastic_optimizers.py -> build\\lib.win-amd64-3.9\\sklearn\\neural_network/tests\n",
      "  copying sklearn\\neural_network\\tests\\__init__.py -> build\\lib.win-amd64-3.9\\sklearn\\neural_network/tests\n",
      "  creating build\\lib.win-amd64-3.9\\sklearn\\preprocessing\n",
      "  copying sklearn\\preprocessing\\base.py -> build\\lib.win-amd64-3.9\\sklearn\\preprocessing\n",
      "  copying sklearn\\preprocessing\\data.py -> build\\lib.win-amd64-3.9\\sklearn\\preprocessing\n",
      "  copying sklearn\\preprocessing\\imputation.py -> build\\lib.win-amd64-3.9\\sklearn\\preprocessing\n",
      "  copying sklearn\\preprocessing\\label.py -> build\\lib.win-amd64-3.9\\sklearn\\preprocessing\n",
      "  copying sklearn\\preprocessing\\_discretization.py -> build\\lib.win-amd64-3.9\\sklearn\\preprocessing\n",
      "  copying sklearn\\preprocessing\\_encoders.py -> build\\lib.win-amd64-3.9\\sklearn\\preprocessing\n",
      "  copying sklearn\\preprocessing\\_function_transformer.py -> build\\lib.win-amd64-3.9\\sklearn\\preprocessing\n",
      "  copying sklearn\\preprocessing\\__init__.py -> build\\lib.win-amd64-3.9\\sklearn\\preprocessing\n",
      "  creating build\\lib.win-amd64-3.9\\sklearn\\preprocessing\\tests\n",
      "  copying sklearn\\preprocessing\\tests\\test_base.py -> build\\lib.win-amd64-3.9\\sklearn\\preprocessing/tests\n",
      "  copying sklearn\\preprocessing\\tests\\test_common.py -> build\\lib.win-amd64-3.9\\sklearn\\preprocessing/tests\n",
      "  copying sklearn\\preprocessing\\tests\\test_data.py -> build\\lib.win-amd64-3.9\\sklearn\\preprocessing/tests\n",
      "  copying sklearn\\preprocessing\\tests\\test_discretization.py -> build\\lib.win-amd64-3.9\\sklearn\\preprocessing/tests\n",
      "  copying sklearn\\preprocessing\\tests\\test_encoders.py -> build\\lib.win-amd64-3.9\\sklearn\\preprocessing/tests\n",
      "  copying sklearn\\preprocessing\\tests\\test_function_transformer.py -> build\\lib.win-amd64-3.9\\sklearn\\preprocessing/tests\n",
      "  copying sklearn\\preprocessing\\tests\\test_imputation.py -> build\\lib.win-amd64-3.9\\sklearn\\preprocessing/tests\n",
      "  copying sklearn\\preprocessing\\tests\\test_label.py -> build\\lib.win-amd64-3.9\\sklearn\\preprocessing/tests\n",
      "  copying sklearn\\preprocessing\\tests\\__init__.py -> build\\lib.win-amd64-3.9\\sklearn\\preprocessing/tests\n",
      "  creating build\\lib.win-amd64-3.9\\sklearn\\semi_supervised\n",
      "  copying sklearn\\semi_supervised\\label_propagation.py -> build\\lib.win-amd64-3.9\\sklearn\\semi_supervised\n",
      "  copying sklearn\\semi_supervised\\__init__.py -> build\\lib.win-amd64-3.9\\sklearn\\semi_supervised\n",
      "  creating build\\lib.win-amd64-3.9\\sklearn\\semi_supervised\\tests\n",
      "  copying sklearn\\semi_supervised\\tests\\test_label_propagation.py -> build\\lib.win-amd64-3.9\\sklearn\\semi_supervised/tests\n",
      "  copying sklearn\\semi_supervised\\tests\\__init__.py -> build\\lib.win-amd64-3.9\\sklearn\\semi_supervised/tests\n",
      "  creating build\\lib.win-amd64-3.9\\sklearn\\cluster\n",
      "  copying sklearn\\cluster\\affinity_propagation_.py -> build\\lib.win-amd64-3.9\\sklearn\\cluster\n",
      "  copying sklearn\\cluster\\bicluster.py -> build\\lib.win-amd64-3.9\\sklearn\\cluster\n",
      "  copying sklearn\\cluster\\birch.py -> build\\lib.win-amd64-3.9\\sklearn\\cluster\n",
      "  copying sklearn\\cluster\\dbscan_.py -> build\\lib.win-amd64-3.9\\sklearn\\cluster\n",
      "  copying sklearn\\cluster\\hierarchical.py -> build\\lib.win-amd64-3.9\\sklearn\\cluster\n",
      "  copying sklearn\\cluster\\k_means_.py -> build\\lib.win-amd64-3.9\\sklearn\\cluster\n",
      "  copying sklearn\\cluster\\mean_shift_.py -> build\\lib.win-amd64-3.9\\sklearn\\cluster\n",
      "  copying sklearn\\cluster\\setup.py -> build\\lib.win-amd64-3.9\\sklearn\\cluster\n",
      "  copying sklearn\\cluster\\spectral.py -> build\\lib.win-amd64-3.9\\sklearn\\cluster\n",
      "  copying sklearn\\cluster\\_feature_agglomeration.py -> build\\lib.win-amd64-3.9\\sklearn\\cluster\n",
      "  copying sklearn\\cluster\\__init__.py -> build\\lib.win-amd64-3.9\\sklearn\\cluster\n",
      "  creating build\\lib.win-amd64-3.9\\sklearn\\cluster\\tests\n",
      "  copying sklearn\\cluster\\tests\\common.py -> build\\lib.win-amd64-3.9\\sklearn\\cluster\\tests\n",
      "  copying sklearn\\cluster\\tests\\test_affinity_propagation.py -> build\\lib.win-amd64-3.9\\sklearn\\cluster\\tests\n",
      "  copying sklearn\\cluster\\tests\\test_bicluster.py -> build\\lib.win-amd64-3.9\\sklearn\\cluster\\tests\n",
      "  copying sklearn\\cluster\\tests\\test_birch.py -> build\\lib.win-amd64-3.9\\sklearn\\cluster\\tests\n",
      "  copying sklearn\\cluster\\tests\\test_dbscan.py -> build\\lib.win-amd64-3.9\\sklearn\\cluster\\tests\n",
      "  copying sklearn\\cluster\\tests\\test_feature_agglomeration.py -> build\\lib.win-amd64-3.9\\sklearn\\cluster\\tests\n",
      "  copying sklearn\\cluster\\tests\\test_hierarchical.py -> build\\lib.win-amd64-3.9\\sklearn\\cluster\\tests\n",
      "  copying sklearn\\cluster\\tests\\test_k_means.py -> build\\lib.win-amd64-3.9\\sklearn\\cluster\\tests\n",
      "  copying sklearn\\cluster\\tests\\test_mean_shift.py -> build\\lib.win-amd64-3.9\\sklearn\\cluster\\tests\n",
      "  copying sklearn\\cluster\\tests\\test_spectral.py -> build\\lib.win-amd64-3.9\\sklearn\\cluster\\tests\n",
      "  copying sklearn\\cluster\\tests\\__init__.py -> build\\lib.win-amd64-3.9\\sklearn\\cluster\\tests\n",
      "  creating build\\lib.win-amd64-3.9\\sklearn\\datasets\n",
      "  copying sklearn\\datasets\\base.py -> build\\lib.win-amd64-3.9\\sklearn\\datasets\n",
      "  copying sklearn\\datasets\\california_housing.py -> build\\lib.win-amd64-3.9\\sklearn\\datasets\n",
      "  copying sklearn\\datasets\\covtype.py -> build\\lib.win-amd64-3.9\\sklearn\\datasets\n",
      "  copying sklearn\\datasets\\kddcup99.py -> build\\lib.win-amd64-3.9\\sklearn\\datasets\n",
      "  copying sklearn\\datasets\\lfw.py -> build\\lib.win-amd64-3.9\\sklearn\\datasets\n",
      "  copying sklearn\\datasets\\mlcomp.py -> build\\lib.win-amd64-3.9\\sklearn\\datasets\n",
      "  copying sklearn\\datasets\\mldata.py -> build\\lib.win-amd64-3.9\\sklearn\\datasets\n",
      "  copying sklearn\\datasets\\olivetti_faces.py -> build\\lib.win-amd64-3.9\\sklearn\\datasets\n",
      "  copying sklearn\\datasets\\openml.py -> build\\lib.win-amd64-3.9\\sklearn\\datasets\n",
      "  copying sklearn\\datasets\\rcv1.py -> build\\lib.win-amd64-3.9\\sklearn\\datasets\n",
      "  copying sklearn\\datasets\\samples_generator.py -> build\\lib.win-amd64-3.9\\sklearn\\datasets\n",
      "  copying sklearn\\datasets\\setup.py -> build\\lib.win-amd64-3.9\\sklearn\\datasets\n",
      "  copying sklearn\\datasets\\species_distributions.py -> build\\lib.win-amd64-3.9\\sklearn\\datasets\n",
      "  copying sklearn\\datasets\\svmlight_format.py -> build\\lib.win-amd64-3.9\\sklearn\\datasets\n",
      "  copying sklearn\\datasets\\twenty_newsgroups.py -> build\\lib.win-amd64-3.9\\sklearn\\datasets\n",
      "  copying sklearn\\datasets\\__init__.py -> build\\lib.win-amd64-3.9\\sklearn\\datasets\n",
      "  creating build\\lib.win-amd64-3.9\\sklearn\\datasets\\tests\n",
      "  copying sklearn\\datasets\\tests\\test_20news.py -> build\\lib.win-amd64-3.9\\sklearn\\datasets\\tests\n",
      "  copying sklearn\\datasets\\tests\\test_base.py -> build\\lib.win-amd64-3.9\\sklearn\\datasets\\tests\n",
      "  copying sklearn\\datasets\\tests\\test_california_housing.py -> build\\lib.win-amd64-3.9\\sklearn\\datasets\\tests\n",
      "  copying sklearn\\datasets\\tests\\test_common.py -> build\\lib.win-amd64-3.9\\sklearn\\datasets\\tests\n",
      "  copying sklearn\\datasets\\tests\\test_covtype.py -> build\\lib.win-amd64-3.9\\sklearn\\datasets\\tests\n",
      "  copying sklearn\\datasets\\tests\\test_kddcup99.py -> build\\lib.win-amd64-3.9\\sklearn\\datasets\\tests\n",
      "  copying sklearn\\datasets\\tests\\test_lfw.py -> build\\lib.win-amd64-3.9\\sklearn\\datasets\\tests\n",
      "  copying sklearn\\datasets\\tests\\test_mldata.py -> build\\lib.win-amd64-3.9\\sklearn\\datasets\\tests\n",
      "  copying sklearn\\datasets\\tests\\test_openml.py -> build\\lib.win-amd64-3.9\\sklearn\\datasets\\tests\n",
      "  copying sklearn\\datasets\\tests\\test_rcv1.py -> build\\lib.win-amd64-3.9\\sklearn\\datasets\\tests\n",
      "  copying sklearn\\datasets\\tests\\test_samples_generator.py -> build\\lib.win-amd64-3.9\\sklearn\\datasets\\tests\n",
      "  copying sklearn\\datasets\\tests\\test_svmlight_format.py -> build\\lib.win-amd64-3.9\\sklearn\\datasets\\tests\n",
      "  copying sklearn\\datasets\\tests\\__init__.py -> build\\lib.win-amd64-3.9\\sklearn\\datasets\\tests\n",
      "  creating build\\lib.win-amd64-3.9\\sklearn\\decomposition\n",
      "  copying sklearn\\decomposition\\base.py -> build\\lib.win-amd64-3.9\\sklearn\\decomposition\n",
      "  copying sklearn\\decomposition\\dict_learning.py -> build\\lib.win-amd64-3.9\\sklearn\\decomposition\n",
      "  copying sklearn\\decomposition\\factor_analysis.py -> build\\lib.win-amd64-3.9\\sklearn\\decomposition\n",
      "  copying sklearn\\decomposition\\fastica_.py -> build\\lib.win-amd64-3.9\\sklearn\\decomposition\n",
      "  copying sklearn\\decomposition\\incremental_pca.py -> build\\lib.win-amd64-3.9\\sklearn\\decomposition\n",
      "  copying sklearn\\decomposition\\kernel_pca.py -> build\\lib.win-amd64-3.9\\sklearn\\decomposition\n",
      "  copying sklearn\\decomposition\\nmf.py -> build\\lib.win-amd64-3.9\\sklearn\\decomposition\n",
      "  copying sklearn\\decomposition\\online_lda.py -> build\\lib.win-amd64-3.9\\sklearn\\decomposition\n",
      "  copying sklearn\\decomposition\\pca.py -> build\\lib.win-amd64-3.9\\sklearn\\decomposition\n",
      "  copying sklearn\\decomposition\\setup.py -> build\\lib.win-amd64-3.9\\sklearn\\decomposition\n",
      "  copying sklearn\\decomposition\\sparse_pca.py -> build\\lib.win-amd64-3.9\\sklearn\\decomposition\n",
      "  copying sklearn\\decomposition\\truncated_svd.py -> build\\lib.win-amd64-3.9\\sklearn\\decomposition\n",
      "  copying sklearn\\decomposition\\__init__.py -> build\\lib.win-amd64-3.9\\sklearn\\decomposition\n",
      "  creating build\\lib.win-amd64-3.9\\sklearn\\decomposition\\tests\n",
      "  copying sklearn\\decomposition\\tests\\test_dict_learning.py -> build\\lib.win-amd64-3.9\\sklearn\\decomposition\\tests\n",
      "  copying sklearn\\decomposition\\tests\\test_factor_analysis.py -> build\\lib.win-amd64-3.9\\sklearn\\decomposition\\tests\n",
      "  copying sklearn\\decomposition\\tests\\test_fastica.py -> build\\lib.win-amd64-3.9\\sklearn\\decomposition\\tests\n",
      "  copying sklearn\\decomposition\\tests\\test_incremental_pca.py -> build\\lib.win-amd64-3.9\\sklearn\\decomposition\\tests\n",
      "  copying sklearn\\decomposition\\tests\\test_kernel_pca.py -> build\\lib.win-amd64-3.9\\sklearn\\decomposition\\tests\n",
      "  copying sklearn\\decomposition\\tests\\test_nmf.py -> build\\lib.win-amd64-3.9\\sklearn\\decomposition\\tests\n",
      "  copying sklearn\\decomposition\\tests\\test_online_lda.py -> build\\lib.win-amd64-3.9\\sklearn\\decomposition\\tests\n",
      "  copying sklearn\\decomposition\\tests\\test_pca.py -> build\\lib.win-amd64-3.9\\sklearn\\decomposition\\tests\n",
      "  copying sklearn\\decomposition\\tests\\test_sparse_pca.py -> build\\lib.win-amd64-3.9\\sklearn\\decomposition\\tests\n",
      "  copying sklearn\\decomposition\\tests\\test_truncated_svd.py -> build\\lib.win-amd64-3.9\\sklearn\\decomposition\\tests\n",
      "  copying sklearn\\decomposition\\tests\\__init__.py -> build\\lib.win-amd64-3.9\\sklearn\\decomposition\\tests\n",
      "  creating build\\lib.win-amd64-3.9\\sklearn\\ensemble\n",
      "  copying sklearn\\ensemble\\bagging.py -> build\\lib.win-amd64-3.9\\sklearn\\ensemble\n",
      "  copying sklearn\\ensemble\\base.py -> build\\lib.win-amd64-3.9\\sklearn\\ensemble\n",
      "  copying sklearn\\ensemble\\forest.py -> build\\lib.win-amd64-3.9\\sklearn\\ensemble\n",
      "  copying sklearn\\ensemble\\gradient_boosting.py -> build\\lib.win-amd64-3.9\\sklearn\\ensemble\n",
      "  copying sklearn\\ensemble\\iforest.py -> build\\lib.win-amd64-3.9\\sklearn\\ensemble\n",
      "  copying sklearn\\ensemble\\partial_dependence.py -> build\\lib.win-amd64-3.9\\sklearn\\ensemble\n",
      "  copying sklearn\\ensemble\\setup.py -> build\\lib.win-amd64-3.9\\sklearn\\ensemble\n",
      "  copying sklearn\\ensemble\\voting_classifier.py -> build\\lib.win-amd64-3.9\\sklearn\\ensemble\n",
      "  copying sklearn\\ensemble\\weight_boosting.py -> build\\lib.win-amd64-3.9\\sklearn\\ensemble\n",
      "  copying sklearn\\ensemble\\__init__.py -> build\\lib.win-amd64-3.9\\sklearn\\ensemble\n",
      "  creating build\\lib.win-amd64-3.9\\sklearn\\ensemble\\tests\n",
      "  copying sklearn\\ensemble\\tests\\test_bagging.py -> build\\lib.win-amd64-3.9\\sklearn\\ensemble\\tests\n",
      "  copying sklearn\\ensemble\\tests\\test_base.py -> build\\lib.win-amd64-3.9\\sklearn\\ensemble\\tests\n",
      "  copying sklearn\\ensemble\\tests\\test_forest.py -> build\\lib.win-amd64-3.9\\sklearn\\ensemble\\tests\n",
      "  copying sklearn\\ensemble\\tests\\test_gradient_boosting.py -> build\\lib.win-amd64-3.9\\sklearn\\ensemble\\tests\n",
      "  copying sklearn\\ensemble\\tests\\test_gradient_boosting_loss_functions.py -> build\\lib.win-amd64-3.9\\sklearn\\ensemble\\tests\n",
      "  copying sklearn\\ensemble\\tests\\test_iforest.py -> build\\lib.win-amd64-3.9\\sklearn\\ensemble\\tests\n",
      "  copying sklearn\\ensemble\\tests\\test_partial_dependence.py -> build\\lib.win-amd64-3.9\\sklearn\\ensemble\\tests\n",
      "  copying sklearn\\ensemble\\tests\\test_voting_classifier.py -> build\\lib.win-amd64-3.9\\sklearn\\ensemble\\tests\n",
      "  copying sklearn\\ensemble\\tests\\test_weight_boosting.py -> build\\lib.win-amd64-3.9\\sklearn\\ensemble\\tests\n",
      "  copying sklearn\\ensemble\\tests\\__init__.py -> build\\lib.win-amd64-3.9\\sklearn\\ensemble\\tests\n",
      "  creating build\\lib.win-amd64-3.9\\sklearn\\externals\n",
      "  copying sklearn\\externals\\conftest.py -> build\\lib.win-amd64-3.9\\sklearn\\externals\n",
      "  copying sklearn\\externals\\funcsigs.py -> build\\lib.win-amd64-3.9\\sklearn\\externals\n",
      "  copying sklearn\\externals\\setup.py -> build\\lib.win-amd64-3.9\\sklearn\\externals\n",
      "  copying sklearn\\externals\\six.py -> build\\lib.win-amd64-3.9\\sklearn\\externals\n",
      "  copying sklearn\\externals\\_arff.py -> build\\lib.win-amd64-3.9\\sklearn\\externals\n",
      "  copying sklearn\\externals\\_pilutil.py -> build\\lib.win-amd64-3.9\\sklearn\\externals\n",
      "  copying sklearn\\externals\\__init__.py -> build\\lib.win-amd64-3.9\\sklearn\\externals\n",
      "  creating build\\lib.win-amd64-3.9\\sklearn\\externals\\joblib\n",
      "  copying sklearn\\externals\\joblib\\backports.py -> build\\lib.win-amd64-3.9\\sklearn\\externals\\joblib\n",
      "  copying sklearn\\externals\\joblib\\compressor.py -> build\\lib.win-amd64-3.9\\sklearn\\externals\\joblib\n",
      "  copying sklearn\\externals\\joblib\\disk.py -> build\\lib.win-amd64-3.9\\sklearn\\externals\\joblib\n",
      "  copying sklearn\\externals\\joblib\\executor.py -> build\\lib.win-amd64-3.9\\sklearn\\externals\\joblib\n",
      "  copying sklearn\\externals\\joblib\\format_stack.py -> build\\lib.win-amd64-3.9\\sklearn\\externals\\joblib\n",
      "  copying sklearn\\externals\\joblib\\func_inspect.py -> build\\lib.win-amd64-3.9\\sklearn\\externals\\joblib\n",
      "  copying sklearn\\externals\\joblib\\hashing.py -> build\\lib.win-amd64-3.9\\sklearn\\externals\\joblib\n",
      "  copying sklearn\\externals\\joblib\\logger.py -> build\\lib.win-amd64-3.9\\sklearn\\externals\\joblib\n",
      "  copying sklearn\\externals\\joblib\\memory.py -> build\\lib.win-amd64-3.9\\sklearn\\externals\\joblib\n",
      "  copying sklearn\\externals\\joblib\\my_exceptions.py -> build\\lib.win-amd64-3.9\\sklearn\\externals\\joblib\n",
      "  copying sklearn\\externals\\joblib\\numpy_pickle.py -> build\\lib.win-amd64-3.9\\sklearn\\externals\\joblib\n",
      "  copying sklearn\\externals\\joblib\\numpy_pickle_compat.py -> build\\lib.win-amd64-3.9\\sklearn\\externals\\joblib\n",
      "  copying sklearn\\externals\\joblib\\numpy_pickle_utils.py -> build\\lib.win-amd64-3.9\\sklearn\\externals\\joblib\n",
      "  copying sklearn\\externals\\joblib\\parallel.py -> build\\lib.win-amd64-3.9\\sklearn\\externals\\joblib\n",
      "  copying sklearn\\externals\\joblib\\pool.py -> build\\lib.win-amd64-3.9\\sklearn\\externals\\joblib\n",
      "  copying sklearn\\externals\\joblib\\testing.py -> build\\lib.win-amd64-3.9\\sklearn\\externals\\joblib\n",
      "  copying sklearn\\externals\\joblib\\_compat.py -> build\\lib.win-amd64-3.9\\sklearn\\externals\\joblib\n",
      "  copying sklearn\\externals\\joblib\\_dask.py -> build\\lib.win-amd64-3.9\\sklearn\\externals\\joblib\n",
      "  copying sklearn\\externals\\joblib\\_memmapping_reducer.py -> build\\lib.win-amd64-3.9\\sklearn\\externals\\joblib\n",
      "  copying sklearn\\externals\\joblib\\_memory_helpers.py -> build\\lib.win-amd64-3.9\\sklearn\\externals\\joblib\n",
      "  copying sklearn\\externals\\joblib\\_multiprocessing_helpers.py -> build\\lib.win-amd64-3.9\\sklearn\\externals\\joblib\n",
      "  copying sklearn\\externals\\joblib\\_parallel_backends.py -> build\\lib.win-amd64-3.9\\sklearn\\externals\\joblib\n",
      "  copying sklearn\\externals\\joblib\\_store_backends.py -> build\\lib.win-amd64-3.9\\sklearn\\externals\\joblib\n",
      "  copying sklearn\\externals\\joblib\\__init__.py -> build\\lib.win-amd64-3.9\\sklearn\\externals\\joblib\n",
      "  creating build\\lib.win-amd64-3.9\\sklearn\\externals\\joblib\\externals\n",
      "  copying sklearn\\externals\\joblib\\externals\\__init__.py -> build\\lib.win-amd64-3.9\\sklearn\\externals\\joblib/externals\n",
      "  creating build\\lib.win-amd64-3.9\\sklearn\\externals\\joblib\\externals\\loky\n",
      "  copying sklearn\\externals\\joblib\\externals\\loky\\cloudpickle_wrapper.py -> build\\lib.win-amd64-3.9\\sklearn\\externals\\joblib/externals/loky\n",
      "  copying sklearn\\externals\\joblib\\externals\\loky\\process_executor.py -> build\\lib.win-amd64-3.9\\sklearn\\externals\\joblib/externals/loky\n",
      "  copying sklearn\\externals\\joblib\\externals\\loky\\reusable_executor.py -> build\\lib.win-amd64-3.9\\sklearn\\externals\\joblib/externals/loky\n",
      "  copying sklearn\\externals\\joblib\\externals\\loky\\_base.py -> build\\lib.win-amd64-3.9\\sklearn\\externals\\joblib/externals/loky\n",
      "  copying sklearn\\externals\\joblib\\externals\\loky\\__init__.py -> build\\lib.win-amd64-3.9\\sklearn\\externals\\joblib/externals/loky\n",
      "  creating build\\lib.win-amd64-3.9\\sklearn\\externals\\joblib\\externals\\loky\\backend\n",
      "  copying sklearn\\externals\\joblib\\externals\\loky\\backend\\compat.py -> build\\lib.win-amd64-3.9\\sklearn\\externals\\joblib/externals/loky/backend\n",
      "  copying sklearn\\externals\\joblib\\externals\\loky\\backend\\compat_posix.py -> build\\lib.win-amd64-3.9\\sklearn\\externals\\joblib/externals/loky/backend\n",
      "  copying sklearn\\externals\\joblib\\externals\\loky\\backend\\compat_win32.py -> build\\lib.win-amd64-3.9\\sklearn\\externals\\joblib/externals/loky/backend\n",
      "  copying sklearn\\externals\\joblib\\externals\\loky\\backend\\context.py -> build\\lib.win-amd64-3.9\\sklearn\\externals\\joblib/externals/loky/backend\n",
      "  copying sklearn\\externals\\joblib\\externals\\loky\\backend\\fork_exec.py -> build\\lib.win-amd64-3.9\\sklearn\\externals\\joblib/externals/loky/backend\n",
      "  copying sklearn\\externals\\joblib\\externals\\loky\\backend\\managers.py -> build\\lib.win-amd64-3.9\\sklearn\\externals\\joblib/externals/loky/backend\n",
      "  copying sklearn\\externals\\joblib\\externals\\loky\\backend\\popen_loky_posix.py -> build\\lib.win-amd64-3.9\\sklearn\\externals\\joblib/externals/loky/backend\n",
      "  copying sklearn\\externals\\joblib\\externals\\loky\\backend\\popen_loky_win32.py -> build\\lib.win-amd64-3.9\\sklearn\\externals\\joblib/externals/loky/backend\n",
      "  copying sklearn\\externals\\joblib\\externals\\loky\\backend\\process.py -> build\\lib.win-amd64-3.9\\sklearn\\externals\\joblib/externals/loky/backend\n",
      "  copying sklearn\\externals\\joblib\\externals\\loky\\backend\\queues.py -> build\\lib.win-amd64-3.9\\sklearn\\externals\\joblib/externals/loky/backend\n",
      "  copying sklearn\\externals\\joblib\\externals\\loky\\backend\\reduction.py -> build\\lib.win-amd64-3.9\\sklearn\\externals\\joblib/externals/loky/backend\n",
      "  copying sklearn\\externals\\joblib\\externals\\loky\\backend\\semaphore_tracker.py -> build\\lib.win-amd64-3.9\\sklearn\\externals\\joblib/externals/loky/backend\n",
      "  copying sklearn\\externals\\joblib\\externals\\loky\\backend\\semlock.py -> build\\lib.win-amd64-3.9\\sklearn\\externals\\joblib/externals/loky/backend\n",
      "  copying sklearn\\externals\\joblib\\externals\\loky\\backend\\spawn.py -> build\\lib.win-amd64-3.9\\sklearn\\externals\\joblib/externals/loky/backend\n",
      "  copying sklearn\\externals\\joblib\\externals\\loky\\backend\\synchronize.py -> build\\lib.win-amd64-3.9\\sklearn\\externals\\joblib/externals/loky/backend\n",
      "  copying sklearn\\externals\\joblib\\externals\\loky\\backend\\utils.py -> build\\lib.win-amd64-3.9\\sklearn\\externals\\joblib/externals/loky/backend\n",
      "  copying sklearn\\externals\\joblib\\externals\\loky\\backend\\_posix_reduction.py -> build\\lib.win-amd64-3.9\\sklearn\\externals\\joblib/externals/loky/backend\n",
      "  copying sklearn\\externals\\joblib\\externals\\loky\\backend\\_posix_wait.py -> build\\lib.win-amd64-3.9\\sklearn\\externals\\joblib/externals/loky/backend\n",
      "  copying sklearn\\externals\\joblib\\externals\\loky\\backend\\_win_reduction.py -> build\\lib.win-amd64-3.9\\sklearn\\externals\\joblib/externals/loky/backend\n",
      "  copying sklearn\\externals\\joblib\\externals\\loky\\backend\\_win_wait.py -> build\\lib.win-amd64-3.9\\sklearn\\externals\\joblib/externals/loky/backend\n",
      "  copying sklearn\\externals\\joblib\\externals\\loky\\backend\\__init__.py -> build\\lib.win-amd64-3.9\\sklearn\\externals\\joblib/externals/loky/backend\n",
      "  creating build\\lib.win-amd64-3.9\\sklearn\\externals\\joblib\\externals\\cloudpickle\n",
      "  copying sklearn\\externals\\joblib\\externals\\cloudpickle\\cloudpickle.py -> build\\lib.win-amd64-3.9\\sklearn\\externals\\joblib/externals/cloudpickle\n",
      "  copying sklearn\\externals\\joblib\\externals\\cloudpickle\\__init__.py -> build\\lib.win-amd64-3.9\\sklearn\\externals\\joblib/externals/cloudpickle\n",
      "  creating build\\lib.win-amd64-3.9\\sklearn\\feature_extraction\n",
      "  copying sklearn\\feature_extraction\\dict_vectorizer.py -> build\\lib.win-amd64-3.9\\sklearn\\feature_extraction\n",
      "  copying sklearn\\feature_extraction\\hashing.py -> build\\lib.win-amd64-3.9\\sklearn\\feature_extraction\n",
      "  copying sklearn\\feature_extraction\\image.py -> build\\lib.win-amd64-3.9\\sklearn\\feature_extraction\n",
      "  copying sklearn\\feature_extraction\\setup.py -> build\\lib.win-amd64-3.9\\sklearn\\feature_extraction\n",
      "  copying sklearn\\feature_extraction\\stop_words.py -> build\\lib.win-amd64-3.9\\sklearn\\feature_extraction\n",
      "  copying sklearn\\feature_extraction\\text.py -> build\\lib.win-amd64-3.9\\sklearn\\feature_extraction\n",
      "  copying sklearn\\feature_extraction\\__init__.py -> build\\lib.win-amd64-3.9\\sklearn\\feature_extraction\n",
      "  creating build\\lib.win-amd64-3.9\\sklearn\\feature_extraction\\tests\n",
      "  copying sklearn\\feature_extraction\\tests\\test_dict_vectorizer.py -> build\\lib.win-amd64-3.9\\sklearn\\feature_extraction\\tests\n",
      "  copying sklearn\\feature_extraction\\tests\\test_feature_hasher.py -> build\\lib.win-amd64-3.9\\sklearn\\feature_extraction\\tests\n",
      "  copying sklearn\\feature_extraction\\tests\\test_image.py -> build\\lib.win-amd64-3.9\\sklearn\\feature_extraction\\tests\n",
      "  copying sklearn\\feature_extraction\\tests\\test_text.py -> build\\lib.win-amd64-3.9\\sklearn\\feature_extraction\\tests\n",
      "  copying sklearn\\feature_extraction\\tests\\__init__.py -> build\\lib.win-amd64-3.9\\sklearn\\feature_extraction\\tests\n",
      "  creating build\\lib.win-amd64-3.9\\sklearn\\manifold\n",
      "  copying sklearn\\manifold\\isomap.py -> build\\lib.win-amd64-3.9\\sklearn\\manifold\n",
      "  copying sklearn\\manifold\\locally_linear.py -> build\\lib.win-amd64-3.9\\sklearn\\manifold\n",
      "  copying sklearn\\manifold\\mds.py -> build\\lib.win-amd64-3.9\\sklearn\\manifold\n",
      "  copying sklearn\\manifold\\setup.py -> build\\lib.win-amd64-3.9\\sklearn\\manifold\n",
      "  copying sklearn\\manifold\\spectral_embedding_.py -> build\\lib.win-amd64-3.9\\sklearn\\manifold\n",
      "  copying sklearn\\manifold\\t_sne.py -> build\\lib.win-amd64-3.9\\sklearn\\manifold\n",
      "  copying sklearn\\manifold\\__init__.py -> build\\lib.win-amd64-3.9\\sklearn\\manifold\n",
      "  creating build\\lib.win-amd64-3.9\\sklearn\\manifold\\tests\n",
      "  copying sklearn\\manifold\\tests\\test_isomap.py -> build\\lib.win-amd64-3.9\\sklearn\\manifold\\tests\n",
      "  copying sklearn\\manifold\\tests\\test_locally_linear.py -> build\\lib.win-amd64-3.9\\sklearn\\manifold\\tests\n",
      "  copying sklearn\\manifold\\tests\\test_mds.py -> build\\lib.win-amd64-3.9\\sklearn\\manifold\\tests\n",
      "  copying sklearn\\manifold\\tests\\test_spectral_embedding.py -> build\\lib.win-amd64-3.9\\sklearn\\manifold\\tests\n",
      "  copying sklearn\\manifold\\tests\\test_t_sne.py -> build\\lib.win-amd64-3.9\\sklearn\\manifold\\tests\n",
      "  copying sklearn\\manifold\\tests\\__init__.py -> build\\lib.win-amd64-3.9\\sklearn\\manifold\\tests\n",
      "  creating build\\lib.win-amd64-3.9\\sklearn\\metrics\n",
      "  copying sklearn\\metrics\\base.py -> build\\lib.win-amd64-3.9\\sklearn\\metrics\n",
      "  copying sklearn\\metrics\\classification.py -> build\\lib.win-amd64-3.9\\sklearn\\metrics\n",
      "  copying sklearn\\metrics\\pairwise.py -> build\\lib.win-amd64-3.9\\sklearn\\metrics\n",
      "  copying sklearn\\metrics\\ranking.py -> build\\lib.win-amd64-3.9\\sklearn\\metrics\n",
      "  copying sklearn\\metrics\\regression.py -> build\\lib.win-amd64-3.9\\sklearn\\metrics\n",
      "  copying sklearn\\metrics\\scorer.py -> build\\lib.win-amd64-3.9\\sklearn\\metrics\n",
      "  copying sklearn\\metrics\\setup.py -> build\\lib.win-amd64-3.9\\sklearn\\metrics\n",
      "  copying sklearn\\metrics\\__init__.py -> build\\lib.win-amd64-3.9\\sklearn\\metrics\n",
      "  creating build\\lib.win-amd64-3.9\\sklearn\\metrics\\cluster\n",
      "  copying sklearn\\metrics\\cluster\\bicluster.py -> build\\lib.win-amd64-3.9\\sklearn\\metrics\\cluster\n",
      "  copying sklearn\\metrics\\cluster\\setup.py -> build\\lib.win-amd64-3.9\\sklearn\\metrics\\cluster\n",
      "  copying sklearn\\metrics\\cluster\\supervised.py -> build\\lib.win-amd64-3.9\\sklearn\\metrics\\cluster\n",
      "  copying sklearn\\metrics\\cluster\\unsupervised.py -> build\\lib.win-amd64-3.9\\sklearn\\metrics\\cluster\n",
      "  copying sklearn\\metrics\\cluster\\__init__.py -> build\\lib.win-amd64-3.9\\sklearn\\metrics\\cluster\n",
      "  creating build\\lib.win-amd64-3.9\\sklearn\\metrics\\cluster\\tests\n",
      "  copying sklearn\\metrics\\cluster\\tests\\test_bicluster.py -> build\\lib.win-amd64-3.9\\sklearn\\metrics\\cluster\\tests\n",
      "  copying sklearn\\metrics\\cluster\\tests\\test_common.py -> build\\lib.win-amd64-3.9\\sklearn\\metrics\\cluster\\tests\n",
      "  copying sklearn\\metrics\\cluster\\tests\\test_supervised.py -> build\\lib.win-amd64-3.9\\sklearn\\metrics\\cluster\\tests\n",
      "  copying sklearn\\metrics\\cluster\\tests\\test_unsupervised.py -> build\\lib.win-amd64-3.9\\sklearn\\metrics\\cluster\\tests\n",
      "  copying sklearn\\metrics\\cluster\\tests\\__init__.py -> build\\lib.win-amd64-3.9\\sklearn\\metrics\\cluster\\tests\n",
      "  creating build\\lib.win-amd64-3.9\\sklearn\\metrics\\tests\n",
      "  copying sklearn\\metrics\\tests\\test_classification.py -> build\\lib.win-amd64-3.9\\sklearn\\metrics\\tests\n",
      "  copying sklearn\\metrics\\tests\\test_common.py -> build\\lib.win-amd64-3.9\\sklearn\\metrics\\tests\n",
      "  copying sklearn\\metrics\\tests\\test_pairwise.py -> build\\lib.win-amd64-3.9\\sklearn\\metrics\\tests\n",
      "  copying sklearn\\metrics\\tests\\test_ranking.py -> build\\lib.win-amd64-3.9\\sklearn\\metrics\\tests\n",
      "  copying sklearn\\metrics\\tests\\test_regression.py -> build\\lib.win-amd64-3.9\\sklearn\\metrics\\tests\n",
      "  copying sklearn\\metrics\\tests\\test_score_objects.py -> build\\lib.win-amd64-3.9\\sklearn\\metrics\\tests\n",
      "  copying sklearn\\metrics\\tests\\__init__.py -> build\\lib.win-amd64-3.9\\sklearn\\metrics\\tests\n",
      "  creating build\\lib.win-amd64-3.9\\sklearn\\neighbors\n",
      "  copying sklearn\\neighbors\\approximate.py -> build\\lib.win-amd64-3.9\\sklearn\\neighbors\n",
      "  copying sklearn\\neighbors\\base.py -> build\\lib.win-amd64-3.9\\sklearn\\neighbors\n",
      "  copying sklearn\\neighbors\\classification.py -> build\\lib.win-amd64-3.9\\sklearn\\neighbors\n",
      "  copying sklearn\\neighbors\\graph.py -> build\\lib.win-amd64-3.9\\sklearn\\neighbors\n",
      "  copying sklearn\\neighbors\\kde.py -> build\\lib.win-amd64-3.9\\sklearn\\neighbors\n",
      "  copying sklearn\\neighbors\\lof.py -> build\\lib.win-amd64-3.9\\sklearn\\neighbors\n",
      "  copying sklearn\\neighbors\\nearest_centroid.py -> build\\lib.win-amd64-3.9\\sklearn\\neighbors\n",
      "  copying sklearn\\neighbors\\regression.py -> build\\lib.win-amd64-3.9\\sklearn\\neighbors\n",
      "  copying sklearn\\neighbors\\setup.py -> build\\lib.win-amd64-3.9\\sklearn\\neighbors\n",
      "  copying sklearn\\neighbors\\unsupervised.py -> build\\lib.win-amd64-3.9\\sklearn\\neighbors\n",
      "  copying sklearn\\neighbors\\__init__.py -> build\\lib.win-amd64-3.9\\sklearn\\neighbors\n",
      "  creating build\\lib.win-amd64-3.9\\sklearn\\neighbors\\tests\n",
      "  copying sklearn\\neighbors\\tests\\test_approximate.py -> build\\lib.win-amd64-3.9\\sklearn\\neighbors\\tests\n",
      "  copying sklearn\\neighbors\\tests\\test_ball_tree.py -> build\\lib.win-amd64-3.9\\sklearn\\neighbors\\tests\n",
      "  copying sklearn\\neighbors\\tests\\test_dist_metrics.py -> build\\lib.win-amd64-3.9\\sklearn\\neighbors\\tests\n",
      "  copying sklearn\\neighbors\\tests\\test_kde.py -> build\\lib.win-amd64-3.9\\sklearn\\neighbors\\tests\n",
      "  copying sklearn\\neighbors\\tests\\test_kd_tree.py -> build\\lib.win-amd64-3.9\\sklearn\\neighbors\\tests\n",
      "  copying sklearn\\neighbors\\tests\\test_lof.py -> build\\lib.win-amd64-3.9\\sklearn\\neighbors\\tests\n",
      "  copying sklearn\\neighbors\\tests\\test_nearest_centroid.py -> build\\lib.win-amd64-3.9\\sklearn\\neighbors\\tests\n",
      "  copying sklearn\\neighbors\\tests\\test_neighbors.py -> build\\lib.win-amd64-3.9\\sklearn\\neighbors\\tests\n",
      "  copying sklearn\\neighbors\\tests\\test_quad_tree.py -> build\\lib.win-amd64-3.9\\sklearn\\neighbors\\tests\n",
      "  copying sklearn\\neighbors\\tests\\__init__.py -> build\\lib.win-amd64-3.9\\sklearn\\neighbors\\tests\n",
      "  creating build\\lib.win-amd64-3.9\\sklearn\\tree\n",
      "  copying sklearn\\tree\\export.py -> build\\lib.win-amd64-3.9\\sklearn\\tree\n",
      "  copying sklearn\\tree\\setup.py -> build\\lib.win-amd64-3.9\\sklearn\\tree\n",
      "  copying sklearn\\tree\\tree.py -> build\\lib.win-amd64-3.9\\sklearn\\tree\n",
      "  copying sklearn\\tree\\__init__.py -> build\\lib.win-amd64-3.9\\sklearn\\tree\n",
      "  creating build\\lib.win-amd64-3.9\\sklearn\\tree\\tests\n",
      "  copying sklearn\\tree\\tests\\test_export.py -> build\\lib.win-amd64-3.9\\sklearn\\tree\\tests\n",
      "  copying sklearn\\tree\\tests\\test_tree.py -> build\\lib.win-amd64-3.9\\sklearn\\tree\\tests\n",
      "  copying sklearn\\tree\\tests\\__init__.py -> build\\lib.win-amd64-3.9\\sklearn\\tree\\tests\n",
      "  creating build\\lib.win-amd64-3.9\\sklearn\\svm\n",
      "  copying sklearn\\svm\\base.py -> build\\lib.win-amd64-3.9\\sklearn\\svm\n",
      "  copying sklearn\\svm\\bounds.py -> build\\lib.win-amd64-3.9\\sklearn\\svm\n",
      "  copying sklearn\\svm\\classes.py -> build\\lib.win-amd64-3.9\\sklearn\\svm\n",
      "  copying sklearn\\svm\\setup.py -> build\\lib.win-amd64-3.9\\sklearn\\svm\n",
      "  copying sklearn\\svm\\__init__.py -> build\\lib.win-amd64-3.9\\sklearn\\svm\n",
      "  creating build\\lib.win-amd64-3.9\\sklearn\\svm\\tests\n",
      "  copying sklearn\\svm\\tests\\test_bounds.py -> build\\lib.win-amd64-3.9\\sklearn\\svm\\tests\n",
      "  copying sklearn\\svm\\tests\\test_sparse.py -> build\\lib.win-amd64-3.9\\sklearn\\svm\\tests\n",
      "  copying sklearn\\svm\\tests\\test_svm.py -> build\\lib.win-amd64-3.9\\sklearn\\svm\\tests\n",
      "  copying sklearn\\svm\\tests\\__init__.py -> build\\lib.win-amd64-3.9\\sklearn\\svm\\tests\n",
      "  creating build\\lib.win-amd64-3.9\\sklearn\\linear_model\n",
      "  copying sklearn\\linear_model\\base.py -> build\\lib.win-amd64-3.9\\sklearn\\linear_model\n",
      "  copying sklearn\\linear_model\\bayes.py -> build\\lib.win-amd64-3.9\\sklearn\\linear_model\n",
      "  copying sklearn\\linear_model\\coordinate_descent.py -> build\\lib.win-amd64-3.9\\sklearn\\linear_model\n",
      "  copying sklearn\\linear_model\\huber.py -> build\\lib.win-amd64-3.9\\sklearn\\linear_model\n",
      "  copying sklearn\\linear_model\\least_angle.py -> build\\lib.win-amd64-3.9\\sklearn\\linear_model\n",
      "  copying sklearn\\linear_model\\logistic.py -> build\\lib.win-amd64-3.9\\sklearn\\linear_model\n",
      "  copying sklearn\\linear_model\\omp.py -> build\\lib.win-amd64-3.9\\sklearn\\linear_model\n",
      "  copying sklearn\\linear_model\\passive_aggressive.py -> build\\lib.win-amd64-3.9\\sklearn\\linear_model\n",
      "  copying sklearn\\linear_model\\perceptron.py -> build\\lib.win-amd64-3.9\\sklearn\\linear_model\n",
      "  copying sklearn\\linear_model\\randomized_l1.py -> build\\lib.win-amd64-3.9\\sklearn\\linear_model\n",
      "  copying sklearn\\linear_model\\ransac.py -> build\\lib.win-amd64-3.9\\sklearn\\linear_model\n",
      "  copying sklearn\\linear_model\\ridge.py -> build\\lib.win-amd64-3.9\\sklearn\\linear_model\n",
      "  copying sklearn\\linear_model\\sag.py -> build\\lib.win-amd64-3.9\\sklearn\\linear_model\n",
      "  copying sklearn\\linear_model\\setup.py -> build\\lib.win-amd64-3.9\\sklearn\\linear_model\n",
      "  copying sklearn\\linear_model\\stochastic_gradient.py -> build\\lib.win-amd64-3.9\\sklearn\\linear_model\n",
      "  copying sklearn\\linear_model\\theil_sen.py -> build\\lib.win-amd64-3.9\\sklearn\\linear_model\n",
      "  copying sklearn\\linear_model\\__init__.py -> build\\lib.win-amd64-3.9\\sklearn\\linear_model\n",
      "  creating build\\lib.win-amd64-3.9\\sklearn\\linear_model\\tests\n",
      "  copying sklearn\\linear_model\\tests\\test_base.py -> build\\lib.win-amd64-3.9\\sklearn\\linear_model\\tests\n",
      "  copying sklearn\\linear_model\\tests\\test_bayes.py -> build\\lib.win-amd64-3.9\\sklearn\\linear_model\\tests\n",
      "  copying sklearn\\linear_model\\tests\\test_coordinate_descent.py -> build\\lib.win-amd64-3.9\\sklearn\\linear_model\\tests\n",
      "  copying sklearn\\linear_model\\tests\\test_huber.py -> build\\lib.win-amd64-3.9\\sklearn\\linear_model\\tests\n",
      "  copying sklearn\\linear_model\\tests\\test_least_angle.py -> build\\lib.win-amd64-3.9\\sklearn\\linear_model\\tests\n",
      "  copying sklearn\\linear_model\\tests\\test_logistic.py -> build\\lib.win-amd64-3.9\\sklearn\\linear_model\\tests\n",
      "  copying sklearn\\linear_model\\tests\\test_omp.py -> build\\lib.win-amd64-3.9\\sklearn\\linear_model\\tests\n",
      "  copying sklearn\\linear_model\\tests\\test_passive_aggressive.py -> build\\lib.win-amd64-3.9\\sklearn\\linear_model\\tests\n",
      "  copying sklearn\\linear_model\\tests\\test_perceptron.py -> build\\lib.win-amd64-3.9\\sklearn\\linear_model\\tests\n",
      "  copying sklearn\\linear_model\\tests\\test_randomized_l1.py -> build\\lib.win-amd64-3.9\\sklearn\\linear_model\\tests\n",
      "  copying sklearn\\linear_model\\tests\\test_ransac.py -> build\\lib.win-amd64-3.9\\sklearn\\linear_model\\tests\n",
      "  copying sklearn\\linear_model\\tests\\test_ridge.py -> build\\lib.win-amd64-3.9\\sklearn\\linear_model\\tests\n",
      "  copying sklearn\\linear_model\\tests\\test_sag.py -> build\\lib.win-amd64-3.9\\sklearn\\linear_model\\tests\n",
      "  copying sklearn\\linear_model\\tests\\test_sgd.py -> build\\lib.win-amd64-3.9\\sklearn\\linear_model\\tests\n",
      "  copying sklearn\\linear_model\\tests\\test_sparse_coordinate_descent.py -> build\\lib.win-amd64-3.9\\sklearn\\linear_model\\tests\n",
      "  copying sklearn\\linear_model\\tests\\test_theil_sen.py -> build\\lib.win-amd64-3.9\\sklearn\\linear_model\\tests\n",
      "  copying sklearn\\linear_model\\tests\\__init__.py -> build\\lib.win-amd64-3.9\\sklearn\\linear_model\\tests\n",
      "  creating build\\lib.win-amd64-3.9\\sklearn\\utils\n",
      "  copying sklearn\\utils\\arpack.py -> build\\lib.win-amd64-3.9\\sklearn\\utils\n",
      "  copying sklearn\\utils\\bench.py -> build\\lib.win-amd64-3.9\\sklearn\\utils\n",
      "  copying sklearn\\utils\\class_weight.py -> build\\lib.win-amd64-3.9\\sklearn\\utils\n",
      "  copying sklearn\\utils\\deprecation.py -> build\\lib.win-amd64-3.9\\sklearn\\utils\n",
      "  copying sklearn\\utils\\estimator_checks.py -> build\\lib.win-amd64-3.9\\sklearn\\utils\n",
      "  copying sklearn\\utils\\extmath.py -> build\\lib.win-amd64-3.9\\sklearn\\utils\n",
      "  copying sklearn\\utils\\fixes.py -> build\\lib.win-amd64-3.9\\sklearn\\utils\n",
      "  copying sklearn\\utils\\graph.py -> build\\lib.win-amd64-3.9\\sklearn\\utils\n",
      "  copying sklearn\\utils\\linear_assignment_.py -> build\\lib.win-amd64-3.9\\sklearn\\utils\n",
      "  copying sklearn\\utils\\metaestimators.py -> build\\lib.win-amd64-3.9\\sklearn\\utils\n",
      "  copying sklearn\\utils\\mocking.py -> build\\lib.win-amd64-3.9\\sklearn\\utils\n",
      "  copying sklearn\\utils\\multiclass.py -> build\\lib.win-amd64-3.9\\sklearn\\utils\n",
      "  copying sklearn\\utils\\optimize.py -> build\\lib.win-amd64-3.9\\sklearn\\utils\n",
      "  copying sklearn\\utils\\random.py -> build\\lib.win-amd64-3.9\\sklearn\\utils\n",
      "  copying sklearn\\utils\\setup.py -> build\\lib.win-amd64-3.9\\sklearn\\utils\n",
      "  copying sklearn\\utils\\sparsefuncs.py -> build\\lib.win-amd64-3.9\\sklearn\\utils\n",
      "  copying sklearn\\utils\\stats.py -> build\\lib.win-amd64-3.9\\sklearn\\utils\n",
      "  copying sklearn\\utils\\testing.py -> build\\lib.win-amd64-3.9\\sklearn\\utils\n",
      "  copying sklearn\\utils\\validation.py -> build\\lib.win-amd64-3.9\\sklearn\\utils\n",
      "  copying sklearn\\utils\\_joblib.py -> build\\lib.win-amd64-3.9\\sklearn\\utils\n",
      "  copying sklearn\\utils\\_scipy_sparse_lsqr_backport.py -> build\\lib.win-amd64-3.9\\sklearn\\utils\n",
      "  copying sklearn\\utils\\_show_versions.py -> build\\lib.win-amd64-3.9\\sklearn\\utils\n",
      "  copying sklearn\\utils\\_unittest_backport.py -> build\\lib.win-amd64-3.9\\sklearn\\utils\n",
      "  copying sklearn\\utils\\__init__.py -> build\\lib.win-amd64-3.9\\sklearn\\utils\n",
      "  creating build\\lib.win-amd64-3.9\\sklearn\\utils\\sparsetools\n",
      "  copying sklearn\\utils\\sparsetools\\setup.py -> build\\lib.win-amd64-3.9\\sklearn\\utils\\sparsetools\n",
      "  copying sklearn\\utils\\sparsetools\\__init__.py -> build\\lib.win-amd64-3.9\\sklearn\\utils\\sparsetools\n",
      "  creating build\\lib.win-amd64-3.9\\sklearn\\utils\\sparsetools\\tests\n",
      "  copying sklearn\\utils\\sparsetools\\tests\\__init__.py -> build\\lib.win-amd64-3.9\\sklearn\\utils\\sparsetools\\tests\n",
      "  creating build\\lib.win-amd64-3.9\\sklearn\\utils\\tests\n",
      "  copying sklearn\\utils\\tests\\test_bench.py -> build\\lib.win-amd64-3.9\\sklearn\\utils\\tests\n",
      "  copying sklearn\\utils\\tests\\test_class_weight.py -> build\\lib.win-amd64-3.9\\sklearn\\utils\\tests\n",
      "  copying sklearn\\utils\\tests\\test_deprecation.py -> build\\lib.win-amd64-3.9\\sklearn\\utils\\tests\n",
      "  copying sklearn\\utils\\tests\\test_estimator_checks.py -> build\\lib.win-amd64-3.9\\sklearn\\utils\\tests\n",
      "  copying sklearn\\utils\\tests\\test_extmath.py -> build\\lib.win-amd64-3.9\\sklearn\\utils\\tests\n",
      "  copying sklearn\\utils\\tests\\test_fast_dict.py -> build\\lib.win-amd64-3.9\\sklearn\\utils\\tests\n",
      "  copying sklearn\\utils\\tests\\test_fixes.py -> build\\lib.win-amd64-3.9\\sklearn\\utils\\tests\n",
      "  copying sklearn\\utils\\tests\\test_graph.py -> build\\lib.win-amd64-3.9\\sklearn\\utils\\tests\n",
      "  copying sklearn\\utils\\tests\\test_linear_assignment.py -> build\\lib.win-amd64-3.9\\sklearn\\utils\\tests\n",
      "  copying sklearn\\utils\\tests\\test_metaestimators.py -> build\\lib.win-amd64-3.9\\sklearn\\utils\\tests\n",
      "  copying sklearn\\utils\\tests\\test_multiclass.py -> build\\lib.win-amd64-3.9\\sklearn\\utils\\tests\n",
      "  copying sklearn\\utils\\tests\\test_murmurhash.py -> build\\lib.win-amd64-3.9\\sklearn\\utils\\tests\n",
      "  copying sklearn\\utils\\tests\\test_optimize.py -> build\\lib.win-amd64-3.9\\sklearn\\utils\\tests\n",
      "  copying sklearn\\utils\\tests\\test_random.py -> build\\lib.win-amd64-3.9\\sklearn\\utils\\tests\n",
      "  copying sklearn\\utils\\tests\\test_seq_dataset.py -> build\\lib.win-amd64-3.9\\sklearn\\utils\\tests\n",
      "  copying sklearn\\utils\\tests\\test_shortest_path.py -> build\\lib.win-amd64-3.9\\sklearn\\utils\\tests\n",
      "  copying sklearn\\utils\\tests\\test_show_versions.py -> build\\lib.win-amd64-3.9\\sklearn\\utils\\tests\n",
      "  copying sklearn\\utils\\tests\\test_sparsefuncs.py -> build\\lib.win-amd64-3.9\\sklearn\\utils\\tests\n",
      "  copying sklearn\\utils\\tests\\test_stats.py -> build\\lib.win-amd64-3.9\\sklearn\\utils\\tests\n",
      "  copying sklearn\\utils\\tests\\test_testing.py -> build\\lib.win-amd64-3.9\\sklearn\\utils\\tests\n",
      "  copying sklearn\\utils\\tests\\test_utils.py -> build\\lib.win-amd64-3.9\\sklearn\\utils\\tests\n",
      "  copying sklearn\\utils\\tests\\test_validation.py -> build\\lib.win-amd64-3.9\\sklearn\\utils\\tests\n",
      "  copying sklearn\\utils\\tests\\__init__.py -> build\\lib.win-amd64-3.9\\sklearn\\utils\\tests\n",
      "  creating build\\lib.win-amd64-3.9\\sklearn\\tests\n",
      "  copying sklearn\\tests\\test_base.py -> build\\lib.win-amd64-3.9\\sklearn\\tests\n",
      "  copying sklearn\\tests\\test_calibration.py -> build\\lib.win-amd64-3.9\\sklearn\\tests\n",
      "  copying sklearn\\tests\\test_check_build.py -> build\\lib.win-amd64-3.9\\sklearn\\tests\n",
      "  copying sklearn\\tests\\test_common.py -> build\\lib.win-amd64-3.9\\sklearn\\tests\n",
      "  copying sklearn\\tests\\test_config.py -> build\\lib.win-amd64-3.9\\sklearn\\tests\n",
      "  copying sklearn\\tests\\test_discriminant_analysis.py -> build\\lib.win-amd64-3.9\\sklearn\\tests\n",
      "  copying sklearn\\tests\\test_docstring_parameters.py -> build\\lib.win-amd64-3.9\\sklearn\\tests\n",
      "  copying sklearn\\tests\\test_dummy.py -> build\\lib.win-amd64-3.9\\sklearn\\tests\n",
      "  copying sklearn\\tests\\test_impute.py -> build\\lib.win-amd64-3.9\\sklearn\\tests\n",
      "  copying sklearn\\tests\\test_init.py -> build\\lib.win-amd64-3.9\\sklearn\\tests\n",
      "  copying sklearn\\tests\\test_isotonic.py -> build\\lib.win-amd64-3.9\\sklearn\\tests\n",
      "  copying sklearn\\tests\\test_kernel_approximation.py -> build\\lib.win-amd64-3.9\\sklearn\\tests\n",
      "  copying sklearn\\tests\\test_kernel_ridge.py -> build\\lib.win-amd64-3.9\\sklearn\\tests\n",
      "  copying sklearn\\tests\\test_metaestimators.py -> build\\lib.win-amd64-3.9\\sklearn\\tests\n",
      "  copying sklearn\\tests\\test_multiclass.py -> build\\lib.win-amd64-3.9\\sklearn\\tests\n",
      "  copying sklearn\\tests\\test_multioutput.py -> build\\lib.win-amd64-3.9\\sklearn\\tests\n",
      "  copying sklearn\\tests\\test_naive_bayes.py -> build\\lib.win-amd64-3.9\\sklearn\\tests\n",
      "  copying sklearn\\tests\\test_pipeline.py -> build\\lib.win-amd64-3.9\\sklearn\\tests\n",
      "  copying sklearn\\tests\\test_random_projection.py -> build\\lib.win-amd64-3.9\\sklearn\\tests\n",
      "  copying sklearn\\tests\\test_site_joblib.py -> build\\lib.win-amd64-3.9\\sklearn\\tests\n",
      "  copying sklearn\\tests\\__init__.py -> build\\lib.win-amd64-3.9\\sklearn\\tests\n",
      "  running build_clib\n",
      "  No module named 'numpy.distutils._msvccompiler' in numpy.distutils; trying from distutils\n",
      "  customize MSVCCompiler\n",
      "  Missing compiler_cxx fix for MSVCCompiler\n",
      "  customize MSVCCompiler using build_clib\n",
      "  CCompilerOpt.cc_test_flags[1013] : testing flags (/O2)\n",
      "  error: Microsoft Visual C++ 14.0 or greater is required. Get it with \"Microsoft C++ Build Tools\": https://visualstudio.microsoft.com/visual-cpp-build-tools/\n",
      "  CCompilerOpt.cache_flush[809] : write cache to path -> C:\\Users\\venag\\AppData\\Local\\Temp\\pip-install-686hxjp8\\scikit-learn_db0e08fe44c24150a4802fe5222a3c25\\build\\temp.win-amd64-3.9\\ccompiler_opt_cache_clib.py\n",
      "  [end of output]\n",
      "  \n",
      "  note: This error originates from a subprocess, and is likely not a problem with pip.\n",
      "  ERROR: Failed building wheel for scikit-learn\n",
      "  error: subprocess-exited-with-error\n",
      "  \n",
      "  Running setup.py install for scikit-learn did not run successfully.\n",
      "  exit code: 1\n",
      "  \n",
      "  [680 lines of output]\n",
      "  Partial import of sklearn during the build process.\n",
      "  blas_opt_info:\n",
      "  blas_mkl_info:\n",
      "  No module named 'numpy.distutils._msvccompiler' in numpy.distutils; trying from distutils\n",
      "  customize MSVCCompiler\n",
      "    libraries mkl_rt not found in ['C:/Users/venag/anaconda3/envs/tf\\\\Library\\\\lib']\n",
      "    NOT AVAILABLE\n",
      "  \n",
      "  blis_info:\n",
      "    libraries blis not found in ['C:\\\\Users\\\\venag\\\\anaconda3\\\\envs\\\\tf\\\\lib', 'C:\\\\', 'C:\\\\Users\\\\venag\\\\anaconda3\\\\envs\\\\tf\\\\libs', 'C:\\\\Users\\\\venag\\\\anaconda3\\\\Library\\\\lib']\n",
      "    NOT AVAILABLE\n",
      "  \n",
      "  openblas_info:\n",
      "    libraries openblas not found in ['C:\\\\Users\\\\venag\\\\anaconda3\\\\envs\\\\tf\\\\lib', 'C:\\\\', 'C:\\\\Users\\\\venag\\\\anaconda3\\\\envs\\\\tf\\\\libs', 'C:\\\\Users\\\\venag\\\\anaconda3\\\\Library\\\\lib']\n",
      "  get_default_fcompiler: matching types: '['gnu', 'intelv', 'absoft', 'compaqv', 'intelev', 'gnu95', 'g95', 'intelvem', 'intelem', 'flang']'\n",
      "  customize GnuFCompiler\n",
      "  Could not locate executable g77\n",
      "  Could not locate executable f77\n",
      "  customize IntelVisualFCompiler\n",
      "  Could not locate executable ifort\n",
      "  Could not locate executable ifl\n",
      "  customize AbsoftFCompiler\n",
      "  Could not locate executable f90\n",
      "  customize CompaqVisualFCompiler\n",
      "  Could not locate executable DF\n",
      "  customize IntelItaniumVisualFCompiler\n",
      "  Could not locate executable efl\n",
      "  customize Gnu95FCompiler\n",
      "  Could not locate executable gfortran\n",
      "  Could not locate executable f95\n",
      "  customize G95FCompiler\n",
      "  Could not locate executable g95\n",
      "  customize IntelEM64VisualFCompiler\n",
      "  customize IntelEM64TFCompiler\n",
      "  Could not locate executable efort\n",
      "  Could not locate executable efc\n",
      "  customize PGroupFlangCompiler\n",
      "  Could not locate executable flang\n",
      "  don't know how to compile Fortran code on platform 'nt'\n",
      "    NOT AVAILABLE\n",
      "  \n",
      "  accelerate_info:\n",
      "    NOT AVAILABLE\n",
      "  \n",
      "  atlas_3_10_blas_threads_info:\n",
      "  Setting PTATLAS=ATLAS\n",
      "    libraries tatlas not found in ['C:\\\\Users\\\\venag\\\\anaconda3\\\\envs\\\\tf\\\\lib', 'C:\\\\', 'C:\\\\Users\\\\venag\\\\anaconda3\\\\envs\\\\tf\\\\libs', 'C:\\\\Users\\\\venag\\\\anaconda3\\\\Library\\\\lib']\n",
      "    NOT AVAILABLE\n",
      "  \n",
      "  atlas_3_10_blas_info:\n",
      "    libraries satlas not found in ['C:\\\\Users\\\\venag\\\\anaconda3\\\\envs\\\\tf\\\\lib', 'C:\\\\', 'C:\\\\Users\\\\venag\\\\anaconda3\\\\envs\\\\tf\\\\libs', 'C:\\\\Users\\\\venag\\\\anaconda3\\\\Library\\\\lib']\n",
      "    NOT AVAILABLE\n",
      "  \n",
      "  atlas_blas_threads_info:\n",
      "  Setting PTATLAS=ATLAS\n",
      "    libraries ptf77blas,ptcblas,atlas not found in ['C:\\\\Users\\\\venag\\\\anaconda3\\\\envs\\\\tf\\\\lib', 'C:\\\\', 'C:\\\\Users\\\\venag\\\\anaconda3\\\\envs\\\\tf\\\\libs', 'C:\\\\Users\\\\venag\\\\anaconda3\\\\Library\\\\lib']\n",
      "    NOT AVAILABLE\n",
      "  \n",
      "  atlas_blas_info:\n",
      "    libraries f77blas,cblas,atlas not found in ['C:\\\\Users\\\\venag\\\\anaconda3\\\\envs\\\\tf\\\\lib', 'C:\\\\', 'C:\\\\Users\\\\venag\\\\anaconda3\\\\envs\\\\tf\\\\libs', 'C:\\\\Users\\\\venag\\\\anaconda3\\\\Library\\\\lib']\n",
      "    NOT AVAILABLE\n",
      "  \n",
      "  C:\\Users\\venag\\anaconda3\\envs\\tf\\lib\\site-packages\\numpy\\distutils\\system_info.py:2026: UserWarning:\n",
      "      Optimized (vendor) Blas libraries are not found.\n",
      "      Falls back to netlib Blas library which has worse performance.\n",
      "      A better performance should be easily gained by switching\n",
      "      Blas library.\n",
      "    if self._calc_info(blas):\n",
      "  blas_info:\n",
      "    libraries blas not found in ['C:\\\\Users\\\\venag\\\\anaconda3\\\\envs\\\\tf\\\\lib', 'C:\\\\', 'C:\\\\Users\\\\venag\\\\anaconda3\\\\envs\\\\tf\\\\libs', 'C:\\\\Users\\\\venag\\\\anaconda3\\\\Library\\\\lib']\n",
      "    NOT AVAILABLE\n",
      "  \n",
      "  C:\\Users\\venag\\anaconda3\\envs\\tf\\lib\\site-packages\\numpy\\distutils\\system_info.py:2026: UserWarning:\n",
      "      Blas (http://www.netlib.org/blas/) libraries not found.\n",
      "      Directories to search for the libraries can be specified in the\n",
      "      numpy/distutils/site.cfg file (section [blas]) or by setting\n",
      "      the BLAS environment variable.\n",
      "    if self._calc_info(blas):\n",
      "  blas_src_info:\n",
      "    NOT AVAILABLE\n",
      "  \n",
      "  C:\\Users\\venag\\anaconda3\\envs\\tf\\lib\\site-packages\\numpy\\distutils\\system_info.py:2026: UserWarning:\n",
      "      Blas (http://www.netlib.org/blas/) sources not found.\n",
      "      Directories to search for the sources can be specified in the\n",
      "      numpy/distutils/site.cfg file (section [blas_src]) or by setting\n",
      "      the BLAS_SRC environment variable.\n",
      "    if self._calc_info(blas):\n",
      "    NOT AVAILABLE\n",
      "  \n",
      "  sklearn\\setup.py:73: UserWarning:\n",
      "      Blas (http://www.netlib.org/blas/) libraries not found.\n",
      "      Directories to search for the libraries can be specified in the\n",
      "      numpy/distutils/site.cfg file (section [blas]) or by setting\n",
      "      the BLAS environment variable.\n",
      "    warnings.warn(BlasNotFoundError.__doc__)\n",
      "  running install\n",
      "  C:\\Users\\venag\\anaconda3\\envs\\tf\\lib\\site-packages\\setuptools\\command\\install.py:34: SetuptoolsDeprecationWarning: setup.py install is deprecated. Use build and pip and other standards-based tools.\n",
      "    warnings.warn(\n",
      "  running build\n",
      "  running config_cc\n",
      "  unifing config_cc, config, build_clib, build_ext, build commands --compiler options\n",
      "  running config_fc\n",
      "  unifing config_fc, config, build_clib, build_ext, build commands --fcompiler options\n",
      "  running build_src\n",
      "  build_src\n",
      "  building library \"libsvm-skl\" sources\n",
      "  building library \"cblas\" sources\n",
      "  building extension \"sklearn.__check_build._check_build\" sources\n",
      "  building extension \"sklearn.cluster._dbscan_inner\" sources\n",
      "  building extension \"sklearn.cluster._hierarchical\" sources\n",
      "  building extension \"sklearn.cluster._k_means_elkan\" sources\n",
      "  building extension \"sklearn.cluster._k_means\" sources\n",
      "  building extension \"sklearn.datasets._svmlight_format\" sources\n",
      "  building extension \"sklearn.decomposition._online_lda\" sources\n",
      "  building extension \"sklearn.decomposition.cdnmf_fast\" sources\n",
      "  building extension \"sklearn.ensemble._gradient_boosting\" sources\n",
      "  building extension \"sklearn.feature_extraction._hashing\" sources\n",
      "  building extension \"sklearn.manifold._utils\" sources\n",
      "  building extension \"sklearn.manifold._barnes_hut_tsne\" sources\n",
      "  building extension \"sklearn.metrics.cluster.expected_mutual_info_fast\" sources\n",
      "  building extension \"sklearn.metrics.pairwise_fast\" sources\n",
      "  building extension \"sklearn.neighbors.ball_tree\" sources\n",
      "  building extension \"sklearn.neighbors.kd_tree\" sources\n",
      "  building extension \"sklearn.neighbors.dist_metrics\" sources\n",
      "  building extension \"sklearn.neighbors.typedefs\" sources\n",
      "  building extension \"sklearn.neighbors.quad_tree\" sources\n",
      "  building extension \"sklearn.tree._tree\" sources\n",
      "  building extension \"sklearn.tree._splitter\" sources\n",
      "  building extension \"sklearn.tree._criterion\" sources\n",
      "  building extension \"sklearn.tree._utils\" sources\n",
      "  building extension \"sklearn.svm.libsvm\" sources\n",
      "  building extension \"sklearn.svm.liblinear\" sources\n",
      "  building extension \"sklearn.svm.libsvm_sparse\" sources\n",
      "  building extension \"sklearn._isotonic\" sources\n",
      "  building extension \"sklearn.linear_model.cd_fast\" sources\n",
      "  building extension \"sklearn.linear_model.sgd_fast\" sources\n",
      "  building extension \"sklearn.linear_model.sag_fast\" sources\n",
      "  building extension \"sklearn.utils.sparsefuncs_fast\" sources\n",
      "  building extension \"sklearn.utils.arrayfuncs\" sources\n",
      "  building extension \"sklearn.utils.murmurhash\" sources\n",
      "  building extension \"sklearn.utils.lgamma\" sources\n",
      "  building extension \"sklearn.utils.graph_shortest_path\" sources\n",
      "  building extension \"sklearn.utils.fast_dict\" sources\n",
      "  building extension \"sklearn.utils.seq_dataset\" sources\n",
      "  building extension \"sklearn.utils.weight_vector\" sources\n",
      "  building extension \"sklearn.utils._random\" sources\n",
      "  building extension \"sklearn.utils._logistic_sigmoid\" sources\n",
      "  building data_files sources\n",
      "  build_src: building npy-pkg config files\n",
      "  running build_py\n",
      "  creating build\n",
      "  creating build\\lib.win-amd64-3.9\n",
      "  creating build\\lib.win-amd64-3.9\\sklearn\n",
      "  copying sklearn\\base.py -> build\\lib.win-amd64-3.9\\sklearn\n",
      "  copying sklearn\\calibration.py -> build\\lib.win-amd64-3.9\\sklearn\n",
      "  copying sklearn\\discriminant_analysis.py -> build\\lib.win-amd64-3.9\\sklearn\n",
      "  copying sklearn\\dummy.py -> build\\lib.win-amd64-3.9\\sklearn\n",
      "  copying sklearn\\exceptions.py -> build\\lib.win-amd64-3.9\\sklearn\n",
      "  copying sklearn\\impute.py -> build\\lib.win-amd64-3.9\\sklearn\n",
      "  copying sklearn\\isotonic.py -> build\\lib.win-amd64-3.9\\sklearn\n",
      "  copying sklearn\\kernel_approximation.py -> build\\lib.win-amd64-3.9\\sklearn\n",
      "  copying sklearn\\kernel_ridge.py -> build\\lib.win-amd64-3.9\\sklearn\n",
      "  copying sklearn\\multiclass.py -> build\\lib.win-amd64-3.9\\sklearn\n",
      "  copying sklearn\\multioutput.py -> build\\lib.win-amd64-3.9\\sklearn\n",
      "  copying sklearn\\naive_bayes.py -> build\\lib.win-amd64-3.9\\sklearn\n",
      "  copying sklearn\\pipeline.py -> build\\lib.win-amd64-3.9\\sklearn\n",
      "  copying sklearn\\random_projection.py -> build\\lib.win-amd64-3.9\\sklearn\n",
      "  copying sklearn\\setup.py -> build\\lib.win-amd64-3.9\\sklearn\n",
      "  copying sklearn\\_config.py -> build\\lib.win-amd64-3.9\\sklearn\n",
      "  copying sklearn\\__init__.py -> build\\lib.win-amd64-3.9\\sklearn\n",
      "  creating build\\lib.win-amd64-3.9\\sklearn\\__check_build\n",
      "  copying sklearn\\__check_build\\setup.py -> build\\lib.win-amd64-3.9\\sklearn\\__check_build\n",
      "  copying sklearn\\__check_build\\__init__.py -> build\\lib.win-amd64-3.9\\sklearn\\__check_build\n",
      "  creating build\\lib.win-amd64-3.9\\sklearn\\_build_utils\n",
      "  copying sklearn\\_build_utils\\__init__.py -> build\\lib.win-amd64-3.9\\sklearn\\_build_utils\n",
      "  creating build\\lib.win-amd64-3.9\\sklearn\\compose\n",
      "  copying sklearn\\compose\\_column_transformer.py -> build\\lib.win-amd64-3.9\\sklearn\\compose\n",
      "  copying sklearn\\compose\\_target.py -> build\\lib.win-amd64-3.9\\sklearn\\compose\n",
      "  copying sklearn\\compose\\__init__.py -> build\\lib.win-amd64-3.9\\sklearn\\compose\n",
      "  creating build\\lib.win-amd64-3.9\\sklearn\\compose\\tests\n",
      "  copying sklearn\\compose\\tests\\test_column_transformer.py -> build\\lib.win-amd64-3.9\\sklearn\\compose/tests\n",
      "  copying sklearn\\compose\\tests\\test_target.py -> build\\lib.win-amd64-3.9\\sklearn\\compose/tests\n",
      "  copying sklearn\\compose\\tests\\__init__.py -> build\\lib.win-amd64-3.9\\sklearn\\compose/tests\n",
      "  creating build\\lib.win-amd64-3.9\\sklearn\\covariance\n",
      "  copying sklearn\\covariance\\elliptic_envelope.py -> build\\lib.win-amd64-3.9\\sklearn\\covariance\n",
      "  copying sklearn\\covariance\\empirical_covariance_.py -> build\\lib.win-amd64-3.9\\sklearn\\covariance\n",
      "  copying sklearn\\covariance\\graph_lasso_.py -> build\\lib.win-amd64-3.9\\sklearn\\covariance\n",
      "  copying sklearn\\covariance\\robust_covariance.py -> build\\lib.win-amd64-3.9\\sklearn\\covariance\n",
      "  copying sklearn\\covariance\\shrunk_covariance_.py -> build\\lib.win-amd64-3.9\\sklearn\\covariance\n",
      "  copying sklearn\\covariance\\__init__.py -> build\\lib.win-amd64-3.9\\sklearn\\covariance\n",
      "  creating build\\lib.win-amd64-3.9\\sklearn\\covariance\\tests\n",
      "  copying sklearn\\covariance\\tests\\test_covariance.py -> build\\lib.win-amd64-3.9\\sklearn\\covariance/tests\n",
      "  copying sklearn\\covariance\\tests\\test_elliptic_envelope.py -> build\\lib.win-amd64-3.9\\sklearn\\covariance/tests\n",
      "  copying sklearn\\covariance\\tests\\test_graphical_lasso.py -> build\\lib.win-amd64-3.9\\sklearn\\covariance/tests\n",
      "  copying sklearn\\covariance\\tests\\test_graph_lasso.py -> build\\lib.win-amd64-3.9\\sklearn\\covariance/tests\n",
      "  copying sklearn\\covariance\\tests\\test_robust_covariance.py -> build\\lib.win-amd64-3.9\\sklearn\\covariance/tests\n",
      "  copying sklearn\\covariance\\tests\\__init__.py -> build\\lib.win-amd64-3.9\\sklearn\\covariance/tests\n",
      "  creating build\\lib.win-amd64-3.9\\sklearn\\cross_decomposition\n",
      "  copying sklearn\\cross_decomposition\\cca_.py -> build\\lib.win-amd64-3.9\\sklearn\\cross_decomposition\n",
      "  copying sklearn\\cross_decomposition\\pls_.py -> build\\lib.win-amd64-3.9\\sklearn\\cross_decomposition\n",
      "  copying sklearn\\cross_decomposition\\__init__.py -> build\\lib.win-amd64-3.9\\sklearn\\cross_decomposition\n",
      "  creating build\\lib.win-amd64-3.9\\sklearn\\cross_decomposition\\tests\n",
      "  copying sklearn\\cross_decomposition\\tests\\test_pls.py -> build\\lib.win-amd64-3.9\\sklearn\\cross_decomposition/tests\n",
      "  copying sklearn\\cross_decomposition\\tests\\__init__.py -> build\\lib.win-amd64-3.9\\sklearn\\cross_decomposition/tests\n",
      "  creating build\\lib.win-amd64-3.9\\sklearn\\feature_selection\n",
      "  copying sklearn\\feature_selection\\base.py -> build\\lib.win-amd64-3.9\\sklearn\\feature_selection\n",
      "  copying sklearn\\feature_selection\\from_model.py -> build\\lib.win-amd64-3.9\\sklearn\\feature_selection\n",
      "  copying sklearn\\feature_selection\\mutual_info_.py -> build\\lib.win-amd64-3.9\\sklearn\\feature_selection\n",
      "  copying sklearn\\feature_selection\\rfe.py -> build\\lib.win-amd64-3.9\\sklearn\\feature_selection\n",
      "  copying sklearn\\feature_selection\\univariate_selection.py -> build\\lib.win-amd64-3.9\\sklearn\\feature_selection\n",
      "  copying sklearn\\feature_selection\\variance_threshold.py -> build\\lib.win-amd64-3.9\\sklearn\\feature_selection\n",
      "  copying sklearn\\feature_selection\\__init__.py -> build\\lib.win-amd64-3.9\\sklearn\\feature_selection\n",
      "  creating build\\lib.win-amd64-3.9\\sklearn\\feature_selection\\tests\n",
      "  copying sklearn\\feature_selection\\tests\\test_base.py -> build\\lib.win-amd64-3.9\\sklearn\\feature_selection/tests\n",
      "  copying sklearn\\feature_selection\\tests\\test_chi2.py -> build\\lib.win-amd64-3.9\\sklearn\\feature_selection/tests\n",
      "  copying sklearn\\feature_selection\\tests\\test_feature_select.py -> build\\lib.win-amd64-3.9\\sklearn\\feature_selection/tests\n",
      "  copying sklearn\\feature_selection\\tests\\test_from_model.py -> build\\lib.win-amd64-3.9\\sklearn\\feature_selection/tests\n",
      "  copying sklearn\\feature_selection\\tests\\test_mutual_info.py -> build\\lib.win-amd64-3.9\\sklearn\\feature_selection/tests\n",
      "  copying sklearn\\feature_selection\\tests\\test_rfe.py -> build\\lib.win-amd64-3.9\\sklearn\\feature_selection/tests\n",
      "  copying sklearn\\feature_selection\\tests\\test_variance_threshold.py -> build\\lib.win-amd64-3.9\\sklearn\\feature_selection/tests\n",
      "  copying sklearn\\feature_selection\\tests\\__init__.py -> build\\lib.win-amd64-3.9\\sklearn\\feature_selection/tests\n",
      "  creating build\\lib.win-amd64-3.9\\sklearn\\gaussian_process\n",
      "  copying sklearn\\gaussian_process\\correlation_models.py -> build\\lib.win-amd64-3.9\\sklearn\\gaussian_process\n",
      "  copying sklearn\\gaussian_process\\gpc.py -> build\\lib.win-amd64-3.9\\sklearn\\gaussian_process\n",
      "  copying sklearn\\gaussian_process\\gpr.py -> build\\lib.win-amd64-3.9\\sklearn\\gaussian_process\n",
      "  copying sklearn\\gaussian_process\\kernels.py -> build\\lib.win-amd64-3.9\\sklearn\\gaussian_process\n",
      "  copying sklearn\\gaussian_process\\regression_models.py -> build\\lib.win-amd64-3.9\\sklearn\\gaussian_process\n",
      "  copying sklearn\\gaussian_process\\__init__.py -> build\\lib.win-amd64-3.9\\sklearn\\gaussian_process\n",
      "  creating build\\lib.win-amd64-3.9\\sklearn\\gaussian_process\\tests\n",
      "  copying sklearn\\gaussian_process\\tests\\test_gpc.py -> build\\lib.win-amd64-3.9\\sklearn\\gaussian_process/tests\n",
      "  copying sklearn\\gaussian_process\\tests\\test_gpr.py -> build\\lib.win-amd64-3.9\\sklearn\\gaussian_process/tests\n",
      "  copying sklearn\\gaussian_process\\tests\\test_kernels.py -> build\\lib.win-amd64-3.9\\sklearn\\gaussian_process/tests\n",
      "  copying sklearn\\gaussian_process\\tests\\__init__.py -> build\\lib.win-amd64-3.9\\sklearn\\gaussian_process/tests\n",
      "  creating build\\lib.win-amd64-3.9\\sklearn\\mixture\n",
      "  copying sklearn\\mixture\\base.py -> build\\lib.win-amd64-3.9\\sklearn\\mixture\n",
      "  copying sklearn\\mixture\\bayesian_mixture.py -> build\\lib.win-amd64-3.9\\sklearn\\mixture\n",
      "  copying sklearn\\mixture\\gaussian_mixture.py -> build\\lib.win-amd64-3.9\\sklearn\\mixture\n",
      "  copying sklearn\\mixture\\__init__.py -> build\\lib.win-amd64-3.9\\sklearn\\mixture\n",
      "  creating build\\lib.win-amd64-3.9\\sklearn\\mixture\\tests\n",
      "  copying sklearn\\mixture\\tests\\test_bayesian_mixture.py -> build\\lib.win-amd64-3.9\\sklearn\\mixture/tests\n",
      "  copying sklearn\\mixture\\tests\\test_gaussian_mixture.py -> build\\lib.win-amd64-3.9\\sklearn\\mixture/tests\n",
      "  copying sklearn\\mixture\\tests\\test_mixture.py -> build\\lib.win-amd64-3.9\\sklearn\\mixture/tests\n",
      "  copying sklearn\\mixture\\tests\\__init__.py -> build\\lib.win-amd64-3.9\\sklearn\\mixture/tests\n",
      "  creating build\\lib.win-amd64-3.9\\sklearn\\model_selection\n",
      "  copying sklearn\\model_selection\\_search.py -> build\\lib.win-amd64-3.9\\sklearn\\model_selection\n",
      "  copying sklearn\\model_selection\\_split.py -> build\\lib.win-amd64-3.9\\sklearn\\model_selection\n",
      "  copying sklearn\\model_selection\\_validation.py -> build\\lib.win-amd64-3.9\\sklearn\\model_selection\n",
      "  copying sklearn\\model_selection\\__init__.py -> build\\lib.win-amd64-3.9\\sklearn\\model_selection\n",
      "  creating build\\lib.win-amd64-3.9\\sklearn\\model_selection\\tests\n",
      "  copying sklearn\\model_selection\\tests\\common.py -> build\\lib.win-amd64-3.9\\sklearn\\model_selection/tests\n",
      "  copying sklearn\\model_selection\\tests\\test_search.py -> build\\lib.win-amd64-3.9\\sklearn\\model_selection/tests\n",
      "  copying sklearn\\model_selection\\tests\\test_split.py -> build\\lib.win-amd64-3.9\\sklearn\\model_selection/tests\n",
      "  copying sklearn\\model_selection\\tests\\test_validation.py -> build\\lib.win-amd64-3.9\\sklearn\\model_selection/tests\n",
      "  copying sklearn\\model_selection\\tests\\__init__.py -> build\\lib.win-amd64-3.9\\sklearn\\model_selection/tests\n",
      "  creating build\\lib.win-amd64-3.9\\sklearn\\neural_network\n",
      "  copying sklearn\\neural_network\\multilayer_perceptron.py -> build\\lib.win-amd64-3.9\\sklearn\\neural_network\n",
      "  copying sklearn\\neural_network\\rbm.py -> build\\lib.win-amd64-3.9\\sklearn\\neural_network\n",
      "  copying sklearn\\neural_network\\_base.py -> build\\lib.win-amd64-3.9\\sklearn\\neural_network\n",
      "  copying sklearn\\neural_network\\_stochastic_optimizers.py -> build\\lib.win-amd64-3.9\\sklearn\\neural_network\n",
      "  copying sklearn\\neural_network\\__init__.py -> build\\lib.win-amd64-3.9\\sklearn\\neural_network\n",
      "  creating build\\lib.win-amd64-3.9\\sklearn\\neural_network\\tests\n",
      "  copying sklearn\\neural_network\\tests\\test_mlp.py -> build\\lib.win-amd64-3.9\\sklearn\\neural_network/tests\n",
      "  copying sklearn\\neural_network\\tests\\test_rbm.py -> build\\lib.win-amd64-3.9\\sklearn\\neural_network/tests\n",
      "  copying sklearn\\neural_network\\tests\\test_stochastic_optimizers.py -> build\\lib.win-amd64-3.9\\sklearn\\neural_network/tests\n",
      "  copying sklearn\\neural_network\\tests\\__init__.py -> build\\lib.win-amd64-3.9\\sklearn\\neural_network/tests\n",
      "  creating build\\lib.win-amd64-3.9\\sklearn\\preprocessing\n",
      "  copying sklearn\\preprocessing\\base.py -> build\\lib.win-amd64-3.9\\sklearn\\preprocessing\n",
      "  copying sklearn\\preprocessing\\data.py -> build\\lib.win-amd64-3.9\\sklearn\\preprocessing\n",
      "  copying sklearn\\preprocessing\\imputation.py -> build\\lib.win-amd64-3.9\\sklearn\\preprocessing\n",
      "  copying sklearn\\preprocessing\\label.py -> build\\lib.win-amd64-3.9\\sklearn\\preprocessing\n",
      "  copying sklearn\\preprocessing\\_discretization.py -> build\\lib.win-amd64-3.9\\sklearn\\preprocessing\n",
      "  copying sklearn\\preprocessing\\_encoders.py -> build\\lib.win-amd64-3.9\\sklearn\\preprocessing\n",
      "  copying sklearn\\preprocessing\\_function_transformer.py -> build\\lib.win-amd64-3.9\\sklearn\\preprocessing\n",
      "  copying sklearn\\preprocessing\\__init__.py -> build\\lib.win-amd64-3.9\\sklearn\\preprocessing\n",
      "  creating build\\lib.win-amd64-3.9\\sklearn\\preprocessing\\tests\n",
      "  copying sklearn\\preprocessing\\tests\\test_base.py -> build\\lib.win-amd64-3.9\\sklearn\\preprocessing/tests\n",
      "  copying sklearn\\preprocessing\\tests\\test_common.py -> build\\lib.win-amd64-3.9\\sklearn\\preprocessing/tests\n",
      "  copying sklearn\\preprocessing\\tests\\test_data.py -> build\\lib.win-amd64-3.9\\sklearn\\preprocessing/tests\n",
      "  copying sklearn\\preprocessing\\tests\\test_discretization.py -> build\\lib.win-amd64-3.9\\sklearn\\preprocessing/tests\n",
      "  copying sklearn\\preprocessing\\tests\\test_encoders.py -> build\\lib.win-amd64-3.9\\sklearn\\preprocessing/tests\n",
      "  copying sklearn\\preprocessing\\tests\\test_function_transformer.py -> build\\lib.win-amd64-3.9\\sklearn\\preprocessing/tests\n",
      "  copying sklearn\\preprocessing\\tests\\test_imputation.py -> build\\lib.win-amd64-3.9\\sklearn\\preprocessing/tests\n",
      "  copying sklearn\\preprocessing\\tests\\test_label.py -> build\\lib.win-amd64-3.9\\sklearn\\preprocessing/tests\n",
      "  copying sklearn\\preprocessing\\tests\\__init__.py -> build\\lib.win-amd64-3.9\\sklearn\\preprocessing/tests\n",
      "  creating build\\lib.win-amd64-3.9\\sklearn\\semi_supervised\n",
      "  copying sklearn\\semi_supervised\\label_propagation.py -> build\\lib.win-amd64-3.9\\sklearn\\semi_supervised\n",
      "  copying sklearn\\semi_supervised\\__init__.py -> build\\lib.win-amd64-3.9\\sklearn\\semi_supervised\n",
      "  creating build\\lib.win-amd64-3.9\\sklearn\\semi_supervised\\tests\n",
      "  copying sklearn\\semi_supervised\\tests\\test_label_propagation.py -> build\\lib.win-amd64-3.9\\sklearn\\semi_supervised/tests\n",
      "  copying sklearn\\semi_supervised\\tests\\__init__.py -> build\\lib.win-amd64-3.9\\sklearn\\semi_supervised/tests\n",
      "  creating build\\lib.win-amd64-3.9\\sklearn\\cluster\n",
      "  copying sklearn\\cluster\\affinity_propagation_.py -> build\\lib.win-amd64-3.9\\sklearn\\cluster\n",
      "  copying sklearn\\cluster\\bicluster.py -> build\\lib.win-amd64-3.9\\sklearn\\cluster\n",
      "  copying sklearn\\cluster\\birch.py -> build\\lib.win-amd64-3.9\\sklearn\\cluster\n",
      "  copying sklearn\\cluster\\dbscan_.py -> build\\lib.win-amd64-3.9\\sklearn\\cluster\n",
      "  copying sklearn\\cluster\\hierarchical.py -> build\\lib.win-amd64-3.9\\sklearn\\cluster\n",
      "  copying sklearn\\cluster\\k_means_.py -> build\\lib.win-amd64-3.9\\sklearn\\cluster\n",
      "  copying sklearn\\cluster\\mean_shift_.py -> build\\lib.win-amd64-3.9\\sklearn\\cluster\n",
      "  copying sklearn\\cluster\\setup.py -> build\\lib.win-amd64-3.9\\sklearn\\cluster\n",
      "  copying sklearn\\cluster\\spectral.py -> build\\lib.win-amd64-3.9\\sklearn\\cluster\n",
      "  copying sklearn\\cluster\\_feature_agglomeration.py -> build\\lib.win-amd64-3.9\\sklearn\\cluster\n",
      "  copying sklearn\\cluster\\__init__.py -> build\\lib.win-amd64-3.9\\sklearn\\cluster\n",
      "  creating build\\lib.win-amd64-3.9\\sklearn\\cluster\\tests\n",
      "  copying sklearn\\cluster\\tests\\common.py -> build\\lib.win-amd64-3.9\\sklearn\\cluster\\tests\n",
      "  copying sklearn\\cluster\\tests\\test_affinity_propagation.py -> build\\lib.win-amd64-3.9\\sklearn\\cluster\\tests\n",
      "  copying sklearn\\cluster\\tests\\test_bicluster.py -> build\\lib.win-amd64-3.9\\sklearn\\cluster\\tests\n",
      "  copying sklearn\\cluster\\tests\\test_birch.py -> build\\lib.win-amd64-3.9\\sklearn\\cluster\\tests\n",
      "  copying sklearn\\cluster\\tests\\test_dbscan.py -> build\\lib.win-amd64-3.9\\sklearn\\cluster\\tests\n",
      "  copying sklearn\\cluster\\tests\\test_feature_agglomeration.py -> build\\lib.win-amd64-3.9\\sklearn\\cluster\\tests\n",
      "  copying sklearn\\cluster\\tests\\test_hierarchical.py -> build\\lib.win-amd64-3.9\\sklearn\\cluster\\tests\n",
      "  copying sklearn\\cluster\\tests\\test_k_means.py -> build\\lib.win-amd64-3.9\\sklearn\\cluster\\tests\n",
      "  copying sklearn\\cluster\\tests\\test_mean_shift.py -> build\\lib.win-amd64-3.9\\sklearn\\cluster\\tests\n",
      "  copying sklearn\\cluster\\tests\\test_spectral.py -> build\\lib.win-amd64-3.9\\sklearn\\cluster\\tests\n",
      "  copying sklearn\\cluster\\tests\\__init__.py -> build\\lib.win-amd64-3.9\\sklearn\\cluster\\tests\n",
      "  creating build\\lib.win-amd64-3.9\\sklearn\\datasets\n",
      "  copying sklearn\\datasets\\base.py -> build\\lib.win-amd64-3.9\\sklearn\\datasets\n",
      "  copying sklearn\\datasets\\california_housing.py -> build\\lib.win-amd64-3.9\\sklearn\\datasets\n",
      "  copying sklearn\\datasets\\covtype.py -> build\\lib.win-amd64-3.9\\sklearn\\datasets\n",
      "  copying sklearn\\datasets\\kddcup99.py -> build\\lib.win-amd64-3.9\\sklearn\\datasets\n",
      "  copying sklearn\\datasets\\lfw.py -> build\\lib.win-amd64-3.9\\sklearn\\datasets\n",
      "  copying sklearn\\datasets\\mlcomp.py -> build\\lib.win-amd64-3.9\\sklearn\\datasets\n",
      "  copying sklearn\\datasets\\mldata.py -> build\\lib.win-amd64-3.9\\sklearn\\datasets\n",
      "  copying sklearn\\datasets\\olivetti_faces.py -> build\\lib.win-amd64-3.9\\sklearn\\datasets\n",
      "  copying sklearn\\datasets\\openml.py -> build\\lib.win-amd64-3.9\\sklearn\\datasets\n",
      "  copying sklearn\\datasets\\rcv1.py -> build\\lib.win-amd64-3.9\\sklearn\\datasets\n",
      "  copying sklearn\\datasets\\samples_generator.py -> build\\lib.win-amd64-3.9\\sklearn\\datasets\n",
      "  copying sklearn\\datasets\\setup.py -> build\\lib.win-amd64-3.9\\sklearn\\datasets\n",
      "  copying sklearn\\datasets\\species_distributions.py -> build\\lib.win-amd64-3.9\\sklearn\\datasets\n",
      "  copying sklearn\\datasets\\svmlight_format.py -> build\\lib.win-amd64-3.9\\sklearn\\datasets\n",
      "  copying sklearn\\datasets\\twenty_newsgroups.py -> build\\lib.win-amd64-3.9\\sklearn\\datasets\n",
      "  copying sklearn\\datasets\\__init__.py -> build\\lib.win-amd64-3.9\\sklearn\\datasets\n",
      "  creating build\\lib.win-amd64-3.9\\sklearn\\datasets\\tests\n",
      "  copying sklearn\\datasets\\tests\\test_20news.py -> build\\lib.win-amd64-3.9\\sklearn\\datasets\\tests\n",
      "  copying sklearn\\datasets\\tests\\test_base.py -> build\\lib.win-amd64-3.9\\sklearn\\datasets\\tests\n",
      "  copying sklearn\\datasets\\tests\\test_california_housing.py -> build\\lib.win-amd64-3.9\\sklearn\\datasets\\tests\n",
      "  copying sklearn\\datasets\\tests\\test_common.py -> build\\lib.win-amd64-3.9\\sklearn\\datasets\\tests\n",
      "  copying sklearn\\datasets\\tests\\test_covtype.py -> build\\lib.win-amd64-3.9\\sklearn\\datasets\\tests\n",
      "  copying sklearn\\datasets\\tests\\test_kddcup99.py -> build\\lib.win-amd64-3.9\\sklearn\\datasets\\tests\n",
      "  copying sklearn\\datasets\\tests\\test_lfw.py -> build\\lib.win-amd64-3.9\\sklearn\\datasets\\tests\n",
      "  copying sklearn\\datasets\\tests\\test_mldata.py -> build\\lib.win-amd64-3.9\\sklearn\\datasets\\tests\n",
      "  copying sklearn\\datasets\\tests\\test_openml.py -> build\\lib.win-amd64-3.9\\sklearn\\datasets\\tests\n",
      "  copying sklearn\\datasets\\tests\\test_rcv1.py -> build\\lib.win-amd64-3.9\\sklearn\\datasets\\tests\n",
      "  copying sklearn\\datasets\\tests\\test_samples_generator.py -> build\\lib.win-amd64-3.9\\sklearn\\datasets\\tests\n",
      "  copying sklearn\\datasets\\tests\\test_svmlight_format.py -> build\\lib.win-amd64-3.9\\sklearn\\datasets\\tests\n",
      "  copying sklearn\\datasets\\tests\\__init__.py -> build\\lib.win-amd64-3.9\\sklearn\\datasets\\tests\n",
      "  creating build\\lib.win-amd64-3.9\\sklearn\\decomposition\n",
      "  copying sklearn\\decomposition\\base.py -> build\\lib.win-amd64-3.9\\sklearn\\decomposition\n",
      "  copying sklearn\\decomposition\\dict_learning.py -> build\\lib.win-amd64-3.9\\sklearn\\decomposition\n",
      "  copying sklearn\\decomposition\\factor_analysis.py -> build\\lib.win-amd64-3.9\\sklearn\\decomposition\n",
      "  copying sklearn\\decomposition\\fastica_.py -> build\\lib.win-amd64-3.9\\sklearn\\decomposition\n",
      "  copying sklearn\\decomposition\\incremental_pca.py -> build\\lib.win-amd64-3.9\\sklearn\\decomposition\n",
      "  copying sklearn\\decomposition\\kernel_pca.py -> build\\lib.win-amd64-3.9\\sklearn\\decomposition\n",
      "  copying sklearn\\decomposition\\nmf.py -> build\\lib.win-amd64-3.9\\sklearn\\decomposition\n",
      "  copying sklearn\\decomposition\\online_lda.py -> build\\lib.win-amd64-3.9\\sklearn\\decomposition\n",
      "  copying sklearn\\decomposition\\pca.py -> build\\lib.win-amd64-3.9\\sklearn\\decomposition\n",
      "  copying sklearn\\decomposition\\setup.py -> build\\lib.win-amd64-3.9\\sklearn\\decomposition\n",
      "  copying sklearn\\decomposition\\sparse_pca.py -> build\\lib.win-amd64-3.9\\sklearn\\decomposition\n",
      "  copying sklearn\\decomposition\\truncated_svd.py -> build\\lib.win-amd64-3.9\\sklearn\\decomposition\n",
      "  copying sklearn\\decomposition\\__init__.py -> build\\lib.win-amd64-3.9\\sklearn\\decomposition\n",
      "  creating build\\lib.win-amd64-3.9\\sklearn\\decomposition\\tests\n",
      "  copying sklearn\\decomposition\\tests\\test_dict_learning.py -> build\\lib.win-amd64-3.9\\sklearn\\decomposition\\tests\n",
      "  copying sklearn\\decomposition\\tests\\test_factor_analysis.py -> build\\lib.win-amd64-3.9\\sklearn\\decomposition\\tests\n",
      "  copying sklearn\\decomposition\\tests\\test_fastica.py -> build\\lib.win-amd64-3.9\\sklearn\\decomposition\\tests\n",
      "  copying sklearn\\decomposition\\tests\\test_incremental_pca.py -> build\\lib.win-amd64-3.9\\sklearn\\decomposition\\tests\n",
      "  copying sklearn\\decomposition\\tests\\test_kernel_pca.py -> build\\lib.win-amd64-3.9\\sklearn\\decomposition\\tests\n",
      "  copying sklearn\\decomposition\\tests\\test_nmf.py -> build\\lib.win-amd64-3.9\\sklearn\\decomposition\\tests\n",
      "  copying sklearn\\decomposition\\tests\\test_online_lda.py -> build\\lib.win-amd64-3.9\\sklearn\\decomposition\\tests\n",
      "  copying sklearn\\decomposition\\tests\\test_pca.py -> build\\lib.win-amd64-3.9\\sklearn\\decomposition\\tests\n",
      "  copying sklearn\\decomposition\\tests\\test_sparse_pca.py -> build\\lib.win-amd64-3.9\\sklearn\\decomposition\\tests\n",
      "  copying sklearn\\decomposition\\tests\\test_truncated_svd.py -> build\\lib.win-amd64-3.9\\sklearn\\decomposition\\tests\n",
      "  copying sklearn\\decomposition\\tests\\__init__.py -> build\\lib.win-amd64-3.9\\sklearn\\decomposition\\tests\n",
      "  creating build\\lib.win-amd64-3.9\\sklearn\\ensemble\n",
      "  copying sklearn\\ensemble\\bagging.py -> build\\lib.win-amd64-3.9\\sklearn\\ensemble\n",
      "  copying sklearn\\ensemble\\base.py -> build\\lib.win-amd64-3.9\\sklearn\\ensemble\n",
      "  copying sklearn\\ensemble\\forest.py -> build\\lib.win-amd64-3.9\\sklearn\\ensemble\n",
      "  copying sklearn\\ensemble\\gradient_boosting.py -> build\\lib.win-amd64-3.9\\sklearn\\ensemble\n",
      "  copying sklearn\\ensemble\\iforest.py -> build\\lib.win-amd64-3.9\\sklearn\\ensemble\n",
      "  copying sklearn\\ensemble\\partial_dependence.py -> build\\lib.win-amd64-3.9\\sklearn\\ensemble\n",
      "  copying sklearn\\ensemble\\setup.py -> build\\lib.win-amd64-3.9\\sklearn\\ensemble\n",
      "  copying sklearn\\ensemble\\voting_classifier.py -> build\\lib.win-amd64-3.9\\sklearn\\ensemble\n",
      "  copying sklearn\\ensemble\\weight_boosting.py -> build\\lib.win-amd64-3.9\\sklearn\\ensemble\n",
      "  copying sklearn\\ensemble\\__init__.py -> build\\lib.win-amd64-3.9\\sklearn\\ensemble\n",
      "  creating build\\lib.win-amd64-3.9\\sklearn\\ensemble\\tests\n",
      "  copying sklearn\\ensemble\\tests\\test_bagging.py -> build\\lib.win-amd64-3.9\\sklearn\\ensemble\\tests\n",
      "  copying sklearn\\ensemble\\tests\\test_base.py -> build\\lib.win-amd64-3.9\\sklearn\\ensemble\\tests\n",
      "  copying sklearn\\ensemble\\tests\\test_forest.py -> build\\lib.win-amd64-3.9\\sklearn\\ensemble\\tests\n",
      "  copying sklearn\\ensemble\\tests\\test_gradient_boosting.py -> build\\lib.win-amd64-3.9\\sklearn\\ensemble\\tests\n",
      "  copying sklearn\\ensemble\\tests\\test_gradient_boosting_loss_functions.py -> build\\lib.win-amd64-3.9\\sklearn\\ensemble\\tests\n",
      "  copying sklearn\\ensemble\\tests\\test_iforest.py -> build\\lib.win-amd64-3.9\\sklearn\\ensemble\\tests\n",
      "  copying sklearn\\ensemble\\tests\\test_partial_dependence.py -> build\\lib.win-amd64-3.9\\sklearn\\ensemble\\tests\n",
      "  copying sklearn\\ensemble\\tests\\test_voting_classifier.py -> build\\lib.win-amd64-3.9\\sklearn\\ensemble\\tests\n",
      "  copying sklearn\\ensemble\\tests\\test_weight_boosting.py -> build\\lib.win-amd64-3.9\\sklearn\\ensemble\\tests\n",
      "  copying sklearn\\ensemble\\tests\\__init__.py -> build\\lib.win-amd64-3.9\\sklearn\\ensemble\\tests\n",
      "  creating build\\lib.win-amd64-3.9\\sklearn\\externals\n",
      "  copying sklearn\\externals\\conftest.py -> build\\lib.win-amd64-3.9\\sklearn\\externals\n",
      "  copying sklearn\\externals\\funcsigs.py -> build\\lib.win-amd64-3.9\\sklearn\\externals\n",
      "  copying sklearn\\externals\\setup.py -> build\\lib.win-amd64-3.9\\sklearn\\externals\n",
      "  copying sklearn\\externals\\six.py -> build\\lib.win-amd64-3.9\\sklearn\\externals\n",
      "  copying sklearn\\externals\\_arff.py -> build\\lib.win-amd64-3.9\\sklearn\\externals\n",
      "  copying sklearn\\externals\\_pilutil.py -> build\\lib.win-amd64-3.9\\sklearn\\externals\n",
      "  copying sklearn\\externals\\__init__.py -> build\\lib.win-amd64-3.9\\sklearn\\externals\n",
      "  creating build\\lib.win-amd64-3.9\\sklearn\\externals\\joblib\n",
      "  copying sklearn\\externals\\joblib\\backports.py -> build\\lib.win-amd64-3.9\\sklearn\\externals\\joblib\n",
      "  copying sklearn\\externals\\joblib\\compressor.py -> build\\lib.win-amd64-3.9\\sklearn\\externals\\joblib\n",
      "  copying sklearn\\externals\\joblib\\disk.py -> build\\lib.win-amd64-3.9\\sklearn\\externals\\joblib\n",
      "  copying sklearn\\externals\\joblib\\executor.py -> build\\lib.win-amd64-3.9\\sklearn\\externals\\joblib\n",
      "  copying sklearn\\externals\\joblib\\format_stack.py -> build\\lib.win-amd64-3.9\\sklearn\\externals\\joblib\n",
      "  copying sklearn\\externals\\joblib\\func_inspect.py -> build\\lib.win-amd64-3.9\\sklearn\\externals\\joblib\n",
      "  copying sklearn\\externals\\joblib\\hashing.py -> build\\lib.win-amd64-3.9\\sklearn\\externals\\joblib\n",
      "  copying sklearn\\externals\\joblib\\logger.py -> build\\lib.win-amd64-3.9\\sklearn\\externals\\joblib\n",
      "  copying sklearn\\externals\\joblib\\memory.py -> build\\lib.win-amd64-3.9\\sklearn\\externals\\joblib\n",
      "  copying sklearn\\externals\\joblib\\my_exceptions.py -> build\\lib.win-amd64-3.9\\sklearn\\externals\\joblib\n",
      "  copying sklearn\\externals\\joblib\\numpy_pickle.py -> build\\lib.win-amd64-3.9\\sklearn\\externals\\joblib\n",
      "  copying sklearn\\externals\\joblib\\numpy_pickle_compat.py -> build\\lib.win-amd64-3.9\\sklearn\\externals\\joblib\n",
      "  copying sklearn\\externals\\joblib\\numpy_pickle_utils.py -> build\\lib.win-amd64-3.9\\sklearn\\externals\\joblib\n",
      "  copying sklearn\\externals\\joblib\\parallel.py -> build\\lib.win-amd64-3.9\\sklearn\\externals\\joblib\n",
      "  copying sklearn\\externals\\joblib\\pool.py -> build\\lib.win-amd64-3.9\\sklearn\\externals\\joblib\n",
      "  copying sklearn\\externals\\joblib\\testing.py -> build\\lib.win-amd64-3.9\\sklearn\\externals\\joblib\n",
      "  copying sklearn\\externals\\joblib\\_compat.py -> build\\lib.win-amd64-3.9\\sklearn\\externals\\joblib\n",
      "  copying sklearn\\externals\\joblib\\_dask.py -> build\\lib.win-amd64-3.9\\sklearn\\externals\\joblib\n",
      "  copying sklearn\\externals\\joblib\\_memmapping_reducer.py -> build\\lib.win-amd64-3.9\\sklearn\\externals\\joblib\n",
      "  copying sklearn\\externals\\joblib\\_memory_helpers.py -> build\\lib.win-amd64-3.9\\sklearn\\externals\\joblib\n",
      "  copying sklearn\\externals\\joblib\\_multiprocessing_helpers.py -> build\\lib.win-amd64-3.9\\sklearn\\externals\\joblib\n",
      "  copying sklearn\\externals\\joblib\\_parallel_backends.py -> build\\lib.win-amd64-3.9\\sklearn\\externals\\joblib\n",
      "  copying sklearn\\externals\\joblib\\_store_backends.py -> build\\lib.win-amd64-3.9\\sklearn\\externals\\joblib\n",
      "  copying sklearn\\externals\\joblib\\__init__.py -> build\\lib.win-amd64-3.9\\sklearn\\externals\\joblib\n",
      "  creating build\\lib.win-amd64-3.9\\sklearn\\externals\\joblib\\externals\n",
      "  copying sklearn\\externals\\joblib\\externals\\__init__.py -> build\\lib.win-amd64-3.9\\sklearn\\externals\\joblib/externals\n",
      "  creating build\\lib.win-amd64-3.9\\sklearn\\externals\\joblib\\externals\\loky\n",
      "  copying sklearn\\externals\\joblib\\externals\\loky\\cloudpickle_wrapper.py -> build\\lib.win-amd64-3.9\\sklearn\\externals\\joblib/externals/loky\n",
      "  copying sklearn\\externals\\joblib\\externals\\loky\\process_executor.py -> build\\lib.win-amd64-3.9\\sklearn\\externals\\joblib/externals/loky\n",
      "  copying sklearn\\externals\\joblib\\externals\\loky\\reusable_executor.py -> build\\lib.win-amd64-3.9\\sklearn\\externals\\joblib/externals/loky\n",
      "  copying sklearn\\externals\\joblib\\externals\\loky\\_base.py -> build\\lib.win-amd64-3.9\\sklearn\\externals\\joblib/externals/loky\n",
      "  copying sklearn\\externals\\joblib\\externals\\loky\\__init__.py -> build\\lib.win-amd64-3.9\\sklearn\\externals\\joblib/externals/loky\n",
      "  creating build\\lib.win-amd64-3.9\\sklearn\\externals\\joblib\\externals\\loky\\backend\n",
      "  copying sklearn\\externals\\joblib\\externals\\loky\\backend\\compat.py -> build\\lib.win-amd64-3.9\\sklearn\\externals\\joblib/externals/loky/backend\n",
      "  copying sklearn\\externals\\joblib\\externals\\loky\\backend\\compat_posix.py -> build\\lib.win-amd64-3.9\\sklearn\\externals\\joblib/externals/loky/backend\n",
      "  copying sklearn\\externals\\joblib\\externals\\loky\\backend\\compat_win32.py -> build\\lib.win-amd64-3.9\\sklearn\\externals\\joblib/externals/loky/backend\n",
      "  copying sklearn\\externals\\joblib\\externals\\loky\\backend\\context.py -> build\\lib.win-amd64-3.9\\sklearn\\externals\\joblib/externals/loky/backend\n",
      "  copying sklearn\\externals\\joblib\\externals\\loky\\backend\\fork_exec.py -> build\\lib.win-amd64-3.9\\sklearn\\externals\\joblib/externals/loky/backend\n",
      "  copying sklearn\\externals\\joblib\\externals\\loky\\backend\\managers.py -> build\\lib.win-amd64-3.9\\sklearn\\externals\\joblib/externals/loky/backend\n",
      "  copying sklearn\\externals\\joblib\\externals\\loky\\backend\\popen_loky_posix.py -> build\\lib.win-amd64-3.9\\sklearn\\externals\\joblib/externals/loky/backend\n",
      "  copying sklearn\\externals\\joblib\\externals\\loky\\backend\\popen_loky_win32.py -> build\\lib.win-amd64-3.9\\sklearn\\externals\\joblib/externals/loky/backend\n",
      "  copying sklearn\\externals\\joblib\\externals\\loky\\backend\\process.py -> build\\lib.win-amd64-3.9\\sklearn\\externals\\joblib/externals/loky/backend\n",
      "  copying sklearn\\externals\\joblib\\externals\\loky\\backend\\queues.py -> build\\lib.win-amd64-3.9\\sklearn\\externals\\joblib/externals/loky/backend\n",
      "  copying sklearn\\externals\\joblib\\externals\\loky\\backend\\reduction.py -> build\\lib.win-amd64-3.9\\sklearn\\externals\\joblib/externals/loky/backend\n",
      "  copying sklearn\\externals\\joblib\\externals\\loky\\backend\\semaphore_tracker.py -> build\\lib.win-amd64-3.9\\sklearn\\externals\\joblib/externals/loky/backend\n",
      "  copying sklearn\\externals\\joblib\\externals\\loky\\backend\\semlock.py -> build\\lib.win-amd64-3.9\\sklearn\\externals\\joblib/externals/loky/backend\n",
      "  copying sklearn\\externals\\joblib\\externals\\loky\\backend\\spawn.py -> build\\lib.win-amd64-3.9\\sklearn\\externals\\joblib/externals/loky/backend\n",
      "  copying sklearn\\externals\\joblib\\externals\\loky\\backend\\synchronize.py -> build\\lib.win-amd64-3.9\\sklearn\\externals\\joblib/externals/loky/backend\n",
      "  copying sklearn\\externals\\joblib\\externals\\loky\\backend\\utils.py -> build\\lib.win-amd64-3.9\\sklearn\\externals\\joblib/externals/loky/backend\n",
      "  copying sklearn\\externals\\joblib\\externals\\loky\\backend\\_posix_reduction.py -> build\\lib.win-amd64-3.9\\sklearn\\externals\\joblib/externals/loky/backend\n",
      "  copying sklearn\\externals\\joblib\\externals\\loky\\backend\\_posix_wait.py -> build\\lib.win-amd64-3.9\\sklearn\\externals\\joblib/externals/loky/backend\n",
      "  copying sklearn\\externals\\joblib\\externals\\loky\\backend\\_win_reduction.py -> build\\lib.win-amd64-3.9\\sklearn\\externals\\joblib/externals/loky/backend\n",
      "  copying sklearn\\externals\\joblib\\externals\\loky\\backend\\_win_wait.py -> build\\lib.win-amd64-3.9\\sklearn\\externals\\joblib/externals/loky/backend\n",
      "  copying sklearn\\externals\\joblib\\externals\\loky\\backend\\__init__.py -> build\\lib.win-amd64-3.9\\sklearn\\externals\\joblib/externals/loky/backend\n",
      "  creating build\\lib.win-amd64-3.9\\sklearn\\externals\\joblib\\externals\\cloudpickle\n",
      "  copying sklearn\\externals\\joblib\\externals\\cloudpickle\\cloudpickle.py -> build\\lib.win-amd64-3.9\\sklearn\\externals\\joblib/externals/cloudpickle\n",
      "  copying sklearn\\externals\\joblib\\externals\\cloudpickle\\__init__.py -> build\\lib.win-amd64-3.9\\sklearn\\externals\\joblib/externals/cloudpickle\n",
      "  creating build\\lib.win-amd64-3.9\\sklearn\\feature_extraction\n",
      "  copying sklearn\\feature_extraction\\dict_vectorizer.py -> build\\lib.win-amd64-3.9\\sklearn\\feature_extraction\n",
      "  copying sklearn\\feature_extraction\\hashing.py -> build\\lib.win-amd64-3.9\\sklearn\\feature_extraction\n",
      "  copying sklearn\\feature_extraction\\image.py -> build\\lib.win-amd64-3.9\\sklearn\\feature_extraction\n",
      "  copying sklearn\\feature_extraction\\setup.py -> build\\lib.win-amd64-3.9\\sklearn\\feature_extraction\n",
      "  copying sklearn\\feature_extraction\\stop_words.py -> build\\lib.win-amd64-3.9\\sklearn\\feature_extraction\n",
      "  copying sklearn\\feature_extraction\\text.py -> build\\lib.win-amd64-3.9\\sklearn\\feature_extraction\n",
      "  copying sklearn\\feature_extraction\\__init__.py -> build\\lib.win-amd64-3.9\\sklearn\\feature_extraction\n",
      "  creating build\\lib.win-amd64-3.9\\sklearn\\feature_extraction\\tests\n",
      "  copying sklearn\\feature_extraction\\tests\\test_dict_vectorizer.py -> build\\lib.win-amd64-3.9\\sklearn\\feature_extraction\\tests\n",
      "  copying sklearn\\feature_extraction\\tests\\test_feature_hasher.py -> build\\lib.win-amd64-3.9\\sklearn\\feature_extraction\\tests\n",
      "  copying sklearn\\feature_extraction\\tests\\test_image.py -> build\\lib.win-amd64-3.9\\sklearn\\feature_extraction\\tests\n",
      "  copying sklearn\\feature_extraction\\tests\\test_text.py -> build\\lib.win-amd64-3.9\\sklearn\\feature_extraction\\tests\n",
      "  copying sklearn\\feature_extraction\\tests\\__init__.py -> build\\lib.win-amd64-3.9\\sklearn\\feature_extraction\\tests\n",
      "  creating build\\lib.win-amd64-3.9\\sklearn\\manifold\n",
      "  copying sklearn\\manifold\\isomap.py -> build\\lib.win-amd64-3.9\\sklearn\\manifold\n",
      "  copying sklearn\\manifold\\locally_linear.py -> build\\lib.win-amd64-3.9\\sklearn\\manifold\n",
      "  copying sklearn\\manifold\\mds.py -> build\\lib.win-amd64-3.9\\sklearn\\manifold\n",
      "  copying sklearn\\manifold\\setup.py -> build\\lib.win-amd64-3.9\\sklearn\\manifold\n",
      "  copying sklearn\\manifold\\spectral_embedding_.py -> build\\lib.win-amd64-3.9\\sklearn\\manifold\n",
      "  copying sklearn\\manifold\\t_sne.py -> build\\lib.win-amd64-3.9\\sklearn\\manifold\n",
      "  copying sklearn\\manifold\\__init__.py -> build\\lib.win-amd64-3.9\\sklearn\\manifold\n",
      "  creating build\\lib.win-amd64-3.9\\sklearn\\manifold\\tests\n",
      "  copying sklearn\\manifold\\tests\\test_isomap.py -> build\\lib.win-amd64-3.9\\sklearn\\manifold\\tests\n",
      "  copying sklearn\\manifold\\tests\\test_locally_linear.py -> build\\lib.win-amd64-3.9\\sklearn\\manifold\\tests\n",
      "  copying sklearn\\manifold\\tests\\test_mds.py -> build\\lib.win-amd64-3.9\\sklearn\\manifold\\tests\n",
      "  copying sklearn\\manifold\\tests\\test_spectral_embedding.py -> build\\lib.win-amd64-3.9\\sklearn\\manifold\\tests\n",
      "  copying sklearn\\manifold\\tests\\test_t_sne.py -> build\\lib.win-amd64-3.9\\sklearn\\manifold\\tests\n",
      "  copying sklearn\\manifold\\tests\\__init__.py -> build\\lib.win-amd64-3.9\\sklearn\\manifold\\tests\n",
      "  creating build\\lib.win-amd64-3.9\\sklearn\\metrics\n",
      "  copying sklearn\\metrics\\base.py -> build\\lib.win-amd64-3.9\\sklearn\\metrics\n",
      "  copying sklearn\\metrics\\classification.py -> build\\lib.win-amd64-3.9\\sklearn\\metrics\n",
      "  copying sklearn\\metrics\\pairwise.py -> build\\lib.win-amd64-3.9\\sklearn\\metrics\n",
      "  copying sklearn\\metrics\\ranking.py -> build\\lib.win-amd64-3.9\\sklearn\\metrics\n",
      "  copying sklearn\\metrics\\regression.py -> build\\lib.win-amd64-3.9\\sklearn\\metrics\n",
      "  copying sklearn\\metrics\\scorer.py -> build\\lib.win-amd64-3.9\\sklearn\\metrics\n",
      "  copying sklearn\\metrics\\setup.py -> build\\lib.win-amd64-3.9\\sklearn\\metrics\n",
      "  copying sklearn\\metrics\\__init__.py -> build\\lib.win-amd64-3.9\\sklearn\\metrics\n",
      "  creating build\\lib.win-amd64-3.9\\sklearn\\metrics\\cluster\n",
      "  copying sklearn\\metrics\\cluster\\bicluster.py -> build\\lib.win-amd64-3.9\\sklearn\\metrics\\cluster\n",
      "  copying sklearn\\metrics\\cluster\\setup.py -> build\\lib.win-amd64-3.9\\sklearn\\metrics\\cluster\n",
      "  copying sklearn\\metrics\\cluster\\supervised.py -> build\\lib.win-amd64-3.9\\sklearn\\metrics\\cluster\n",
      "  copying sklearn\\metrics\\cluster\\unsupervised.py -> build\\lib.win-amd64-3.9\\sklearn\\metrics\\cluster\n",
      "  copying sklearn\\metrics\\cluster\\__init__.py -> build\\lib.win-amd64-3.9\\sklearn\\metrics\\cluster\n",
      "  creating build\\lib.win-amd64-3.9\\sklearn\\metrics\\cluster\\tests\n",
      "  copying sklearn\\metrics\\cluster\\tests\\test_bicluster.py -> build\\lib.win-amd64-3.9\\sklearn\\metrics\\cluster\\tests\n",
      "  copying sklearn\\metrics\\cluster\\tests\\test_common.py -> build\\lib.win-amd64-3.9\\sklearn\\metrics\\cluster\\tests\n",
      "  copying sklearn\\metrics\\cluster\\tests\\test_supervised.py -> build\\lib.win-amd64-3.9\\sklearn\\metrics\\cluster\\tests\n",
      "  copying sklearn\\metrics\\cluster\\tests\\test_unsupervised.py -> build\\lib.win-amd64-3.9\\sklearn\\metrics\\cluster\\tests\n",
      "  copying sklearn\\metrics\\cluster\\tests\\__init__.py -> build\\lib.win-amd64-3.9\\sklearn\\metrics\\cluster\\tests\n",
      "  creating build\\lib.win-amd64-3.9\\sklearn\\metrics\\tests\n",
      "  copying sklearn\\metrics\\tests\\test_classification.py -> build\\lib.win-amd64-3.9\\sklearn\\metrics\\tests\n",
      "  copying sklearn\\metrics\\tests\\test_common.py -> build\\lib.win-amd64-3.9\\sklearn\\metrics\\tests\n",
      "  copying sklearn\\metrics\\tests\\test_pairwise.py -> build\\lib.win-amd64-3.9\\sklearn\\metrics\\tests\n",
      "  copying sklearn\\metrics\\tests\\test_ranking.py -> build\\lib.win-amd64-3.9\\sklearn\\metrics\\tests\n",
      "  copying sklearn\\metrics\\tests\\test_regression.py -> build\\lib.win-amd64-3.9\\sklearn\\metrics\\tests\n",
      "  copying sklearn\\metrics\\tests\\test_score_objects.py -> build\\lib.win-amd64-3.9\\sklearn\\metrics\\tests\n",
      "  copying sklearn\\metrics\\tests\\__init__.py -> build\\lib.win-amd64-3.9\\sklearn\\metrics\\tests\n",
      "  creating build\\lib.win-amd64-3.9\\sklearn\\neighbors\n",
      "  copying sklearn\\neighbors\\approximate.py -> build\\lib.win-amd64-3.9\\sklearn\\neighbors\n",
      "  copying sklearn\\neighbors\\base.py -> build\\lib.win-amd64-3.9\\sklearn\\neighbors\n",
      "  copying sklearn\\neighbors\\classification.py -> build\\lib.win-amd64-3.9\\sklearn\\neighbors\n",
      "  copying sklearn\\neighbors\\graph.py -> build\\lib.win-amd64-3.9\\sklearn\\neighbors\n",
      "  copying sklearn\\neighbors\\kde.py -> build\\lib.win-amd64-3.9\\sklearn\\neighbors\n",
      "  copying sklearn\\neighbors\\lof.py -> build\\lib.win-amd64-3.9\\sklearn\\neighbors\n",
      "  copying sklearn\\neighbors\\nearest_centroid.py -> build\\lib.win-amd64-3.9\\sklearn\\neighbors\n",
      "  copying sklearn\\neighbors\\regression.py -> build\\lib.win-amd64-3.9\\sklearn\\neighbors\n",
      "  copying sklearn\\neighbors\\setup.py -> build\\lib.win-amd64-3.9\\sklearn\\neighbors\n",
      "  copying sklearn\\neighbors\\unsupervised.py -> build\\lib.win-amd64-3.9\\sklearn\\neighbors\n",
      "  copying sklearn\\neighbors\\__init__.py -> build\\lib.win-amd64-3.9\\sklearn\\neighbors\n",
      "  creating build\\lib.win-amd64-3.9\\sklearn\\neighbors\\tests\n",
      "  copying sklearn\\neighbors\\tests\\test_approximate.py -> build\\lib.win-amd64-3.9\\sklearn\\neighbors\\tests\n",
      "  copying sklearn\\neighbors\\tests\\test_ball_tree.py -> build\\lib.win-amd64-3.9\\sklearn\\neighbors\\tests\n",
      "  copying sklearn\\neighbors\\tests\\test_dist_metrics.py -> build\\lib.win-amd64-3.9\\sklearn\\neighbors\\tests\n",
      "  copying sklearn\\neighbors\\tests\\test_kde.py -> build\\lib.win-amd64-3.9\\sklearn\\neighbors\\tests\n",
      "  copying sklearn\\neighbors\\tests\\test_kd_tree.py -> build\\lib.win-amd64-3.9\\sklearn\\neighbors\\tests\n",
      "  copying sklearn\\neighbors\\tests\\test_lof.py -> build\\lib.win-amd64-3.9\\sklearn\\neighbors\\tests\n",
      "  copying sklearn\\neighbors\\tests\\test_nearest_centroid.py -> build\\lib.win-amd64-3.9\\sklearn\\neighbors\\tests\n",
      "  copying sklearn\\neighbors\\tests\\test_neighbors.py -> build\\lib.win-amd64-3.9\\sklearn\\neighbors\\tests\n",
      "  copying sklearn\\neighbors\\tests\\test_quad_tree.py -> build\\lib.win-amd64-3.9\\sklearn\\neighbors\\tests\n",
      "  copying sklearn\\neighbors\\tests\\__init__.py -> build\\lib.win-amd64-3.9\\sklearn\\neighbors\\tests\n",
      "  creating build\\lib.win-amd64-3.9\\sklearn\\tree\n",
      "  copying sklearn\\tree\\export.py -> build\\lib.win-amd64-3.9\\sklearn\\tree\n",
      "  copying sklearn\\tree\\setup.py -> build\\lib.win-amd64-3.9\\sklearn\\tree\n",
      "  copying sklearn\\tree\\tree.py -> build\\lib.win-amd64-3.9\\sklearn\\tree\n",
      "  copying sklearn\\tree\\__init__.py -> build\\lib.win-amd64-3.9\\sklearn\\tree\n",
      "  creating build\\lib.win-amd64-3.9\\sklearn\\tree\\tests\n",
      "  copying sklearn\\tree\\tests\\test_export.py -> build\\lib.win-amd64-3.9\\sklearn\\tree\\tests\n",
      "  copying sklearn\\tree\\tests\\test_tree.py -> build\\lib.win-amd64-3.9\\sklearn\\tree\\tests\n",
      "  copying sklearn\\tree\\tests\\__init__.py -> build\\lib.win-amd64-3.9\\sklearn\\tree\\tests\n",
      "  creating build\\lib.win-amd64-3.9\\sklearn\\svm\n",
      "  copying sklearn\\svm\\base.py -> build\\lib.win-amd64-3.9\\sklearn\\svm\n",
      "  copying sklearn\\svm\\bounds.py -> build\\lib.win-amd64-3.9\\sklearn\\svm\n",
      "  copying sklearn\\svm\\classes.py -> build\\lib.win-amd64-3.9\\sklearn\\svm\n",
      "  copying sklearn\\svm\\setup.py -> build\\lib.win-amd64-3.9\\sklearn\\svm\n",
      "  copying sklearn\\svm\\__init__.py -> build\\lib.win-amd64-3.9\\sklearn\\svm\n",
      "  creating build\\lib.win-amd64-3.9\\sklearn\\svm\\tests\n",
      "  copying sklearn\\svm\\tests\\test_bounds.py -> build\\lib.win-amd64-3.9\\sklearn\\svm\\tests\n",
      "  copying sklearn\\svm\\tests\\test_sparse.py -> build\\lib.win-amd64-3.9\\sklearn\\svm\\tests\n",
      "  copying sklearn\\svm\\tests\\test_svm.py -> build\\lib.win-amd64-3.9\\sklearn\\svm\\tests\n",
      "  copying sklearn\\svm\\tests\\__init__.py -> build\\lib.win-amd64-3.9\\sklearn\\svm\\tests\n",
      "  creating build\\lib.win-amd64-3.9\\sklearn\\linear_model\n",
      "  copying sklearn\\linear_model\\base.py -> build\\lib.win-amd64-3.9\\sklearn\\linear_model\n",
      "  copying sklearn\\linear_model\\bayes.py -> build\\lib.win-amd64-3.9\\sklearn\\linear_model\n",
      "  copying sklearn\\linear_model\\coordinate_descent.py -> build\\lib.win-amd64-3.9\\sklearn\\linear_model\n",
      "  copying sklearn\\linear_model\\huber.py -> build\\lib.win-amd64-3.9\\sklearn\\linear_model\n",
      "  copying sklearn\\linear_model\\least_angle.py -> build\\lib.win-amd64-3.9\\sklearn\\linear_model\n",
      "  copying sklearn\\linear_model\\logistic.py -> build\\lib.win-amd64-3.9\\sklearn\\linear_model\n",
      "  copying sklearn\\linear_model\\omp.py -> build\\lib.win-amd64-3.9\\sklearn\\linear_model\n",
      "  copying sklearn\\linear_model\\passive_aggressive.py -> build\\lib.win-amd64-3.9\\sklearn\\linear_model\n",
      "  copying sklearn\\linear_model\\perceptron.py -> build\\lib.win-amd64-3.9\\sklearn\\linear_model\n",
      "  copying sklearn\\linear_model\\randomized_l1.py -> build\\lib.win-amd64-3.9\\sklearn\\linear_model\n",
      "  copying sklearn\\linear_model\\ransac.py -> build\\lib.win-amd64-3.9\\sklearn\\linear_model\n",
      "  copying sklearn\\linear_model\\ridge.py -> build\\lib.win-amd64-3.9\\sklearn\\linear_model\n",
      "  copying sklearn\\linear_model\\sag.py -> build\\lib.win-amd64-3.9\\sklearn\\linear_model\n",
      "  copying sklearn\\linear_model\\setup.py -> build\\lib.win-amd64-3.9\\sklearn\\linear_model\n",
      "  copying sklearn\\linear_model\\stochastic_gradient.py -> build\\lib.win-amd64-3.9\\sklearn\\linear_model\n",
      "  copying sklearn\\linear_model\\theil_sen.py -> build\\lib.win-amd64-3.9\\sklearn\\linear_model\n",
      "  copying sklearn\\linear_model\\__init__.py -> build\\lib.win-amd64-3.9\\sklearn\\linear_model\n",
      "  creating build\\lib.win-amd64-3.9\\sklearn\\linear_model\\tests\n",
      "  copying sklearn\\linear_model\\tests\\test_base.py -> build\\lib.win-amd64-3.9\\sklearn\\linear_model\\tests\n",
      "  copying sklearn\\linear_model\\tests\\test_bayes.py -> build\\lib.win-amd64-3.9\\sklearn\\linear_model\\tests\n",
      "  copying sklearn\\linear_model\\tests\\test_coordinate_descent.py -> build\\lib.win-amd64-3.9\\sklearn\\linear_model\\tests\n",
      "  copying sklearn\\linear_model\\tests\\test_huber.py -> build\\lib.win-amd64-3.9\\sklearn\\linear_model\\tests\n",
      "  copying sklearn\\linear_model\\tests\\test_least_angle.py -> build\\lib.win-amd64-3.9\\sklearn\\linear_model\\tests\n",
      "  copying sklearn\\linear_model\\tests\\test_logistic.py -> build\\lib.win-amd64-3.9\\sklearn\\linear_model\\tests\n",
      "  copying sklearn\\linear_model\\tests\\test_omp.py -> build\\lib.win-amd64-3.9\\sklearn\\linear_model\\tests\n",
      "  copying sklearn\\linear_model\\tests\\test_passive_aggressive.py -> build\\lib.win-amd64-3.9\\sklearn\\linear_model\\tests\n",
      "  copying sklearn\\linear_model\\tests\\test_perceptron.py -> build\\lib.win-amd64-3.9\\sklearn\\linear_model\\tests\n",
      "  copying sklearn\\linear_model\\tests\\test_randomized_l1.py -> build\\lib.win-amd64-3.9\\sklearn\\linear_model\\tests\n",
      "  copying sklearn\\linear_model\\tests\\test_ransac.py -> build\\lib.win-amd64-3.9\\sklearn\\linear_model\\tests\n",
      "  copying sklearn\\linear_model\\tests\\test_ridge.py -> build\\lib.win-amd64-3.9\\sklearn\\linear_model\\tests\n",
      "  copying sklearn\\linear_model\\tests\\test_sag.py -> build\\lib.win-amd64-3.9\\sklearn\\linear_model\\tests\n",
      "  copying sklearn\\linear_model\\tests\\test_sgd.py -> build\\lib.win-amd64-3.9\\sklearn\\linear_model\\tests\n",
      "  copying sklearn\\linear_model\\tests\\test_sparse_coordinate_descent.py -> build\\lib.win-amd64-3.9\\sklearn\\linear_model\\tests\n",
      "  copying sklearn\\linear_model\\tests\\test_theil_sen.py -> build\\lib.win-amd64-3.9\\sklearn\\linear_model\\tests\n",
      "  copying sklearn\\linear_model\\tests\\__init__.py -> build\\lib.win-amd64-3.9\\sklearn\\linear_model\\tests\n",
      "  creating build\\lib.win-amd64-3.9\\sklearn\\utils\n",
      "  copying sklearn\\utils\\arpack.py -> build\\lib.win-amd64-3.9\\sklearn\\utils\n",
      "  copying sklearn\\utils\\bench.py -> build\\lib.win-amd64-3.9\\sklearn\\utils\n",
      "  copying sklearn\\utils\\class_weight.py -> build\\lib.win-amd64-3.9\\sklearn\\utils\n",
      "  copying sklearn\\utils\\deprecation.py -> build\\lib.win-amd64-3.9\\sklearn\\utils\n",
      "  copying sklearn\\utils\\estimator_checks.py -> build\\lib.win-amd64-3.9\\sklearn\\utils\n",
      "  copying sklearn\\utils\\extmath.py -> build\\lib.win-amd64-3.9\\sklearn\\utils\n",
      "  copying sklearn\\utils\\fixes.py -> build\\lib.win-amd64-3.9\\sklearn\\utils\n",
      "  copying sklearn\\utils\\graph.py -> build\\lib.win-amd64-3.9\\sklearn\\utils\n",
      "  copying sklearn\\utils\\linear_assignment_.py -> build\\lib.win-amd64-3.9\\sklearn\\utils\n",
      "  copying sklearn\\utils\\metaestimators.py -> build\\lib.win-amd64-3.9\\sklearn\\utils\n",
      "  copying sklearn\\utils\\mocking.py -> build\\lib.win-amd64-3.9\\sklearn\\utils\n",
      "  copying sklearn\\utils\\multiclass.py -> build\\lib.win-amd64-3.9\\sklearn\\utils\n",
      "  copying sklearn\\utils\\optimize.py -> build\\lib.win-amd64-3.9\\sklearn\\utils\n",
      "  copying sklearn\\utils\\random.py -> build\\lib.win-amd64-3.9\\sklearn\\utils\n",
      "  copying sklearn\\utils\\setup.py -> build\\lib.win-amd64-3.9\\sklearn\\utils\n",
      "  copying sklearn\\utils\\sparsefuncs.py -> build\\lib.win-amd64-3.9\\sklearn\\utils\n",
      "  copying sklearn\\utils\\stats.py -> build\\lib.win-amd64-3.9\\sklearn\\utils\n",
      "  copying sklearn\\utils\\testing.py -> build\\lib.win-amd64-3.9\\sklearn\\utils\n",
      "  copying sklearn\\utils\\validation.py -> build\\lib.win-amd64-3.9\\sklearn\\utils\n",
      "  copying sklearn\\utils\\_joblib.py -> build\\lib.win-amd64-3.9\\sklearn\\utils\n",
      "  copying sklearn\\utils\\_scipy_sparse_lsqr_backport.py -> build\\lib.win-amd64-3.9\\sklearn\\utils\n",
      "  copying sklearn\\utils\\_show_versions.py -> build\\lib.win-amd64-3.9\\sklearn\\utils\n",
      "  copying sklearn\\utils\\_unittest_backport.py -> build\\lib.win-amd64-3.9\\sklearn\\utils\n",
      "  copying sklearn\\utils\\__init__.py -> build\\lib.win-amd64-3.9\\sklearn\\utils\n",
      "  creating build\\lib.win-amd64-3.9\\sklearn\\utils\\sparsetools\n",
      "  copying sklearn\\utils\\sparsetools\\setup.py -> build\\lib.win-amd64-3.9\\sklearn\\utils\\sparsetools\n",
      "  copying sklearn\\utils\\sparsetools\\__init__.py -> build\\lib.win-amd64-3.9\\sklearn\\utils\\sparsetools\n",
      "  creating build\\lib.win-amd64-3.9\\sklearn\\utils\\sparsetools\\tests\n",
      "  copying sklearn\\utils\\sparsetools\\tests\\__init__.py -> build\\lib.win-amd64-3.9\\sklearn\\utils\\sparsetools\\tests\n",
      "  creating build\\lib.win-amd64-3.9\\sklearn\\utils\\tests\n",
      "  copying sklearn\\utils\\tests\\test_bench.py -> build\\lib.win-amd64-3.9\\sklearn\\utils\\tests\n",
      "  copying sklearn\\utils\\tests\\test_class_weight.py -> build\\lib.win-amd64-3.9\\sklearn\\utils\\tests\n",
      "  copying sklearn\\utils\\tests\\test_deprecation.py -> build\\lib.win-amd64-3.9\\sklearn\\utils\\tests\n",
      "  copying sklearn\\utils\\tests\\test_estimator_checks.py -> build\\lib.win-amd64-3.9\\sklearn\\utils\\tests\n",
      "  copying sklearn\\utils\\tests\\test_extmath.py -> build\\lib.win-amd64-3.9\\sklearn\\utils\\tests\n",
      "  copying sklearn\\utils\\tests\\test_fast_dict.py -> build\\lib.win-amd64-3.9\\sklearn\\utils\\tests\n",
      "  copying sklearn\\utils\\tests\\test_fixes.py -> build\\lib.win-amd64-3.9\\sklearn\\utils\\tests\n",
      "  copying sklearn\\utils\\tests\\test_graph.py -> build\\lib.win-amd64-3.9\\sklearn\\utils\\tests\n",
      "  copying sklearn\\utils\\tests\\test_linear_assignment.py -> build\\lib.win-amd64-3.9\\sklearn\\utils\\tests\n",
      "  copying sklearn\\utils\\tests\\test_metaestimators.py -> build\\lib.win-amd64-3.9\\sklearn\\utils\\tests\n",
      "  copying sklearn\\utils\\tests\\test_multiclass.py -> build\\lib.win-amd64-3.9\\sklearn\\utils\\tests\n",
      "  copying sklearn\\utils\\tests\\test_murmurhash.py -> build\\lib.win-amd64-3.9\\sklearn\\utils\\tests\n",
      "  copying sklearn\\utils\\tests\\test_optimize.py -> build\\lib.win-amd64-3.9\\sklearn\\utils\\tests\n",
      "  copying sklearn\\utils\\tests\\test_random.py -> build\\lib.win-amd64-3.9\\sklearn\\utils\\tests\n",
      "  copying sklearn\\utils\\tests\\test_seq_dataset.py -> build\\lib.win-amd64-3.9\\sklearn\\utils\\tests\n",
      "  copying sklearn\\utils\\tests\\test_shortest_path.py -> build\\lib.win-amd64-3.9\\sklearn\\utils\\tests\n",
      "  copying sklearn\\utils\\tests\\test_show_versions.py -> build\\lib.win-amd64-3.9\\sklearn\\utils\\tests\n",
      "  copying sklearn\\utils\\tests\\test_sparsefuncs.py -> build\\lib.win-amd64-3.9\\sklearn\\utils\\tests\n",
      "  copying sklearn\\utils\\tests\\test_stats.py -> build\\lib.win-amd64-3.9\\sklearn\\utils\\tests\n",
      "  copying sklearn\\utils\\tests\\test_testing.py -> build\\lib.win-amd64-3.9\\sklearn\\utils\\tests\n",
      "  copying sklearn\\utils\\tests\\test_utils.py -> build\\lib.win-amd64-3.9\\sklearn\\utils\\tests\n",
      "  copying sklearn\\utils\\tests\\test_validation.py -> build\\lib.win-amd64-3.9\\sklearn\\utils\\tests\n",
      "  copying sklearn\\utils\\tests\\__init__.py -> build\\lib.win-amd64-3.9\\sklearn\\utils\\tests\n",
      "  creating build\\lib.win-amd64-3.9\\sklearn\\tests\n",
      "  copying sklearn\\tests\\test_base.py -> build\\lib.win-amd64-3.9\\sklearn\\tests\n",
      "  copying sklearn\\tests\\test_calibration.py -> build\\lib.win-amd64-3.9\\sklearn\\tests\n",
      "  copying sklearn\\tests\\test_check_build.py -> build\\lib.win-amd64-3.9\\sklearn\\tests\n",
      "  copying sklearn\\tests\\test_common.py -> build\\lib.win-amd64-3.9\\sklearn\\tests\n",
      "  copying sklearn\\tests\\test_config.py -> build\\lib.win-amd64-3.9\\sklearn\\tests\n",
      "  copying sklearn\\tests\\test_discriminant_analysis.py -> build\\lib.win-amd64-3.9\\sklearn\\tests\n",
      "  copying sklearn\\tests\\test_docstring_parameters.py -> build\\lib.win-amd64-3.9\\sklearn\\tests\n",
      "  copying sklearn\\tests\\test_dummy.py -> build\\lib.win-amd64-3.9\\sklearn\\tests\n",
      "  copying sklearn\\tests\\test_impute.py -> build\\lib.win-amd64-3.9\\sklearn\\tests\n",
      "  copying sklearn\\tests\\test_init.py -> build\\lib.win-amd64-3.9\\sklearn\\tests\n",
      "  copying sklearn\\tests\\test_isotonic.py -> build\\lib.win-amd64-3.9\\sklearn\\tests\n",
      "  copying sklearn\\tests\\test_kernel_approximation.py -> build\\lib.win-amd64-3.9\\sklearn\\tests\n",
      "  copying sklearn\\tests\\test_kernel_ridge.py -> build\\lib.win-amd64-3.9\\sklearn\\tests\n",
      "  copying sklearn\\tests\\test_metaestimators.py -> build\\lib.win-amd64-3.9\\sklearn\\tests\n",
      "  copying sklearn\\tests\\test_multiclass.py -> build\\lib.win-amd64-3.9\\sklearn\\tests\n",
      "  copying sklearn\\tests\\test_multioutput.py -> build\\lib.win-amd64-3.9\\sklearn\\tests\n",
      "  copying sklearn\\tests\\test_naive_bayes.py -> build\\lib.win-amd64-3.9\\sklearn\\tests\n",
      "  copying sklearn\\tests\\test_pipeline.py -> build\\lib.win-amd64-3.9\\sklearn\\tests\n",
      "  copying sklearn\\tests\\test_random_projection.py -> build\\lib.win-amd64-3.9\\sklearn\\tests\n",
      "  copying sklearn\\tests\\test_site_joblib.py -> build\\lib.win-amd64-3.9\\sklearn\\tests\n",
      "  copying sklearn\\tests\\__init__.py -> build\\lib.win-amd64-3.9\\sklearn\\tests\n",
      "  running build_clib\n",
      "  No module named 'numpy.distutils._msvccompiler' in numpy.distutils; trying from distutils\n",
      "  customize MSVCCompiler\n",
      "  Missing compiler_cxx fix for MSVCCompiler\n",
      "  customize MSVCCompiler using build_clib\n",
      "  CCompilerOpt.cc_test_flags[1013] : testing flags (/O2)\n",
      "  error: Microsoft Visual C++ 14.0 or greater is required. Get it with \"Microsoft C++ Build Tools\": https://visualstudio.microsoft.com/visual-cpp-build-tools/\n",
      "  CCompilerOpt.cache_flush[809] : write cache to path -> C:\\Users\\venag\\AppData\\Local\\Temp\\pip-install-686hxjp8\\scikit-learn_db0e08fe44c24150a4802fe5222a3c25\\build\\temp.win-amd64-3.9\\ccompiler_opt_cache_clib.py\n",
      "  [end of output]\n",
      "  \n",
      "  note: This error originates from a subprocess, and is likely not a problem with pip.\n",
      "error: legacy-install-failure\n",
      "\n",
      "Encountered error while trying to install package.\n",
      "\n",
      "scikit-learn\n",
      "\n",
      "note: This is an issue with the package mentioned above, not pip.\n",
      "hint: See above for output from the failure.\n"
     ]
    }
   ],
   "execution_count": 19
  },
  {
   "cell_type": "code",
   "execution_count": 18,
   "outputs": [
    {
     "ename": "ImportError",
     "evalue": "cannot import name 'Imputer' from 'sklearn.preprocessing' (C:\\Users\\venag\\anaconda3\\envs\\tf\\lib\\site-packages\\sklearn\\preprocessing\\__init__.py)",
     "output_type": "error",
     "traceback": [
      "\u001B[1;31m---------------------------------------------------------------------------\u001B[0m",
      "\u001B[1;31mImportError\u001B[0m                               Traceback (most recent call last)",
      "Cell \u001B[1;32mIn [18], line 1\u001B[0m\n\u001B[1;32m----> 1\u001B[0m \u001B[38;5;28;01mfrom\u001B[39;00m \u001B[38;5;21;01msklearn\u001B[39;00m\u001B[38;5;21;01m.\u001B[39;00m\u001B[38;5;21;01mpreprocessing\u001B[39;00m \u001B[38;5;28;01mimport\u001B[39;00m Imputer\n",
      "\u001B[1;31mImportError\u001B[0m: cannot import name 'Imputer' from 'sklearn.preprocessing' (C:\\Users\\venag\\anaconda3\\envs\\tf\\lib\\site-packages\\sklearn\\preprocessing\\__init__.py)"
     ]
    }
   ],
   "source": [
    "from sklearn.preprocessing import Imputer"
   ],
   "metadata": {
    "collapsed": false
   }
  },
  {
   "cell_type": "code",
   "execution_count": null,
   "metadata": {},
   "outputs": [],
   "source": [
    "imputer = Imputer(missing_values='NaN', strategy='mean', axis=0, verbose=0, copy=True)"
   ]
  },
  {
   "cell_type": "code",
   "execution_count": null,
   "metadata": {
    "scrolled": true
   },
   "outputs": [],
   "source": [
    "imputer.fit(X_train)"
   ]
  },
  {
   "cell_type": "code",
   "execution_count": null,
   "metadata": {},
   "outputs": [],
   "source": [
    "X_train_imputed = imputer.transform(X_train)\n",
    "X_train_imputed = pd.DataFrame(X_train_imputed, columns=columns)"
   ]
  },
  {
   "cell_type": "code",
   "execution_count": null,
   "metadata": {},
   "outputs": [],
   "source": [
    "X_train_imputed.head(10)"
   ]
  },
  {
   "cell_type": "markdown",
   "metadata": {},
   "source": [
    "### Нормировка значений"
   ]
  },
  {
   "cell_type": "code",
   "execution_count": null,
   "metadata": {
    "collapsed": true
   },
   "outputs": [],
   "source": [
    "from sklearn.preprocessing import StandardScaler"
   ]
  },
  {
   "cell_type": "code",
   "execution_count": null,
   "metadata": {
    "collapsed": true
   },
   "outputs": [],
   "source": [
    "scaler = StandardScaler()"
   ]
  },
  {
   "cell_type": "code",
   "execution_count": null,
   "metadata": {},
   "outputs": [],
   "source": [
    "scaler.fit(X_train_imputed)"
   ]
  },
  {
   "cell_type": "code",
   "execution_count": null,
   "metadata": {
    "collapsed": true
   },
   "outputs": [],
   "source": [
    "X_train_imputed_scaled = scaler.transform(X_train_imputed)\n",
    "X_train_imputed_scaled = pd.DataFrame(X_train_imputed_scaled, columns=columns)"
   ]
  },
  {
   "cell_type": "code",
   "execution_count": null,
   "metadata": {},
   "outputs": [],
   "source": [
    "X_train_imputed_scaled.head(10)"
   ]
  },
  {
   "cell_type": "code",
   "execution_count": null,
   "metadata": {
    "collapsed": true
   },
   "outputs": [],
   "source": [
    "X_test_imputed_scaled = scaler.transform(imputer.transform(X_test))"
   ]
  },
  {
   "cell_type": "markdown",
   "metadata": {},
   "source": [
    "### Offtop: попробуем визуализировать всех пассажиров: есть ли там кластеры?\n",
    "### PCA + clustering"
   ]
  },
  {
   "cell_type": "code",
   "execution_count": null,
   "metadata": {
    "collapsed": true
   },
   "outputs": [],
   "source": [
    "from sklearn.decomposition import PCA"
   ]
  },
  {
   "cell_type": "code",
   "execution_count": null,
   "metadata": {
    "collapsed": true
   },
   "outputs": [],
   "source": [
    "pca = PCA(n_components=2)"
   ]
  },
  {
   "cell_type": "code",
   "execution_count": null,
   "metadata": {
    "collapsed": true
   },
   "outputs": [],
   "source": [
    "ppl = pca.fit_transform(X_train_imputed_scaled)"
   ]
  },
  {
   "cell_type": "markdown",
   "metadata": {},
   "source": [
    "всего 2 фичи объясняют 41% всего разнообразия пассажиров:"
   ]
  },
  {
   "cell_type": "code",
   "execution_count": null,
   "metadata": {},
   "outputs": [],
   "source": [
    "pca.explained_variance_ratio_.sum()"
   ]
  },
  {
   "cell_type": "markdown",
   "metadata": {},
   "source": [
    "классно, видно 6 кластеров пассажиров: внутри кластера они похожи друг на друга, межу кластерами - нет:"
   ]
  },
  {
   "cell_type": "code",
   "execution_count": null,
   "metadata": {},
   "outputs": [],
   "source": [
    "plt.plot(ppl[:,0], ppl[:,1], 'ro', alpha=0.1)\n",
    "plt.title('Пассажиры Титаника')"
   ]
  },
  {
   "cell_type": "markdown",
   "metadata": {},
   "source": [
    "можно попробовать кластеризовать по 7 кластерам и проверить, что получится:"
   ]
  },
  {
   "cell_type": "code",
   "execution_count": null,
   "metadata": {
    "collapsed": true
   },
   "outputs": [],
   "source": [
    "from sklearn.cluster import KMeans"
   ]
  },
  {
   "cell_type": "code",
   "execution_count": null,
   "metadata": {
    "collapsed": true
   },
   "outputs": [],
   "source": [
    "n_clusters = 7"
   ]
  },
  {
   "cell_type": "code",
   "execution_count": null,
   "metadata": {
    "collapsed": true
   },
   "outputs": [],
   "source": [
    "kmeans = KMeans(n_clusters=n_clusters)"
   ]
  },
  {
   "cell_type": "code",
   "execution_count": null,
   "metadata": {},
   "outputs": [],
   "source": [
    "kmeans.fit(X_train_imputed_scaled)"
   ]
  },
  {
   "cell_type": "code",
   "execution_count": null,
   "metadata": {
    "collapsed": true
   },
   "outputs": [],
   "source": [
    "cluster_labels = kmeans.predict(X_train_imputed_scaled)"
   ]
  },
  {
   "cell_type": "code",
   "execution_count": null,
   "metadata": {},
   "outputs": [],
   "source": [
    "plt.title('Пассажиры Титаника')\n",
    "for i,color in zip(range(n_clusters),{'blue','red','green','black','orange','yellow'}):\n",
    "    t = ppl[cluster_labels==i]\n",
    "    plt.plot(t[:,0], t[:,1], 'ro', alpha=0.1, c=color)"
   ]
  },
  {
   "cell_type": "markdown",
   "metadata": {},
   "source": [
    "эти номера кластеров можно было бы подать как ещё одна фича"
   ]
  },
  {
   "cell_type": "markdown",
   "metadata": {},
   "source": [
    "### Разделение на обучающую и тестирующую выборки"
   ]
  },
  {
   "cell_type": "code",
   "execution_count": null,
   "metadata": {},
   "outputs": [],
   "source": [
    "from sklearn.model_selection import train_test_split"
   ]
  },
  {
   "cell_type": "code",
   "execution_count": null,
   "metadata": {
    "collapsed": true
   },
   "outputs": [],
   "source": [
    "X_train_fin, X_val, y_train_fin, y_val = train_test_split(X_train_imputed_scaled, y_train, test_size=0.2)"
   ]
  },
  {
   "cell_type": "code",
   "execution_count": null,
   "metadata": {},
   "outputs": [],
   "source": [
    "X_train_fin.shape"
   ]
  },
  {
   "cell_type": "code",
   "execution_count": null,
   "metadata": {},
   "outputs": [],
   "source": [
    "X_val.shape"
   ]
  },
  {
   "cell_type": "code",
   "execution_count": null,
   "metadata": {},
   "outputs": [],
   "source": [
    "X_test_imputed_scaled.shape"
   ]
  },
  {
   "cell_type": "code",
   "execution_count": null,
   "metadata": {},
   "outputs": [],
   "source": [
    "y_train_fin.shape"
   ]
  },
  {
   "cell_type": "code",
   "execution_count": null,
   "metadata": {},
   "outputs": [],
   "source": [
    "y_val.shape"
   ]
  },
  {
   "cell_type": "markdown",
   "metadata": {},
   "source": [
    "### Обучение с кросс-валидацией"
   ]
  },
  {
   "cell_type": "markdown",
   "metadata": {},
   "source": [
    "кросс-валидация поможет нам подобрать лучший параметр регуляризации"
   ]
  },
  {
   "cell_type": "code",
   "execution_count": null,
   "metadata": {
    "collapsed": true
   },
   "outputs": [],
   "source": [
    "from sklearn.model_selection import GridSearchCV\n",
    "from sklearn.linear_model import LogisticRegression"
   ]
  },
  {
   "cell_type": "code",
   "execution_count": null,
   "metadata": {},
   "outputs": [],
   "source": [
    "cs = 10**np.linspace(-3,1,5)\n",
    "cs"
   ]
  },
  {
   "cell_type": "code",
   "execution_count": null,
   "metadata": {},
   "outputs": [],
   "source": [
    "grid = {'C': cs}#, 'max_features': features_num}\n",
    "gridsearch = GridSearchCV(LogisticRegression(), grid, scoring='accuracy', cv=5)"
   ]
  },
  {
   "cell_type": "code",
   "execution_count": null,
   "metadata": {
    "scrolled": false
   },
   "outputs": [],
   "source": [
    "%%time\n",
    "gridsearch.fit(X_train_fin, y_train_fin)"
   ]
  },
  {
   "cell_type": "code",
   "execution_count": null,
   "metadata": {},
   "outputs": [],
   "source": [
    "sorted(gridsearch.grid_scores_, key = lambda x: -x.mean_validation_score)"
   ]
  },
  {
   "cell_type": "code",
   "execution_count": null,
   "metadata": {},
   "outputs": [],
   "source": [
    "gridsearch.best_params_"
   ]
  },
  {
   "cell_type": "code",
   "execution_count": null,
   "metadata": {
    "collapsed": true
   },
   "outputs": [],
   "source": [
    "best_C = gridsearch.best_params_[\"C\"]"
   ]
  },
  {
   "cell_type": "markdown",
   "metadata": {},
   "source": [
    "# Оценка точности"
   ]
  },
  {
   "cell_type": "code",
   "execution_count": null,
   "metadata": {
    "collapsed": true
   },
   "outputs": [],
   "source": [
    "from sklearn.metrics import accuracy_score"
   ]
  },
  {
   "cell_type": "code",
   "execution_count": null,
   "metadata": {
    "collapsed": true
   },
   "outputs": [],
   "source": [
    "clf = LogisticRegression(C=best_C)"
   ]
  },
  {
   "cell_type": "code",
   "execution_count": null,
   "metadata": {},
   "outputs": [],
   "source": [
    "clf.fit(X_train_fin, y_train_fin)"
   ]
  },
  {
   "cell_type": "code",
   "execution_count": null,
   "metadata": {},
   "outputs": [],
   "source": [
    "y_val_pred = clf.predict(X_val)"
   ]
  },
  {
   "cell_type": "code",
   "execution_count": null,
   "metadata": {},
   "outputs": [],
   "source": [
    "accuracy_score(y_val, y_val_pred)"
   ]
  },
  {
   "cell_type": "markdown",
   "metadata": {},
   "source": [
    "# Финальное предсказание"
   ]
  },
  {
   "cell_type": "code",
   "execution_count": null,
   "metadata": {},
   "outputs": [],
   "source": [
    "clf.fit(X_train_imputed_scaled, y_train)"
   ]
  },
  {
   "cell_type": "markdown",
   "metadata": {},
   "source": [
    "предсказание вероятностей принадлежности классу 0 и 1:"
   ]
  },
  {
   "cell_type": "code",
   "execution_count": null,
   "metadata": {
    "scrolled": false
   },
   "outputs": [],
   "source": [
    "clf.predict_proba(X_test_imputed_scaled)[:10]"
   ]
  },
  {
   "cell_type": "markdown",
   "metadata": {},
   "source": [
    "предсказание номера класса:"
   ]
  },
  {
   "cell_type": "code",
   "execution_count": null,
   "metadata": {
    "scrolled": false
   },
   "outputs": [],
   "source": [
    "predictions = clf.predict(X_test_imputed_scaled)\n",
    "predictions"
   ]
  },
  {
   "cell_type": "code",
   "execution_count": null,
   "metadata": {},
   "outputs": [],
   "source": [
    "submussion = 'PassengerId,Survived\\n'\n",
    "submussion += \"\\n\".join([\"{},{}\".format(pid, prediction) for pid, prediction in zip(test.PassengerId, predictions)])"
   ]
  },
  {
   "cell_type": "code",
   "execution_count": null,
   "metadata": {
    "collapsed": true
   },
   "outputs": [],
   "source": [
    "with open('submission.txt', 'w') as file:\n",
    "    file.write(submussion)"
   ]
  },
  {
   "cell_type": "code",
   "execution_count": null,
   "metadata": {},
   "outputs": [],
   "source": [
    "for col, val in zip(X_train.columns, clf.coef_[0]):\n",
    "    print(\"{:30} {:.2f}\".format(col, val))"
   ]
  },
  {
   "cell_type": "markdown",
   "metadata": {},
   "source": [
    "Регрессия позволяет посмотреть влияние различных факторов на принятое решение. Так, видно, что женский пол, маленький возраст и первый класс являлись сильными предпосылками к выживанию"
   ]
  }
 ],
 "metadata": {
  "anaconda-cloud": {},
  "kernelspec": {
   "name": "python3",
   "language": "python",
   "display_name": "Python 3 (ipykernel)"
  },
  "language_info": {
   "codemirror_mode": {
    "name": "ipython",
    "version": 3
   },
   "file_extension": ".py",
   "mimetype": "text/x-python",
   "name": "python",
   "nbconvert_exporter": "python",
   "pygments_lexer": "ipython3",
   "version": "3.5.2"
  }
 },
 "nbformat": 4,
 "nbformat_minor": 2
}
