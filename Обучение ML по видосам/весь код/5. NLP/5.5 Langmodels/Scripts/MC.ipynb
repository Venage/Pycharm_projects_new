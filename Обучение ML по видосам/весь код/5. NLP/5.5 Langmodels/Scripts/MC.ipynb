{
 "cells": [
  {
   "cell_type": "markdown",
   "metadata": {
    "deletable": true,
    "editable": true
   },
   "source": [
    "https://tproger.ru/translations/markov-chains/"
   ]
  },
  {
   "cell_type": "markdown",
   "metadata": {
    "deletable": true,
    "editable": true
   },
   "source": [
    "# Цепи Маркова для автоматической генерации текcтов"
   ]
  },
  {
   "cell_type": "markdown",
   "metadata": {
    "deletable": true,
    "editable": true
   },
   "source": [
    "## Структура данных Dictogram"
   ]
  },
  {
   "cell_type": "markdown",
   "metadata": {
    "deletable": true,
    "editable": true
   },
   "source": [
    "Dictogram (dict — встроенный тип данных словарь в Python) будет отображать зависимость между звеньями и их частотой появления в тексте, то есть их распределение. Но при этом она будет обладать нужным нам свойством словаря — время выполнения программы не будет зависеть от объема входных данных, а это значит, мы создаем эффективный алгоритм."
   ]
  },
  {
   "cell_type": "code",
   "execution_count": 2,
   "metadata": {
    "collapsed": true,
    "deletable": true,
    "editable": true
   },
   "outputs": [],
   "source": [
    "import random\n",
    "\n",
    "class Dictogram(dict):\n",
    "    def __init__(self, iterable=None):\n",
    "        # Инициализируем наше распределение как новый объект класса, \n",
    "        # добавляем имеющиеся элементы\n",
    "        super(Dictogram, self).__init__()\n",
    "        self.types = 0  # число уникальных ключей в распределении\n",
    "        self.tokens = 0  # общее количество всех слов в распределении\n",
    "        if iterable:\n",
    "            self.update(iterable)\n",
    "\n",
    "    def update(self, iterable):\n",
    "        # Обновляем распределение элементами из имеющегося \n",
    "        # итерируемого набора данных\n",
    "        for item in iterable:\n",
    "            if item in self:\n",
    "                self[item] += 1\n",
    "                self.tokens += 1\n",
    "            else:\n",
    "                self[item] = 1\n",
    "                self.types += 1\n",
    "                self.tokens += 1\n",
    "\n",
    "    def count(self, item):\n",
    "        # Возвращаем значение счетчика элемента, или 0\n",
    "        if item in self:\n",
    "            return self[item]\n",
    "        return 0\n",
    "\n",
    "    def return_random_word(self):\n",
    "        random_key = random.sample(self, 1)\n",
    "        # Другой способ:\n",
    "        # random.choice(histogram.keys())\n",
    "        return random_key[0]\n",
    "\n",
    "    def return_weighted_random_word(self):\n",
    "        # Сгенерировать псевдослучайное число между 0 и (n-1),\n",
    "        # где n - общее число слов\n",
    "        random_int = random.randint(0, self.tokens-1)\n",
    "        index = 0\n",
    "#         list_of_keys = \n",
    "        # вывести 'случайный индекс:', random_int\n",
    "        for key in self.keys():\n",
    "            index += self[key]\n",
    "            # вывести индекс\n",
    "            if(index > random_int):\n",
    "                # вывести list_of_keys[i]\n",
    "                return key"
   ]
  },
  {
   "cell_type": "markdown",
   "metadata": {
    "deletable": true,
    "editable": true
   },
   "source": [
    "В конструктор структуре Dictogram можно передать любой объект, по которому можно итерироваться. Элементами этого объекта будут слова для инициализации Dictogram, например, все слова из какой-нибудь книги. В данном случае мы ведем подсчет элементов, чтобы для обращения к какому-либо из них не нужно было пробегать каждый раз по всему набору данных.\n",
    "\n",
    "Мы также сделали две функции для возврата случайного слова. Одна функция выбирает случайный ключ в словаре, а другая, принимая во внимание число появлений каждого слова в тексте, возвращает нужное нам слово."
   ]
  },
  {
   "cell_type": "markdown",
   "metadata": {
    "deletable": true,
    "editable": true
   },
   "source": [
    "## Структура цепи Маркова"
   ]
  },
  {
   "cell_type": "code",
   "execution_count": 3,
   "metadata": {
    "collapsed": true,
    "deletable": true,
    "editable": true
   },
   "outputs": [],
   "source": [
    "def make_markov_model(data):\n",
    "    markov_model = dict()\n",
    "\n",
    "    for i in range(0, len(data)-1):\n",
    "        if data[i] in markov_model:\n",
    "            # Просто присоединяем к уже существующему распределению\n",
    "            markov_model[data[i]].update([data[i+1]])\n",
    "        else:\n",
    "            markov_model[data[i]] = Dictogram([data[i+1]])\n",
    "    return markov_model"
   ]
  },
  {
   "cell_type": "markdown",
   "metadata": {
    "deletable": true,
    "editable": true
   },
   "source": [
    "В реализации выше у нас есть словарь, который хранит окна в качестве ключа в паре «(ключ, значение)» и распределения в качестве значений в этой паре."
   ]
  },
  {
   "cell_type": "markdown",
   "metadata": {
    "deletable": true,
    "editable": true
   },
   "source": [
    "## Парсинг модели"
   ]
  },
  {
   "cell_type": "markdown",
   "metadata": {
    "deletable": true,
    "editable": true
   },
   "source": [
    "Отлично, мы реализовали словарь. Но как теперь совершить генерацию контента, основываясь на текущем состоянии и шаге к следующему состоянию? Пройдемся по нашей модели:"
   ]
  },
  {
   "cell_type": "code",
   "execution_count": 4,
   "metadata": {
    "collapsed": true,
    "deletable": true,
    "editable": true
   },
   "outputs": [],
   "source": [
    "from collections import deque\n",
    "import re\n",
    "\n",
    "\n",
    "def generate_random_start(model):\n",
    "    # Чтобы сгенерировать любое начальное слово, раскомментируйте строку:\n",
    "    # return random.choice(model.keys())\n",
    "\n",
    "    # Чтобы сгенерировать \"правильное\" начальное слово, используйте код ниже:\n",
    "    # Правильные начальные слова - это те, что являлись началом предложений в корпусе\n",
    "    if 'END' in model:\n",
    "        seed_word = 'END'\n",
    "        while seed_word == 'END':\n",
    "            seed_word = model['END'].return_weighted_random_word()\n",
    "        return seed_word\n",
    "    return random.choice(list(model.keys()))\n",
    "\n",
    "\n",
    "def generate_random_sentence(length, markov_model):\n",
    "    current_word = generate_random_start(markov_model)\n",
    "    sentence = [current_word]\n",
    "    for i in range(0, length):\n",
    "        current_dictogram = markov_model[current_word]\n",
    "        random_weighted_word = current_dictogram.return_weighted_random_word()\n",
    "        current_word = random_weighted_word\n",
    "        sentence.append(current_word)\n",
    "    sentence[0] = sentence[0].capitalize()\n",
    "    return ' '.join(sentence) + '.'\n",
    "    return sentence"
   ]
  },
  {
   "cell_type": "markdown",
   "metadata": {
    "deletable": true,
    "editable": true
   },
   "source": [
    "Лучше генерировать «правильные» начальные слова – те, которые и в исходном тексте стояли в начале предложения. Для этого мы в словаре находим все ключи «END» и выбираем слово, следующее за одним из них. После генерации начального слова мы ищем, какое слово может идти дальше, обращаясь к тому же словарю, и выбираем нужное на основании комбинации вероятности и случайности. Продолжаем это делать, пока предложение не достигнет установленной нами длины, и в конце возвращаем его. "
   ]
  },
  {
   "cell_type": "markdown",
   "metadata": {
    "deletable": true,
    "editable": true
   },
   "source": [
    "## Примеры"
   ]
  },
  {
   "cell_type": "code",
   "execution_count": 5,
   "metadata": {
    "collapsed": false,
    "deletable": true,
    "editable": true
   },
   "outputs": [
    {
     "name": "stdout",
     "output_type": "stream",
     "text": [
      "101895\n"
     ]
    }
   ],
   "source": [
    "text = open('nietzsche.txt').read()\n",
    "text = text.replace(\"»\", \" END\").replace(\"«\", \"\").replace(\"\\n\", \" \").replace(\".\", \" END\").replace(\",\", \"\")\n",
    "frags = [f.lower() if f != 'END' else f for f in text.split(\" \") if f]\n",
    "print(len(frags))"
   ]
  },
  {
   "cell_type": "markdown",
   "metadata": {
    "deletable": true,
    "editable": true
   },
   "source": [
    "### Для 1-го порядка"
   ]
  },
  {
   "cell_type": "code",
   "execution_count": 6,
   "metadata": {
    "collapsed": false,
    "deletable": true,
    "editable": true,
    "scrolled": true
   },
   "outputs": [],
   "source": [
    "model = make_markov_model(frags)"
   ]
  },
  {
   "cell_type": "code",
   "execution_count": 14,
   "metadata": {
    "collapsed": false
   },
   "outputs": [
    {
     "data": {
      "text/plain": [
       "1307"
      ]
     },
     "execution_count": 14,
     "metadata": {},
     "output_type": "execute_result"
    }
   ],
   "source": [
    "s = 0\n",
    "for i in model['that']: s+= model['that'][i]\n",
    "s\n"
   ]
  },
  {
   "cell_type": "code",
   "execution_count": 7,
   "metadata": {
    "collapsed": false,
    "deletable": true,
    "editable": true
   },
   "outputs": [
    {
     "data": {
      "text/plain": [
       "'And support from every one\"; a \"will to my taste end\" he has been mistaken about germans.. \"i like the earliest alliances: the end of the contemplation of its intellectual superiority in the language shows herself by his shame has on the cross themselves by their conduct and injury and man is the general tendency end\" 4. 55 =ethic discredited. byron sound in the same as with perfect itself beyond the final completeness. 218. oh! friends and love of depth lambent airs it is very useful. but who have hitherto existed--a notion which conduct.'"
      ]
     },
     "execution_count": 7,
     "metadata": {},
     "output_type": "execute_result"
    }
   ],
   "source": [
    "generate_random_sentence(100, model).replace(\" END\", \".\")"
   ]
  },
  {
   "cell_type": "markdown",
   "metadata": {
    "deletable": true,
    "editable": true
   },
   "source": [
    "## Задание. Cтруктура цепи Маркова N-го порядка\n",
    "Допишите функцию ниже для учета предысторий длины 3 (то есть, порядка (order) = 4). \n",
    "Функция состоит из цикла, который:\n",
    "* создает 3-грамы\n",
    "* добавляет их в словарь"
   ]
  },
  {
   "cell_type": "code",
   "execution_count": null,
   "metadata": {
    "collapsed": true,
    "deletable": true,
    "editable": true
   },
   "outputs": [],
   "source": [
    "def make_higher_order_markov_model(order, data):\n",
    "    markov_model = dict()\n",
    "    # ваш код здесь\n",
    "    return markov_model"
   ]
  },
  {
   "cell_type": "code",
   "execution_count": null,
   "metadata": {
    "collapsed": false,
    "deletable": true,
    "editable": true,
    "scrolled": true
   },
   "outputs": [],
   "source": [
    "model = make_higher_order_markov_model(4, frags)"
   ]
  },
  {
   "cell_type": "code",
   "execution_count": null,
   "metadata": {
    "collapsed": true,
    "deletable": true,
    "editable": true
   },
   "outputs": [],
   "source": [
    "def triplet(model, w=''): # функция генерирует случайный первый триплет, начинающийся на END\n",
    "    s = []\n",
    "    if w == 'END':\n",
    "        for i in model:\n",
    "            if i[0] == 'END':\n",
    "                s.append(i)\n",
    "        n = random.randrange(len(s))\n",
    "        return(s[n])\n",
    "    else:\n",
    "        n = random.randrange(len(list(model.keys())))\n",
    "        return(list(model.keys())[n])"
   ]
  },
  {
   "cell_type": "code",
   "execution_count": null,
   "metadata": {
    "collapsed": false,
    "deletable": true,
    "editable": true,
    "scrolled": false
   },
   "outputs": [],
   "source": [
    "def generate(model, length, n=3): # n - это длина \"окна\", должна совпадать с аналогичным параметром модели\n",
    "    current = triplet(model, w='END')\n",
    "    sentence = [i for i in current]\n",
    "    for i in range(3, length+1):\n",
    "        #print(current)\n",
    "        if tuple(current) in model: \n",
    "            current_dictogram = model[tuple(current)]\n",
    "            random_weighted_word = current_dictogram.return_weighted_random_word()\n",
    "            #print(random_weighted_word)\n",
    "            sentence.append(random_weighted_word)\n",
    "            #print(sentence)\n",
    "            current = sentence[i-n+1:i+n]\n",
    "            #print(current)\n",
    "        else:\n",
    "            #print(current)\n",
    "            random_word = triplet(model)\n",
    "            sentence.extend([i for i in random_word])\n",
    "            #print(sentence)\n",
    "            current = sentence[i-n+1:i+n]\n",
    "            \n",
    "    sentence = sentence[1:]\n",
    "    sentence[0] = sentence[0].capitalize()\n",
    "    for i in range (len(sentence)-1):\n",
    "        if sentence[i] == 'END':\n",
    "            sentence[i+1] = sentence[i+1].capitalize()\n",
    "    res = ' '.join(sentence) + '.'\n",
    "    res = re.sub(' END', '.',  res)\n",
    "    return res\n",
    "\n",
    "t = generate(model, 300, 4)\n",
    "print(t)"
   ]
  },
  {
   "cell_type": "markdown",
   "metadata": {
    "deletable": true,
    "editable": true
   },
   "source": [
    "# Библиотека Markovify "
   ]
  },
  {
   "cell_type": "code",
   "execution_count": 1,
   "metadata": {
    "collapsed": true,
    "deletable": true,
    "editable": true
   },
   "outputs": [],
   "source": [
    "import markovify\n",
    "\n",
    "# Get raw text as string.\n",
    "with open('nietzsche.txt') as f:\n",
    "    text = f.read()\n",
    "\n",
    "text_model = markovify.Text(text)"
   ]
  },
  {
   "cell_type": "code",
   "execution_count": 2,
   "metadata": {
    "collapsed": false,
    "deletable": true,
    "editable": true
   },
   "outputs": [
    {
     "name": "stdout",
     "output_type": "stream",
     "text": [
      "The cruelty to themselves to their interest that this contest should always be kept up in his ears away in the cosmos on a time men sacrificed human beings to their pride, and also unfortunately eager to help and save to an extraordinary pitch of feeling and thoughts, whereas it is comprised in one breath.\n",
      "In the new warlike age on which the saint suggested to them singing!\n",
      "Love to one another in respect to all that gave rise to them singing!\n",
      "I am allowed, a little distance from us.\n",
      "The resulting form of gratification in which the struggle for the fact that at present on a Cyclops.\n"
     ]
    }
   ],
   "source": [
    "for i in range(5):\n",
    "    print(text_model.make_sentence())"
   ]
  },
  {
   "cell_type": "code",
   "execution_count": 3,
   "metadata": {
    "collapsed": false,
    "deletable": true,
    "editable": true
   },
   "outputs": [
    {
     "name": "stdout",
     "output_type": "stream",
     "text": [
      "Thus do many thinkers bring themselves to worship stone, stupidity, gravity, fate, nothingness?\n",
      "To be sure, people have not disdained to make use of their own personality.\n",
      "No doubt he has to do that.\n"
     ]
    }
   ],
   "source": [
    "for i in range(3):\n",
    "    print(text_model.make_short_sentence(140))"
   ]
  },
  {
   "cell_type": "code",
   "execution_count": 6,
   "metadata": {
    "collapsed": false,
    "deletable": true,
    "editable": true
   },
   "outputs": [
    {
     "name": "stdout",
     "output_type": "stream",
     "text": [
      "None\n",
      "It seems, therefore, that however little we may imagine ourselves to be as hard punished as Christianity promises he shall be.\n",
      "One evil only did not fly out of the grave of their primitive antiquity!\n"
     ]
    }
   ],
   "source": [
    "text_model = markovify.Text(text, state_size=3)\n",
    "for i in range(3):\n",
    "    print(text_model.make_sentence())"
   ]
  },
  {
   "cell_type": "markdown",
   "metadata": {},
   "source": [
    "# Задание \n",
    "\n",
    "Сгенерируйте текст на русском языке по вашей любимой книге:)"
   ]
  }
 ],
 "metadata": {
  "kernelspec": {
   "display_name": "Python 3",
   "language": "python",
   "name": "python3"
  },
  "language_info": {
   "codemirror_mode": {
    "name": "ipython",
    "version": 3
   },
   "file_extension": ".py",
   "mimetype": "text/x-python",
   "name": "python",
   "nbconvert_exporter": "python",
   "pygments_lexer": "ipython3",
   "version": "3.6.0"
  }
 },
 "nbformat": 4,
 "nbformat_minor": 2
}
