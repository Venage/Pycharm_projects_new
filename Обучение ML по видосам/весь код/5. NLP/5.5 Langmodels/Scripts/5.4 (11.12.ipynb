{
 "cells": [
  {
   "cell_type": "code",
   "execution_count": 16,
   "metadata": {
    "collapsed": false,
    "deletable": true,
    "editable": true
   },
   "outputs": [],
   "source": [
    "KERAS_BACKEND='tensorflow'"
   ]
  },
  {
   "cell_type": "markdown",
   "metadata": {
    "deletable": true,
    "editable": true,
    "slideshow": {
     "slide_type": "slide"
    }
   },
   "source": [
    "# Классификация текстов\n",
    "\n",
    "Для данной задачи выбран датасет с новостными текстами 20newsgroups; мы будем работать с 5 темами: атеизм, хоккей, космос, компьютерная графика и медицина.\n",
    "\n",
    "Ссылка на описание датасета в sklearn:\n",
    "http://scikit-learn.org/stable/modules/generated/sklearn.datasets.fetch_20newsgroups.html\n"
   ]
  },
  {
   "cell_type": "code",
   "execution_count": 1,
   "metadata": {
    "collapsed": true,
    "deletable": true,
    "editable": true,
    "slideshow": {
     "slide_type": "slide"
    }
   },
   "outputs": [],
   "source": [
    "from sklearn.datasets import fetch_20newsgroups\n",
    "\n",
    "categories = ['alt.atheism', 'rec.sport.hockey', 'sci.space', 'comp.graphics' ,'sci.med']\n",
    "twenty_train = fetch_20newsgroups(subset='train', categories=categories, shuffle=True, random_state=42)"
   ]
  },
  {
   "cell_type": "markdown",
   "metadata": {
    "deletable": true,
    "editable": true
   },
   "source": [
    "\n",
    "\n",
    "Переведем документы в векторы признаков:"
   ]
  },
  {
   "cell_type": "code",
   "execution_count": 2,
   "metadata": {
    "collapsed": false,
    "deletable": true,
    "editable": true,
    "slideshow": {
     "slide_type": "subslide"
    }
   },
   "outputs": [
    {
     "data": {
      "text/plain": [
       "(2851, 42911)"
      ]
     },
     "execution_count": 2,
     "metadata": {},
     "output_type": "execute_result"
    }
   ],
   "source": [
    "from sklearn.feature_extraction.text import CountVectorizer\n",
    "\n",
    "count_vect = CountVectorizer()\n",
    "X_train_counts = count_vect.fit_transform(twenty_train.data)\n",
    "X_train_counts.shape"
   ]
  },
  {
   "cell_type": "code",
   "execution_count": 10,
   "metadata": {
    "collapsed": true,
    "deletable": true,
    "editable": true
   },
   "outputs": [],
   "source": [
    "twenty_test = fetch_20newsgroups(subset='test', categories=categories, \n",
    "                                 shuffle=True, random_state=42)"
   ]
  },
  {
   "cell_type": "markdown",
   "metadata": {
    "deletable": true,
    "editable": true
   },
   "source": [
    "## Мультиномиальный наивный Байес (sklearn)"
   ]
  },
  {
   "cell_type": "code",
   "execution_count": 4,
   "metadata": {
    "collapsed": true,
    "deletable": true,
    "editable": true,
    "slideshow": {
     "slide_type": "subslide"
    }
   },
   "outputs": [],
   "source": [
    "from sklearn.naive_bayes import MultinomialNB\n",
    "clf = MultinomialNB().fit(X_train_counts, twenty_train.target)"
   ]
  },
  {
   "cell_type": "code",
   "execution_count": 5,
   "metadata": {
    "collapsed": true,
    "deletable": true,
    "editable": true,
    "slideshow": {
     "slide_type": "subslide"
    }
   },
   "outputs": [],
   "source": [
    "import numpy as np\n",
    "from sklearn.metrics import *\n",
    "twenty_test = fetch_20newsgroups(subset='test', categories=categories, \n",
    "                                 shuffle=True, random_state=42)\n",
    "X_test = count_vect.transform(twenty_test.data)\n",
    "predicted = clf.predict(X_test)"
   ]
  },
  {
   "cell_type": "markdown",
   "metadata": {
    "deletable": true,
    "editable": true
   },
   "source": [
    "Проверяем на примерах"
   ]
  },
  {
   "cell_type": "code",
   "execution_count": 6,
   "metadata": {
    "collapsed": false,
    "deletable": true,
    "editable": true
   },
   "outputs": [
    {
     "name": "stdout",
     "output_type": "stream",
     "text": [
      "Do you believe in God? => alt.atheism\n",
      "OpenGL on the GPU is fast => comp.graphics\n"
     ]
    }
   ],
   "source": [
    "docs_new = ['Do you believe in God?', 'OpenGL on the GPU is fast']\n",
    "X_new_counts = count_vect.transform(docs_new)\n",
    "test_predicted = clf.predict(X_new_counts)\n",
    "\n",
    "for doc, category in zip(docs_new, test_predicted):\n",
    "    print('{} => {}'.format(doc, twenty_train.target_names[category]))"
   ]
  },
  {
   "cell_type": "markdown",
   "metadata": {
    "deletable": true,
    "editable": true
   },
   "source": [
    "Оцениваем качество"
   ]
  },
  {
   "cell_type": "code",
   "execution_count": 7,
   "metadata": {
    "collapsed": false,
    "deletable": true,
    "editable": true,
    "slideshow": {
     "slide_type": "subslide"
    }
   },
   "outputs": [
    {
     "name": "stdout",
     "output_type": "stream",
     "text": [
      "acc=0.9478\n",
      "micro F1=0.9478, micro P=0.9478, micro R=0.9478\n",
      "macro F1=0.9471, macro P=0.9471, macro R=0.9471\n",
      "\n"
     ]
    }
   ],
   "source": [
    "acc = accuracy_score(predicted, twenty_test.target)\n",
    "micro_f1 = f1_score(predicted, twenty_test.target, average = 'micro')\n",
    "micro_p = f1_score(predicted, twenty_test.target, average = 'micro')\n",
    "micro_r = f1_score(predicted, twenty_test.target, average = 'micro')\n",
    "macro_f1 = f1_score(predicted, twenty_test.target, average = 'macro')\n",
    "macro_p = f1_score(predicted, twenty_test.target, average = 'macro')\n",
    "macro_r = f1_score(predicted, twenty_test.target, average = 'macro')\n",
    "print('acc={0:1.4f}'.format(acc))\n",
    "print('micro F1={0:1.4f}, micro P={1:1.4f}, micro R={2:1.4f}'.format(micro_f1, micro_p, micro_r))\n",
    "print('macro F1={0:1.4f}, macro P={1:1.4f}, macro R={2:1.4f}\\n'.format(macro_f1, macro_p, macro_r))"
   ]
  },
  {
   "cell_type": "markdown",
   "metadata": {
    "deletable": true,
    "editable": true,
    "slideshow": {
     "slide_type": "slide"
    }
   },
   "source": [
    "## Логистическая регрессия или метод максимальной энтропии (sklearn)"
   ]
  },
  {
   "cell_type": "code",
   "execution_count": 8,
   "metadata": {
    "collapsed": true,
    "deletable": true,
    "editable": true,
    "slideshow": {
     "slide_type": "slide"
    }
   },
   "outputs": [],
   "source": [
    "from sklearn.linear_model import LogisticRegression\n",
    "clf = LogisticRegression().fit(X_train_counts, twenty_train.target)\n",
    "predicted = clf.predict(X_test)"
   ]
  },
  {
   "cell_type": "markdown",
   "metadata": {
    "deletable": true,
    "editable": true
   },
   "source": [
    "Проверяем на примерах"
   ]
  },
  {
   "cell_type": "code",
   "execution_count": 9,
   "metadata": {
    "collapsed": false,
    "deletable": true,
    "editable": true
   },
   "outputs": [
    {
     "name": "stdout",
     "output_type": "stream",
     "text": [
      "Do you believe in God? => alt.atheism\n",
      "OpenGL on the GPU is fast => comp.graphics\n"
     ]
    }
   ],
   "source": [
    "test_predicted = clf.predict(X_new_counts)\n",
    "\n",
    "for doc, category in zip(docs_new, test_predicted):\n",
    "    print('{} => {}'.format(doc, twenty_train.target_names[category]))"
   ]
  },
  {
   "cell_type": "markdown",
   "metadata": {
    "deletable": true,
    "editable": true
   },
   "source": [
    "Оцениваем качество"
   ]
  },
  {
   "cell_type": "code",
   "execution_count": 10,
   "metadata": {
    "collapsed": false,
    "deletable": true,
    "editable": true,
    "slideshow": {
     "slide_type": "subslide"
    }
   },
   "outputs": [
    {
     "name": "stdout",
     "output_type": "stream",
     "text": [
      "acc=0.9172\n",
      "micro F1=0.9172, micro P=0.9172, micro R=0.9172\n",
      "macro F1=0.9170, macro P=0.9170, macro R=0.9170\n",
      "\n"
     ]
    }
   ],
   "source": [
    "acc = accuracy_score(predicted, twenty_test.target)\n",
    "micro_f1 = f1_score(predicted, twenty_test.target, average = 'micro')\n",
    "micro_p = f1_score(predicted, twenty_test.target, average = 'micro')\n",
    "micro_r = f1_score(predicted, twenty_test.target, average = 'micro')\n",
    "macro_f1 = f1_score(predicted, twenty_test.target, average = 'macro')\n",
    "macro_p = f1_score(predicted, twenty_test.target, average = 'macro')\n",
    "macro_r = f1_score(predicted, twenty_test.target, average = 'macro')\n",
    "print('acc={0:1.4f}'.format(acc))\n",
    "print('micro F1={0:1.4f}, micro P={1:1.4f}, micro R={2:1.4f}'.format(micro_f1, micro_p, micro_r))\n",
    "print('macro F1={0:1.4f}, macro P={1:1.4f}, macro R={2:1.4f}\\n'.format(macro_f1, macro_p, macro_r))"
   ]
  },
  {
   "cell_type": "markdown",
   "metadata": {
    "deletable": true,
    "editable": true
   },
   "source": [
    "## Сеть прямого распространения - FNN"
   ]
  },
  {
   "cell_type": "code",
   "execution_count": 7,
   "metadata": {
    "collapsed": false,
    "deletable": true,
    "editable": true
   },
   "outputs": [
    {
     "name": "stderr",
     "output_type": "stream",
     "text": [
      "Using TensorFlow backend.\n"
     ]
    }
   ],
   "source": [
    "from __future__ import print_function\n",
    "\n",
    "from keras.preprocessing import sequence\n",
    "from keras.models import Sequential\n",
    "from keras.layers import Dense, Dropout, Activation\n",
    "from keras.layers import Embedding\n",
    "from keras.layers import Conv1D, GlobalMaxPooling1D\n",
    "from keras.datasets import imdb\n",
    "from keras.preprocessing.text import Tokenizer\n",
    "from keras.preprocessing.sequence import pad_sequences\n",
    "from keras.utils import to_categorical"
   ]
  },
  {
   "cell_type": "code",
   "execution_count": 6,
   "metadata": {
    "collapsed": true,
    "deletable": true,
    "editable": true
   },
   "outputs": [],
   "source": [
    "TEXT_LENGTH = 1800\n",
    "VOCABULARY_SIZE = 250000\n",
    "EMBEDDING_DIM = 100\n",
    "DIMS = 250\n",
    "MAX_FEATURES = 5000\n",
    "batch_size = 32\n",
    "\n",
    "nb_filter = 250\n",
    "filter_length = 3\n",
    "hidden_dims = 250\n",
    "nb_epoch = 20"
   ]
  },
  {
   "cell_type": "code",
   "execution_count": 7,
   "metadata": {
    "collapsed": false,
    "deletable": true,
    "editable": true
   },
   "outputs": [
    {
     "ename": "NameError",
     "evalue": "name 'twenty_test' is not defined",
     "output_type": "error",
     "traceback": [
      "\u001b[0;31m---------------------------------------------------------------------------\u001b[0m",
      "\u001b[0;31mNameError\u001b[0m                                 Traceback (most recent call last)",
      "\u001b[0;32m<ipython-input-7-72c9ba196880>\u001b[0m in \u001b[0;36m<module>\u001b[0;34m()\u001b[0m\n\u001b[1;32m      3\u001b[0m \u001b[0msequences\u001b[0m \u001b[0;34m=\u001b[0m \u001b[0mtokenizer\u001b[0m\u001b[0;34m.\u001b[0m\u001b[0mtexts_to_sequences\u001b[0m\u001b[0;34m(\u001b[0m\u001b[0mtwenty_train\u001b[0m\u001b[0;34m.\u001b[0m\u001b[0mdata\u001b[0m\u001b[0;34m)\u001b[0m\u001b[0;34m\u001b[0m\u001b[0m\n\u001b[1;32m      4\u001b[0m \u001b[0mX_train\u001b[0m \u001b[0;34m=\u001b[0m \u001b[0mtokenizer\u001b[0m\u001b[0;34m.\u001b[0m\u001b[0msequences_to_matrix\u001b[0m\u001b[0;34m(\u001b[0m\u001b[0msequences\u001b[0m\u001b[0;34m,\u001b[0m \u001b[0mmode\u001b[0m\u001b[0;34m=\u001b[0m\u001b[0;34m'count'\u001b[0m\u001b[0;34m)\u001b[0m\u001b[0;34m\u001b[0m\u001b[0m\n\u001b[0;32m----> 5\u001b[0;31m \u001b[0msequences\u001b[0m \u001b[0;34m=\u001b[0m \u001b[0mtokenizer\u001b[0m\u001b[0;34m.\u001b[0m\u001b[0mtexts_to_sequences\u001b[0m\u001b[0;34m(\u001b[0m\u001b[0mtwenty_test\u001b[0m\u001b[0;34m.\u001b[0m\u001b[0mdata\u001b[0m\u001b[0;34m)\u001b[0m\u001b[0;34m\u001b[0m\u001b[0m\n\u001b[0m\u001b[1;32m      6\u001b[0m \u001b[0mX_test\u001b[0m \u001b[0;34m=\u001b[0m \u001b[0mtokenizer\u001b[0m\u001b[0;34m.\u001b[0m\u001b[0msequences_to_matrix\u001b[0m\u001b[0;34m(\u001b[0m\u001b[0msequences\u001b[0m\u001b[0;34m,\u001b[0m \u001b[0mmode\u001b[0m\u001b[0;34m=\u001b[0m\u001b[0;34m'count'\u001b[0m\u001b[0;34m)\u001b[0m\u001b[0;34m\u001b[0m\u001b[0m\n",
      "\u001b[0;31mNameError\u001b[0m: name 'twenty_test' is not defined"
     ]
    }
   ],
   "source": [
    "tokenizer = Tokenizer(num_words=MAX_FEATURES)\n",
    "tokenizer.fit_on_texts(twenty_train.data)\n",
    "sequences = tokenizer.texts_to_sequences(twenty_train.data)\n",
    "X_train = tokenizer.sequences_to_matrix(sequences, mode='count')\n",
    "sequences = tokenizer.texts_to_sequences(twenty_test.data)\n",
    "X_test = tokenizer.sequences_to_matrix(sequences, mode='count')"
   ]
  },
  {
   "cell_type": "code",
   "execution_count": 12,
   "metadata": {
    "collapsed": false,
    "deletable": true,
    "editable": true
   },
   "outputs": [
    {
     "name": "stdout",
     "output_type": "stream",
     "text": [
      "First seq: [13, 4155, 4467, 1107, 107, 163, 29, 228, 143, 850, 5, 3108, 32, 107, 1107, 65, 424, 184, 612, 120, 647, 756, 252, 19, 19, 2081, 31, 631, 75, 63, 451, 850, 5, 147, 2047, 3801, 478, 2, 21, 4, 2240, 521, 3, 1, 2403, 3, 850, 6, 136, 5, 288, 1083, 1, 228, 143, 850, 52, 2599, 122, 1, 2403, 3, 2960, 180, 61, 1399, 1482, 160, 1642, 24, 160, 209, 976, 17, 2403, 11, 1, 228, 143, 26, 4043, 842, 10, 118, 3, 6, 73, 1944, 6, 519, 11, 228, 143, 2, 4884, 23, 850, 4436, 1, 228, 143, 52, 837, 16, 1, 2403, 3, 451, 4596, 24, 209, 1046, 341, 151, 22, 4, 8, 1, 11, 218, 850, 2, 4073, 1006, 6, 288, 17, 132, 8, 207, 9, 1152, 3827, 113, 1598, 288, 5, 1, 133, 43, 15, 4, 178, 469, 11, 10, 27, 1, 570, 133, 43, 21, 2, 17, 1460, 24, 55, 1944, 43, 21, 341, 151, 234, 455, 43, 20, 53, 1, 228, 143, 206, 118, 2558, 432, 96, 17, 1235, 4, 291, 69, 1, 1402, 1110, 218, 275, 10, 27, 17, 2403, 3, 850, 7, 2, 457, 1, 347, 396, 7, 2, 1708, 470, 16, 98, 288, 5, 2482, 5, 3565, 218, 4700, 2309, 2255, 1, 3827, 6, 1, 780, 133, 69, 1, 1084, 61, 1, 2148, 3, 228, 143, 1482, 2, 6, 98, 288, 5, 162, 218, 384, 7, 2, 1708, 470, 10, 501, 224, 727, 2, 319, 2, 1382, 470, 3, 257, 58, 108, 423, 1708, 218, 470, 64, 27, 2558, 45, 9, 1, 3561, 113, 15, 100, 664, 2, 558, 9, 55, 3, 218, 254, 1231, 11, 457, 538, 195, 6, 1482, 869, 93, 13, 850, 2047, 205, 5, 124, 3, 1, 1823, 185, 737, 13, 2047, 5, 82, 1, 3480, 1482, 52, 837, 105, 1231, 2, 1, 2517, 3, 82, 281, 430, 3480, 500, 121, 1217, 105, 1231, 1091, 107, 1107, 65, 424, 184, 612, 4155, 4467, 1107, 107, 163, 2831, 4, 2151, 39, 4, 98, 838, 27, 49, 535, 148, 40, 49, 43, 21, 2, 683, 37, 3014, 2, 51, 9, 365, 308, 572, 3014]\n",
      "First doc: [ 0.  4.  1. ...,  0.  0.  0.]\n",
      "5000\n"
     ]
    }
   ],
   "source": [
    "print('First seq:',sequences[0])\n",
    "print('First doc:',X_train[0])\n",
    "print(len(X_train[0]))"
   ]
  },
  {
   "cell_type": "code",
   "execution_count": 18,
   "metadata": {
    "collapsed": false,
    "deletable": true,
    "editable": true
   },
   "outputs": [
    {
     "data": {
      "text/plain": [
       "array([ 0.,  0.,  0.,  0.,  1.])"
      ]
     },
     "execution_count": 18,
     "metadata": {},
     "output_type": "execute_result"
    }
   ],
   "source": [
    "from keras.utils import to_categorical\n",
    "\n",
    "y_train = to_categorical(twenty_train.target, 5)\n",
    "y_test = to_categorical(twenty_test.target, 5)\n",
    "y_test[0]"
   ]
  },
  {
   "cell_type": "markdown",
   "metadata": {
    "deletable": true,
    "editable": true
   },
   "source": [
    "Обучаем модель"
   ]
  },
  {
   "cell_type": "code",
   "execution_count": 19,
   "metadata": {
    "collapsed": false,
    "deletable": true,
    "editable": true
   },
   "outputs": [
    {
     "name": "stdout",
     "output_type": "stream",
     "text": [
      "Train on 2565 samples, validate on 286 samples\n",
      "Epoch 1/20\n",
      "2565/2565 [==============================] - 1s 376us/step - loss: 0.5752 - acc: 0.8515 - val_loss: 0.1387 - val_acc: 0.9720\n",
      "Epoch 2/20\n",
      "2565/2565 [==============================] - 1s 252us/step - loss: 0.0928 - acc: 0.9871 - val_loss: 0.0920 - val_acc: 0.9720\n",
      "Epoch 3/20\n",
      "2565/2565 [==============================] - 1s 253us/step - loss: 0.0450 - acc: 0.9957 - val_loss: 0.0759 - val_acc: 0.9720\n",
      "Epoch 4/20\n",
      "2565/2565 [==============================] - 1s 264us/step - loss: 0.0259 - acc: 0.9996 - val_loss: 0.0641 - val_acc: 0.9790\n",
      "Epoch 5/20\n",
      "2565/2565 [==============================] - 1s 311us/step - loss: 0.0574 - acc: 0.9942 - val_loss: 0.4264 - val_acc: 0.9441\n",
      "Epoch 6/20\n",
      "2565/2565 [==============================] - 1s 275us/step - loss: 0.0477 - acc: 0.9914 - val_loss: 0.2302 - val_acc: 0.9476\n",
      "Epoch 7/20\n",
      "2565/2565 [==============================] - 1s 330us/step - loss: 0.0096 - acc: 0.9984 - val_loss: 0.0721 - val_acc: 0.9720\n",
      "Epoch 8/20\n",
      "2565/2565 [==============================] - 1s 259us/step - loss: 0.0040 - acc: 1.0000 - val_loss: 0.0698 - val_acc: 0.9755\n",
      "Epoch 9/20\n",
      "2565/2565 [==============================] - 1s 332us/step - loss: 0.0029 - acc: 1.0000 - val_loss: 0.0720 - val_acc: 0.9755\n",
      "Epoch 10/20\n",
      "2565/2565 [==============================] - 1s 365us/step - loss: 0.0025 - acc: 1.0000 - val_loss: 0.0740 - val_acc: 0.9720\n",
      "Epoch 11/20\n",
      "2565/2565 [==============================] - 1s 315us/step - loss: 0.0020 - acc: 1.0000 - val_loss: 0.0754 - val_acc: 0.9720\n",
      "Epoch 12/20\n",
      "2565/2565 [==============================] - 1s 295us/step - loss: 0.0017 - acc: 1.0000 - val_loss: 0.0784 - val_acc: 0.9720\n",
      "Epoch 13/20\n",
      "2565/2565 [==============================] - 1s 327us/step - loss: 0.0013 - acc: 1.0000 - val_loss: 0.0802 - val_acc: 0.9720\n",
      "Epoch 14/20\n",
      "2565/2565 [==============================] - 1s 258us/step - loss: 0.0012 - acc: 1.0000 - val_loss: 0.0824 - val_acc: 0.9720\n",
      "Epoch 15/20\n",
      "2565/2565 [==============================] - 1s 291us/step - loss: 0.0012 - acc: 1.0000 - val_loss: 0.0840 - val_acc: 0.9685\n",
      "Epoch 16/20\n",
      "2565/2565 [==============================] - 1s 243us/step - loss: 9.0838e-04 - acc: 1.0000 - val_loss: 0.0845 - val_acc: 0.9720\n",
      "Epoch 17/20\n",
      "2565/2565 [==============================] - 1s 219us/step - loss: 8.0652e-04 - acc: 1.0000 - val_loss: 0.0871 - val_acc: 0.9685\n",
      "Epoch 18/20\n",
      "2565/2565 [==============================] - 1s 281us/step - loss: 7.7548e-04 - acc: 1.0000 - val_loss: 0.0902 - val_acc: 0.9685\n",
      "Epoch 19/20\n",
      "2565/2565 [==============================] - 1s 254us/step - loss: 5.9065e-04 - acc: 1.0000 - val_loss: 0.0911 - val_acc: 0.9720\n",
      "Epoch 20/20\n",
      "2565/2565 [==============================] - 1s 247us/step - loss: 6.0164e-04 - acc: 1.0000 - val_loss: 0.0934 - val_acc: 0.9685\n"
     ]
    },
    {
     "data": {
      "text/plain": [
       "<keras.callbacks.History at 0x12301d748>"
      ]
     },
     "execution_count": 19,
     "metadata": {},
     "output_type": "execute_result"
    }
   ],
   "source": [
    "model = Sequential()\n",
    "model.add(Dense(128, input_shape=(MAX_FEATURES,), activation = 'relu'))\n",
    "model.add(Dropout(0.1))\n",
    "model.add(Dense(64, activation = 'relu'))\n",
    "model.add(Dropout(0.1))\n",
    "model.add(Dense(5, activation = 'softmax'))\n",
    "model.compile(loss='categorical_crossentropy', optimizer='adam', metrics=['accuracy'])\n",
    "model.fit(X_train, y_train, epochs=nb_epoch, batch_size=batch_size,  validation_split=0.1)"
   ]
  },
  {
   "cell_type": "markdown",
   "metadata": {
    "deletable": true,
    "editable": true
   },
   "source": [
    "Оцениваем качество"
   ]
  },
  {
   "cell_type": "code",
   "execution_count": 20,
   "metadata": {
    "collapsed": false,
    "deletable": true,
    "editable": true
   },
   "outputs": [
    {
     "name": "stdout",
     "output_type": "stream",
     "text": [
      "\n",
      "             precision    recall  f1-score   support\n",
      "\n",
      "          0       0.93      0.91      0.92       319\n",
      "          1       0.88      0.92      0.90       389\n",
      "          2       0.97      0.97      0.97       399\n",
      "          3       0.88      0.89      0.88       396\n",
      "          4       0.95      0.90      0.93       394\n",
      "\n",
      "avg / total       0.92      0.92      0.92      1897\n",
      "\n"
     ]
    }
   ],
   "source": [
    "y_pred = model.predict_classes(X_test)\n",
    "print()\n",
    "print(classification_report(twenty_test.target, y_pred))"
   ]
  },
  {
   "cell_type": "code",
   "execution_count": 21,
   "metadata": {
    "collapsed": false,
    "deletable": true,
    "editable": true
   },
   "outputs": [
    {
     "data": {
      "image/png": "[encoded data removed]",
      "text/plain": [
       "<matplotlib.figure.Figure at 0x12302c518>"
      ]
     },
     "metadata": {},
     "output_type": "display_data"
    }
   ],
   "source": [
    "import seaborn as sns\n",
    "import matplotlib.pyplot as plt\n",
    "%matplotlib inline\n",
    "\n",
    "\n",
    "sns.heatmap(data=confusion_matrix(twenty_test.target, y_pred), annot=True, fmt=\"d\", cbar=False, xticklabels=categories, yticklabels=categories)\n",
    "plt.title(\"Confusion matrix\")\n",
    "plt.show()"
   ]
  },
  {
   "cell_type": "markdown",
   "metadata": {
    "deletable": true,
    "editable": true
   },
   "source": [
    "## CNN"
   ]
  },
  {
   "cell_type": "markdown",
   "metadata": {
    "deletable": true,
    "editable": true
   },
   "source": [
    "Уменьшим количество категорий до 4, чтобы немного сократить время работы алгоритма."
   ]
  },
  {
   "cell_type": "code",
   "execution_count": 8,
   "metadata": {
    "collapsed": false,
    "deletable": true,
    "editable": true
   },
   "outputs": [],
   "source": [
    "categories = ['alt.atheism', 'rec.sport.hockey', 'sci.space', 'comp.graphics' ]\n",
    "twenty_train = fetch_20newsgroups(subset='train', categories=categories, shuffle=True, random_state=42)\n",
    "twenty_test = fetch_20newsgroups(subset='test', categories=categories, \n",
    "                                 shuffle=True, random_state=42)"
   ]
  },
  {
   "cell_type": "code",
   "execution_count": 9,
   "metadata": {
    "collapsed": false,
    "deletable": true,
    "editable": true
   },
   "outputs": [],
   "source": [
    "from __future__ import print_function\n",
    "\n",
    "from keras.preprocessing import sequence\n",
    "from keras.models import Sequential\n",
    "from keras.layers import Dense, Dropout, Activation\n",
    "from keras.layers import Embedding\n",
    "from keras.layers import *\n",
    "from keras.datasets import imdb\n",
    "from keras.preprocessing.text import Tokenizer\n",
    "from keras.preprocessing.sequence import pad_sequences\n",
    "from keras.utils import to_categorical"
   ]
  },
  {
   "cell_type": "code",
   "execution_count": 10,
   "metadata": {
    "collapsed": false,
    "deletable": true,
    "editable": true
   },
   "outputs": [],
   "source": [
    "tokenizer = Tokenizer(num_words=VOCABULARY_SIZE)\n",
    "tokenizer.fit_on_texts(twenty_train.data)\n",
    "sequences = tokenizer.texts_to_sequences(twenty_train.data)"
   ]
  },
  {
   "cell_type": "code",
   "execution_count": null,
   "metadata": {
    "collapsed": false,
    "deletable": true,
    "editable": true
   },
   "outputs": [],
   "source": [
    "word_index = tokenizer.word_index\n",
    "print('{} unique tokens.'.format(len(word_index)))"
   ]
  },
  {
   "cell_type": "code",
   "execution_count": 11,
   "metadata": {
    "collapsed": false,
    "deletable": true,
    "editable": true
   },
   "outputs": [
    {
     "name": "stdout",
     "output_type": "stream",
     "text": [
      "Shape of data tensor: (2257, 1800)\n",
      "Shape of label tensor: (2257, 4)\n",
      "Shape of data tensor: (1501, 1800)\n",
      "Shape of label tensor: (1501, 4)\n"
     ]
    }
   ],
   "source": [
    "from sklearn.preprocessing import LabelBinarizer\n",
    "\n",
    "X_train = pad_sequences(sequences, maxlen=TEXT_LENGTH)\n",
    "sequences = tokenizer.texts_to_sequences(twenty_test.data)\n",
    "X_test = pad_sequences(sequences, maxlen=TEXT_LENGTH)\n",
    "\n",
    "y_train = to_categorical(twenty_train.target, 4)\n",
    "y_test = to_categorical(twenty_test.target, 4)\n",
    "\n",
    "print('Shape of data tensor:', X_train.shape)\n",
    "print('Shape of label tensor:', y_train.shape)\n",
    "print('Shape of data tensor:', X_test.shape)\n",
    "print('Shape of label tensor:', y_test.shape)"
   ]
  },
  {
   "cell_type": "code",
   "execution_count": 48,
   "metadata": {
    "collapsed": false,
    "deletable": true,
    "editable": true
   },
   "outputs": [
    {
     "name": "stdout",
     "output_type": "stream",
     "text": [
      "First doc: [   0    0    0 ..., 3551    2 6608]\n"
     ]
    }
   ],
   "source": [
    "print('First doc:',X_train[0])"
   ]
  },
  {
   "cell_type": "markdown",
   "metadata": {
    "deletable": true,
    "editable": true
   },
   "source": [
    "Модель"
   ]
  },
  {
   "cell_type": "code",
   "execution_count": 200,
   "metadata": {
    "collapsed": true,
    "deletable": true,
    "editable": true
   },
   "outputs": [],
   "source": [
    "from keras.layers import Embedding, Input, Conv1D, MaxPooling1D, Flatten, Dense, Dropout\n",
    "from keras.models import Model, Sequential\n",
    "\n",
    "embedding_layer = Embedding(VOCABULARY_SIZE,\n",
    "                            EMBEDDING_DIM,\n",
    "                            input_length=TEXT_LENGTH,\n",
    "                            trainable=True)\n",
    "\n",
    "\n",
    "sequence_input = Input(shape=(TEXT_LENGTH,), dtype='int32')\n",
    "embedded_sequences = embedding_layer(sequence_input)\n",
    "x = Conv1D(128, 4, activation='relu')(embedded_sequences)\n",
    "x = MaxPooling1D(4)(x)\n",
    "x = Dropout(0.2)(x)\n",
    "x = Flatten()(x)\n",
    "preds = Dense(4, activation='sigmoid')(x)\n",
    "\n",
    "model = Model(sequence_input, preds)\n",
    "model.compile(loss='categorical_crossentropy',\n",
    "              optimizer='adadelta',\n",
    "              metrics=['acc'])"
   ]
  },
  {
   "cell_type": "code",
   "execution_count": 50,
   "metadata": {
    "collapsed": false,
    "deletable": true,
    "editable": true,
    "scrolled": false
   },
   "outputs": [
    {
     "name": "stdout",
     "output_type": "stream",
     "text": [
      "Train on 2031 samples, validate on 226 samples\n",
      "Epoch 1/20\n",
      "2031/2031 [==============================] - 33s 16ms/step - loss: 1.3755 - acc: 0.2885 - val_loss: 1.3612 - val_acc: 0.2965\n",
      "Epoch 2/20\n",
      "2031/2031 [==============================] - 32s 16ms/step - loss: 1.3606 - acc: 0.3309 - val_loss: 1.3697 - val_acc: 0.2699\n",
      "Epoch 3/20\n",
      "2031/2031 [==============================] - 33s 16ms/step - loss: 1.3495 - acc: 0.3402 - val_loss: 1.3338 - val_acc: 0.3274\n",
      "Epoch 4/20\n",
      "2031/2031 [==============================] - 32s 16ms/step - loss: 1.3374 - acc: 0.3609 - val_loss: 1.3464 - val_acc: 0.3274\n",
      "Epoch 5/20\n",
      "2031/2031 [==============================] - 33s 16ms/step - loss: 1.3246 - acc: 0.3653 - val_loss: 1.3163 - val_acc: 0.3451\n",
      "Epoch 6/20\n",
      "2031/2031 [==============================] - 32s 16ms/step - loss: 1.2973 - acc: 0.4111 - val_loss: 1.3136 - val_acc: 0.3319\n",
      "Epoch 7/20\n",
      "2031/2031 [==============================] - 32s 16ms/step - loss: 1.2562 - acc: 0.4195 - val_loss: 1.2410 - val_acc: 0.4469\n",
      "Epoch 8/20\n",
      "2031/2031 [==============================] - 33s 16ms/step - loss: 1.1514 - acc: 0.5283 - val_loss: 1.1153 - val_acc: 0.5442\n",
      "Epoch 9/20\n",
      "2031/2031 [==============================] - 33s 16ms/step - loss: 1.0470 - acc: 0.5643 - val_loss: 1.0551 - val_acc: 0.5265\n",
      "Epoch 10/20\n",
      "2031/2031 [==============================] - 33s 16ms/step - loss: 0.9315 - acc: 0.6194 - val_loss: 0.8677 - val_acc: 0.6991\n",
      "Epoch 11/20\n",
      "2031/2031 [==============================] - 33s 16ms/step - loss: 0.7591 - acc: 0.7198 - val_loss: 0.7522 - val_acc: 0.7389\n",
      "Epoch 12/20\n",
      "2031/2031 [==============================] - 33s 16ms/step - loss: 0.6390 - acc: 0.7661 - val_loss: 0.6407 - val_acc: 0.8009\n",
      "Epoch 13/20\n",
      "2031/2031 [==============================] - 33s 16ms/step - loss: 0.4770 - acc: 0.8636 - val_loss: 0.5314 - val_acc: 0.8274\n",
      "Epoch 14/20\n",
      "2031/2031 [==============================] - 34s 17ms/step - loss: 0.3849 - acc: 0.8897 - val_loss: 0.4463 - val_acc: 0.8628\n",
      "Epoch 15/20\n",
      "2031/2031 [==============================] - 33s 16ms/step - loss: 0.2711 - acc: 0.9389 - val_loss: 0.3908 - val_acc: 0.8584\n",
      "Epoch 16/20\n",
      "2031/2031 [==============================] - 33s 16ms/step - loss: 0.2030 - acc: 0.9591 - val_loss: 0.3434 - val_acc: 0.8761\n",
      "Epoch 17/20\n",
      "2031/2031 [==============================] - 33s 16ms/step - loss: 0.1633 - acc: 0.9641 - val_loss: 0.2770 - val_acc: 0.9204\n",
      "Epoch 18/20\n",
      "2031/2031 [==============================] - 33s 16ms/step - loss: 0.1288 - acc: 0.9783 - val_loss: 0.2421 - val_acc: 0.9292\n",
      "Epoch 19/20\n",
      "2031/2031 [==============================] - 33s 16ms/step - loss: 0.1016 - acc: 0.9833 - val_loss: 0.2191 - val_acc: 0.9292\n",
      "Epoch 20/20\n",
      "2031/2031 [==============================] - 34s 17ms/step - loss: 0.0832 - acc: 0.9867 - val_loss: 0.2112 - val_acc: 0.9336\n"
     ]
    },
    {
     "data": {
      "text/plain": [
       "<keras.callbacks.History at 0x123484470>"
      ]
     },
     "execution_count": 50,
     "metadata": {},
     "output_type": "execute_result"
    }
   ],
   "source": [
    "model.fit(X_train, y_train, epochs=nb_epoch, batch_size=128, validation_split=0.1)"
   ]
  },
  {
   "cell_type": "code",
   "execution_count": 51,
   "metadata": {
    "collapsed": false,
    "deletable": true,
    "editable": true,
    "scrolled": true
   },
   "outputs": [
    {
     "data": {
      "text/plain": [
       "array([0, 0, 1, 0])"
      ]
     },
     "execution_count": 51,
     "metadata": {},
     "output_type": "execute_result"
    }
   ],
   "source": [
    "predictions = model.predict(X_test)\n",
    "\n",
    "def probs_to_classes(probas):\n",
    "    classes = np.zeros(probas.shape, dtype=np.int)\n",
    "    for i, row in enumerate(probas):\n",
    "        classes[i, np.argmax(row)] = 1\n",
    "    return classes\n",
    "\n",
    "\n",
    "\n",
    "y_pred = probs_to_classes(predictions)"
   ]
  },
  {
   "cell_type": "markdown",
   "metadata": {
    "deletable": true,
    "editable": true
   },
   "source": [
    "Оцениваем качество"
   ]
  },
  {
   "cell_type": "code",
   "execution_count": 202,
   "metadata": {
    "collapsed": false,
    "deletable": true,
    "editable": true
   },
   "outputs": [
    {
     "name": "stdout",
     "output_type": "stream",
     "text": [
      "               precision    recall  f1-score   support\n",
      "\n",
      "  alt.atheism       0.94      0.83      0.88       319\n",
      "comp.graphics       0.87      0.90      0.89       389\n",
      "\n",
      "  avg / total       0.90      0.90      0.90      1501\n",
      "\n"
     ]
    },
    {
     "name": "stderr",
     "output_type": "stream",
     "text": [
      "/Library/Frameworks/Python.framework/Versions/3.6/lib/python3.6/site-packages/sklearn/metrics/classification.py:1428: UserWarning: labels size, 4, does not match size of target_names, 2\n",
      "  .format(len(labels), len(target_names))\n"
     ]
    }
   ],
   "source": [
    "print(classification_report(y_test, y_pred, target_names=categories))"
   ]
  },
  {
   "cell_type": "code",
   "execution_count": 88,
   "metadata": {
    "collapsed": false,
    "deletable": true,
    "editable": true
   },
   "outputs": [
    {
     "data": {
      "image/png": "[encoded data removed]",
      "text/plain": [
       "<matplotlib.figure.Figure at 0x12c1bc048>"
      ]
     },
     "metadata": {},
     "output_type": "display_data"
    }
   ],
   "source": [
    "def probs_to_labels(y_pred):\n",
    "    buf = []\n",
    "    for i in y_pred:\n",
    "        for a in range(len(i)):\n",
    "            if i[a]:\n",
    "                buf.append(a) \n",
    "    return buf\n",
    "\n",
    "pred = probs_to_labels(y_pred)\n",
    "labels = categories\n",
    "\n",
    "sns.heatmap(data=confusion_matrix(twenty_test.target, pred), annot=True, fmt=\"d\", cbar=False, xticklabels=labels, yticklabels=labels)\n",
    "plt.title(\"Confusion matrix\")\n",
    "plt.show()"
   ]
  },
  {
   "cell_type": "markdown",
   "metadata": {
    "deletable": true,
    "editable": true
   },
   "source": [
    "## RNN"
   ]
  },
  {
   "cell_type": "code",
   "execution_count": 12,
   "metadata": {
    "collapsed": true,
    "deletable": true,
    "editable": true
   },
   "outputs": [],
   "source": [
    "from keras.layers import Embedding, Input, Conv1D, MaxPooling1D, Flatten, Dense, Dropout\n",
    "from keras.models import Model, Sequential\n",
    "\n",
    "embedding_layer = Embedding(VOCABULARY_SIZE,\n",
    "                            EMBEDDING_DIM,\n",
    "                            input_length=TEXT_LENGTH,\n",
    "                            trainable=True)\n",
    "\n",
    "\n",
    "sequence_input = Input(shape=(TEXT_LENGTH,), dtype='int32')\n",
    "embedded_sequences = embedding_layer(sequence_input)\n",
    "x = Bidirectional(LSTM(128))(embedded_sequences)\n",
    "preds = Dense(4, activation='softmax')(x)\n",
    "\n",
    "model = Model(sequence_input, preds)\n",
    "model.compile(loss='categorical_crossentropy',\n",
    "              optimizer='adadelta',\n",
    "              metrics=['acc'])"
   ]
  },
  {
   "cell_type": "code",
   "execution_count": null,
   "metadata": {
    "collapsed": false,
    "deletable": true,
    "editable": true
   },
   "outputs": [
    {
     "name": "stdout",
     "output_type": "stream",
     "text": [
      "Train on 2031 samples, validate on 226 samples\n",
      "Epoch 1/5\n",
      " 736/2031 [=========>....................] - ETA: 512s - loss: 1.3867 - acc: 0.2378\b\b\b\b\b\b\b\b\b\b\b\b\b\b\b\b\b\b\b\b\b\b\b\b\b\b\b\b\b\b\b\b\b\b\b\b\b\b\b\b\b\b\b\b\b\b\b\b\b\b\b\b\b\b\b\b\b\b\b\b\b\b\b\b\b\b\b\b\b\b\b\b\b\b\b\b\b\b\b\b\b\b\b\b\b\b\b\b\b\b\b\b\b\b\b\b\b\b\b\b\b\b\b\b\b\b\b\b\b\b\b\b\b\b\b\b\b\b\b\b\b\b\b\b\b\b\b\b\b\b\b\b\b\b\b\b\b\b\b\b\b\b\b\b\b\b\b\b\b\b\b\b\b\b\b\b\b\b\b\b\b\b\b\b\b\b\b\b\b\b\b\b\b\b\b\b\b\b\b\b\b\b\b\b\b\b\b\b\b\b\b\b\b\b\b\b\b\b\b\b\b\b\b\b\b\b\b\b\b\b\b\b\b\b\b\b\b\b\b\b\b\b\b\b\b\b\b\b\b\b\b\b\b\b\b\b\b\b\b\b\b\b\b\b\b\b\b\b\b\b\b\b\b\b\b\b\b\b\b\b\b\b\b\b\b\b\b\b\b\b\b\b\b\b\b\b\b\b\b\b\b\b\b\b\b\b\b\b\b\b\b\b\b\b\b\b\b\b\b\b\b\b\b\b\b\b\b\b\b\b\b\b\b\b\b\b\b\b\b\b\b\b\b\b\b\b\b\b\b\b\b\b\b\b\b\b\b\b\b\b\b\b\b\b\b\b\b\b\b\b\b\b\b\b\b\b\b\b\b\b\b\b\b\b\b\b\b\b\b\b\b\b\b\b\b\b\b\b\b\b\b\b\b\b\b\b\b\b\b\b\b\b\b\b\b\b\b\b\b\b\b\b\b\b\b\b\b\b\b\b\b\b\b\b\b\b\b\b\b\b\b\b\b\b\b\b\b\b\b\b\b\b\b\b\b\b\b\b\b\b\b\b\b\b\b\b\b\b\b\b\b\b\b\b\b\b\b\b\b\b\b\b\b\b\b\b\b\b\b\b\b\b\b\b\b\b\b\b\b\b\b\b\b\b\b\b\b\b\b\b\b\b\b\b\b\b\b\b\b\b\b\b\b\b\b\b\b\b\b\b\b\b\b\b\b\b\b\b\b\b\b\b\b\b\b\b\b\b\b\b\b\b\b\b\b\b\b\b\b\b\b\b\b\b\b\b\b\b\b\b\b\b\b\b\b\b\b\b\b\b\b\b\b\b\b\b\b\b\b\b\b\b\b\b\b\b\b\b\b\b\b\b\b\b\b\b\b\b\b\b\b\b\b\b\b\b\b\b\b\b\b\b\b\b\b\b\b\b\b\b\b\b\b\b\b\b\b\b\b\b\b\b\b\b\b\b\b\b\b\b\b\b\b\b\b\b\b\b\b\b\b\b\b\b\b\b\b\b\b\b\b\b\b\b\b\b\b\b\b\b\b\b\b\b\b\b\b\b\b\b\b\b\b\b\b\b\b\b\b\b\b\b\b\b\b\b\b\b\b\b\b\b\b\b\b\b\b\b\b\b\b\b\b\b\b\b\b\b\b\b\b\b\b\b\b\b\b\b\b\b\b\b\b\b\b\b\b\b\b\b\b\b\b\b\b\b\b\b\b\b\b\b\b\b\b\b\b\b\b\b\b\b\b\b\b\b\b\b\b\b\b\b\b\b\b\b\b\b\b\b\b\b\b\b\b\b\b\b\b\b\b\b\b\b\b\b\b\b\b\b\b\b\b\b\b\b\b\b\b\b\b\b\b\b\b\b\b\b\b\b\b\b\b\b\b\b\b\b\b\b\b\b\b\b\b\b\b\b\b\b\b\b\b\b\b\b\b\b\b\b\b\b\b\b\b\b\b\b\b\b\b\b\b\b\b\b\b\b\b\b\b\b\b\b\b\b\b\b\b\b\b\b\b\b\b\b\b\b\b\b\b\b\b\b\b\b\b\b\b\b\b\b\b\b\b\b\b\b\b\b\b\b\b\b\b\b\b\b\b\b\b\b\b\b\b\b\b\b\b\b\b\b\b\b\b\b\b\b\b\b\b\b\b\b\b\b\b\b\b\b\b\b\b\b\b\b\b\b\b\b\b\b\b\b\b\b\b\b\b\b\b\b\b\b\b\b\b\b\b\b\b\b\b\b\b\b\b\b\b\b\b\b\b\b\b\b\b\b\b\b\b\b\b\b\b\b\b\b\b\b\b\b\b\b\b\b\b\b\b\b\b\b\b\b\b\b\b\b\b\b\b\b\b\b\b\b\b\b\b\b\b\b\b\b\b\b\b\b\b\b\b\b\b\b\b\b\b\b\b\b\b\b\b\b\b\b\b\b\b\b\b\b\b\b\b\b\b\b\b\b\b\b\b\b\b\b\b\b\b\b\b\b\b\b\b\b\b\b\b\b\b\b\b\b\b\b\b\b\b\b\b\b\b\b\b\b\b\b\b\b\b\b\b\b\b\b\b\b\b\b\b\b\b\b\b\b\b\b\b\b\b\b\b\b\b\b\b\b\b\b\b\b\b\b\b\b\b\b\b\b\b\b\b\b\b\b\b\b\b\b\b\b\b\b\b\b\b\b\b\b\b\b\b\b\b\b\b\b\b\b\b\b\b\b\b\b\b\b\b\b\b\b\b\b\b\b\b\b\b\b\b\b\b\b\b\b\b\b\b\b\b\b\b\b\b\b\b\b\b\b\b\b\b\b\b\b\b\b\b\b\b\b\b\b\b\b\b\b\b\b\b\b\b\b\b\b\b\b\b\b\b\b\b\b\b\b\b\b\b\b\b\b\b\b\b\b\b\b\b\b\b\b\b\b\b\b\b\b\b\b\b\b\b\b\b\b\b\b\b\b\b\b\b\b\b\b\b\b\b\b\b\b\b\b\b\b\b\b\b\b\b\b\b\b\b\b\b\b\b\b\b\b\b\b\b\b\b\b\b\b\b\b\b\b\b\b\b\b\b\b\b\b\b\b\b\b\b\b\b\b\b\b\b\b\b\b\b\b\b\b\b\b\b\b\b\b\b\b\b\b\b\b\b\b\b\b\b\b\b\b\b\b\b\b\b\b\b\b\b\b\b\b\b\b\b\b\b\b\b\b\b\b\b\b\b\b\b\b\b\b\b\b\b\b\b\b\b\b\b\b\b\b\b\b\b\b\b\b\b\b\b\b\b\b\b\b\b\b\b\b\b\b\b\b\b\b\b\b\b\b\b\b\b\b\b\b\b\b\b\b\b\b\b\b\b\b\b\b\b\b\b\b\b\b\b\b\b\b\b\b\b\b\b\b\b\b\b\b\b\b\b\b\b\b\b\b\b\b\b\b\b\b\b\b\b\b\b\b\b\b\b\b\b\b\b\b\b\b\b\b\b\b\b\b\b\b\b\b\b\b\b\b\b\b\b\b\b\b\b\b\b\b\b\b\b\b\b\b\b\b\b\b\b\b\b\b\b\b\b\b\b\b\b\b\b\b\b\b\b\b\b\b\b\b\b\b\b\b\b\b\b\b\b\b\b\b\b\b\b\b\b\b\b\b\b\b\b\b\b\b\b\b\b\b\b\b\b\b\b\b\b\b\b\b\b\b\b\b\b\b\b\b\b\b\b\b\b\b\b\b\b\b\b\b\b\b\b\b\b\b\b\b\b\b\b\b\b\b\b\b\b\b\b\b\b\b\b\b\b\b\b\b\b\b\b\b\b\b\b\b\b\b\b\b\b\b\b\b\b\b\b\b\b\b\b\b\b\b\b\b\b\b\b\b\b\b\b\b\b\b\b\b\b\b\b\b\b\b\b\b\b\b\b\b\b\b\b\b\b\b\b\b\b\b\b\b\b\b\b\b\b\b\b\b\b\b\b\b\b\b\b\b\b\b\b\b\b\b\b\b\b\b\b\b\b\b\b\b\b\b\b\b\b\b\b\b\b\b\b\b\b\b\b\b\b\b\b\b\b\b\b\b\b\b\b\b\b\b\b\b\b\b\b\b\b\b\b\b\b\b\b\b\b\b\b\b\b\b\b\b\b\b\b\b\b\b\b\b\b\b\b\b\b\b\b\b"
     ]
    }
   ],
   "source": [
    "model.fit(X_train, y_train, epochs=5, batch_size=batch_size,  validation_split=0.1)"
   ]
  },
  {
   "cell_type": "code",
   "execution_count": null,
   "metadata": {
    "collapsed": true,
    "deletable": true,
    "editable": true
   },
   "outputs": [],
   "source": [
    "y_pred = model.predict_classes(X_test)\n",
    "print()\n",
    "print(classification_report(twenty_test.target, y_pred))"
   ]
  },
  {
   "cell_type": "code",
   "execution_count": null,
   "metadata": {
    "collapsed": true,
    "deletable": true,
    "editable": true
   },
   "outputs": [],
   "source": [
    "import seaborn as sns\n",
    "import matplotlib.pyplot as plt\n",
    "%matplotlib inline\n",
    "\n",
    "\n",
    "sns.heatmap(data=confusion_matrix(twenty_test.target, y_pred), annot=True, fmt=\"d\", cbar=False, xticklabels=categories, yticklabels=categories)\n",
    "plt.title(\"Confusion matrix\")\n",
    "plt.show()"
   ]
  },
  {
   "cell_type": "markdown",
   "metadata": {
    "deletable": true,
    "editable": true
   },
   "source": [
    "## FastText"
   ]
  },
  {
   "cell_type": "code",
   "execution_count": 91,
   "metadata": {
    "collapsed": true,
    "deletable": true,
    "editable": true
   },
   "outputs": [],
   "source": [
    "import fasttext"
   ]
  },
  {
   "cell_type": "markdown",
   "metadata": {
    "deletable": true,
    "editable": true
   },
   "source": [
    "Решаем задачу бинарной классификации:"
   ]
  },
  {
   "cell_type": "code",
   "execution_count": 179,
   "metadata": {
    "collapsed": true,
    "deletable": true,
    "editable": true
   },
   "outputs": [],
   "source": [
    "import nltk \n",
    "from nltk import word_tokenize\n",
    "import pymorphy2\n",
    "from string import punctuation\n",
    "from nltk.corpus import stopwords"
   ]
  },
  {
   "cell_type": "code",
   "execution_count": 156,
   "metadata": {
    "collapsed": true,
    "deletable": true,
    "editable": true
   },
   "outputs": [],
   "source": [
    "categories = ['alt.atheism','comp.graphics' ] \n",
    "twenty_train = fetch_20newsgroups(subset='train', categories=categories, shuffle=True, random_state=42)\n",
    "twenty_test = fetch_20newsgroups(subset='test', categories=categories, \n",
    "                                 shuffle=True, random_state=42)"
   ]
  },
  {
   "cell_type": "code",
   "execution_count": 195,
   "metadata": {
    "collapsed": true,
    "deletable": true,
    "editable": true
   },
   "outputs": [],
   "source": [
    "import re\n",
    "\n",
    "\n",
    "with open ('train.txt', 'w') as f:\n",
    "    for s in range(len(twenty_train.data)):\n",
    "        string = re.sub( '\\n', ' ', twenty_train.data[s])\n",
    "        l = string + ' __label__' + str(twenty_train.target[s]) + '\\n'\n",
    "        f.write(l)\n",
    "        \n",
    "        \n",
    "with open ('test.txt', 'w') as f1:\n",
    "    for s in range(len(twenty_test.data)):\n",
    "        string = re.sub( '\\n', ' ', twenty_test.data[s])\n",
    "        l = string + ' __label__' + str(twenty_test.target[s]) + '\\n'\n",
    "        f1.write(l)\n",
    "    "
   ]
  },
  {
   "cell_type": "code",
   "execution_count": 196,
   "metadata": {
    "collapsed": true,
    "deletable": true,
    "editable": true
   },
   "outputs": [],
   "source": [
    "classifier = fasttext.supervised('train.txt', 'model')"
   ]
  },
  {
   "cell_type": "markdown",
   "metadata": {
    "deletable": true,
    "editable": true
   },
   "source": [
    "Результат на \"сыром\" датасете:"
   ]
  },
  {
   "cell_type": "code",
   "execution_count": 197,
   "metadata": {
    "collapsed": false,
    "deletable": true,
    "editable": true
   },
   "outputs": [
    {
     "name": "stdout",
     "output_type": "stream",
     "text": [
      "P@1: 0.7161016949152542\n",
      "R@1: 0.7161016949152542\n",
      "Number of examples: 708\n"
     ]
    }
   ],
   "source": [
    "result = classifier.test('test.txt')\n",
    "print ('P@1:', result.precision)\n",
    "print ('R@1:', result.recall)\n",
    "print ('Number of examples:', result.nexamples)"
   ]
  },
  {
   "cell_type": "code",
   "execution_count": 198,
   "metadata": {
    "collapsed": false,
    "deletable": true,
    "editable": true
   },
   "outputs": [
    {
     "name": "stdout",
     "output_type": "stream",
     "text": [
      "[['1'], ['1']]\n"
     ]
    }
   ],
   "source": [
    "texts = ['christians', 'graphics']\n",
    "labels = classifier.predict(texts)\n",
    "print (labels)"
   ]
  },
  {
   "cell_type": "code",
   "execution_count": 193,
   "metadata": {
    "collapsed": true,
    "deletable": true,
    "editable": true
   },
   "outputs": [],
   "source": [
    "import nltk \n",
    "from nltk import word_tokenize\n",
    "import pymorphy2\n",
    "from string import punctuation\n",
    "from nltk.corpus import stopwords\n",
    "\n",
    "with open ('train1.txt', 'w') as f:\n",
    "    for s in range(len(twenty_train.data)):\n",
    "        string = re.sub( '\\n', ' ', twenty_train.data[s])\n",
    "        tokens = word_tokenize(string)\n",
    "        words = [i for i in tokens if i.isalpha() and not i in stopwords.words('english')]\n",
    "        string1 = ' '.join(i for i in words)\n",
    "        l = string1 + ' __label__' + str(twenty_train.target[s]) + '\\n'\n",
    "        f.write(l)\n",
    "        \n",
    "        \n",
    "with open ('test1.txt', 'w') as f1:\n",
    "    for s in range(len(twenty_test.data)):\n",
    "        string = re.sub( '\\n', ' ', twenty_test.data[s])\n",
    "        tokens = word_tokenize(string)\n",
    "        words = [i for i in tokens if i.isalpha() and not i in stopwords.words('english')]\n",
    "        string1 = ' '.join(i for i in words)\n",
    "        l = string1 + ' __label__' + str(twenty_test.target[s]) + '\\n'\n",
    "        f1.write(l)"
   ]
  },
  {
   "cell_type": "markdown",
   "metadata": {
    "deletable": true,
    "editable": true
   },
   "source": [
    "Результат на датасете без стоп-слов и небуквенных символов:"
   ]
  },
  {
   "cell_type": "code",
   "execution_count": 194,
   "metadata": {
    "collapsed": false,
    "deletable": true,
    "editable": true
   },
   "outputs": [
    {
     "name": "stdout",
     "output_type": "stream",
     "text": [
      "P@1: 0.5790960451977402\n",
      "R@1: 0.5790960451977402\n",
      "Number of examples: 708\n"
     ]
    }
   ],
   "source": [
    "classifier = fasttext.supervised('train1.txt', 'model')\n",
    "result = classifier.test('test1.txt')\n",
    "print ('P@1:', result.precision)\n",
    "print ('R@1:', result.recall)\n",
    "print ('Number of examples:', result.nexamples)"
   ]
  },
  {
   "cell_type": "code",
   "execution_count": null,
   "metadata": {
    "collapsed": true,
    "deletable": true,
    "editable": true
   },
   "outputs": [],
   "source": []
  }
 ],
 "metadata": {
  "kernelspec": {
   "display_name": "Python 3",
   "language": "python",
   "name": "python3"
  },
  "language_info": {
   "codemirror_mode": {
    "name": "ipython",
    "version": 3
   },
   "file_extension": ".py",
   "mimetype": "text/x-python",
   "name": "python",
   "nbconvert_exporter": "python",
   "pygments_lexer": "ipython3",
   "version": "3.6.0"
  }
 },
 "nbformat": 4,
 "nbformat_minor": 2
}
