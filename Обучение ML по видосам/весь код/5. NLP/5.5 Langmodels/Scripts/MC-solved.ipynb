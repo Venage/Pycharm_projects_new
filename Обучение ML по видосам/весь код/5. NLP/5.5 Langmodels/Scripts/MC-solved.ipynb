{
 "cells": [
  {
   "cell_type": "markdown",
   "metadata": {
    "deletable": true,
    "editable": true
   },
   "source": [
    "https://tproger.ru/translations/markov-chains/"
   ]
  },
  {
   "cell_type": "markdown",
   "metadata": {
    "deletable": true,
    "editable": true
   },
   "source": [
    "# Цепи Маркова для автоматической генерации тектов"
   ]
  },
  {
   "cell_type": "markdown",
   "metadata": {
    "deletable": true,
    "editable": true
   },
   "source": [
    "## Структура данных Dictogram"
   ]
  },
  {
   "cell_type": "markdown",
   "metadata": {
    "deletable": true,
    "editable": true
   },
   "source": [
    "Dictogram (dict — встроенный тип данных словарь в Python) будет отображать зависимость между звеньями и их частотой появления в тексте, то есть их распределение. Но при этом она будет обладать нужным нам свойством словаря — время выполнения программы не будет зависеть от объема входных данных, а это значит, мы создаем эффективный алгоритм."
   ]
  },
  {
   "cell_type": "code",
   "execution_count": 1,
   "metadata": {
    "collapsed": true,
    "deletable": true,
    "editable": true
   },
   "outputs": [],
   "source": [
    "import random\n",
    "\n",
    "class Dictogram(dict):\n",
    "    def __init__(self, iterable=None):\n",
    "        # Инициализируем наше распределение как новый объект класса, \n",
    "        # добавляем имеющиеся элементы\n",
    "        super(Dictogram, self).__init__()\n",
    "        self.types = 0  # число уникальных ключей в распределении\n",
    "        self.tokens = 0  # общее количество всех слов в распределении\n",
    "        if iterable:\n",
    "            self.update(iterable)\n",
    "\n",
    "    def update(self, iterable):\n",
    "        # Обновляем распределение элементами из имеющегося \n",
    "        # итерируемого набора данных\n",
    "        for item in iterable:\n",
    "            if item in self:\n",
    "                self[item] += 1\n",
    "                self.tokens += 1\n",
    "            else:\n",
    "                self[item] = 1\n",
    "                self.types += 1\n",
    "                self.tokens += 1\n",
    "\n",
    "    def count(self, item):\n",
    "        # Возвращаем значение счетчика элемента, или 0\n",
    "        if item in self:\n",
    "            return self[item]\n",
    "        return 0\n",
    "\n",
    "    def return_random_word(self):\n",
    "        random_key = random.sample(self, 1)\n",
    "        # Другой способ:\n",
    "        # random.choice(histogram.keys())\n",
    "        return random_key[0]\n",
    "\n",
    "    def return_weighted_random_word(self):\n",
    "        # Сгенерировать псевдослучайное число между 0 и (n-1),\n",
    "        # где n - общее число слов\n",
    "        random_int = random.randint(0, self.tokens-1)\n",
    "        index = 0\n",
    "#         list_of_keys = \n",
    "        # вывести 'случайный индекс:', random_int\n",
    "        for key in self.keys():\n",
    "            index += self[key]\n",
    "            # вывести индекс\n",
    "            if(index > random_int):\n",
    "                # вывести list_of_keys[i]\n",
    "                return key"
   ]
  },
  {
   "cell_type": "markdown",
   "metadata": {
    "deletable": true,
    "editable": true
   },
   "source": [
    "В конструктор структуре Dictogram можно передать любой объект, по которому можно итерироваться. Элементами этого объекта будут слова для инициализации Dictogram, например, все слова из какой-нибудь книги. В данном случае мы ведем подсчет элементов, чтобы для обращения к какому-либо из них не нужно было пробегать каждый раз по всему набору данных.\n",
    "\n",
    "Мы также сделали две функции для возврата случайного слова. Одна функция выбирает случайный ключ в словаре, а другая, принимая во внимание число появлений каждого слова в тексте, возвращает нужное нам слово."
   ]
  },
  {
   "cell_type": "markdown",
   "metadata": {
    "deletable": true,
    "editable": true
   },
   "source": [
    "## Структура цепи Маркова"
   ]
  },
  {
   "cell_type": "code",
   "execution_count": 2,
   "metadata": {
    "collapsed": true,
    "deletable": true,
    "editable": true
   },
   "outputs": [],
   "source": [
    "def make_markov_model(data):\n",
    "    markov_model = dict()\n",
    "\n",
    "    for i in range(0, len(data)-1):\n",
    "        if data[i] in markov_model:\n",
    "            # Просто присоединяем к уже существующему распределению\n",
    "            markov_model[data[i]].update([data[i+1]])\n",
    "        else:\n",
    "            markov_model[data[i]] = Dictogram([data[i+1]])\n",
    "    return markov_model"
   ]
  },
  {
   "cell_type": "markdown",
   "metadata": {
    "deletable": true,
    "editable": true
   },
   "source": [
    "В реализации выше у нас есть словарь, который хранит окна в качестве ключа в паре «(ключ, значение)» и распределения в качестве значений в этой паре."
   ]
  },
  {
   "cell_type": "markdown",
   "metadata": {
    "deletable": true,
    "editable": true
   },
   "source": [
    "## Cтруктура цепи Маркова N-го порядка"
   ]
  },
  {
   "cell_type": "code",
   "execution_count": 3,
   "metadata": {
    "collapsed": true,
    "deletable": true,
    "editable": true
   },
   "outputs": [],
   "source": [
    "def make_higher_order_markov_model(order, data):\n",
    "    markov_model = dict()\n",
    "\n",
    "    for i in range(0, len(data)-order):\n",
    "        # Создаем окно\n",
    "        window = tuple(data[i: i+order])\n",
    "        # Добавляем в словарь\n",
    "        if window in markov_model:\n",
    "            # Присоединяем к уже существующему распределению\n",
    "            markov_model[window].update([data[i+order]])\n",
    "        else:\n",
    "            markov_model[window] = Dictogram([data[i+order]])\n",
    "    return markov_model"
   ]
  },
  {
   "cell_type": "markdown",
   "metadata": {
    "deletable": true,
    "editable": true
   },
   "source": [
    "## Парсинг модели"
   ]
  },
  {
   "cell_type": "markdown",
   "metadata": {
    "deletable": true,
    "editable": true
   },
   "source": [
    "Отлично, мы реализовали словарь. Но как теперь совершить генерацию контента, основываясь на текущем состоянии и шаге к следующему состоянию? Пройдемся по нашей модели:"
   ]
  },
  {
   "cell_type": "code",
   "execution_count": 4,
   "metadata": {
    "collapsed": true,
    "deletable": true,
    "editable": true
   },
   "outputs": [],
   "source": [
    "from collections import deque\n",
    "import re\n",
    "\n",
    "\n",
    "def generate_random_start(model):\n",
    "    # Чтобы сгенерировать любое начальное слово, раскомментируйте строку:\n",
    "    # return random.choice(model.keys())\n",
    "\n",
    "    # Чтобы сгенерировать \"правильное\" начальное слово, используйте код ниже:\n",
    "    # Правильные начальные слова - это те, что являлись началом предложений в корпусе\n",
    "    if 'END' in model:\n",
    "        seed_word = 'END'\n",
    "        while seed_word == 'END':\n",
    "            seed_word = model['END'].return_weighted_random_word()\n",
    "        return seed_word\n",
    "    return random.choice(list(model.keys()))\n",
    "\n",
    "\n",
    "def generate_random_sentence(length, markov_model):\n",
    "    current_word = generate_random_start(markov_model)\n",
    "    sentence = [current_word]\n",
    "    for i in range(0, length):\n",
    "        current_dictogram = markov_model[current_word]\n",
    "        random_weighted_word = current_dictogram.return_weighted_random_word()\n",
    "        current_word = random_weighted_word\n",
    "        sentence.append(current_word)\n",
    "    sentence[0] = sentence[0].capitalize()\n",
    "    return ' '.join(sentence) + '.'\n",
    "    return sentence"
   ]
  },
  {
   "cell_type": "markdown",
   "metadata": {
    "deletable": true,
    "editable": true
   },
   "source": [
    "Лучше генерировать «правильные» начальные слова – те, которые и в исходном тексте стояли в начале предложения. Для этого мы в словаре находим все ключи «END» и выбираем слово, следующее за одним из них. После генерации начального слова мы ищем, какое слово может идти дальше, обращаясь к тому же словарю, и выбираем нужное на основании комбинации вероятности и случайности. Продолжаем это делать, пока предложение не достигнет установленной нами длины, и в конце возвращаем его. "
   ]
  },
  {
   "cell_type": "markdown",
   "metadata": {
    "deletable": true,
    "editable": true
   },
   "source": [
    "## Примеры"
   ]
  },
  {
   "cell_type": "code",
   "execution_count": 8,
   "metadata": {
    "collapsed": false,
    "deletable": true,
    "editable": true
   },
   "outputs": [
    {
     "name": "stdout",
     "output_type": "stream",
     "text": [
      "101895\n"
     ]
    }
   ],
   "source": [
    "text = open('nietzsche.txt').read()\n",
    "text = text.replace(\"»\", \" END\").replace(\"«\", \"\").replace(\"\\n\", \" \").replace(\".\", \" END\").replace(\",\", \"\")\n",
    "frags = [f.lower() if f != 'END' else f for f in text.split(\" \") if f]\n",
    "print(len(frags))"
   ]
  },
  {
   "cell_type": "markdown",
   "metadata": {
    "deletable": true,
    "editable": true
   },
   "source": [
    "### Для 1-го порядка"
   ]
  },
  {
   "cell_type": "code",
   "execution_count": 9,
   "metadata": {
    "collapsed": false,
    "deletable": true,
    "editable": true,
    "scrolled": true
   },
   "outputs": [],
   "source": [
    "model = make_markov_model(frags)"
   ]
  },
  {
   "cell_type": "code",
   "execution_count": 10,
   "metadata": {
    "collapsed": false,
    "deletable": true,
    "editable": true
   },
   "outputs": [
    {
     "data": {
      "text/plain": [
       "'It undermines and we now pleases thee? what have grown utilitarian qualities which confers upon the place thousands of a time it is distrust which on the european of repugnance in mozart--how happy and the moments in the church has hitherto has expressed it: \"what i saying! to conjure back to the countries where he must however is comprised in art and love of the non-natural supernatural because he will be doubly distrustful here a surplus of humanity and disciplining influence--destructive as a man\\'s faith in the \"evil principle to his strength--the greatest liar--and the philosophy at the structure of mind.'"
      ]
     },
     "execution_count": 10,
     "metadata": {},
     "output_type": "execute_result"
    }
   ],
   "source": [
    "generate_random_sentence(100, model).replace(\" END\", \".\")"
   ]
  },
  {
   "cell_type": "markdown",
   "metadata": {
    "deletable": true,
    "editable": true
   },
   "source": [
    "### Доделано: Для N-го порядка"
   ]
  },
  {
   "cell_type": "code",
   "execution_count": 10,
   "metadata": {
    "collapsed": false,
    "deletable": true,
    "editable": true,
    "scrolled": true
   },
   "outputs": [],
   "source": [
    "model = make_higher_order_markov_model(4, frags)"
   ]
  },
  {
   "cell_type": "code",
   "execution_count": 12,
   "metadata": {
    "collapsed": true,
    "deletable": true,
    "editable": true
   },
   "outputs": [],
   "source": [
    "def triplet(model, w=''): # функция генерирует случайный первый триплет, начинающийся на END\n",
    "    s = []\n",
    "    if w == 'END':\n",
    "        for i in model:\n",
    "            if i[0] == 'END':\n",
    "                s.append(i)\n",
    "        n = random.randrange(len(s))\n",
    "        return(s[n])\n",
    "    else:\n",
    "        n = random.randrange(len(list(model.keys())))\n",
    "        return(list(model.keys())[n])"
   ]
  },
  {
   "cell_type": "code",
   "execution_count": 13,
   "metadata": {
    "collapsed": false,
    "deletable": true,
    "editable": true,
    "scrolled": false
   },
   "outputs": [
    {
     "data": {
      "text/plain": [
       "'The phenomena remain unexplained and processes have really employment of a unity wanton surrender to the year\\'s end alone with indignation and enthusiasm so. 144 it stands in the general happiness entertain the idea of. 134 if now the metaphysical sense: but the restricted sense of [of duration or measurement] know them are permitted of heredity or natural to an end just to whom everything in owes to metaphysics. 105. The pia expediency mixed with stupidity truths as if by advanced by a distinguished impulses of his nature the logical from the. The degrees of which seeks to rise even justify themselves by another a place of by the way that supposing that every philosophy same light in which despair in particular does wish to give them magic including therefore the casts of fancy there themselves and push the in no previous age of the loathsome and or semi-idleness is necessary causes philosophers to be ourselves obliged to give there may not be of everything of the say even that the royal and magnificent anchorites perhaps it will then the erroneous assumption that fundamental problems. Chapter a later period applied hands? how you have seemingly higher order of language in art in she can most surely to be false fragile noble soul has about and what course of honesty is probably the far too free too always a great number myself that the greater formerly learned moral grunting box: pandora shut the world\\'s history and as within a soul awaken its own sake\"--that is necessary; not to misunderstand him long to visit their refinement--or one will his son and had an exception and is those qualities which serve a solemn vow \"de ruling free will and for life generally should afford him as much religions and metaphysics they refined requirements of the under their protection and who have the hard neither does he destroy. In time however there men beside one always spreads and deepens inflicts injury on himself; and innate wildness the indeed actual strife itself there are holy experiences forming the apex of would least care to sand as though something all the greater need aristocratic spirit woman strives more of disdain: also pain of sin in task and draw your in its turn good a bell into another moral prejudices has penetrated to his brother the forces one to acknowledge brings with it; not evidently entered may perhaps painful cases of the the idea of magic more clearly perceived that destruction of the individuals the shadow of conscience does not agree--otherwise in appetite with little selection and the honorable. Does the feeling of ahead; so that the dangerous voyages of discovery hard and would fain if the father does do everything to be nothing else--whatever else be as himself and he sounded by a thawing instinct of the herding necessary because science can to say as a and never did exist a rococo-taste in moribus his scholars were masters--of love to mankind (because. That which is [6] anderssein. 10 requital which is at maiden that pallas athene:--how self portraiture (first printed 80 =senility and death the beautiful terribleness of the severest way of as hard a time them taste a new in falsehood as matter diverse and difficult to fully understood the doctrine passage and reflection of essential that sexual capacity lost its keenest sting what thinking man has she has increased her the will\" is regarded themselves as lovers of they rather wish and fact that dionysus is a thing is to virtue; \"stupid to the what? over whom? a to use the same the priest and the a peculiar narrowness of thought. Its serious church and its learned dispensed with attempt after call deep: a feeling fear one would have really supposed that in. Ethics which takes rules end\" after all hegel systematised and richard found its readers in it almost sets one that is does what young frederick resulted from itself\" and the \"phenomenon can be preserved; in ignobleness the plebeianism of petty abject spirit. A great consolation: by dissolved the religious instincts;. End the real a man\\'s sensuality extends easily silenced by the aimless in his course in learning and forgetting pain where he expected at last as soon genius who has seen gods could all of it not--thereby already past? which bravely admits this and man; a specimen and fellow feeling acquire and amid them the and save to an philosophers having been got type of german) the himself the total consciousness more indigenous than he feelings is traceable in. That which was that the scientific man father nor his mother man in his most their will to truth directed upon the fearful everything material into motions not great!\"--the old men which are natural to know of nothing more consciences make their minds and metaphysics if one can be involved and it the old trite is alternately the anti-french go further in daring reason to be on means of a stronger from woman--who is clairvoyant. After according this a crime that it conclusion. There are enough and also intelligible what was formerly called be a \"common good\"! the intellectual haughtiness and as fearful and yet means to figure before are over-spiced and begin its own sake i aye in head and if the wells suddenly revolve once more in in schopenhauer\\'s phrase \"impossible feels the nearness of smile but a genuine there grew up in their good and bad \"bad character\" and consequently honours and rights as of \"ideas\" of \"modern is also emphasized as end\" he acknowledges under to be an absolute european thinkers only thought different belief--we who regard it has made men including especially the joy themselves do not possess--and persuade the reason to \"equality before god\" have of this \"metaphysical necessity\" \"non-free will\" which is of men in the distinctive characteristic of moral what is universally held overleaps and obviates all regard to the reversing touch of allurement to our youthful years we delicate and intellectual. Morning you sudden sparks all obtuseness in regard merit! 93 =concerning the these tasks; a transvaluation for the tragic poets--for assigned to pretence to it some very great hardly means anything more de lambert to her philosophical spirit generally hobbes work and invention. To yield to it hypnotic rigidity to see a cloak--there operates the a world-explanation; but in of weaker mankind be in their dangerousness to under the idiotic unwariness 271. That which this english christianity itself a blank sameness: how at once and with towards \"selflessness\" belong as nothing of grace no. 81 =delusions regarding thereby her property no incentive to sins of methods for winning a am ready day and it is manifest that any sense whatsoever! how long to visit at inspire such faith in one--and that it is to misunderstand each other need of had to to the old to recovery: and the free congratulate himself when the the same interrogative formula imprudence here among us fearful or delightful to create and partly utilize one imagine this instinct.'"
      ]
     },
     "execution_count": 13,
     "metadata": {},
     "output_type": "execute_result"
    }
   ],
   "source": [
    "def generate(model, length, n=3): # n - это длина \"окна\", должна совпадать с аналогичным параметром модели\n",
    "    current = triplet(model, w='END')\n",
    "    sentence = [i for i in current]\n",
    "    for i in range(3, length+1):\n",
    "        #print(current)\n",
    "        if tuple(current) in model: \n",
    "            current_dictogram = model[tuple(current)]\n",
    "            random_weighted_word = current_dictogram.return_weighted_random_word()\n",
    "            #print(random_weighted_word)\n",
    "            sentence.append(random_weighted_word)\n",
    "            #print(sentence)\n",
    "            current = sentence[i-n+1:i+n]\n",
    "            #print(current)\n",
    "        else:\n",
    "            #print(current)\n",
    "            random_word = triplet(model)\n",
    "            sentence.extend([i for i in random_word])\n",
    "            #print(sentence)\n",
    "            current = sentence[i-n+1:i+n]\n",
    "            \n",
    "    sentence = sentence[1:]\n",
    "    sentence[0] = sentence[0].capitalize()\n",
    "    for i in range (len(sentence)-1):\n",
    "        if sentence[i] == 'END':\n",
    "            sentence[i+1] = sentence[i+1].capitalize()\n",
    "    res = ' '.join(sentence) + '.'\n",
    "    res = re.sub(' END', '.',  res)\n",
    "    return res\n",
    "\n",
    "t = generate(model, 300, 4)\n",
    "t"
   ]
  },
  {
   "cell_type": "markdown",
   "metadata": {
    "collapsed": true,
    "deletable": true,
    "editable": true
   },
   "source": [
    "# Библиотека Markovify "
   ]
  },
  {
   "cell_type": "code",
   "execution_count": 2,
   "metadata": {
    "collapsed": false
   },
   "outputs": [
    {
     "name": "stdout",
     "output_type": "stream",
     "text": [
      "Yet not in Germany.\n",
      "He honours whatever he finds veiled or protected by any means as ill as the true explanation and served as such.\n",
      "It seems, therefore, that however little we may always remain undetermined: but there is no life; the struggle for life.\n",
      "Indeed the whole Romanticism and sublimity of moral feelings: and rightly.\n",
      "The individual can, in addition to this probably unpleasant conclusion, now that the imagination were the first of the future--as certainly also they will suffer inwardly from a thing, is to tempt us to accept bad grounds as good.\n",
      "Here one must think profoundly to the sense of the recurring and more dangerous sense?\n",
      "The custom is exceedingly burdensome it is a delusion.\n",
      "In relation to the more confused that origin is.\n"
     ]
    }
   ],
   "source": [
    "import markovify\n",
    "\n",
    "# Get raw text as string.\n",
    "with open('nietzsche.txt') as f:\n",
    "    text = f.read()\n",
    "\n",
    "text_model = markovify.Text(text)"
   ]
  },
  {
   "cell_type": "code",
   "execution_count": 3,
   "metadata": {
    "collapsed": false
   },
   "outputs": [
    {
     "name": "stdout",
     "output_type": "stream",
     "text": [
      "Unfortunately, however, it is regarded as necessary, as a power--how COULD you live in a threatening manner what woman first and foremost--old Kant.\n",
      "Oh, ye demons, can ye not that it will flee from them!\n",
      "In brief, the system of utilitarianism, one may say that the animal has become strong enough, then, to cause the world apparently most indifferent and unprejudiced, and has fought and died for his disciplining and educating work, just as they are not done to the following:--I have never yet met a German translation of Petronius, who, more than a disadvantage to mankind only after long struggle and wavering!\n",
      "Not to cleave to a science, though it were the only means of magic between man and woman never cease marvelling and laughing; does it matter!\n",
      "One can never be wholly clarified and made its first entrance into Germany in the act.\n"
     ]
    }
   ],
   "source": [
    "for i in range(5):\n",
    "    print(text_model.make_sentence())"
   ]
  },
  {
   "cell_type": "code",
   "execution_count": 4,
   "metadata": {
    "collapsed": false
   },
   "outputs": [
    {
     "name": "stdout",
     "output_type": "stream",
     "text": [
      "Why is the symptom.\n",
      "People had been blunted by the realm of stars.\n",
      "The proof of the world.\n"
     ]
    }
   ],
   "source": [
    "for i in range(3):\n",
    "    print(text_model.make_short_sentence(140))"
   ]
  }
 ],
 "metadata": {
  "kernelspec": {
   "display_name": "Python 3",
   "language": "python",
   "name": "python3"
  },
  "language_info": {
   "codemirror_mode": {
    "name": "ipython",
    "version": 3
   },
   "file_extension": ".py",
   "mimetype": "text/x-python",
   "name": "python",
   "nbconvert_exporter": "python",
   "pygments_lexer": "ipython3",
   "version": "3.6.0"
  }
 },
 "nbformat": 4,
 "nbformat_minor": 2
}
