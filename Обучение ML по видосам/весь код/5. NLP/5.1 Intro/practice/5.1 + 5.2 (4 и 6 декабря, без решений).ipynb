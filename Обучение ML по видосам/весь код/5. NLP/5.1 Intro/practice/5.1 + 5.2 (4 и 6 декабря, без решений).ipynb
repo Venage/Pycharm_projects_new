{
 "cells": [
  {
   "cell_type": "markdown",
   "metadata": {
    "deletable": true,
    "editable": true
   },
   "source": [
    "# Введение в автоматическую обработку текста."
   ]
  },
  {
   "cell_type": "markdown",
   "metadata": {
    "deletable": true,
    "editable": true
   },
   "source": [
    "### __Регулярные выражения__"
   ]
  },
  {
   "cell_type": "markdown",
   "metadata": {
    "deletable": true,
    "editable": true
   },
   "source": [
    "__*Классы символов:*__\n",
    "\n",
    "__[A-Z]__ - символы верхнего регистра (латиница)\n",
    "\n",
    "__[a-z]__ - символы нижнего регистра (латиница)\n",
    "\n",
    "__[А-Я]__ - символы верхнего регистра (кириллица)\n",
    "\n",
    "__[а-я]__ - символы нижнего регистра (кириллица)\n",
    "\n",
    "__[0-9]__ или \\d - цифра\n",
    "\n",
    "__[^0-9]__ или \\D - любой символ, кроме цифры\n",
    "\n",
    "__.__ - любой символ\n",
    "\n",
    "__*Служебные символы:*__\n",
    "\n",
    "__\\t__ - табуляция\n",
    "\n",
    "__\\s__ - любой пробельный символ\n",
    "\n",
    "__\\S__ - все символы, кроме пробельных\n",
    "\n",
    "__\\n__  - перенос строки (\\r)\n",
    "\n",
    "__^__ - начало строки\n",
    "\n",
    "__$__ - конец строки"
   ]
  },
  {
   "cell_type": "markdown",
   "metadata": {
    "deletable": true,
    "editable": true
   },
   "source": [
    "__*Операторы:*__\n",
    "\n",
    "__?__ - предыдущий символ/группа может быть, а может не быть\n",
    "\n",
    "__+__ - предыдущий символ/группа может повторяться 1 и более раз\n",
    "\n",
    "__*__ - предыдущий символ/группа может повторяться 0 и более раз\n",
    "\n",
    "__{n,m}__ - предыдущий символ/группа может повторяться от от n до m включительно\n",
    "\n",
    "__{n,}__ - предыдущий символ/группа в скобках может повторяться n и более раз\n",
    "\n",
    "__{,m}__ - предыдущий символ/группа может повторяться до m раз\n",
    "\n",
    "__{n}__ - предыдущий символ/группа повторяется n раз\n",
    "\n",
    "Внутри групп не работают операторы __.__, __+__, __*__, их необходимо экранировать с помощью обратного слеша: \\\n"
   ]
  },
  {
   "cell_type": "markdown",
   "metadata": {
    "deletable": true,
    "editable": true
   },
   "source": [
    "__*Методы:*__\n",
    "\n",
    "__re.match(pattern, string)__ - найти подстроку pattern в начале строки string\n"
   ]
  },
  {
   "cell_type": "code",
   "execution_count": 2,
   "metadata": {
    "collapsed": false,
    "deletable": true,
    "editable": true
   },
   "outputs": [
    {
     "name": "stdout",
     "output_type": "stream",
     "text": [
      "<_sre.SRE_Match object; span=(0, 5), match='рыбак'>\n",
      "рыбак\n",
      "0 5\n",
      "None\n"
     ]
    }
   ],
   "source": [
    "import re\n",
    "\n",
    "m = re.match(r'рыбак', 'рыбак рыбака видит издалека')\n",
    "\n",
    "print(m)\n",
    "print(m.group(0))\n",
    "print(m.start(), m.end())\n",
    "\n",
    "l = re.match(r'видит', 'рыбак рыбака видит издалека')\n",
    "print(l)"
   ]
  },
  {
   "cell_type": "markdown",
   "metadata": {
    "deletable": true,
    "editable": true
   },
   "source": [
    "\n",
    "__re.search(pattern, string)__ - аналогичен методу match, но ищет не только в начале строки (но возвращает только первое вхождение!)\n",
    "\n"
   ]
  },
  {
   "cell_type": "code",
   "execution_count": 22,
   "metadata": {
    "collapsed": false,
    "deletable": true,
    "editable": true
   },
   "outputs": [
    {
     "name": "stdout",
     "output_type": "stream",
     "text": [
      "<_sre.SRE_Match object; span=(19, 27), match='издалека'>\n",
      "издалека\n",
      "19 27\n",
      "None\n"
     ]
    }
   ],
   "source": [
    "m = re.search(r'издалека', 'рыбак рыбака видит издалека')\n",
    "\n",
    "print(m)\n",
    "print(m.group(0))\n",
    "print(m.start(), m.end())\n",
    "\n",
    "l = re.search(r'прорубь', 'рыбак рыбака видит издалека')\n",
    "print(l)"
   ]
  },
  {
   "cell_type": "markdown",
   "metadata": {
    "deletable": true,
    "editable": true
   },
   "source": [
    "__re.findall(pattern, string)__ -  возвращает все вхождения pattern в string в виде списка\n",
    "\n"
   ]
  },
  {
   "cell_type": "code",
   "execution_count": 24,
   "metadata": {
    "collapsed": false,
    "deletable": true,
    "editable": true
   },
   "outputs": [
    {
     "name": "stdout",
     "output_type": "stream",
     "text": [
      "['рыбак', 'рыбак']\n",
      "[]\n"
     ]
    }
   ],
   "source": [
    "m = re.findall(r'рыбак', 'рыбак рыбака видит издалека')\n",
    "\n",
    "print(m)\n",
    "\n",
    "l = re.findall(r'прорубь', 'рыбак рыбака видит издалека')\n",
    "print(l)"
   ]
  },
  {
   "cell_type": "markdown",
   "metadata": {
    "deletable": true,
    "editable": true
   },
   "source": [
    "__re.split(pattern, string, [maxsplit=0])__ - разделяет строку string по шаблону pattern; параметр maxsplit отвечает за максимальное количество разбиений (если их существует несколько).\n",
    "\n"
   ]
  },
  {
   "cell_type": "code",
   "execution_count": 3,
   "metadata": {
    "collapsed": false,
    "deletable": true,
    "editable": true
   },
   "outputs": [
    {
     "name": "stdout",
     "output_type": "stream",
     "text": [
      "['рыбак рыбака ', ' издалека']\n",
      "['', ' ', 'а видит издалека'] 3\n",
      "['', ' рыбака видит издалека'] 2\n"
     ]
    }
   ],
   "source": [
    "m = re.split(r'видит', 'рыбак рыбака видит издалека')\n",
    "\n",
    "print(m)\n",
    "\n",
    "l = re.split(r'рыбак', 'рыбак рыбака видит издалека')\n",
    "print(l, len(l))\n",
    "\n",
    "l1 = re.split(r'рыбак', 'рыбак рыбака видит издалека',maxsplit=1)\n",
    "print(l1, len(l1))"
   ]
  },
  {
   "cell_type": "markdown",
   "metadata": {
    "deletable": true,
    "editable": true
   },
   "source": [
    "__re.sub(pattern, string2, string1)__ - заменяет все вхождения pattern в string1 на srting2\n",
    "\n"
   ]
  },
  {
   "cell_type": "code",
   "execution_count": 6,
   "metadata": {
    "collapsed": false,
    "deletable": true,
    "editable": true
   },
   "outputs": [
    {
     "name": "stdout",
     "output_type": "stream",
     "text": [
      "Рыбак Рыбака видит издалека\n"
     ]
    }
   ],
   "source": [
    "m = re.sub(r'рыбак', 'Рыбак', 'рыбак рыбака видит издалека')\n",
    "\n",
    "print(m)"
   ]
  },
  {
   "cell_type": "markdown",
   "metadata": {
    "deletable": true,
    "editable": true
   },
   "source": [
    "__re.compile(pattern)__ - создает объект для последующего поиска"
   ]
  },
  {
   "cell_type": "code",
   "execution_count": 7,
   "metadata": {
    "collapsed": false,
    "deletable": true,
    "editable": true
   },
   "outputs": [
    {
     "name": "stdout",
     "output_type": "stream",
     "text": [
      "['рыбак', 'рыбак']\n"
     ]
    }
   ],
   "source": [
    "prog = re.compile(r'рыбак')\n",
    "\n",
    "m = prog.findall('рыбак рыбака видит издалека')\n",
    "\n",
    "print(m)"
   ]
  },
  {
   "cell_type": "code",
   "execution_count": 8,
   "metadata": {
    "collapsed": false,
    "deletable": true,
    "editable": true
   },
   "outputs": [
    {
     "name": "stdout",
     "output_type": "stream",
     "text": [
      "['Р', 'В']\n"
     ]
    }
   ],
   "source": [
    "prog = re.compile('[A-Я]') # поиск всех заглавныех букв в строке\n",
    "\n",
    "m = prog.findall('Рыбак рыбака видит издалека. Всегда!')\n",
    "\n",
    "print(m)"
   ]
  },
  {
   "cell_type": "markdown",
   "metadata": {
    "deletable": true,
    "editable": true
   },
   "source": [
    "__*Примеры:*__"
   ]
  },
  {
   "cell_type": "code",
   "execution_count": 18,
   "metadata": {
    "collapsed": false,
    "deletable": true,
    "editable": true
   },
   "outputs": [
    {
     "name": "stdout",
     "output_type": "stream",
     "text": [
      "у456ао, ы234ег, 99авто443\n",
      "у456ао\n"
     ]
    }
   ],
   "source": [
    "prog = re.compile('[авекорсту\\(\\)\\*]{1}[0-9]{3}[авекорсту]{2}') # регулярное выражение для поиска автомобильных\n",
    "                                                          # номеров (русские буквы, совпадающие с латиницей)\n",
    "\n",
    "s = 'у456ао, ы234ег, 99авто443'\n",
    "print(s)\n",
    "res = prog.findall(s)\n",
    "\n",
    "print(*res)"
   ]
  },
  {
   "cell_type": "code",
   "execution_count": 43,
   "metadata": {
    "collapsed": false,
    "deletable": true,
    "editable": true
   },
   "outputs": [
    {
     "name": "stdout",
     "output_type": "stream",
     "text": [
      "['кот котик компот']\n",
      "['кот', 'кот', 'к компот']\n",
      "['кот', 'кот', 'компот']\n",
      "['кот котик ']\n"
     ]
    }
   ],
   "source": [
    "# пример \"жадных\" операторов: ищем котов\n",
    "\n",
    "s = 'кот котик компот'\n",
    "res1 = re.findall(r'к.*т', s)\n",
    "print(res1)\n",
    "\n",
    "res2 = re.findall(r'к.*?т', s)\n",
    "print(res2)\n",
    "\n",
    "res3 = re.findall(r'к[\\S]*?т', s)\n",
    "print(res3)\n",
    "\n",
    "res4 = re.findall(r'кот.*\\s', s)\n",
    "print(res4)"
   ]
  },
  {
   "cell_type": "markdown",
   "metadata": {
    "deletable": true,
    "editable": true
   },
   "source": [
    "### __Задание 1:__"
   ]
  },
  {
   "cell_type": "markdown",
   "metadata": {
    "deletable": true,
    "editable": true
   },
   "source": [
    "Найдите в тексте все номера телефонов; текст лежит в файле 'task1.txt'. Обратите внимание на возможные форматы написания номеров."
   ]
  },
  {
   "cell_type": "code",
   "execution_count": 12,
   "metadata": {
    "collapsed": false,
    "deletable": true,
    "editable": true
   },
   "outputs": [
    {
     "name": "stdout",
     "output_type": "stream",
     "text": [
      "Гарантируется, что в номере 8 цифр и он отделен пробелом, но форматы написания могут отличаться:\n",
      "\n",
      "\n",
      "89268659970\tАнна\n",
      "8(495)3451212\tАлексей Иванин\n",
      "Автомастерская\t+7(234)456-78-90\n",
      "8(956)234-23-23\tсоседка 125 квартира\n",
      "Офис, 5 этаж\t85679962312 \n",
      "Игорь\t\t+7-845-344-23-65\n",
      "\n",
      "89268659970\n",
      "8(495)3451212\n",
      "+7(234)456-78-90\n",
      "8(956)234-23-23\n",
      "85679962312\n",
      "+7-845-344-23-65\n"
     ]
    }
   ],
   "source": [
    "import re\n",
    "\n",
    "with open ('../data/task1.txt') as f:\n",
    "    phones = f.read()\n",
    "    \n",
    "print(phones)\n",
    "\n",
    "prog1 = re.compile('[+0-9\\-(\\)]{8,}')\n",
    "res = prog1.findall(phones)\n",
    "print(*res, sep='\\n')\n",
    "\n",
    "p = '+'"
   ]
  },
  {
   "cell_type": "code",
   "execution_count": 1,
   "metadata": {
    "collapsed": true
   },
   "outputs": [],
   "source": [
    "with open('../data/task1.txt', encoding = 'utf-8') as infile:\n",
    "    lines = infile.readlines()"
   ]
  },
  {
   "cell_type": "markdown",
   "metadata": {
    "deletable": true,
    "editable": true
   },
   "source": [
    "### __Токенизация с помощью регулярных выражений__"
   ]
  },
  {
   "cell_type": "code",
   "execution_count": 84,
   "metadata": {
    "collapsed": false,
    "deletable": true,
    "editable": true
   },
   "outputs": [
    {
     "name": "stdout",
     "output_type": "stream",
     "text": [
      "«Карты, деньги, два ствола» культовый фильм Гая Ричи. Эта картина покорила сначала Британию, затем Америку, а потом и весь мир. Никому неизвестный режиссер Гай Ричи, у которого за плечами были только коротметражка «Трудное дело», дешевые рекламные ролики и клипы, создал шедевр на все времена. Это именно тот случай, когда и критики, и зрители в восторге. Здесь очень много черного юмора и насилия, но это и делает фильм таким какой он есть. Хотя он и не стал лидером проката, он собрал множество наград и стал классикой. Но вернемся в прошлое и перенесемся за океан. В 1994 году вышел фильм «Криминальное чтиво» Квентина Тарантино. По слухам, как-то его спросили — «Квентин, вам не кажется, что вы не сняли ничего лучше Криминального чтива?», на что он ответил — «А кто снял?». Нет, не снял, но снимет через четыре года. Молодой и талантливый режиссер Гай Ричи заставит заговорить о себе весь мир. Со своей картиной «Карты, деньги, два ствола» он не только встанет на один уровень со своим голливудским коллегой Квентином Тарантино и его фильмом «Криминальное чтиво», но и превзойдет его. Впрочем, здесь достаточно трудно утверждать чей фильм лучше, а чей хуже: оба этих фильма гениальны, однако свое предпочтение я все же отдам Гаю Ричи. А теперь, после того, как я похвалила режиссера, можно перейти к самой картине. О ней только и можно сказать что она невероятна. Именно такой и видится криминальный мир Лондона. Здесь есть все составляющие для хорошего кино. Все актеры подобраны идеально и стоят на своем месте. Стоит ли говорить, что после этого фильма Джейсон Стэйтем проснулся звездой. Кроме потрясающей режиссерской работы, здесь ещё и отличный сценарий, написанный так же Гаем Ричи. Все диалоги настолько хороши, что во время просмотра хочется взять бумагу и ручку и записать их. Так же к диалогам подобрано отличное музыкальное сопровождение. С первых минут фильм кажется ничем не примечательным, и думаешь почему же все считают его культовым. Но потом происходит что-то нереальное. Этот фильм настолько притягивает к себе, что оторваться просто невозможно, настолько интересно наблюдать, как сюжетные линии переплетаются между собой. После просмотра «Карты, деньги, два ствола», просто сидишь в оцепенении и думаешь «Черт возьми, что это было? И хочу ещё!» Безусловно, Гай Ричи создал культовое кино, которое хочется смотреть и пересматривать.\n"
     ]
    }
   ],
   "source": [
    "text = '«Карты, деньги, два ствола» культовый фильм Гая Ричи. Эта картина покорила сначала Британию, затем Америку, а потом и весь мир. Никому неизвестный режиссер Гай Ричи, у которого за плечами были только коротметражка «Трудное дело», дешевые рекламные ролики и клипы, создал шедевр на все времена. Это именно тот случай, когда и критики, и зрители в восторге. Здесь очень много черного юмора и насилия, но это и делает фильм таким какой он есть. Хотя он и не стал лидером проката, он собрал множество наград и стал классикой. Но вернемся в прошлое и перенесемся за океан. В 1994 году вышел фильм «Криминальное чтиво» Квентина Тарантино. По слухам, как-то его спросили — «Квентин, вам не кажется, что вы не сняли ничего лучше Криминального чтива?», на что он ответил — «А кто снял?». Нет, не снял, но снимет через четыре года. Молодой и талантливый режиссер Гай Ричи заставит заговорить о себе весь мир. Со своей картиной «Карты, деньги, два ствола» он не только встанет на один уровень со своим голливудским коллегой Квентином Тарантино и его фильмом «Криминальное чтиво», но и превзойдет его. Впрочем, здесь достаточно трудно утверждать чей фильм лучше, а чей хуже: оба этих фильма гениальны, однако свое предпочтение я все же отдам Гаю Ричи. А теперь, после того, как я похвалила режиссера, можно перейти к самой картине. О ней только и можно сказать что она невероятна. Именно такой и видится криминальный мир Лондона. Здесь есть все составляющие для хорошего кино. Все актеры подобраны идеально и стоят на своем месте. Стоит ли говорить, что после этого фильма Джейсон Стэйтем проснулся звездой. Кроме потрясающей режиссерской работы, здесь ещё и отличный сценарий, написанный так же Гаем Ричи. Все диалоги настолько хороши, что во время просмотра хочется взять бумагу и ручку и записать их. Так же к диалогам подобрано отличное музыкальное сопровождение. С первых минут фильм кажется ничем не примечательным, и думаешь почему же все считают его культовым. Но потом происходит что-то нереальное. Этот фильм настолько притягивает к себе, что оторваться просто невозможно, настолько интересно наблюдать, как сюжетные линии переплетаются между собой. После просмотра «Карты, деньги, два ствола», просто сидишь в оцепенении и думаешь «Черт возьми, что это было? И хочу ещё!» Безусловно, Гай Ричи создал культовое кино, которое хочется смотреть и пересматривать.'\n",
    "\n",
    "print(text)"
   ]
  },
  {
   "cell_type": "code",
   "execution_count": 86,
   "metadata": {
    "collapsed": false,
    "deletable": true,
    "editable": true
   },
   "outputs": [
    {
     "name": "stdout",
     "output_type": "stream",
     "text": [
      "карты деньги два ствола культовый фильм гая ричи эта картина\n"
     ]
    }
   ],
   "source": [
    "prog = re.compile('[А-Яа-я\\-]+')\n",
    "tokens = prog.findall(text.lower())\n",
    "print(' '.join(tokens[:10]))"
   ]
  },
  {
   "cell_type": "markdown",
   "metadata": {
    "deletable": true,
    "editable": true
   },
   "source": [
    "### __Сегментация предложений__"
   ]
  },
  {
   "cell_type": "code",
   "execution_count": 15,
   "metadata": {
    "collapsed": false,
    "deletable": true,
    "editable": true
   },
   "outputs": [
    {
     "name": "stdout",
     "output_type": "stream",
     "text": [
      "4\n",
      "Первое предложение.\n",
      "Второе предложение!\n",
      "И, наконец, третье?\n",
      "Где находится г. Москва?\n"
     ]
    }
   ],
   "source": [
    "from nltk.tokenize import sent_tokenize\n",
    "\n",
    "\n",
    "text1 = 'Первое предложение. Второе предложение! И, наконец, третье?  Где находится г. Москва?'\n",
    "sents = sent_tokenize(text1)\n",
    "\n",
    "print(len(sents))\n",
    "print(*sents, sep='\\n')"
   ]
  },
  {
   "cell_type": "code",
   "execution_count": null,
   "metadata": {
    "collapsed": false
   },
   "outputs": [],
   "source": [
    "nltk.download('english.pkl')"
   ]
  },
  {
   "cell_type": "markdown",
   "metadata": {
    "deletable": true,
    "editable": true
   },
   "source": [
    "### __Частотный анализ текста__"
   ]
  },
  {
   "cell_type": "markdown",
   "metadata": {
    "deletable": true,
    "editable": true
   },
   "source": [
    "10 самых частых слов (токенов):"
   ]
  },
  {
   "cell_type": "code",
   "execution_count": 17,
   "metadata": {
    "collapsed": false,
    "deletable": true,
    "editable": true
   },
   "outputs": [
    {
     "data": {
      "text/plain": [
       "[('и', 22),\n",
       " ('что', 7),\n",
       " ('фильм', 6),\n",
       " ('ричи', 6),\n",
       " ('все', 6),\n",
       " ('не', 6),\n",
       " ('но', 5),\n",
       " ('он', 5),\n",
       " ('а', 4),\n",
       " ('на', 4)]"
      ]
     },
     "execution_count": 17,
     "metadata": {},
     "output_type": "execute_result"
    }
   ],
   "source": [
    "import nltk\n",
    "\n",
    "d1 = nltk.FreqDist(tokens) # частотный словарь для текста\n",
    "d1.most_common(10) # токен и кол-во его появлений в тексте"
   ]
  },
  {
   "cell_type": "code",
   "execution_count": 18,
   "metadata": {
    "collapsed": false
   },
   "outputs": [
    {
     "data": {
      "text/plain": [
       "4"
      ]
     },
     "execution_count": 18,
     "metadata": {},
     "output_type": "execute_result"
    }
   ],
   "source": [
    "d1['здесь']"
   ]
  },
  {
   "cell_type": "markdown",
   "metadata": {
    "deletable": true,
    "editable": true
   },
   "source": [
    "Распределение длин слов в тексте:"
   ]
  },
  {
   "cell_type": "code",
   "execution_count": 7,
   "metadata": {
    "collapsed": false,
    "deletable": true,
    "editable": true
   },
   "outputs": [
    {
     "name": "stdout",
     "output_type": "stream",
     "text": [
      "<FreqDist with 14 samples and 363 outcomes>\n",
      "[(5, 56), (3, 46), (6, 41), (1, 39), (7, 38)]\n",
      "0.15426997245179064\n"
     ]
    }
   ],
   "source": [
    "d2 = nltk.FreqDist(len(w) for w in tokens)  \n",
    "\n",
    "print(d2)  \n",
    "print(d2.most_common(5)) # 5 самых частых длин слов\n",
    "print(d2.freq(d2.max())) # как часто они встречаются в тексте"
   ]
  },
  {
   "cell_type": "markdown",
   "metadata": {
    "deletable": true,
    "editable": true
   },
   "source": [
    "### __Задание 2:__\n",
    "\n",
    "1. Посчитайте, сколько слов в тексте про Гая Ричи встречается больше 3 раз.\n",
    "2. Посчитайте количество слов, состоящих из 5 букв и более."
   ]
  },
  {
   "cell_type": "code",
   "execution_count": 22,
   "metadata": {
    "collapsed": false
   },
   "outputs": [
    {
     "name": "stdout",
     "output_type": "stream",
     "text": [
      "14\n"
     ]
    }
   ],
   "source": [
    "res = [i for i in d1.most_common() if i[1] > 3]\n",
    "\n",
    "print(len(res))"
   ]
  },
  {
   "cell_type": "code",
   "execution_count": 26,
   "metadata": {
    "collapsed": false
   },
   "outputs": [
    {
     "name": "stdout",
     "output_type": "stream",
     "text": [
      "210\n",
      "210\n"
     ]
    }
   ],
   "source": [
    "res = [i for i in tokens if len(i) >= 5]\n",
    "print(len(res))\n",
    "\n",
    "res = [i[1] for i in d1.most_common() if len(i[0]) >= 5]\n",
    "print(sum(res))"
   ]
  },
  {
   "cell_type": "markdown",
   "metadata": {
    "deletable": true,
    "editable": true
   },
   "source": [
    "### __Лемматизация текста__"
   ]
  },
  {
   "cell_type": "code",
   "execution_count": 27,
   "metadata": {
    "collapsed": true,
    "deletable": true,
    "editable": true
   },
   "outputs": [],
   "source": [
    "sent = 'Безусловно, Гай Ричи создал культовое кино, которое хочется смотреть и пересматривать.'"
   ]
  },
  {
   "cell_type": "markdown",
   "metadata": {
    "deletable": true,
    "editable": true
   },
   "source": [
    "Pymorphy:"
   ]
  },
  {
   "cell_type": "code",
   "execution_count": 28,
   "metadata": {
    "collapsed": false,
    "deletable": true,
    "editable": true
   },
   "outputs": [
    {
     "name": "stdout",
     "output_type": "stream",
     "text": [
      "безусловно, гай ричать создать культовый кино, который хотеться смотреть и пересматривать.\n",
      "CPU times: user 65.2 ms, sys: 29.8 ms, total: 95 ms\n",
      "Wall time: 114 ms\n"
     ]
    }
   ],
   "source": [
    "%%time\n",
    "from pymorphy2 import MorphAnalyzer\n",
    "\n",
    "m = MorphAnalyzer()\n",
    "lemmas1 = [m.parse(word)[0].normal_form for word in sent.split()]\n",
    "print(' '.join(lemmas1))"
   ]
  },
  {
   "cell_type": "code",
   "execution_count": 31,
   "metadata": {
    "collapsed": false
   },
   "outputs": [
    {
     "data": {
      "text/plain": [
       "[Parse(word='эмбеддинг', tag=OpencorporaTag('NOUN,anim,masc,Sgtm,Surn sing,nomn'), normal_form='эмбеддинг', score=0.14285714285714285, methods_stack=((<FakeDictionary>, 'эмбеддинг', 49, 0), (<KnownSuffixAnalyzer>, 'ддинг'))),\n",
       " Parse(word='эмбеддинг', tag=OpencorporaTag('NOUN,anim,femn,Sgtm,Fixd,Surn sing,nomn'), normal_form='эмбеддинг', score=0.14285714285714285, methods_stack=((<FakeDictionary>, 'эмбеддинг', 49, 6), (<KnownSuffixAnalyzer>, 'ддинг'))),\n",
       " Parse(word='эмбеддинг', tag=OpencorporaTag('NOUN,anim,femn,Sgtm,Fixd,Surn sing,gent'), normal_form='эмбеддинг', score=0.14285714285714285, methods_stack=((<FakeDictionary>, 'эмбеддинг', 49, 7), (<KnownSuffixAnalyzer>, 'ддинг'))),\n",
       " Parse(word='эмбеддинг', tag=OpencorporaTag('NOUN,anim,femn,Sgtm,Fixd,Surn sing,datv'), normal_form='эмбеддинг', score=0.14285714285714285, methods_stack=((<FakeDictionary>, 'эмбеддинг', 49, 8), (<KnownSuffixAnalyzer>, 'ддинг'))),\n",
       " Parse(word='эмбеддинг', tag=OpencorporaTag('NOUN,anim,femn,Sgtm,Fixd,Surn sing,accs'), normal_form='эмбеддинг', score=0.14285714285714285, methods_stack=((<FakeDictionary>, 'эмбеддинг', 49, 9), (<KnownSuffixAnalyzer>, 'ддинг'))),\n",
       " Parse(word='эмбеддинг', tag=OpencorporaTag('NOUN,anim,femn,Sgtm,Fixd,Surn sing,ablt'), normal_form='эмбеддинг', score=0.14285714285714285, methods_stack=((<FakeDictionary>, 'эмбеддинг', 49, 10), (<KnownSuffixAnalyzer>, 'ддинг'))),\n",
       " Parse(word='эмбеддинг', tag=OpencorporaTag('NOUN,anim,femn,Sgtm,Fixd,Surn sing,loct'), normal_form='эмбеддинг', score=0.14285714285714285, methods_stack=((<FakeDictionary>, 'эмбеддинг', 49, 11), (<KnownSuffixAnalyzer>, 'ддинг')))]"
      ]
     },
     "execution_count": 31,
     "metadata": {},
     "output_type": "execute_result"
    }
   ],
   "source": [
    "m.parse('эмбеддинг')"
   ]
  },
  {
   "cell_type": "markdown",
   "metadata": {
    "deletable": true,
    "editable": true
   },
   "source": [
    "Mystem:"
   ]
  },
  {
   "cell_type": "code",
   "execution_count": 32,
   "metadata": {
    "collapsed": false,
    "deletable": true,
    "editable": true
   },
   "outputs": [
    {
     "name": "stdout",
     "output_type": "stream",
     "text": [
      "['безусловно', ', ', 'гай', ' ', 'ричи', ' ', 'создавать', ' ', 'культовый', ' ', 'кино', ', ', 'который', ' ', 'хотеться', ' ', 'смотреть', ' ', 'и', ' ', 'пересматривать', '.', '\\n']\n",
      "безусловно, гай ричи создавать культовый кино, который хотеться смотреть и пересматривать.\n",
      "\n",
      "CPU times: user 3.84 ms, sys: 7.79 ms, total: 11.6 ms\n",
      "Wall time: 1.42 s\n"
     ]
    }
   ],
   "source": [
    "%%time\n",
    "from pymystem3 import Mystem\n",
    "\n",
    "m = Mystem()\n",
    "lemmas2 = m.lemmatize(sent)\n",
    "print(lemmas2)\n",
    "print(''.join(lemmas2))"
   ]
  },
  {
   "cell_type": "code",
   "execution_count": 34,
   "metadata": {
    "collapsed": false
   },
   "outputs": [
    {
     "data": {
      "text/plain": [
       "[{'analysis': [{'gr': 'V,нп=прош,мн,изъяв,сов', 'lex': 'становиться'}],\n",
       "  'text': 'стали'},\n",
       " {'text': '\\n'}]"
      ]
     },
     "execution_count": 34,
     "metadata": {},
     "output_type": "execute_result"
    }
   ],
   "source": [
    "m.analyze('стали')"
   ]
  },
  {
   "cell_type": "code",
   "execution_count": 85,
   "metadata": {
    "collapsed": false,
    "deletable": true,
    "editable": true
   },
   "outputs": [
    {
     "data": {
      "text/plain": [
       "[Parse(word='стали', tag=OpencorporaTag('VERB,perf,intr plur,past,indc'), normal_form='стать', score=0.984662, methods_stack=((<DictionaryAnalyzer>, 'стали', 904, 4),)),\n",
       " Parse(word='стали', tag=OpencorporaTag('NOUN,inan,femn sing,gent'), normal_form='сталь', score=0.003067, methods_stack=((<DictionaryAnalyzer>, 'стали', 13, 1),)),\n",
       " Parse(word='стали', tag=OpencorporaTag('NOUN,inan,femn sing,datv'), normal_form='сталь', score=0.003067, methods_stack=((<DictionaryAnalyzer>, 'стали', 13, 2),)),\n",
       " Parse(word='стали', tag=OpencorporaTag('NOUN,inan,femn sing,loct'), normal_form='сталь', score=0.003067, methods_stack=((<DictionaryAnalyzer>, 'стали', 13, 5),)),\n",
       " Parse(word='стали', tag=OpencorporaTag('NOUN,inan,femn plur,nomn'), normal_form='сталь', score=0.003067, methods_stack=((<DictionaryAnalyzer>, 'стали', 13, 6),)),\n",
       " Parse(word='стали', tag=OpencorporaTag('NOUN,inan,femn plur,accs'), normal_form='сталь', score=0.003067, methods_stack=((<DictionaryAnalyzer>, 'стали', 13, 9),))]"
      ]
     },
     "execution_count": 85,
     "metadata": {},
     "output_type": "execute_result"
    }
   ],
   "source": [
    "m = MorphAnalyzer()\n",
    "\n",
    "m.parse('стали')"
   ]
  },
  {
   "cell_type": "code",
   "execution_count": 36,
   "metadata": {
    "collapsed": false,
    "deletable": true,
    "editable": true
   },
   "outputs": [
    {
     "name": "stdout",
     "output_type": "stream",
     "text": [
      "NOUN,anim,masc sing,nomn\n",
      "True\n",
      "False\n"
     ]
    }
   ],
   "source": [
    "m = MorphAnalyzer()\n",
    "p = m.parse('кот')[0]\n",
    "print(p.tag)\n",
    "print({'anim', 'nomn'} in p.tag)\n",
    "print({'VERB'} in p.tag)"
   ]
  },
  {
   "cell_type": "code",
   "execution_count": 42,
   "metadata": {
    "collapsed": false
   },
   "outputs": [
    {
     "data": {
      "text/plain": [
       "[{'analysis': [{'gr': 'A=им,ед,полн,жен', 'lex': 'красивый'}],\n",
       "  'text': 'красивая'},\n",
       " {'text': ' '},\n",
       " {'analysis': [{'gr': 'S,имя,мж,од=им,ед', 'lex': 'саша'}], 'text': 'Саша'},\n",
       " {'text': ' '},\n",
       " {'analysis': [{'gr': 'V,нп=прош,ед,изъяв,жен,сов', 'lex': 'приходить'}],\n",
       "  'text': 'пришла'},\n",
       " {'text': '\\n'}]"
      ]
     },
     "execution_count": 42,
     "metadata": {},
     "output_type": "execute_result"
    }
   ],
   "source": [
    "m = Mystem()\n",
    "m.analyze('красивая Саша пришла')"
   ]
  },
  {
   "cell_type": "markdown",
   "metadata": {
    "deletable": true,
    "editable": true
   },
   "source": [
    "Обозначения для граммем: http://pymorphy2.readthedocs.io/en/latest/user/grammemes.html#grammeme-docs"
   ]
  },
  {
   "cell_type": "markdown",
   "metadata": {
    "deletable": true,
    "editable": true
   },
   "source": [
    "### Задание 3\n",
    "\n",
    "Найдите в списке персонажей романа \"Война и мир\" все уникальные  женские имена."
   ]
  },
  {
   "cell_type": "code",
   "execution_count": 79,
   "metadata": {
    "collapsed": false,
    "deletable": true,
    "editable": true
   },
   "outputs": [
    {
     "name": "stdout",
     "output_type": "stream",
     "text": [
      "Вера\n",
      "Наталья\n",
      "Наталья\n",
      "Наташа\n",
      "Натальи\n",
      "Наталья\n",
      "Марьи\n",
      "Соня\n",
      "Елизавета\n",
      "Марья\n",
      "Марья\n",
      "Алина\n",
      "Елена\n",
      "Элен\n",
      "Анна\n",
      "Катерина\n",
      "Ольга\n",
      "Софи\n",
      "Жюли\n",
      "Марьи\n",
      "Марья\n",
      "Марья\n",
      "Кирстен\n",
      "Штраух\n",
      "Марья\n",
      "Анна\n",
      "Марии\n",
      "Амалия\n",
      "Марьи\n",
      "Анисья\n",
      "Пелагея\n",
      "Настасья\n",
      "Пелагеюшка\n",
      "Аграфена\n",
      "Анна\n",
      "Марьи\n",
      "Мария\n",
      "Паулуччи\n",
      "Дуняша\n",
      "Марьи\n",
      "Дуняша\n",
      "Наташи\n",
      "Мавра\n",
      "Прасковья\n",
      "Марьи\n",
      "Аниска\n",
      "Марьи\n",
      "Анна\n",
      "ун\n",
      "Наташи\n",
      "Марья\n",
      "Марья\n",
      "Марья\n",
      "Матрена\n",
      "Луиза\n",
      "35\n"
     ]
    }
   ],
   "source": [
    "m = Mystem()\n",
    "with open ('../data/persons.txt') as f:\n",
    "    raw = f.read()\n",
    "res = m.analyze(raw)\n",
    "names = []\n",
    "for i in res: \n",
    "    if 'analysis' in i:\n",
    "        if i['analysis']:\n",
    "            if 'имя,жен' in i['analysis'][0]['gr']:\n",
    "                name = (i['text'])\n",
    "                print(name)\n",
    "                if not name  in names:\n",
    "                    names.append(name)\n",
    "print(len(names))"
   ]
  },
  {
   "cell_type": "code",
   "execution_count": 80,
   "metadata": {
    "collapsed": false
   },
   "outputs": [
    {
     "name": "stdout",
     "output_type": "stream",
     "text": [
      "наталья\n",
      "наталья\n",
      "наташа\n",
      "наталья\n",
      "наталья\n",
      "марья\n",
      "соня\n",
      "елизавета\n",
      "марья\n",
      "марья\n",
      "курагина\n",
      "курагина\n",
      "курагина\n",
      "курагина\n",
      "курагина\n",
      "курагина\n",
      "елена\n",
      "элен\n",
      "анна\n",
      "катерина\n",
      "ольга\n",
      "карагина\n",
      "карагина\n",
      "марья\n",
      "карагина\n",
      "марья\n",
      "марья\n",
      "толли\n",
      "толли\n",
      "пфуля\n",
      "телянина\n",
      "балашева\n",
      "репнина\n",
      "штрауха\n",
      "щербинина\n",
      "балашева\n",
      "репнина\n",
      "рамбаля\n",
      "мюрата\n",
      "рамбаля\n",
      "мюрата\n",
      "марья\n",
      "анна\n",
      "мария\n",
      "смольянин\n",
      "амалия\n",
      "марья\n",
      "анисья\n",
      "пелагея\n",
      "настасья\n",
      "аграфена\n",
      "анна\n",
      "марья\n",
      "мария\n",
      "дуняша\n",
      "марья\n",
      "дуняша\n",
      "наташа\n",
      "жозефа\n",
      "курагина\n",
      "прасковья\n",
      "марья\n",
      "курагина\n",
      "аниска\n",
      "марья\n",
      "анна\n",
      "диммлера\n",
      "наташа\n",
      "марья\n",
      "марья\n",
      "марья\n",
      "матрена\n",
      "курагина\n",
      "34\n"
     ]
    }
   ],
   "source": [
    "m = MorphAnalyzer()\n",
    "prog = re.compile('[А-Я]{1}[а-я]+') #слова с заглавной буквы\n",
    "tokens = prog.findall(raw)\n",
    "lemmas = [m.parse(word)[0].normal_form for word in tokens]\n",
    "\n",
    "names = set()\n",
    "for w in lemmas:\n",
    "    p = m.parse(w)[0].tag\n",
    "    if {'Name', 'femn'} in p:\n",
    "        print(w)\n",
    "        names.add(w.capitalize())\n",
    "        \n",
    "print(len(names))"
   ]
  },
  {
   "cell_type": "markdown",
   "metadata": {
    "deletable": true,
    "editable": true
   },
   "source": [
    "### Стемминг"
   ]
  },
  {
   "cell_type": "code",
   "execution_count": 53,
   "metadata": {
    "collapsed": false,
    "deletable": true,
    "editable": true
   },
   "outputs": [
    {
     "name": "stdout",
     "output_type": "stream",
     "text": [
      "распределен\n",
      "пристав\n",
      "сдела\n",
      "словообразован\n"
     ]
    }
   ],
   "source": [
    "from nltk.stem.snowball import RussianStemmer\n",
    "\n",
    "stemmer = RussianStemmer()\n",
    "words = ['распределение', 'приставить', 'сделала', 'словообразование']\n",
    "for w in words:\n",
    "    stem = stemmer.stem(w)\n",
    "    print(stem)"
   ]
  },
  {
   "cell_type": "markdown",
   "metadata": {
    "deletable": true,
    "editable": true
   },
   "source": [
    "### __Удаление стоп-слов__"
   ]
  },
  {
   "cell_type": "code",
   "execution_count": 17,
   "metadata": {
    "collapsed": false,
    "deletable": true,
    "editable": true
   },
   "outputs": [
    {
     "name": "stdout",
     "output_type": "stream",
     "text": [
      "«Карты, деньги, два ствола» культовый фильм Гая Ричи. Эта картина покорила сначала Британию, затем Америку, а потом и весь мир. Никому неизвестный режиссер Гай Ричи, у которого за плечами были только коротметражка «Трудное дело», дешевые рекламные ролики и клипы, создал шедевр на все времена. Это именно тот случай, когда и критики, и зрители в восторге. Здесь очень много черного юмора и насилия, но это и делает фильм таким какой он есть. Хотя он и не стал лидером проката, он собрал множество наград и стал классикой. Но вернемся в прошлое и перенесемся за океан. В 1994 году вышел фильм «Криминальное чтиво» Квентина Тарантино. По слухам, как-то его спросили — «Квентин, вам не кажется, что вы не сняли ничего лучше Криминального чтива?», на что он ответил — «А кто снял?». Нет, не снял, но снимет через четыре года. Молодой и талантливый режиссер Гай Ричи заставит заговорить о себе весь мир. Со своей картиной «Карты, деньги, два ствола» он не только встанет на один уровень со своим голливудским коллегой Квентином Тарантино и его фильмом «Криминальное чтиво», но и превзойдет его. Впрочем, здесь достаточно трудно утверждать чей фильм лучше, а чей хуже: оба этих фильма гениальны, однако свое предпочтение я все же отдам Гаю Ричи. А теперь, после того, как я похвалила режиссера, можно перейти к самой картине. О ней только и можно сказать что она невероятна. Именно такой и видится криминальный мир Лондона. Здесь есть все составляющие для хорошего кино. Все актеры подобраны идеально и стоят на своем месте. Стоит ли говорить, что после этого фильма Джейсон Стэйтем проснулся звездой. Кроме потрясающей режиссерской работы, здесь ещё и отличный сценарий, написанный так же Гаем Ричи. Все диалоги настолько хороши, что во время просмотра хочется взять бумагу и ручку и записать их. Так же к диалогам подобрано отличное музыкальное сопровождение. С первых минут фильм кажется ничем не примечательным, и думаешь почему же все считают его культовым. Но потом происходит что-то нереальное. Этот фильм настолько притягивает к себе, что оторваться просто невозможно, настолько интересно наблюдать, как сюжетные линии переплетаются между собой. После просмотра «Карты, деньги, два ствола», просто сидишь в оцепенении и думаешь «Черт возьми, что это было? И хочу ещё!» Безусловно, Гай Ричи создал культовое кино, которое хочется смотреть и пересматривать.\n"
     ]
    }
   ],
   "source": [
    "print(text)"
   ]
  },
  {
   "cell_type": "code",
   "execution_count": 82,
   "metadata": {
    "collapsed": false
   },
   "outputs": [
    {
     "name": "stdout",
     "output_type": "stream",
     "text": [
      "['и', 'в', 'во', 'не', 'что', 'он', 'на', 'я', 'с', 'со', 'как', 'а', 'то', 'все', 'она', 'так', 'его', 'но', 'да', 'ты', 'к', 'у', 'же', 'вы', 'за', 'бы', 'по', 'только', 'ее', 'мне', 'было', 'вот', 'от', 'меня', 'еще', 'нет', 'о', 'из', 'ему', 'теперь', 'когда', 'даже', 'ну', 'вдруг', 'ли', 'если', 'уже', 'или', 'ни', 'быть', 'был', 'него', 'до', 'вас', 'нибудь', 'опять', 'уж', 'вам', 'ведь', 'там', 'потом', 'себя', 'ничего', 'ей', 'может', 'они', 'тут', 'где', 'есть', 'надо', 'ней', 'для', 'мы', 'тебя', 'их', 'чем', 'была', 'сам', 'чтоб', 'без', 'будто', 'чего', 'раз', 'тоже', 'себе', 'под', 'будет', 'ж', 'тогда', 'кто', 'этот', 'того', 'потому', 'этого', 'какой', 'совсем', 'ним', 'здесь', 'этом', 'один', 'почти', 'мой', 'тем', 'чтобы', 'нее', 'сейчас', 'были', 'куда', 'зачем', 'всех', 'никогда', 'можно', 'при', 'наконец', 'два', 'об', 'другой', 'хоть', 'после', 'над', 'больше', 'тот', 'через', 'эти', 'нас', 'про', 'всего', 'них', 'какая', 'много', 'разве', 'три', 'эту', 'моя', 'впрочем', 'хорошо', 'свою', 'этой', 'перед', 'иногда', 'лучше', 'чуть', 'том', 'нельзя', 'такой', 'им', 'более', 'всегда', 'конечно', 'всю', 'между']\n"
     ]
    }
   ],
   "source": [
    "from nltk.corpus import stopwords\n",
    "print(stopwords.words('russian'))"
   ]
  },
  {
   "cell_type": "code",
   "execution_count": 87,
   "metadata": {
    "collapsed": false,
    "deletable": true,
    "editable": true
   },
   "outputs": [
    {
     "data": {
      "text/plain": [
       "[('фильм', 9),\n",
       " ('гай', 6),\n",
       " ('ричать', 6),\n",
       " ('криминальный', 4),\n",
       " ('снять', 4),\n",
       " ('свой', 4),\n",
       " ('карта', 3),\n",
       " ('деньга', 3),\n",
       " ('ствол', 3),\n",
       " ('культовый', 3)]"
      ]
     },
     "execution_count": 87,
     "metadata": {},
     "output_type": "execute_result"
    }
   ],
   "source": [
    "from nltk.corpus import stopwords\n",
    "import pymorphy2\n",
    "\n",
    "morph = pymorphy2.MorphAnalyzer()\n",
    "l = [morph.parse(token)[0].normal_form for token in tokens if not token in stopwords.words('russian')]\n",
    "d3 = nltk.FreqDist(l)\n",
    "d3.most_common(10)"
   ]
  },
  {
   "cell_type": "code",
   "execution_count": 19,
   "metadata": {
    "collapsed": false,
    "deletable": true,
    "editable": true
   },
   "outputs": [
    {
     "name": "stdout",
     "output_type": "stream",
     "text": [
      "4\n",
      "0.017777777777777778\n"
     ]
    }
   ],
   "source": [
    "print (d3['снять'])\n",
    "print (d3.freq('снять'))"
   ]
  },
  {
   "cell_type": "markdown",
   "metadata": {
    "deletable": true,
    "editable": true
   },
   "source": [
    "__Удаление небуквенных символов:__"
   ]
  },
  {
   "cell_type": "code",
   "execution_count": 20,
   "metadata": {
    "collapsed": false,
    "deletable": true,
    "editable": true
   },
   "outputs": [
    {
     "name": "stdout",
     "output_type": "stream",
     "text": [
      "Уфологи уверены, что таинственная планета \"Нибиру\" не только существует, но и обнаружена в 2007 году. По их словам, в NASA до сих пор не могут решить, отнести небесное тело под кодовым номером OGLE-2016-BLG-1190Lb к числу планет или звезд.\n"
     ]
    }
   ],
   "source": [
    "s = 'Уфологи уверены, что таинственная планета \"Нибиру\" не только существует, но и обнаружена в 2007 году. По их словам, в NASA до сих пор не могут решить, отнести небесное тело под кодовым номером OGLE-2016-BLG-1190Lb к числу планет или звезд.'\n",
    "\n",
    "print(s)"
   ]
  },
  {
   "cell_type": "code",
   "execution_count": 21,
   "metadata": {
    "collapsed": false,
    "deletable": true,
    "editable": true
   },
   "outputs": [
    {
     "name": "stdout",
     "output_type": "stream",
     "text": [
      "уфолог уверить что таинственный планет нибира не только существовать но и обнаружить в год по они слово в до сей пора не мочь решить отнести небесный тело под кодовый номер к число планета или звезда\n"
     ]
    }
   ],
   "source": [
    "prog = re.compile('[А-Яа-я\\-]+')\n",
    "tokens2 = prog.findall(s)\n",
    "\n",
    "morph = pymorphy2.MorphAnalyzer()\n",
    "l2 = [morph.parse(token)[0].normal_form for token in tokens2 if token.isalpha()]\n",
    "\n",
    "print(*l2)"
   ]
  },
  {
   "cell_type": "markdown",
   "metadata": {
    "deletable": true,
    "editable": true
   },
   "source": [
    "### __NLTK-текст__"
   ]
  },
  {
   "cell_type": "code",
   "execution_count": 55,
   "metadata": {
    "collapsed": false,
    "deletable": true,
    "editable": true
   },
   "outputs": [
    {
     "data": {
      "text/plain": [
       "<Text: Александр Милн , Борис Заходер Винни-Пух ПРЕДИСЛОВИЕ Ровно...>"
      ]
     },
     "execution_count": 55,
     "metadata": {},
     "output_type": "execute_result"
    }
   ],
   "source": [
    "with open('Vinni-Puh.txt') as f:\n",
    "    raw = f.read()\n",
    "    \n",
    "tokens = nltk.word_tokenize(raw)\n",
    "nltk_text = nltk.Text(tokens)\n",
    "nltk_text"
   ]
  },
  {
   "cell_type": "code",
   "execution_count": 56,
   "metadata": {
    "collapsed": false,
    "deletable": true,
    "editable": true,
    "scrolled": false
   },
   "outputs": [
    {
     "name": "stdout",
     "output_type": "stream",
     "text": [
      "Displaying 25 of 297 matches:\n",
      "се новые Шумелки , Пыхтелки и Вопилки Пух сочинял под моим руководством . Слово\n",
      "ать , как было раньше ) . Во-вторых , Пух с друзьями разместились в целых двух \n",
      " папа . Вот однажды , гуляя по лесу , Пух вышел на полянку . На полянке рос выс\n",
      "ь на такие вышки ! По правде говоря , Пух уже порядком устал , поэтому Пыхтелка\n",
      "точку — и… ТРРАХ ! — Мама ! — крикнул Пух , пролетев добрых три метра вниз и чу\n",
      " , что я слишком люблю мёд ! Мама ! … Пух выкарабкался из тернового куста , выт\n",
      "рое утро , Кристофер Робин ! — сказал Пух . — Доброе утро , Винни-Пух ! — сказа\n",
      " — Мёд . — Что-о ? — Мёд ! — повторил Пух . — Кто же это ходит за мёдом с возду\n",
      "здушными шарами ? — Я хожу ! — сказал Пух . Ну , а как раз накануне Кристофер Р\n",
      "равится ? — спросил Кристофер Робин . Пух обхватил голову лапами и задумался . \n",
      "у разве не похож ? — тревожно спросил Пух . — Не очень . — Ну ладно , может быт\n",
      "ову ! К сожалению , ветра не было , и Пух повис в воздухе совершенно неподвижно\n",
      "релишь , тогда испорчусь я , — сказал Пух . Конечно , тут Кристофер Робин сразу\n",
      "то , чтобы совсем не попал , — сказал Пух , — но только не попал в шарик ! — Пр\n",
      "то забываю… — Ну , например , однажды Пух и Пятачок решили поймать Слонопотама…\n",
      "али они его ? — Нет . — Где им ! Ведь Пух совсем глупенький . А я его поймал ? \n",
      "маешь , папа , я-то всё помню , а вот Пух забыл , и ему очень-очень интересно п\n",
      "иногда для краткости его звали просто Пух ) не спеша прогуливался по Лесу с дов\n",
      " была большая дыра . — Ага ! — сказал Пух . ( Трам-пам-пам-тарарам-пам-па ! ) —\n",
      " «Эй ! Кто-нибудь дома ? » — повторил Пух громко-громко . — Нет ! — ответил чей\n",
      "жен быть похож ! — Вот как ? — сказал Пух . Он снова вытащил голову наружу , ещ\n",
      "ть — мёду или сгущённого молока ? » — Пух пришёл в такой восторг , что выпалил \n",
      "ос у него стал прямо-таки медовый ! — Пух встал из-за стола , от всей души пожа\n",
      "то-нибудь есть ? — с надеждой спросил Пух , снова оживляясь . Кролик заглянул в\n",
      "Я так и думал , — сочувственно сказал Пух , покачав головой . — Ну , до свидань\n"
     ]
    }
   ],
   "source": [
    "nltk_text.concordance(\"Пух\")"
   ]
  },
  {
   "cell_type": "code",
   "execution_count": 57,
   "metadata": {
    "collapsed": false,
    "deletable": true,
    "editable": true
   },
   "outputs": [
    {
     "name": "stdout",
     "output_type": "stream",
     "text": [
      "и спросил он если закричал подумал вот так только пискнул повторил\n",
      "тогда что но ведь крикнул знаю а я произнёс\n"
     ]
    }
   ],
   "source": [
    "nltk_text.similar('сказал') #контекстуальные синонимы для слова \"сказал\""
   ]
  },
  {
   "cell_type": "code",
   "execution_count": 58,
   "metadata": {
    "collapsed": false,
    "deletable": true,
    "editable": true
   },
   "outputs": [
    {
     "name": "stdout",
     "output_type": "stream",
     "text": [
      "разве_не а_думал что_должен что_говорил есть_не нет_не\n"
     ]
    }
   ],
   "source": [
    "nltk_text.common_contexts([\"ты\", \"я\"]) #общие контексты для слов \"ты\" и \"я\""
   ]
  },
  {
   "cell_type": "code",
   "execution_count": 59,
   "metadata": {
    "collapsed": false,
    "deletable": true,
    "editable": true,
    "scrolled": true
   },
   "outputs": [
    {
     "name": "stdout",
     "output_type": "stream",
     "text": [
      "Кристофер Робин; сказал Пух; Кристофера Робина; потому что; может\n",
      "быть; Кристоферу Робину; сказала Кенга; сказала Сова; сказал Кролик;\n",
      "сказал Кристофер\n"
     ]
    }
   ],
   "source": [
    "nltk_text.collocations(10) #коллокации"
   ]
  },
  {
   "cell_type": "markdown",
   "metadata": {
    "deletable": true,
    "editable": true
   },
   "source": [
    "### __Задание 4:__"
   ]
  },
  {
   "cell_type": "markdown",
   "metadata": {
    "deletable": true,
    "editable": true
   },
   "source": [
    "1. Лемматизируйте текст про Винни Пуха.\n",
    "2. Найдите 10 самых частотных лемм.\n",
    "3. Удалите все стоп-слова и небуквенные символы. Найдите 10 самых частотных лемм (без стоп-слов).\n",
    "4. Проверьте закон Ципфа на примере данного текста: постройте на одном графике график функции 1/n и кривую Ципфа. "
   ]
  },
  {
   "cell_type": "markdown",
   "metadata": {
    "deletable": true,
    "editable": true
   },
   "source": [
    "### Синтаксический анализ"
   ]
  },
  {
   "cell_type": "code",
   "execution_count": 123,
   "metadata": {
    "collapsed": false,
    "deletable": true,
    "editable": true
   },
   "outputs": [
    {
     "name": "stdout",
     "output_type": "stream",
     "text": [
      "В Кремле не увидели провокации в выборе конкурсантки на «Евровидение» .\n",
      "\n",
      "Замену маткапитала выплатами обсудят в Госдуме 23 марта .\n",
      "\n",
      "Совет Евросоюза продлил антироссийские санкции на полгода .\n",
      "\n",
      "Тимошенко заявила, что Украиной управляют извне .\n",
      "\n",
      "Радикалы зажгли файеры возле офиса украинской «дочки» Сбербанка .\n",
      "\n",
      "Россия и Китай договорились о постройке новой железной дороги .\n",
      "\n",
      "Собянин открыл новый парк и детскую площадку . \n",
      "\n"
     ]
    }
   ],
   "source": [
    "with open('sentences.txt') as f:\n",
    "    text = f.read()\n",
    "    \n",
    "print(text)"
   ]
  },
  {
   "cell_type": "markdown",
   "metadata": {
    "deletable": true,
    "editable": true
   },
   "source": [
    "Запуск SyntaxNet из Docker: "
   ]
  },
  {
   "cell_type": "code",
   "execution_count": null,
   "metadata": {
    "collapsed": true,
    "deletable": true,
    "editable": true
   },
   "outputs": [],
   "source": [
    "! cat sentences.txt | docker run --rm -i inemo/syntaxnet_rus > data.conll"
   ]
  },
  {
   "cell_type": "markdown",
   "metadata": {
    "deletable": true,
    "editable": true
   },
   "source": [
    "Представление результатов с помощью Python:"
   ]
  },
  {
   "cell_type": "code",
   "execution_count": 121,
   "metadata": {
    "collapsed": false,
    "deletable": true,
    "editable": true
   },
   "outputs": [
    {
     "name": "stdout",
     "output_type": "stream",
     "text": [
      "увидели\n",
      "nmod\n",
      "Кремле\n",
      "\n",
      "Кремле\n",
      "case\n",
      "В\n",
      "\n",
      "увидели\n",
      "neg\n",
      "не\n",
      "\n",
      "увидели\n",
      "dobj\n",
      "провокации\n",
      "\n",
      "провокации\n",
      "nmod\n",
      "выборе\n",
      "\n",
      "выборе\n",
      "case\n",
      "в\n",
      "\n",
      "выборе\n",
      "dobj\n",
      "конкурсантки\n",
      "\n",
      "конкурсантки\n",
      "nmod\n",
      "«Евровидение»\n",
      "\n",
      "«Евровидение»\n",
      "case\n",
      "на\n",
      "\n",
      "увидели\n",
      "punct\n",
      ".\n",
      "\n",
      "\n",
      "        увидели                             \n",
      "  _________|____________                     \n",
      " |   |     |        провокации              \n",
      " |   |     |            |                    \n",
      " |   |     |          выборе                \n",
      " |   |     |      ______|____________        \n",
      " |   |     |     |              конкурсантки\n",
      " |   |     |     |                   |       \n",
      " |   |   Кремле  |             «Евровидение»\n",
      " |   |     |     |                   |       \n",
      " не  .     В     в                   на     \n",
      "\n",
      "None\n",
      "обсудят\n",
      "dobj\n",
      "Замену\n",
      "\n",
      "Замену\n",
      "nmod\n",
      "маткапитала\n",
      "\n",
      "обсудят\n",
      "nmod\n",
      "выплатами\n",
      "\n",
      "обсудят\n",
      "nmod\n",
      "Госдуме\n",
      "\n",
      "Госдуме\n",
      "case\n",
      "в\n",
      "\n",
      "обсудят\n",
      "nmod\n",
      "23\n",
      "\n",
      "23\n",
      "nmod\n",
      "марта\n",
      "\n",
      "обсудят\n",
      "punct\n",
      ".\n",
      "\n",
      "\n",
      "                обсудят                \n",
      "     ______________|________________    \n",
      "    |      |     Замену   Госдуме   23 \n",
      "    |      |       |         |      |   \n",
      "выплатами  .  маткапитала    в    марта\n",
      "\n",
      "None\n",
      "продлил\n",
      "nsubj\n",
      "Совет\n",
      "\n",
      "Совет\n",
      "dobj\n",
      "Евросоюза\n",
      "\n",
      "продлил\n",
      "dobj\n",
      "санкции\n",
      "\n",
      "санкции\n",
      "amod\n",
      "антироссийские\n",
      "\n",
      "санкции\n",
      "nmod\n",
      "полгода\n",
      "\n",
      "полгода\n",
      "case\n",
      "на\n",
      "\n",
      "продлил\n",
      "punct\n",
      ".\n",
      "\n",
      "\n",
      "     продлил                                \n",
      "  ______|_______________________             \n",
      " |      |                    санкции        \n",
      " |      |            ___________|_______     \n",
      " |    Совет         |                полгода\n",
      " |      |           |                   |    \n",
      " .  Евросоюза антироссийские            на  \n",
      "\n",
      "None\n",
      "Тимошенко\n",
      "advcl\n",
      "управляют\n",
      "\n",
      "управляют\n",
      "mark\n",
      "что\n",
      "\n",
      "что\n",
      "case\n",
      "заявила,\n",
      "\n",
      "управляют\n",
      "dobj\n",
      "Украиной\n",
      "\n",
      "управляют\n",
      "advmod\n",
      "извне\n",
      "\n",
      "Тимошенко\n",
      "punct\n",
      ".\n",
      "\n",
      "\n",
      "             Тимошенко                   \n",
      "  _______________|_________               \n",
      " |                     управляют         \n",
      " |      ___________________|________      \n",
      " |     |                   |       что   \n",
      " |     |                   |        |     \n",
      " .  Украиной             извне   заявила,\n",
      "\n",
      "None\n",
      "зажгли\n",
      "nsubj\n",
      "Радикалы\n",
      "\n",
      "зажгли\n",
      "dobj\n",
      "файеры\n",
      "\n",
      "зажгли\n",
      "nmod\n",
      "офиса\n",
      "\n",
      "офиса\n",
      "case\n",
      "возле\n",
      "\n",
      "офиса\n",
      "dobj\n",
      "украинской\n",
      "\n",
      "украинской\n",
      "dobj\n",
      "«дочки»\n",
      "\n",
      "«дочки»\n",
      "nmod\n",
      "Сбербанка\n",
      "\n",
      "зажгли\n",
      "punct\n",
      ".\n",
      "\n",
      "\n",
      "                зажгли                       \n",
      "    ______________|____________               \n",
      "   |       |      |          офиса           \n",
      "   |       |      |       _____|_______       \n",
      "   |       |      |      |         украинской\n",
      "   |       |      |      |             |      \n",
      "   |       |      |      |          «дочки»  \n",
      "   |       |      |      |             |      \n",
      "Радикалы файеры   .    возле       Сбербанка \n",
      "\n",
      "None\n",
      "договорились\n",
      "nsubj\n",
      "Россия\n",
      "\n",
      "Россия\n",
      "cc\n",
      "и\n",
      "\n",
      "Россия\n",
      "conj\n",
      "Китай\n",
      "\n",
      "договорились\n",
      "nmod\n",
      "постройке\n",
      "\n",
      "постройке\n",
      "case\n",
      "о\n",
      "\n",
      "постройке\n",
      "dobj\n",
      "дороги\n",
      "\n",
      "дороги\n",
      "amod\n",
      "новой\n",
      "\n",
      "дороги\n",
      "amod\n",
      "железной\n",
      "\n",
      "договорились\n",
      "punct\n",
      ".\n",
      "\n",
      "\n",
      "               договорились                              \n",
      "  __________________|_______________                      \n",
      " |        |                     постройке                \n",
      " |        |                   ______|_______              \n",
      " |      Россия               |            дороги         \n",
      " |    ____|_________         |       _______|_______      \n",
      " .   и            Китай      о    новой          железной\n",
      "\n",
      "None\n",
      "открыл\n",
      "nsubj\n",
      "Собянин\n",
      "\n",
      "открыл\n",
      "dobj\n",
      "парк\n",
      "\n",
      "парк\n",
      "amod\n",
      "новый\n",
      "\n",
      "парк\n",
      "cc\n",
      "и\n",
      "\n",
      "парк\n",
      "conj\n",
      "площадку\n",
      "\n",
      "площадку\n",
      "amod\n",
      "детскую\n",
      "\n",
      "открыл\n",
      "punct\n",
      ".\n",
      "\n",
      "\n",
      "            открыл              \n",
      "    __________|_____             \n",
      "   |     |         парк         \n",
      "   |     |     _____|______      \n",
      "   |     |    |     |   площадку\n",
      "   |     |    |     |      |     \n",
      "Собянин  .  новый   и   детскую \n",
      "\n",
      "None\n"
     ]
    }
   ],
   "source": [
    "from nltk import DependencyGraph\n",
    "import codecs\n",
    "\n",
    "processed_sentences = []\n",
    "sentence = []\n",
    "for line in codecs.open('data.conll', 'r', 'utf-8'):\n",
    "    if len(line) == 1:\n",
    "        processed_sentences.append(sentence)\n",
    "        sentence = []\n",
    "    else:\n",
    "        word = line.split(\"\\t\")\n",
    "        sentence.append(word)\n",
    "\n",
    "deps = []\n",
    "for sentence in processed_sentences:\n",
    "    s = u\"\"\n",
    "    for line in sentence:\n",
    "        s += u\"\\t\".join(line) + u'\\n'\n",
    "    deps.append(s)\n",
    "\n",
    "for sent_dep in deps:\n",
    "    graph = DependencyGraph(tree_str=sent_dep)\n",
    "    for triple in graph.triples():\n",
    "        for e in triple:\n",
    "            print(e[0] if isinstance(e, tuple) else e,)\n",
    "        print()\n",
    "    print()\n",
    "    tree = graph.tree()\n",
    "    print(tree.pretty_print())"
   ]
  },
  {
   "cell_type": "code",
   "execution_count": 122,
   "metadata": {
    "collapsed": false,
    "deletable": true,
    "editable": true
   },
   "outputs": [
    {
     "name": "stdout",
     "output_type": "stream",
     "text": [
      "увидели\n",
      "провокации\n",
      "\n",
      "обсудят\n",
      "Замену\n",
      "\n",
      "продлил\n",
      "Совет\n",
      "санкции\n",
      "\n",
      "управляют\n",
      "Украиной\n",
      "\n",
      "зажгли\n",
      "Радикалы\n",
      "файеры\n",
      "\n",
      "договорились\n",
      "Россия\n",
      "\n",
      "открыл\n",
      "Собянин\n",
      "парк\n",
      "\n"
     ]
    }
   ],
   "source": [
    "for sent_dep in deps:\n",
    "    verbs = {}\n",
    "    for t in sent_dep.split('\\n'):\n",
    "        if len(t) > 1:\n",
    "            splt = t.split('\\t')\n",
    "            if splt[3] == 'VERB':\n",
    "                verbs[splt[0]] = [splt[1]]\n",
    "    sent_split = sent_dep.split('\\n')\n",
    "    sent = [i.split('\\t') for i in sent_split if len(i) > 1]\n",
    "    for splt in sent:\n",
    "        if splt[7] in ['dobj', 'nsubj']:\n",
    "            if splt[6] in verbs:\n",
    "                verbs[splt[6]].append(splt[1])\n",
    "                \n",
    "                \n",
    "    for t in verbs.values():\n",
    "        for elem in t:\n",
    "            print(elem)\n",
    "        print()"
   ]
  },
  {
   "cell_type": "markdown",
   "metadata": {
    "deletable": true,
    "editable": true
   },
   "source": [
    "### Задание 5.\n",
    "\n",
    "1. Исправьте данный код, чтобы он учитывал однородные члены при разборе предложения.\n",
    "2. Найдите в тексте про Винни Пуха все SVO-тройки, где субъектом выступает Сова."
   ]
  }
 ],
 "metadata": {
  "kernelspec": {
   "display_name": "Python 3",
   "language": "python",
   "name": "python3"
  },
  "language_info": {
   "codemirror_mode": {
    "name": "ipython",
    "version": 3
   },
   "file_extension": ".py",
   "mimetype": "text/x-python",
   "name": "python",
   "nbconvert_exporter": "python",
   "pygments_lexer": "ipython3",
   "version": "3.6.0"
  }
 },
 "nbformat": 4,
 "nbformat_minor": 1
}
