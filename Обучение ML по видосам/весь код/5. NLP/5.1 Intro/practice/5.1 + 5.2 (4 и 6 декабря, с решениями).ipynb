{
 "cells": [
  {
   "cell_type": "markdown",
   "metadata": {
    "deletable": true,
    "editable": true
   },
   "source": [
    "# Введение в автоматическую обработку текста."
   ]
  },
  {
   "cell_type": "markdown",
   "metadata": {
    "deletable": true,
    "editable": true
   },
   "source": [
    "### __Регулярные выражения__"
   ]
  },
  {
   "cell_type": "markdown",
   "metadata": {
    "deletable": true,
    "editable": true
   },
   "source": [
    "__*Классы символов:*__\n",
    "\n",
    "__[A-Z]__ - символы верхнего регистра (латиница)\n",
    "\n",
    "__[a-z]__ - символы нижнего регистра (латиница)\n",
    "\n",
    "__[А-Я]__ - символы верхнего регистра (кириллица)\n",
    "\n",
    "__[а-я]__ - символы нижнего регистра (кириллица)\n",
    "\n",
    "__[0-9]__ или \\d - цифра\n",
    "\n",
    "__[^0-9]__ или \\D - любой символ, кроме цифры\n",
    "\n",
    "__.__ - любой символ\n",
    "\n",
    "__*Служебные символы:*__\n",
    "\n",
    "__\\t__ - табуляция\n",
    "\n",
    "__\\s__ - любой пробельный символ\n",
    "\n",
    "__\\S__ - все символы, кроме пробельных\n",
    "\n",
    "__\\n__  - перенос строки\n",
    "\n",
    "__^__ - начало строки\n",
    "\n",
    "__$__ - конец строки"
   ]
  },
  {
   "cell_type": "markdown",
   "metadata": {
    "deletable": true,
    "editable": true
   },
   "source": [
    "__*Операторы:*__\n",
    "\n",
    "__?__ - предыдущий символ/группа может быть, а может не быть\n",
    "\n",
    "__+__ - предыдущий символ/группа может повторяться 1 и более раз\n",
    "\n",
    "__*__ - предыдущий символ/группа может повторяться 0 и более раз\n",
    "\n",
    "__{n,m}__ - предыдущий символ/группа может повторяться от от n до m включительно\n",
    "\n",
    "__{n,}__ - предыдущий символ/группа в скобках может повторяться n и более раз\n",
    "\n",
    "__{,m}__ - предыдущий символ/группа может повторяться до m раз\n",
    "\n",
    "__{n}__ - предыдущий символ/группа повторяется n раз\n",
    "\n",
    "Внутри групп не работают операторы __.__, __+__, __*__, их необходимо экранировать с помощью обратного слеша: \\\n"
   ]
  },
  {
   "cell_type": "markdown",
   "metadata": {
    "deletable": true,
    "editable": true
   },
   "source": [
    "__*Методы:*__\n",
    "\n",
    "__re.match(pattern, string)__ - найти подстроку pattern в начале строки string\n"
   ]
  },
  {
   "cell_type": "code",
   "execution_count": 2,
   "metadata": {
    "collapsed": false,
    "deletable": true,
    "editable": true
   },
   "outputs": [
    {
     "name": "stdout",
     "output_type": "stream",
     "text": [
      "<_sre.SRE_Match object; span=(0, 5), match='рыбак'>\n",
      "рыбак\n",
      "0 5\n",
      "None\n"
     ]
    }
   ],
   "source": [
    "import re\n",
    "\n",
    "m = re.match(r'рыбак', 'рыбак рыбака видит издалека')\n",
    "\n",
    "print(m)\n",
    "print(m.group(0))\n",
    "print(m.start(), m.end())\n",
    "\n",
    "l = re.match(r'видит', 'рыбак рыбака видит издалека')\n",
    "print(l)"
   ]
  },
  {
   "cell_type": "markdown",
   "metadata": {
    "deletable": true,
    "editable": true
   },
   "source": [
    "\n",
    "__re.search(pattern, string)__ - аналогичен методу match, но ищет не только в начале строки (но возвращает только первое вхождение!)\n",
    "\n"
   ]
  },
  {
   "cell_type": "code",
   "execution_count": 22,
   "metadata": {
    "collapsed": false,
    "deletable": true,
    "editable": true
   },
   "outputs": [
    {
     "name": "stdout",
     "output_type": "stream",
     "text": [
      "<_sre.SRE_Match object; span=(19, 27), match='издалека'>\n",
      "издалека\n",
      "19 27\n",
      "None\n"
     ]
    }
   ],
   "source": [
    "m = re.search(r'издалека', 'рыбак рыбака видит издалека')\n",
    "\n",
    "print(m)\n",
    "print(m.group(0))\n",
    "print(m.start(), m.end())\n",
    "\n",
    "l = re.search(r'прорубь', 'рыбак рыбака видит издалека')\n",
    "print(l)"
   ]
  },
  {
   "cell_type": "markdown",
   "metadata": {
    "deletable": true,
    "editable": true
   },
   "source": [
    "__re.findall(pattern, string)__ -  возвращает все вхождения pattern в string в виде списка\n",
    "\n"
   ]
  },
  {
   "cell_type": "code",
   "execution_count": 24,
   "metadata": {
    "collapsed": false,
    "deletable": true,
    "editable": true
   },
   "outputs": [
    {
     "name": "stdout",
     "output_type": "stream",
     "text": [
      "['рыбак', 'рыбак']\n",
      "[]\n"
     ]
    }
   ],
   "source": [
    "m = re.findall(r'рыбак', 'рыбак рыбака видит издалека')\n",
    "\n",
    "print(m)\n",
    "\n",
    "l = re.findall(r'прорубь', 'рыбак рыбака видит издалека')\n",
    "print(l)"
   ]
  },
  {
   "cell_type": "markdown",
   "metadata": {
    "deletable": true,
    "editable": true
   },
   "source": [
    "__re.split(pattern, string, [maxsplit=0])__ - разделяет строку string по шаблону pattern; параметр maxsplit отвечает за максимальное количество разбиений (если их существует несколько).\n",
    "\n"
   ]
  },
  {
   "cell_type": "code",
   "execution_count": 3,
   "metadata": {
    "collapsed": false,
    "deletable": true,
    "editable": true
   },
   "outputs": [
    {
     "name": "stdout",
     "output_type": "stream",
     "text": [
      "['рыбак рыбака ', ' издалека']\n",
      "['', ' ', 'а видит издалека'] 3\n",
      "['', ' рыбака видит издалека'] 2\n"
     ]
    }
   ],
   "source": [
    "m = re.split(r'видит', 'рыбак рыбака видит издалека')\n",
    "\n",
    "print(m)\n",
    "\n",
    "l = re.split(r'рыбак', 'рыбак рыбака видит издалека')\n",
    "print(l, len(l))\n",
    "\n",
    "l1 = re.split(r'рыбак', 'рыбак рыбака видит издалека',maxsplit=1)\n",
    "print(l1, len(l1))"
   ]
  },
  {
   "cell_type": "markdown",
   "metadata": {
    "deletable": true,
    "editable": true
   },
   "source": [
    "__re.sub(pattern, string2, string1)__ - заменяет все вхождения pattern в string1 на srting2\n",
    "\n"
   ]
  },
  {
   "cell_type": "code",
   "execution_count": 6,
   "metadata": {
    "collapsed": false,
    "deletable": true,
    "editable": true
   },
   "outputs": [
    {
     "name": "stdout",
     "output_type": "stream",
     "text": [
      "Рыбак Рыбака видит издалека\n"
     ]
    }
   ],
   "source": [
    "m = re.sub(r'рыбак', 'Рыбак', 'рыбак рыбака видит издалека')\n",
    "\n",
    "print(m)"
   ]
  },
  {
   "cell_type": "markdown",
   "metadata": {
    "deletable": true,
    "editable": true
   },
   "source": [
    "__re.compile(pattern)__ - создает объект для последующего поиска"
   ]
  },
  {
   "cell_type": "code",
   "execution_count": 7,
   "metadata": {
    "collapsed": false,
    "deletable": true,
    "editable": true
   },
   "outputs": [
    {
     "name": "stdout",
     "output_type": "stream",
     "text": [
      "['рыбак', 'рыбак']\n"
     ]
    }
   ],
   "source": [
    "prog = re.compile(r'рыбак')\n",
    "\n",
    "m = prog.findall('рыбак рыбака видит издалека')\n",
    "\n",
    "print(m)"
   ]
  },
  {
   "cell_type": "code",
   "execution_count": 8,
   "metadata": {
    "collapsed": false,
    "deletable": true,
    "editable": true
   },
   "outputs": [
    {
     "name": "stdout",
     "output_type": "stream",
     "text": [
      "['Р', 'В']\n"
     ]
    }
   ],
   "source": [
    "prog = re.compile('[A-Я]') # поиск всех заглавныех букв в строке\n",
    "\n",
    "m = prog.findall('Рыбак рыбака видит издалека. Всегда!')\n",
    "\n",
    "print(m)"
   ]
  },
  {
   "cell_type": "markdown",
   "metadata": {
    "deletable": true,
    "editable": true
   },
   "source": [
    "__*Примеры:*__"
   ]
  },
  {
   "cell_type": "code",
   "execution_count": 18,
   "metadata": {
    "collapsed": false,
    "deletable": true,
    "editable": true
   },
   "outputs": [
    {
     "name": "stdout",
     "output_type": "stream",
     "text": [
      "у456ао, ы234ег, 99авто443\n",
      "у456ао\n"
     ]
    }
   ],
   "source": [
    "prog = re.compile('[авекорсту]{1}[0-9]{3}[авекорсту]{2}') # регулярное выражение для поиска автомобильных\n",
    "                                                          # номеров (русские буквы, совпадающие с латиницей)\n",
    "\n",
    "s = 'у456ао, ы234ег, 99авто443'\n",
    "print(s)\n",
    "res = prog.findall(s)\n",
    "\n",
    "print(*res)"
   ]
  },
  {
   "cell_type": "code",
   "execution_count": 43,
   "metadata": {
    "collapsed": false,
    "deletable": true,
    "editable": true
   },
   "outputs": [
    {
     "name": "stdout",
     "output_type": "stream",
     "text": [
      "['кот котик компот']\n",
      "['кот', 'кот', 'к компот']\n",
      "['кот', 'кот', 'компот']\n",
      "['кот котик ']\n"
     ]
    }
   ],
   "source": [
    "# пример \"жадных\" операторов: ищем котов\n",
    "\n",
    "s = 'кот котик компот'\n",
    "res1 = re.findall(r'к.*т', s)\n",
    "print(res1)\n",
    "\n",
    "res2 = re.findall(r'к.*?т', s)\n",
    "print(res2)\n",
    "\n",
    "res3 = re.findall(r'к[\\S]*?т', s)\n",
    "print(res3)\n",
    "\n",
    "res4 = re.findall(r'кот.*\\s', s)\n",
    "print(res4)"
   ]
  },
  {
   "cell_type": "markdown",
   "metadata": {
    "deletable": true,
    "editable": true
   },
   "source": [
    "### __Задание 1:__"
   ]
  },
  {
   "cell_type": "markdown",
   "metadata": {
    "deletable": true,
    "editable": true
   },
   "source": [
    "Найдите в тексте все номера телефонов; текст лежит в файле 'task1.txt'. Обратите внимание на возможные форматы написания номеров."
   ]
  },
  {
   "cell_type": "code",
   "execution_count": 3,
   "metadata": {
    "collapsed": false,
    "deletable": true,
    "editable": true
   },
   "outputs": [
    {
     "name": "stdout",
     "output_type": "stream",
     "text": [
      "Гарантируется, что в номере 8 цифр и он отделен пробелом, но форматы написания могут отличаться:\n",
      "\n",
      "\n",
      "89268659970\tАнна\n",
      "8(495)3451212\tАлексей Иванин\n",
      "Автомастерская\t+7(234)456-78-90\n",
      "8(956)234-23-23\tсоседка 125 квартира\n",
      "Офис, 5 этаж\t85679962312 \n",
      "Игорь\t\t+7-845-344-23-65\n",
      "\n"
     ]
    }
   ],
   "source": [
    "import re\n",
    "\n",
    "with open ('task1.txt') as f:\n",
    "    phones = f.read()\n",
    "    \n",
    "print(phones)\n",
    "\n",
    "#здесь Ваш код"
   ]
  },
  {
   "cell_type": "code",
   "execution_count": null,
   "metadata": {
    "collapsed": true,
    "deletable": true,
    "editable": true
   },
   "outputs": [],
   "source": [
    "#решение\n",
    "\n",
    "prog1 = re.compile('[+0-9\\-\\(\\)]{8,}')\n",
    "res = prog1.findall(phones)\n",
    "print(*res, sep='\\n')"
   ]
  },
  {
   "cell_type": "markdown",
   "metadata": {
    "deletable": true,
    "editable": true
   },
   "source": [
    "### __Токенизация с помощью регулярных выражений__"
   ]
  },
  {
   "cell_type": "code",
   "execution_count": 1,
   "metadata": {
    "collapsed": false,
    "deletable": true,
    "editable": true
   },
   "outputs": [
    {
     "name": "stdout",
     "output_type": "stream",
     "text": [
      "«Карты, деньги, два ствола» культовый фильм Гая Ричи. Эта картина покорила сначала Британию, затем Америку, а потом и весь мир. Никому неизвестный режиссер Гай Ричи, у которого за плечами были только коротметражка «Трудное дело», дешевые рекламные ролики и клипы, создал шедевр на все времена. Это именно тот случай, когда и критики, и зрители в восторге. Здесь очень много черного юмора и насилия, но это и делает фильм таким какой он есть. Хотя он и не стал лидером проката, он собрал множество наград и стал классикой. Но вернемся в прошлое и перенесемся за океан. В 1994 году вышел фильм «Криминальное чтиво» Квентина Тарантино. По слухам, как-то его спросили — «Квентин, вам не кажется, что вы не сняли ничего лучше Криминального чтива?», на что он ответил — «А кто снял?». Нет, не снял, но снимет через четыре года. Молодой и талантливый режиссер Гай Ричи заставит заговорить о себе весь мир. Со своей картиной «Карты, деньги, два ствола» он не только встанет на один уровень со своим голливудским коллегой Квентином Тарантино и его фильмом «Криминальное чтиво», но и превзойдет его. Впрочем, здесь достаточно трудно утверждать чей фильм лучше, а чей хуже: оба этих фильма гениальны, однако свое предпочтение я все же отдам Гаю Ричи. А теперь, после того, как я похвалила режиссера, можно перейти к самой картине. О ней только и можно сказать что она невероятна. Именно такой и видится криминальный мир Лондона. Здесь есть все составляющие для хорошего кино. Все актеры подобраны идеально и стоят на своем месте. Стоит ли говорить, что после этого фильма Джейсон Стэйтем проснулся звездой. Кроме потрясающей режиссерской работы, здесь ещё и отличный сценарий, написанный так же Гаем Ричи. Все диалоги настолько хороши, что во время просмотра хочется взять бумагу и ручку и записать их. Так же к диалогам подобрано отличное музыкальное сопровождение. С первых минут фильм кажется ничем не примечательным, и думаешь почему же все считают его культовым. Но потом происходит что-то нереальное. Этот фильм настолько притягивает к себе, что оторваться просто невозможно, настолько интересно наблюдать, как сюжетные линии переплетаются между собой. После просмотра «Карты, деньги, два ствола», просто сидишь в оцепенении и думаешь «Черт возьми, что это было? И хочу ещё!» Безусловно, Гай Ричи создал культовое кино, которое хочется смотреть и пересматривать.\n"
     ]
    }
   ],
   "source": [
    "text = '«Карты, деньги, два ствола» культовый фильм Гая Ричи. Эта картина покорила сначала Британию, затем Америку, а потом и весь мир. Никому неизвестный режиссер Гай Ричи, у которого за плечами были только коротметражка «Трудное дело», дешевые рекламные ролики и клипы, создал шедевр на все времена. Это именно тот случай, когда и критики, и зрители в восторге. Здесь очень много черного юмора и насилия, но это и делает фильм таким какой он есть. Хотя он и не стал лидером проката, он собрал множество наград и стал классикой. Но вернемся в прошлое и перенесемся за океан. В 1994 году вышел фильм «Криминальное чтиво» Квентина Тарантино. По слухам, как-то его спросили — «Квентин, вам не кажется, что вы не сняли ничего лучше Криминального чтива?», на что он ответил — «А кто снял?». Нет, не снял, но снимет через четыре года. Молодой и талантливый режиссер Гай Ричи заставит заговорить о себе весь мир. Со своей картиной «Карты, деньги, два ствола» он не только встанет на один уровень со своим голливудским коллегой Квентином Тарантино и его фильмом «Криминальное чтиво», но и превзойдет его. Впрочем, здесь достаточно трудно утверждать чей фильм лучше, а чей хуже: оба этих фильма гениальны, однако свое предпочтение я все же отдам Гаю Ричи. А теперь, после того, как я похвалила режиссера, можно перейти к самой картине. О ней только и можно сказать что она невероятна. Именно такой и видится криминальный мир Лондона. Здесь есть все составляющие для хорошего кино. Все актеры подобраны идеально и стоят на своем месте. Стоит ли говорить, что после этого фильма Джейсон Стэйтем проснулся звездой. Кроме потрясающей режиссерской работы, здесь ещё и отличный сценарий, написанный так же Гаем Ричи. Все диалоги настолько хороши, что во время просмотра хочется взять бумагу и ручку и записать их. Так же к диалогам подобрано отличное музыкальное сопровождение. С первых минут фильм кажется ничем не примечательным, и думаешь почему же все считают его культовым. Но потом происходит что-то нереальное. Этот фильм настолько притягивает к себе, что оторваться просто невозможно, настолько интересно наблюдать, как сюжетные линии переплетаются между собой. После просмотра «Карты, деньги, два ствола», просто сидишь в оцепенении и думаешь «Черт возьми, что это было? И хочу ещё!» Безусловно, Гай Ричи создал культовое кино, которое хочется смотреть и пересматривать.'\n",
    "\n",
    "print(text)"
   ]
  },
  {
   "cell_type": "code",
   "execution_count": 4,
   "metadata": {
    "collapsed": false,
    "deletable": true,
    "editable": true
   },
   "outputs": [
    {
     "name": "stdout",
     "output_type": "stream",
     "text": [
      "карты деньги два ствола культовый фильм гая ричи эта картина\n"
     ]
    }
   ],
   "source": [
    "prog = re.compile('[А-Яа-я\\-]+')\n",
    "tokens = prog.findall(text.lower())\n",
    "print(' '.join(tokens[:10]))"
   ]
  },
  {
   "cell_type": "markdown",
   "metadata": {
    "deletable": true,
    "editable": true
   },
   "source": [
    "### __Сегментация предложений__"
   ]
  },
  {
   "cell_type": "code",
   "execution_count": 5,
   "metadata": {
    "collapsed": false,
    "deletable": true,
    "editable": true
   },
   "outputs": [
    {
     "name": "stdout",
     "output_type": "stream",
     "text": [
      "3\n",
      "Первое предложение.\n",
      "Второе предложение!\n",
      "И, наконец, третье?\n"
     ]
    }
   ],
   "source": [
    "from nltk.tokenize import sent_tokenize\n",
    "\n",
    "text1 = 'Первое предложение. Второе предложение! И, наконец, третье?'\n",
    "sents = sent_tokenize(text1)\n",
    "\n",
    "print(len(sents))\n",
    "print(*sents, sep='\\n')"
   ]
  },
  {
   "cell_type": "markdown",
   "metadata": {
    "deletable": true,
    "editable": true
   },
   "source": [
    "### __Частотный анализ текста__"
   ]
  },
  {
   "cell_type": "markdown",
   "metadata": {
    "deletable": true,
    "editable": true
   },
   "source": [
    "10 самых частых слов (токенов):"
   ]
  },
  {
   "cell_type": "code",
   "execution_count": 6,
   "metadata": {
    "collapsed": false,
    "deletable": true,
    "editable": true
   },
   "outputs": [
    {
     "data": {
      "text/plain": [
       "[('и', 22),\n",
       " ('что', 7),\n",
       " ('фильм', 6),\n",
       " ('ричи', 6),\n",
       " ('все', 6),\n",
       " ('не', 6),\n",
       " ('он', 5),\n",
       " ('но', 5),\n",
       " ('в', 4),\n",
       " ('здесь', 4)]"
      ]
     },
     "execution_count": 6,
     "metadata": {},
     "output_type": "execute_result"
    }
   ],
   "source": [
    "import nltk\n",
    "\n",
    "d1 = nltk.FreqDist(tokens) # частотный словарь для текста\n",
    "d1.most_common(10) # токен и кол-во его появлений в тексте"
   ]
  },
  {
   "cell_type": "markdown",
   "metadata": {
    "deletable": true,
    "editable": true
   },
   "source": [
    "Распределение длин слов в тексте:"
   ]
  },
  {
   "cell_type": "code",
   "execution_count": 7,
   "metadata": {
    "collapsed": false,
    "deletable": true,
    "editable": true
   },
   "outputs": [
    {
     "name": "stdout",
     "output_type": "stream",
     "text": [
      "<FreqDist with 14 samples and 363 outcomes>\n",
      "[(5, 56), (3, 46), (6, 41), (1, 39), (7, 38)]\n",
      "0.15426997245179064\n"
     ]
    }
   ],
   "source": [
    "d2 = nltk.FreqDist(len(w) for w in tokens)  \n",
    "\n",
    "print(d2)  \n",
    "print(d2.most_common(5)) # 5 самых частых длин слов\n",
    "print(d2.freq(d2.max())) # как часто они встречаются в тексте"
   ]
  },
  {
   "cell_type": "markdown",
   "metadata": {
    "deletable": true,
    "editable": true
   },
   "source": [
    "### __Задание 2:__\n",
    "\n",
    "1. Посчитайте, сколько слов в тексте про Гая Ричи встречается больше 3 раз.\n",
    "2. Посчитайте количество слов, состоящих из 5 букв и более."
   ]
  },
  {
   "cell_type": "code",
   "execution_count": 26,
   "metadata": {
    "collapsed": false,
    "deletable": true,
    "editable": true
   },
   "outputs": [
    {
     "name": "stdout",
     "output_type": "stream",
     "text": [
      "('и', 22)\n",
      "('что', 7)\n",
      "('фильм', 6)\n",
      "('ричи', 6)\n",
      "('все', 6)\n",
      "('не', 6)\n",
      "('он', 5)\n",
      "('но', 5)\n",
      "('в', 4)\n",
      "('здесь', 4)\n",
      "('на', 4)\n",
      "('а', 4)\n",
      "('его', 4)\n",
      "('же', 4)\n",
      "14\n"
     ]
    }
   ],
   "source": [
    "# решение 1\n",
    "\n",
    "prog = re.compile('[А-Яа-я\\-]+')\n",
    "tokens = prog.findall(text.lower())\n",
    "d1 = nltk.FreqDist(tokens)\n",
    "\n",
    "res = [i for i in d1.most_common() if i[1] > 3]\n",
    "print(*res, sep='\\n')\n",
    "print(len(res))"
   ]
  },
  {
   "cell_type": "code",
   "execution_count": 30,
   "metadata": {
    "collapsed": false,
    "deletable": true,
    "editable": true
   },
   "outputs": [
    {
     "name": "stdout",
     "output_type": "stream",
     "text": [
      "154\n"
     ]
    }
   ],
   "source": [
    "# решение 2\n",
    "\n",
    "res = [i for i in tokens if len(i) > 5]\n",
    "print(len(res))"
   ]
  },
  {
   "cell_type": "markdown",
   "metadata": {
    "deletable": true,
    "editable": true
   },
   "source": [
    "### __Лемматизация текста__"
   ]
  },
  {
   "cell_type": "code",
   "execution_count": 82,
   "metadata": {
    "collapsed": true,
    "deletable": true,
    "editable": true
   },
   "outputs": [],
   "source": [
    "sent = 'Безусловно, Гай Ричи создал культовое кино, которое хочется смотреть и пересматривать.'"
   ]
  },
  {
   "cell_type": "markdown",
   "metadata": {
    "deletable": true,
    "editable": true
   },
   "source": [
    "Pymorphy:"
   ]
  },
  {
   "cell_type": "code",
   "execution_count": 83,
   "metadata": {
    "collapsed": false,
    "deletable": true,
    "editable": true
   },
   "outputs": [
    {
     "name": "stdout",
     "output_type": "stream",
     "text": [
      "безусловно, гай ричать создать культовый кино, который хотеться смотреть и пересматривать.\n",
      "CPU times: user 104 ms, sys: 8 ms, total: 112 ms\n",
      "Wall time: 174 ms\n"
     ]
    }
   ],
   "source": [
    "%%time\n",
    "from pymorphy2 import MorphAnalyzer\n",
    "\n",
    "m = MorphAnalyzer()\n",
    "lemmas1 = [m.parse(word)[0].normal_form for word in sent.split()]\n",
    "print(' '.join(lemmas1))"
   ]
  },
  {
   "cell_type": "markdown",
   "metadata": {
    "deletable": true,
    "editable": true
   },
   "source": [
    "Mystem:"
   ]
  },
  {
   "cell_type": "code",
   "execution_count": 84,
   "metadata": {
    "collapsed": false,
    "deletable": true,
    "editable": true
   },
   "outputs": [
    {
     "name": "stdout",
     "output_type": "stream",
     "text": [
      "безусловно, гай ричи создавать культовый кино, который хотеться смотреть и пересматривать.\n",
      "\n",
      "CPU times: user 0 ns, sys: 12 ms, total: 12 ms\n",
      "Wall time: 856 ms\n"
     ]
    }
   ],
   "source": [
    "%%time\n",
    "from pymystem3 import Mystem\n",
    "\n",
    "m = Mystem()\n",
    "lemmas2 = m.lemmatize(sent)\n",
    "print(''.join(lemmas2))"
   ]
  },
  {
   "cell_type": "code",
   "execution_count": 85,
   "metadata": {
    "collapsed": false,
    "deletable": true,
    "editable": true
   },
   "outputs": [
    {
     "data": {
      "text/plain": [
       "[Parse(word='стали', tag=OpencorporaTag('VERB,perf,intr plur,past,indc'), normal_form='стать', score=0.984662, methods_stack=((<DictionaryAnalyzer>, 'стали', 904, 4),)),\n",
       " Parse(word='стали', tag=OpencorporaTag('NOUN,inan,femn sing,gent'), normal_form='сталь', score=0.003067, methods_stack=((<DictionaryAnalyzer>, 'стали', 13, 1),)),\n",
       " Parse(word='стали', tag=OpencorporaTag('NOUN,inan,femn sing,datv'), normal_form='сталь', score=0.003067, methods_stack=((<DictionaryAnalyzer>, 'стали', 13, 2),)),\n",
       " Parse(word='стали', tag=OpencorporaTag('NOUN,inan,femn sing,loct'), normal_form='сталь', score=0.003067, methods_stack=((<DictionaryAnalyzer>, 'стали', 13, 5),)),\n",
       " Parse(word='стали', tag=OpencorporaTag('NOUN,inan,femn plur,nomn'), normal_form='сталь', score=0.003067, methods_stack=((<DictionaryAnalyzer>, 'стали', 13, 6),)),\n",
       " Parse(word='стали', tag=OpencorporaTag('NOUN,inan,femn plur,accs'), normal_form='сталь', score=0.003067, methods_stack=((<DictionaryAnalyzer>, 'стали', 13, 9),))]"
      ]
     },
     "execution_count": 85,
     "metadata": {},
     "output_type": "execute_result"
    }
   ],
   "source": [
    "m = MorphAnalyzer()\n",
    "\n",
    "m.parse('стали')"
   ]
  },
  {
   "cell_type": "code",
   "execution_count": 38,
   "metadata": {
    "collapsed": false,
    "deletable": true,
    "editable": true
   },
   "outputs": [
    {
     "name": "stdout",
     "output_type": "stream",
     "text": [
      "NOUN,anim,masc sing,nomn\n",
      "True\n",
      "False\n"
     ]
    }
   ],
   "source": [
    "p = m.parse('кот')[0]\n",
    "print(p.tag)\n",
    "print({'anim', 'nomn'} in p.tag)\n",
    "print({'VERB'} in p.tag)"
   ]
  },
  {
   "cell_type": "markdown",
   "metadata": {
    "deletable": true,
    "editable": true
   },
   "source": [
    "Обозначения для граммем: http://pymorphy2.readthedocs.io/en/latest/user/grammemes.html#grammeme-docs"
   ]
  },
  {
   "cell_type": "markdown",
   "metadata": {
    "deletable": true,
    "editable": true
   },
   "source": [
    "### Задание 3\n",
    "\n",
    "Найдите в списке персонажей романа \"Война и мир\" все уникальные  женские имена."
   ]
  },
  {
   "cell_type": "code",
   "execution_count": 31,
   "metadata": {
    "collapsed": true,
    "deletable": true,
    "editable": true
   },
   "outputs": [],
   "source": [
    "with open ('persons.txt') as f:\n",
    "    raw = f.read()\n",
    "    \n",
    "# здесь Ваш код"
   ]
  },
  {
   "cell_type": "code",
   "execution_count": 52,
   "metadata": {
    "collapsed": false,
    "deletable": true,
    "editable": true
   },
   "outputs": [
    {
     "name": "stdout",
     "output_type": "stream",
     "text": [
      "Щербинина\n",
      "Мюрата\n",
      "Марья\n",
      "Аниска\n",
      "Пелагея\n",
      "Диммлера\n",
      "Наталья\n",
      "Курагина\n",
      "Амалия\n",
      "Толли\n",
      "Мария\n",
      "Смольянин\n",
      "Жозефа\n",
      "Карагина\n",
      "Наташа\n",
      "Аграфена\n",
      "Соня\n",
      "Телянина\n",
      "Рамбаля\n",
      "Елена\n",
      "Балашева\n",
      "Дуняша\n",
      "Матрена\n",
      "Штрауха\n",
      "Репнина\n",
      "Ольга\n",
      "Элен\n",
      "Елизавета\n",
      "Катерина\n",
      "Анисья\n",
      "Анна\n",
      "Прасковья\n",
      "Настасья\n",
      "Пфуля\n"
     ]
    }
   ],
   "source": [
    "# решение\n",
    "from pymorphy2 import MorphAnalyzer\n",
    "\n",
    "m = MorphAnalyzer()\n",
    "prog = re.compile('[А-Я]{1}[а-я]+') #слова с заглавной буквы\n",
    "tokens = prog.findall(raw)\n",
    "lemmas = [m.parse(word)[0].normal_form for word in tokens]\n",
    "\n",
    "names = set()\n",
    "for w in lemmas:\n",
    "    p = m.parse(w)[0].tag\n",
    "    if {'Name', 'femn'} in p:\n",
    "        names.add(w.capitalize())\n",
    "        \n",
    "print(*names, sep='\\n')"
   ]
  },
  {
   "cell_type": "markdown",
   "metadata": {
    "deletable": true,
    "editable": true
   },
   "source": [
    "### Стемминг"
   ]
  },
  {
   "cell_type": "code",
   "execution_count": 53,
   "metadata": {
    "collapsed": false,
    "deletable": true,
    "editable": true
   },
   "outputs": [
    {
     "name": "stdout",
     "output_type": "stream",
     "text": [
      "распределен\n",
      "пристав\n",
      "сдела\n",
      "словообразован\n"
     ]
    }
   ],
   "source": [
    "from nltk.stem.snowball import RussianStemmer\n",
    "\n",
    "stemmer = RussianStemmer()\n",
    "words = ['распределение', 'приставить', 'сделала', 'словообразование']\n",
    "for w in words:\n",
    "    stem = stemmer.stem(w)\n",
    "    print(stem)"
   ]
  },
  {
   "cell_type": "markdown",
   "metadata": {
    "deletable": true,
    "editable": true
   },
   "source": [
    "### __Удаление стоп-слов__"
   ]
  },
  {
   "cell_type": "code",
   "execution_count": 17,
   "metadata": {
    "collapsed": false,
    "deletable": true,
    "editable": true
   },
   "outputs": [
    {
     "name": "stdout",
     "output_type": "stream",
     "text": [
      "«Карты, деньги, два ствола» культовый фильм Гая Ричи. Эта картина покорила сначала Британию, затем Америку, а потом и весь мир. Никому неизвестный режиссер Гай Ричи, у которого за плечами были только коротметражка «Трудное дело», дешевые рекламные ролики и клипы, создал шедевр на все времена. Это именно тот случай, когда и критики, и зрители в восторге. Здесь очень много черного юмора и насилия, но это и делает фильм таким какой он есть. Хотя он и не стал лидером проката, он собрал множество наград и стал классикой. Но вернемся в прошлое и перенесемся за океан. В 1994 году вышел фильм «Криминальное чтиво» Квентина Тарантино. По слухам, как-то его спросили — «Квентин, вам не кажется, что вы не сняли ничего лучше Криминального чтива?», на что он ответил — «А кто снял?». Нет, не снял, но снимет через четыре года. Молодой и талантливый режиссер Гай Ричи заставит заговорить о себе весь мир. Со своей картиной «Карты, деньги, два ствола» он не только встанет на один уровень со своим голливудским коллегой Квентином Тарантино и его фильмом «Криминальное чтиво», но и превзойдет его. Впрочем, здесь достаточно трудно утверждать чей фильм лучше, а чей хуже: оба этих фильма гениальны, однако свое предпочтение я все же отдам Гаю Ричи. А теперь, после того, как я похвалила режиссера, можно перейти к самой картине. О ней только и можно сказать что она невероятна. Именно такой и видится криминальный мир Лондона. Здесь есть все составляющие для хорошего кино. Все актеры подобраны идеально и стоят на своем месте. Стоит ли говорить, что после этого фильма Джейсон Стэйтем проснулся звездой. Кроме потрясающей режиссерской работы, здесь ещё и отличный сценарий, написанный так же Гаем Ричи. Все диалоги настолько хороши, что во время просмотра хочется взять бумагу и ручку и записать их. Так же к диалогам подобрано отличное музыкальное сопровождение. С первых минут фильм кажется ничем не примечательным, и думаешь почему же все считают его культовым. Но потом происходит что-то нереальное. Этот фильм настолько притягивает к себе, что оторваться просто невозможно, настолько интересно наблюдать, как сюжетные линии переплетаются между собой. После просмотра «Карты, деньги, два ствола», просто сидишь в оцепенении и думаешь «Черт возьми, что это было? И хочу ещё!» Безусловно, Гай Ричи создал культовое кино, которое хочется смотреть и пересматривать.\n"
     ]
    }
   ],
   "source": [
    "print(text)"
   ]
  },
  {
   "cell_type": "code",
   "execution_count": 18,
   "metadata": {
    "collapsed": false,
    "deletable": true,
    "editable": true
   },
   "outputs": [
    {
     "data": {
      "text/plain": [
       "[('фильм', 9),\n",
       " ('ричать', 6),\n",
       " ('гай', 6),\n",
       " ('снять', 4),\n",
       " ('свой', 4),\n",
       " ('криминальный', 4),\n",
       " ('чтиво', 3),\n",
       " ('это', 3),\n",
       " ('настолько', 3),\n",
       " ('деньга', 3)]"
      ]
     },
     "execution_count": 18,
     "metadata": {},
     "output_type": "execute_result"
    }
   ],
   "source": [
    "from nltk.corpus import stopwords\n",
    "import pymorphy2\n",
    "\n",
    "morph = pymorphy2.MorphAnalyzer()\n",
    "l = [morph.parse(token)[0].normal_form for token in tokens if not token in stopwords.words('russian')]\n",
    "d3 = nltk.FreqDist(l)\n",
    "d3.most_common(10)"
   ]
  },
  {
   "cell_type": "code",
   "execution_count": 19,
   "metadata": {
    "collapsed": false,
    "deletable": true,
    "editable": true
   },
   "outputs": [
    {
     "name": "stdout",
     "output_type": "stream",
     "text": [
      "4\n",
      "0.017777777777777778\n"
     ]
    }
   ],
   "source": [
    "print (d3['снять'])\n",
    "print (d3.freq('снять'))"
   ]
  },
  {
   "cell_type": "markdown",
   "metadata": {
    "deletable": true,
    "editable": true
   },
   "source": [
    "__Удаление небуквенных символов:__"
   ]
  },
  {
   "cell_type": "code",
   "execution_count": 20,
   "metadata": {
    "collapsed": false,
    "deletable": true,
    "editable": true
   },
   "outputs": [
    {
     "name": "stdout",
     "output_type": "stream",
     "text": [
      "Уфологи уверены, что таинственная планета \"Нибиру\" не только существует, но и обнаружена в 2007 году. По их словам, в NASA до сих пор не могут решить, отнести небесное тело под кодовым номером OGLE-2016-BLG-1190Lb к числу планет или звезд.\n"
     ]
    }
   ],
   "source": [
    "s = 'Уфологи уверены, что таинственная планета \"Нибиру\" не только существует, но и обнаружена в 2007 году. По их словам, в NASA до сих пор не могут решить, отнести небесное тело под кодовым номером OGLE-2016-BLG-1190Lb к числу планет или звезд.'\n",
    "\n",
    "print(s)"
   ]
  },
  {
   "cell_type": "code",
   "execution_count": 21,
   "metadata": {
    "collapsed": false,
    "deletable": true,
    "editable": true
   },
   "outputs": [
    {
     "name": "stdout",
     "output_type": "stream",
     "text": [
      "уфолог уверить что таинственный планет нибира не только существовать но и обнаружить в год по они слово в до сей пора не мочь решить отнести небесный тело под кодовый номер к число планета или звезда\n"
     ]
    }
   ],
   "source": [
    "prog = re.compile('[А-Яа-я\\-]+')\n",
    "tokens2 = prog.findall(s)\n",
    "\n",
    "morph = pymorphy2.MorphAnalyzer()\n",
    "l2 = [morph.parse(token)[0].normal_form for token in tokens2 if token.isalpha()]\n",
    "\n",
    "print(*l2)"
   ]
  },
  {
   "cell_type": "markdown",
   "metadata": {
    "deletable": true,
    "editable": true
   },
   "source": [
    "### __NLTK-текст__"
   ]
  },
  {
   "cell_type": "code",
   "execution_count": 55,
   "metadata": {
    "collapsed": false,
    "deletable": true,
    "editable": true
   },
   "outputs": [
    {
     "data": {
      "text/plain": [
       "<Text: Александр Милн , Борис Заходер Винни-Пух ПРЕДИСЛОВИЕ Ровно...>"
      ]
     },
     "execution_count": 55,
     "metadata": {},
     "output_type": "execute_result"
    }
   ],
   "source": [
    "with open('Vinni-Puh.txt') as f:\n",
    "    raw = f.read()\n",
    "    \n",
    "tokens = nltk.word_tokenize(raw)\n",
    "nltk_text = nltk.Text(tokens)\n",
    "nltk_text"
   ]
  },
  {
   "cell_type": "code",
   "execution_count": 56,
   "metadata": {
    "collapsed": false,
    "deletable": true,
    "editable": true,
    "scrolled": false
   },
   "outputs": [
    {
     "name": "stdout",
     "output_type": "stream",
     "text": [
      "Displaying 25 of 297 matches:\n",
      "се новые Шумелки , Пыхтелки и Вопилки Пух сочинял под моим руководством . Слово\n",
      "ать , как было раньше ) . Во-вторых , Пух с друзьями разместились в целых двух \n",
      " папа . Вот однажды , гуляя по лесу , Пух вышел на полянку . На полянке рос выс\n",
      "ь на такие вышки ! По правде говоря , Пух уже порядком устал , поэтому Пыхтелка\n",
      "точку — и… ТРРАХ ! — Мама ! — крикнул Пух , пролетев добрых три метра вниз и чу\n",
      " , что я слишком люблю мёд ! Мама ! … Пух выкарабкался из тернового куста , выт\n",
      "рое утро , Кристофер Робин ! — сказал Пух . — Доброе утро , Винни-Пух ! — сказа\n",
      " — Мёд . — Что-о ? — Мёд ! — повторил Пух . — Кто же это ходит за мёдом с возду\n",
      "здушными шарами ? — Я хожу ! — сказал Пух . Ну , а как раз накануне Кристофер Р\n",
      "равится ? — спросил Кристофер Робин . Пух обхватил голову лапами и задумался . \n",
      "у разве не похож ? — тревожно спросил Пух . — Не очень . — Ну ладно , может быт\n",
      "ову ! К сожалению , ветра не было , и Пух повис в воздухе совершенно неподвижно\n",
      "релишь , тогда испорчусь я , — сказал Пух . Конечно , тут Кристофер Робин сразу\n",
      "то , чтобы совсем не попал , — сказал Пух , — но только не попал в шарик ! — Пр\n",
      "то забываю… — Ну , например , однажды Пух и Пятачок решили поймать Слонопотама…\n",
      "али они его ? — Нет . — Где им ! Ведь Пух совсем глупенький . А я его поймал ? \n",
      "маешь , папа , я-то всё помню , а вот Пух забыл , и ему очень-очень интересно п\n",
      "иногда для краткости его звали просто Пух ) не спеша прогуливался по Лесу с дов\n",
      " была большая дыра . — Ага ! — сказал Пух . ( Трам-пам-пам-тарарам-пам-па ! ) —\n",
      " «Эй ! Кто-нибудь дома ? » — повторил Пух громко-громко . — Нет ! — ответил чей\n",
      "жен быть похож ! — Вот как ? — сказал Пух . Он снова вытащил голову наружу , ещ\n",
      "ть — мёду или сгущённого молока ? » — Пух пришёл в такой восторг , что выпалил \n",
      "ос у него стал прямо-таки медовый ! — Пух встал из-за стола , от всей души пожа\n",
      "то-нибудь есть ? — с надеждой спросил Пух , снова оживляясь . Кролик заглянул в\n",
      "Я так и думал , — сочувственно сказал Пух , покачав головой . — Ну , до свидань\n"
     ]
    }
   ],
   "source": [
    "nltk_text.concordance(\"Пух\")"
   ]
  },
  {
   "cell_type": "code",
   "execution_count": 57,
   "metadata": {
    "collapsed": false,
    "deletable": true,
    "editable": true
   },
   "outputs": [
    {
     "name": "stdout",
     "output_type": "stream",
     "text": [
      "и спросил он если закричал подумал вот так только пискнул повторил\n",
      "тогда что но ведь крикнул знаю а я произнёс\n"
     ]
    }
   ],
   "source": [
    "nltk_text.similar('сказал') #контекстуальные синонимы для слова \"сказал\""
   ]
  },
  {
   "cell_type": "code",
   "execution_count": 58,
   "metadata": {
    "collapsed": false,
    "deletable": true,
    "editable": true
   },
   "outputs": [
    {
     "name": "stdout",
     "output_type": "stream",
     "text": [
      "разве_не а_думал что_должен что_говорил есть_не нет_не\n"
     ]
    }
   ],
   "source": [
    "nltk_text.common_contexts([\"ты\", \"я\"]) #общие контексты для слов \"ты\" и \"я\""
   ]
  },
  {
   "cell_type": "code",
   "execution_count": 59,
   "metadata": {
    "collapsed": false,
    "deletable": true,
    "editable": true,
    "scrolled": true
   },
   "outputs": [
    {
     "name": "stdout",
     "output_type": "stream",
     "text": [
      "Кристофер Робин; сказал Пух; Кристофера Робина; потому что; может\n",
      "быть; Кристоферу Робину; сказала Кенга; сказала Сова; сказал Кролик;\n",
      "сказал Кристофер\n"
     ]
    }
   ],
   "source": [
    "nltk_text.collocations(10) #коллокации"
   ]
  },
  {
   "cell_type": "markdown",
   "metadata": {
    "deletable": true,
    "editable": true
   },
   "source": [
    "### __Задание 4:__"
   ]
  },
  {
   "cell_type": "markdown",
   "metadata": {
    "deletable": true,
    "editable": true
   },
   "source": [
    "1. Лемматизируйте текст про Винни Пуха.\n",
    "2. Найдите 10 самых частотных лемм.\n",
    "3. Удалите все стоп-слова и небуквенные символы. Найдите 10 самых частотных лемм (без стоп-слов).\n",
    "4. Проверьте закон Ципфа на примере данного текста: постройте на одном графике график функции 1/n и кривую Ципфа. "
   ]
  },
  {
   "cell_type": "code",
   "execution_count": 61,
   "metadata": {
    "collapsed": false,
    "deletable": true,
    "editable": true
   },
   "outputs": [
    {
     "data": {
      "text/plain": [
       "['александр', 'милна', ',', 'борис', 'заходер']"
      ]
     },
     "execution_count": 61,
     "metadata": {},
     "output_type": "execute_result"
    }
   ],
   "source": [
    "# решение\n",
    "# 1. Лемматизируйте текст про Винни Пуха.\n",
    "\n",
    "from pymorphy2 import MorphAnalyzer\n",
    "\n",
    "m = MorphAnalyzer()\n",
    "lemmas = [m.parse(word)[0].normal_form for word in tokens]\n",
    "lemmas[:5]"
   ]
  },
  {
   "cell_type": "code",
   "execution_count": 62,
   "metadata": {
    "collapsed": false,
    "deletable": true,
    "editable": true
   },
   "outputs": [
    {
     "data": {
      "text/plain": [
       "[(',', 2889),\n",
       " ('—', 1819),\n",
       " ('.', 1396),\n",
       " ('и', 871),\n",
       " ('он', 711),\n",
       " ('!', 498),\n",
       " ('сказать', 454),\n",
       " ('что', 430),\n",
       " ('я', 407),\n",
       " ('в', 400)]"
      ]
     },
     "execution_count": 62,
     "metadata": {},
     "output_type": "execute_result"
    }
   ],
   "source": [
    "#2. Найдите 10 самых частотных лемм.\n",
    "import nltk\n",
    "\n",
    "d = nltk.FreqDist(lemmas) \n",
    "d.most_common(10)"
   ]
  },
  {
   "cell_type": "code",
   "execution_count": 65,
   "metadata": {
    "collapsed": false,
    "deletable": true,
    "editable": true
   },
   "outputs": [
    {
     "data": {
      "text/plain": [
       "[('сказать', 454),\n",
       " ('пух', 354),\n",
       " ('это', 259),\n",
       " ('пятачок', 223),\n",
       " ('весь', 217),\n",
       " ('робин', 178),\n",
       " ('кристофер', 176),\n",
       " ('мочь', 123),\n",
       " ('очень', 109),\n",
       " ('кролик', 108)]"
      ]
     },
     "execution_count": 65,
     "metadata": {},
     "output_type": "execute_result"
    }
   ],
   "source": [
    "#3. Удалите все стоп-слова и небуквенные символы. Найдите 10 самых частотных лемм (без стоп-слов).\n",
    "from nltk.corpus import stopwords\n",
    "\n",
    "words_only = [w for w in lemmas if w.isalpha()]\n",
    "text = [w for w in words_only if not w in stopwords.words('russian')]\n",
    "\n",
    "d1 = nltk.FreqDist(text) \n",
    "d1.most_common(10)"
   ]
  },
  {
   "cell_type": "code",
   "execution_count": 68,
   "metadata": {
    "collapsed": false,
    "deletable": true,
    "editable": true
   },
   "outputs": [
    {
     "data": {
      "text/plain": [
       "[['сказать', 1],\n",
       " ['пух', 2],\n",
       " ['это', 3],\n",
       " ['пятачок', 4],\n",
       " ['весь', 5],\n",
       " ['робин', 6],\n",
       " ['кристофер', 7],\n",
       " ['мочь', 8],\n",
       " ['очень', 9],\n",
       " ['кролик', 10]]"
      ]
     },
     "execution_count": 68,
     "metadata": {},
     "output_type": "execute_result"
    }
   ],
   "source": [
    "#4. Проверьте закон Ципфа на примере данного текста.\n",
    "# в d1 уже лежит информация о частоте всех лемм, построим массив rangs\n",
    "# в котором i-тый элемент - это массив [слово, ранг] (на самом деле, нам нужен только ранг, но так будет нагляднее)\n",
    "\n",
    "r = 0\n",
    "freq = 0\n",
    "rangs = []\n",
    "for i in d1.most_common():\n",
    "    if i[1] != freq:\n",
    "        freq = i[1]\n",
    "        r += 1\n",
    "    rangs.append([i[0], r])\n",
    "\n",
    "rangs[:10]"
   ]
  },
  {
   "cell_type": "code",
   "execution_count": 89,
   "metadata": {
    "collapsed": true,
    "deletable": true,
    "editable": true
   },
   "outputs": [],
   "source": [
    "y = [i[1] for i in rangs] #ранги \n",
    "x = [i[1] for i in d1.most_common()] # частоты"
   ]
  },
  {
   "cell_type": "code",
   "execution_count": 109,
   "metadata": {
    "collapsed": false,
    "deletable": true,
    "editable": true
   },
   "outputs": [
    {
     "data": {
      "image/png": "[encoded data removed]",
      "text/plain": [
       "<matplotlib.figure.Figure at 0x7faf586ca8d0>"
      ]
     },
     "metadata": {},
     "output_type": "display_data"
    }
   ],
   "source": [
    "# теперь построим графики\n",
    "%matplotlib inline\n",
    "import matplotlib.pyplot as plt\n",
    "import numpy as np\n",
    "\n",
    "fig = plt.figure(figsize=(10, 6))\n",
    "\n",
    "axes = fig.add_axes([0.1, 0.1, 0.8, 0.8])\n",
    "z = np.linspace(0.015, 400)\n",
    "\n",
    "axes.plot(z, 1/z, 'r')\n",
    "\n",
    "axes.set_xlabel('Rang')\n",
    "axes.set_ylabel('Frequency')\n",
    "axes.set_title(\"Zipf's law\")\n",
    "axes.legend([r'$1/x$'], loc = 0)\n",
    "\n",
    "plt.scatter(x, y)\n",
    "plt.show()"
   ]
  },
  {
   "cell_type": "markdown",
   "metadata": {
    "deletable": true,
    "editable": true
   },
   "source": [
    "### Синтаксический анализ"
   ]
  },
  {
   "cell_type": "code",
   "execution_count": 123,
   "metadata": {
    "collapsed": false,
    "deletable": true,
    "editable": true
   },
   "outputs": [
    {
     "name": "stdout",
     "output_type": "stream",
     "text": [
      "В Кремле не увидели провокации в выборе конкурсантки на «Евровидение» .\n",
      "\n",
      "Замену маткапитала выплатами обсудят в Госдуме 23 марта .\n",
      "\n",
      "Совет Евросоюза продлил антироссийские санкции на полгода .\n",
      "\n",
      "Тимошенко заявила, что Украиной управляют извне .\n",
      "\n",
      "Радикалы зажгли файеры возле офиса украинской «дочки» Сбербанка .\n",
      "\n",
      "Россия и Китай договорились о постройке новой железной дороги .\n",
      "\n",
      "Собянин открыл новый парк и детскую площадку . \n",
      "\n"
     ]
    }
   ],
   "source": [
    "with open('sentences.txt') as f:\n",
    "    text = f.read()\n",
    "    \n",
    "print(text)"
   ]
  },
  {
   "cell_type": "markdown",
   "metadata": {
    "deletable": true,
    "editable": true
   },
   "source": [
    "Запуск SyntaxNet из Docker: "
   ]
  },
  {
   "cell_type": "code",
   "execution_count": null,
   "metadata": {
    "collapsed": true,
    "deletable": true,
    "editable": true
   },
   "outputs": [],
   "source": [
    "! cat sentences.txt | docker run --rm -i inemo/syntaxnet_rus > data.conll"
   ]
  },
  {
   "cell_type": "markdown",
   "metadata": {
    "deletable": true,
    "editable": true
   },
   "source": [
    "Представление результатов с помощью Python:"
   ]
  },
  {
   "cell_type": "code",
   "execution_count": 121,
   "metadata": {
    "collapsed": false,
    "deletable": true,
    "editable": true
   },
   "outputs": [
    {
     "name": "stdout",
     "output_type": "stream",
     "text": [
      "увидели\n",
      "nmod\n",
      "Кремле\n",
      "\n",
      "Кремле\n",
      "case\n",
      "В\n",
      "\n",
      "увидели\n",
      "neg\n",
      "не\n",
      "\n",
      "увидели\n",
      "dobj\n",
      "провокации\n",
      "\n",
      "провокации\n",
      "nmod\n",
      "выборе\n",
      "\n",
      "выборе\n",
      "case\n",
      "в\n",
      "\n",
      "выборе\n",
      "dobj\n",
      "конкурсантки\n",
      "\n",
      "конкурсантки\n",
      "nmod\n",
      "«Евровидение»\n",
      "\n",
      "«Евровидение»\n",
      "case\n",
      "на\n",
      "\n",
      "увидели\n",
      "punct\n",
      ".\n",
      "\n",
      "\n",
      "        увидели                             \n",
      "  _________|____________                     \n",
      " |   |     |        провокации              \n",
      " |   |     |            |                    \n",
      " |   |     |          выборе                \n",
      " |   |     |      ______|____________        \n",
      " |   |     |     |              конкурсантки\n",
      " |   |     |     |                   |       \n",
      " |   |   Кремле  |             «Евровидение»\n",
      " |   |     |     |                   |       \n",
      " не  .     В     в                   на     \n",
      "\n",
      "None\n",
      "обсудят\n",
      "dobj\n",
      "Замену\n",
      "\n",
      "Замену\n",
      "nmod\n",
      "маткапитала\n",
      "\n",
      "обсудят\n",
      "nmod\n",
      "выплатами\n",
      "\n",
      "обсудят\n",
      "nmod\n",
      "Госдуме\n",
      "\n",
      "Госдуме\n",
      "case\n",
      "в\n",
      "\n",
      "обсудят\n",
      "nmod\n",
      "23\n",
      "\n",
      "23\n",
      "nmod\n",
      "марта\n",
      "\n",
      "обсудят\n",
      "punct\n",
      ".\n",
      "\n",
      "\n",
      "                обсудят                \n",
      "     ______________|________________    \n",
      "    |      |     Замену   Госдуме   23 \n",
      "    |      |       |         |      |   \n",
      "выплатами  .  маткапитала    в    марта\n",
      "\n",
      "None\n",
      "продлил\n",
      "nsubj\n",
      "Совет\n",
      "\n",
      "Совет\n",
      "dobj\n",
      "Евросоюза\n",
      "\n",
      "продлил\n",
      "dobj\n",
      "санкции\n",
      "\n",
      "санкции\n",
      "amod\n",
      "антироссийские\n",
      "\n",
      "санкции\n",
      "nmod\n",
      "полгода\n",
      "\n",
      "полгода\n",
      "case\n",
      "на\n",
      "\n",
      "продлил\n",
      "punct\n",
      ".\n",
      "\n",
      "\n",
      "     продлил                                \n",
      "  ______|_______________________             \n",
      " |      |                    санкции        \n",
      " |      |            ___________|_______     \n",
      " |    Совет         |                полгода\n",
      " |      |           |                   |    \n",
      " .  Евросоюза антироссийские            на  \n",
      "\n",
      "None\n",
      "Тимошенко\n",
      "advcl\n",
      "управляют\n",
      "\n",
      "управляют\n",
      "mark\n",
      "что\n",
      "\n",
      "что\n",
      "case\n",
      "заявила,\n",
      "\n",
      "управляют\n",
      "dobj\n",
      "Украиной\n",
      "\n",
      "управляют\n",
      "advmod\n",
      "извне\n",
      "\n",
      "Тимошенко\n",
      "punct\n",
      ".\n",
      "\n",
      "\n",
      "             Тимошенко                   \n",
      "  _______________|_________               \n",
      " |                     управляют         \n",
      " |      ___________________|________      \n",
      " |     |                   |       что   \n",
      " |     |                   |        |     \n",
      " .  Украиной             извне   заявила,\n",
      "\n",
      "None\n",
      "зажгли\n",
      "nsubj\n",
      "Радикалы\n",
      "\n",
      "зажгли\n",
      "dobj\n",
      "файеры\n",
      "\n",
      "зажгли\n",
      "nmod\n",
      "офиса\n",
      "\n",
      "офиса\n",
      "case\n",
      "возле\n",
      "\n",
      "офиса\n",
      "dobj\n",
      "украинской\n",
      "\n",
      "украинской\n",
      "dobj\n",
      "«дочки»\n",
      "\n",
      "«дочки»\n",
      "nmod\n",
      "Сбербанка\n",
      "\n",
      "зажгли\n",
      "punct\n",
      ".\n",
      "\n",
      "\n",
      "                зажгли                       \n",
      "    ______________|____________               \n",
      "   |       |      |          офиса           \n",
      "   |       |      |       _____|_______       \n",
      "   |       |      |      |         украинской\n",
      "   |       |      |      |             |      \n",
      "   |       |      |      |          «дочки»  \n",
      "   |       |      |      |             |      \n",
      "Радикалы файеры   .    возле       Сбербанка \n",
      "\n",
      "None\n",
      "договорились\n",
      "nsubj\n",
      "Россия\n",
      "\n",
      "Россия\n",
      "cc\n",
      "и\n",
      "\n",
      "Россия\n",
      "conj\n",
      "Китай\n",
      "\n",
      "договорились\n",
      "nmod\n",
      "постройке\n",
      "\n",
      "постройке\n",
      "case\n",
      "о\n",
      "\n",
      "постройке\n",
      "dobj\n",
      "дороги\n",
      "\n",
      "дороги\n",
      "amod\n",
      "новой\n",
      "\n",
      "дороги\n",
      "amod\n",
      "железной\n",
      "\n",
      "договорились\n",
      "punct\n",
      ".\n",
      "\n",
      "\n",
      "               договорились                              \n",
      "  __________________|_______________                      \n",
      " |        |                     постройке                \n",
      " |        |                   ______|_______              \n",
      " |      Россия               |            дороги         \n",
      " |    ____|_________         |       _______|_______      \n",
      " .   и            Китай      о    новой          железной\n",
      "\n",
      "None\n",
      "открыл\n",
      "nsubj\n",
      "Собянин\n",
      "\n",
      "открыл\n",
      "dobj\n",
      "парк\n",
      "\n",
      "парк\n",
      "amod\n",
      "новый\n",
      "\n",
      "парк\n",
      "cc\n",
      "и\n",
      "\n",
      "парк\n",
      "conj\n",
      "площадку\n",
      "\n",
      "площадку\n",
      "amod\n",
      "детскую\n",
      "\n",
      "открыл\n",
      "punct\n",
      ".\n",
      "\n",
      "\n",
      "            открыл              \n",
      "    __________|_____             \n",
      "   |     |         парк         \n",
      "   |     |     _____|______      \n",
      "   |     |    |     |   площадку\n",
      "   |     |    |     |      |     \n",
      "Собянин  .  новый   и   детскую \n",
      "\n",
      "None\n"
     ]
    }
   ],
   "source": [
    "from nltk import DependencyGraph\n",
    "import codecs\n",
    "\n",
    "processed_sentences = []\n",
    "sentence = []\n",
    "for line in codecs.open('data.conll', 'r', 'utf-8'):\n",
    "    if len(line) == 1:\n",
    "        processed_sentences.append(sentence)\n",
    "        sentence = []\n",
    "    else:\n",
    "        word = line.split(\"\\t\")\n",
    "        sentence.append(word)\n",
    "\n",
    "deps = []\n",
    "for sentence in processed_sentences:\n",
    "    s = u\"\"\n",
    "    for line in sentence:\n",
    "        s += u\"\\t\".join(line) + u'\\n'\n",
    "    deps.append(s)\n",
    "\n",
    "for sent_dep in deps:\n",
    "    graph = DependencyGraph(tree_str=sent_dep)\n",
    "    for triple in graph.triples():\n",
    "        for e in triple:\n",
    "            print(e[0] if isinstance(e, tuple) else e,)\n",
    "        print()\n",
    "    print()\n",
    "    tree = graph.tree()\n",
    "    print(tree.pretty_print())"
   ]
  },
  {
   "cell_type": "code",
   "execution_count": 122,
   "metadata": {
    "collapsed": false,
    "deletable": true,
    "editable": true
   },
   "outputs": [
    {
     "name": "stdout",
     "output_type": "stream",
     "text": [
      "увидели\n",
      "провокации\n",
      "\n",
      "обсудят\n",
      "Замену\n",
      "\n",
      "продлил\n",
      "Совет\n",
      "санкции\n",
      "\n",
      "управляют\n",
      "Украиной\n",
      "\n",
      "зажгли\n",
      "Радикалы\n",
      "файеры\n",
      "\n",
      "договорились\n",
      "Россия\n",
      "\n",
      "открыл\n",
      "Собянин\n",
      "парк\n",
      "\n"
     ]
    }
   ],
   "source": [
    "for sent_dep in deps:\n",
    "    verbs = {}\n",
    "    for t in sent_dep.split('\\n'):\n",
    "        if len(t) > 1:\n",
    "            splt = t.split('\\t')\n",
    "            if splt[3] == 'VERB':\n",
    "                verbs[splt[0]] = [splt[1]]\n",
    "    sent_split = sent_dep.split('\\n')\n",
    "    sent = [i.split('\\t') for i in sent_split if len(i) > 1]\n",
    "    for splt in sent:\n",
    "        if splt[7] in ['dobj', 'nsubj']:\n",
    "            if splt[6] in verbs:\n",
    "                verbs[splt[6]].append(splt[1])\n",
    "                \n",
    "                \n",
    "    for t in verbs.values():\n",
    "        for elem in t:\n",
    "            print(elem)\n",
    "        print()"
   ]
  },
  {
   "cell_type": "markdown",
   "metadata": {
    "deletable": true,
    "editable": true
   },
   "source": [
    "### Задание 5.\n",
    "\n",
    "1. Исправьте данный код, чтобы он учитывал однородные члены при разборе предложения.\n",
    "2. Найдите в тексте про Винни Пуха все SVO-тройки, где субъектом выступает Сова."
   ]
  },
  {
   "cell_type": "code",
   "execution_count": 274,
   "metadata": {
    "collapsed": false,
    "deletable": true,
    "editable": true
   },
   "outputs": [
    {
     "name": "stdout",
     "output_type": "stream",
     "text": [
      "\n",
      "увидели\n",
      "провокации\n",
      "\n",
      "\n",
      "обсудят\n",
      "Замену\n",
      "\n",
      "\n",
      "продлил\n",
      "Совет\n",
      "санкции\n",
      "\n",
      "\n",
      "управляют\n",
      "Украиной\n",
      "\n",
      "\n",
      "зажгли\n",
      "Радикалы\n",
      "файеры\n",
      "\n",
      "\n",
      "договорились\n",
      "Россия\n",
      "и Китай\n",
      "\n",
      "\n",
      "открыл\n",
      "Собянин\n",
      "парк\n",
      "и площадку\n",
      "\n"
     ]
    }
   ],
   "source": [
    "# решение\n",
    "#1. Исправьте данный код, чтобы он учитывал однородные члены при разборе предложения.\n",
    "\n",
    "processed_sentences = []\n",
    "sentence = []\n",
    "for line in codecs.open('data.conll', 'r', 'utf-8'):\n",
    "    if len(line) == 1:\n",
    "        processed_sentences.append(sentence)\n",
    "        sentence = []\n",
    "    else:\n",
    "        word = line.split(\"\\t\")\n",
    "        sentence.append(word)\n",
    "\n",
    "deps = []\n",
    "for sentence in processed_sentences:\n",
    "    s = u\"\"\n",
    "    for line in sentence:\n",
    "        s += u\"\\t\".join(line) + u'\\n'\n",
    "    deps.append(s)\n",
    "\n",
    "for sent_dep in deps:\n",
    "    graph = DependencyGraph(tree_str=sent_dep)\n",
    "    tree = graph.tree()\n",
    "    \n",
    "for sent_dep in deps:\n",
    "    verbs = {}\n",
    "    for t in sent_dep.split('\\n'):\n",
    "        if len(t) > 1:\n",
    "            splt = t.split('\\t')\n",
    "            if splt[3] == 'VERB':\n",
    "                verbs[splt[0]] = [splt[1]]\n",
    "    sent_split = sent_dep.split('\\n')\n",
    "    sent = [i.split('\\t') for i in sent_split if len(i) > 1]\n",
    "    for splt in sent:\n",
    "        if splt[7] in ['dobj', 'nsubj']:\n",
    "            if splt[6] in verbs:\n",
    "                verbs[splt[6]].append(splt[1])\n",
    "                \n",
    "                \n",
    "    \n",
    "    # теперь обработка однородных членов предложения:\n",
    "    # если текущее слово конъюктивно (conj) связано с субъектом или объектом глагола - добавляем его в \"тройку\"\n",
    "        if splt[7] == 'conj':\n",
    "            n = int(splt[-4])-1 #номер предка\n",
    "            if sent[n][-3] in ['dobj', 'nsubj']: # если предок - субъект или объект,\n",
    "                for verb, dops in verbs.items(): # проходим по словарю, находим ключ-глагол предка и добавляем\n",
    "                    if (sent[n][1]) in dops:     # текущее слово к значеням\n",
    "                        verbs[verb].append('и '+splt[1])\n",
    "                          \n",
    "            \n",
    "        \n",
    "    print()                \n",
    "    for t in verbs.values():\n",
    "        for elem in t:\n",
    "            print(elem)\n",
    "        print()"
   ]
  },
  {
   "cell_type": "code",
   "execution_count": 211,
   "metadata": {
    "collapsed": true,
    "deletable": true,
    "editable": true
   },
   "outputs": [],
   "source": [
    "#2. Найдите в тексте про Винни Пуха все SVO-тройки, где субъектом выступает Сова.\n",
    "# сперва необходимо предобработать текст: отделить знаки окончания предложения пробелом\n",
    "\n",
    "with open('Vinni-Puh.txt') as f:\n",
    "    raw = f.read()\n",
    "    \n",
    "text = raw.replace(\".\", \" .\").replace(\"!\", \" .\").replace(\"?\", \" .\").replace(\"...\", \" .\")\n",
    "\n",
    "# запишем полученный текст в файл\n",
    "with open('Vinni-Puh1.txt', 'w') as f:\n",
    "    f.write(text)"
   ]
  },
  {
   "cell_type": "code",
   "execution_count": 273,
   "metadata": {
    "collapsed": false,
    "deletable": true,
    "editable": true,
    "scrolled": false
   },
   "outputs": [
    {
     "name": "stdout",
     "output_type": "stream",
     "text": [
      "жила\n",
      "Сова\n",
      "что\n",
      "Лесу,\n",
      "\n",
      "жила\n",
      "Сова\n",
      "\n",
      "Открывай\n",
      "Сова\n",
      "Сова\n",
      "\n",
      "открылась,\n",
      "Сова\n",
      "\n",
      "сказала\n",
      "Сова\n",
      "Сова\n",
      "\n",
      "говорила\n",
      "Сова\n",
      "что\n",
      "\n",
      "говорила\n",
      "Сова\n",
      "\n",
      "сказала\n",
      "Сова\n",
      "что\n",
      "\n",
      "сказала\n",
      "Сова\n",
      "\n",
      "умеет\n",
      "Сова\n",
      "что\n",
      "\n",
      "—\n",
      "Сова\n",
      "\n",
      "ответила\n",
      "Сова\n",
      "Сова\n",
      "\n",
      "удивилась\n",
      "Сова\n",
      "\n",
      "сказала\n",
      "Сова\n",
      "\n",
      "мусолила\n",
      "Сова\n",
      "кончик\n",
      "\n",
      "писать…\n",
      "Сова\n",
      "\n",
      "заметила\n",
      "Сова\n",
      "Сова\n",
      "\n",
      "пояснила\n",
      "Сова\n",
      "\n",
      "сказала\n",
      "Сова\n",
      "\n",
      "кричала\n",
      "Сова\n",
      "Сова\n",
      "\n",
      "сказала\n",
      "Сова\n",
      "Сова\n",
      "\n",
      "сказала\n",
      "Сова\n",
      "Сова\n",
      "\n",
      "сказала\n",
      "Сова\n",
      "\n",
      "рассказывала\n",
      "Сова\n",
      "\n",
      "проснувшийся,\n",
      "Сова\n",
      "Сова\n",
      "\n",
      "может\n",
      "Сова\n",
      "\n",
      "сказала\n",
      "Сова\n",
      "\n",
      "пояснила\n",
      "Сова\n",
      "Сова\n",
      "\n",
      "пояснила\n",
      "Сова\n",
      "Сова\n",
      "\n",
      "порядке,\n",
      "Сова\n",
      "\n",
      "глупость,\n",
      "Сова\n",
      "\n",
      "Сова\n",
      "Сова\n",
      "его\n",
      "\n",
      "отвечала\n",
      "Сова\n",
      "Сова\n",
      "\n",
      "улетела\n",
      "Сова\n",
      "\n",
      "уселась\n",
      "Сова\n",
      "\n",
      "ног,\n",
      "Сова\n",
      "\n",
      "прилетела\n",
      "Сова\n",
      "Сова\n",
      "\n",
      "сказала\n",
      "Сова\n",
      "Сова\n",
      "\n",
      "сказала\n",
      "Сова\n",
      "\n",
      "попыталась\n",
      "Сова\n",
      "\n",
      "ожидает,\n",
      "Сова\n",
      "\n",
      "почувствовала,\n",
      "Сова\n",
      "\n",
      "беседовала\n",
      "Сова\n",
      "это,\n",
      "\n",
      "повторила\n",
      "Сова\n",
      "Сова\n",
      "\n",
      ".\n",
      "Сова\n",
      "\n",
      "ответила\n",
      "Сова\n",
      "малыш\n",
      "\n"
     ]
    }
   ],
   "source": [
    "processed_sentences = []\n",
    "sentence = []\n",
    "for line in codecs.open('data2.conll', 'r', 'utf-8'):\n",
    "    if len(line) == 1:\n",
    "        processed_sentences.append(sentence)\n",
    "        sentence = []\n",
    "    else:\n",
    "        word = line.split(\"\\t\")\n",
    "        sentence.append(word)\n",
    "\n",
    "deps = []\n",
    "res = []\n",
    "for sentence in processed_sentences:\n",
    "    s = u\"\"\n",
    "    for line in sentence:\n",
    "        s += u\"\\t\".join(line) + u'\\n'\n",
    "    deps.append(s)\n",
    "\n",
    "for sent_dep in deps:\n",
    "    graph = DependencyGraph(tree_str=sent_dep)\n",
    "    tree = graph.tree()\n",
    "    \n",
    "for sent_dep in deps:    \n",
    "    verbs = {}\n",
    "    for t in sent_dep.split('\\n'):\n",
    "        if len(t) > 1:\n",
    "            splt = t.split('\\t')\n",
    "            if splt[1] == 'Сова':\n",
    "                n = int(splt[6]) # номер глагола, с которым связана Сова\n",
    "                sent_split = sent_dep.split('\\n')\n",
    "                sent = [i.split('\\t') for i in sent_split if len(i) > 1]\n",
    "                verbs[str(n)] = [sent[n-1][1]]\n",
    "                verbs[str(n)].append('Сова')\n",
    "    if verbs:\n",
    "        sent_split = sent_dep.split('\\n')\n",
    "        sent = [i.split('\\t') for i in sent_split if len(i) > 1]\n",
    "        for splt in sent:\n",
    "            if splt[7] =='dobj':\n",
    "                #print(verbs, splt[6], splt[1])\n",
    "                if splt[6] in verbs:\n",
    "                    verbs[splt[6]].append(splt[1])\n",
    "            \n",
    "\n",
    "        for t in verbs.values():\n",
    "            for elem in t:\n",
    "                print(elem)\n",
    "            print()"
   ]
  }
 ],
 "metadata": {
  "kernelspec": {
   "display_name": "Python 3",
   "language": "python",
   "name": "python3"
  },
  "language_info": {
   "codemirror_mode": {
    "name": "ipython",
    "version": 3.0
   },
   "file_extension": ".py",
   "mimetype": "text/x-python",
   "name": "python",
   "nbconvert_exporter": "python",
   "pygments_lexer": "ipython3",
   "version": "3.6.0"
  }
 },
 "nbformat": 4,
 "nbformat_minor": 0
}