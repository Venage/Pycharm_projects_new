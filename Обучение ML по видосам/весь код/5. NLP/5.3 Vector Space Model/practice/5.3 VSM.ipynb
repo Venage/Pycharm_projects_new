{
 "cells": [
  {
   "cell_type": "markdown",
   "metadata": {
    "deletable": true,
    "editable": true
   },
   "source": [
    "# Задания"
   ]
  },
  {
   "cell_type": "markdown",
   "metadata": {
    "deletable": true,
    "editable": true
   },
   "source": [
    "## Задание 1"
   ]
  },
  {
   "cell_type": "markdown",
   "metadata": {
    "deletable": true,
    "editable": true
   },
   "source": [
    "Рассмотрим маленькую коллекцию документов, состоящую из следующих документов: \n",
    "\n",
    "“new york times”, “new york post”, “los angeles times”.\n",
    "\n",
    "Перечислите все уникальные термы в коллекции и запишите матрицу терм-документ."
   ]
  },
  {
   "cell_type": "markdown",
   "metadata": {
    "deletable": true,
    "editable": true
   },
   "source": [
    "Найдите для всех терм частоты (tf) и обратные документные частоты idf.\n"
   ]
  },
  {
   "cell_type": "code",
   "execution_count": null,
   "metadata": {
    "collapsed": true,
    "deletable": true,
    "editable": true
   },
   "outputs": [],
   "source": []
  },
  {
   "cell_type": "markdown",
   "metadata": {
    "deletable": true,
    "editable": true
   },
   "source": [
    "Пусть дан запрос q=“new new times”. Найдите координаты вектора-запроса в нашем векторном пространстве и примените к нему tf − idf преобразование."
   ]
  },
  {
   "cell_type": "code",
   "execution_count": null,
   "metadata": {
    "collapsed": true,
    "deletable": true,
    "editable": true
   },
   "outputs": [],
   "source": []
  },
  {
   "cell_type": "markdown",
   "metadata": {
    "deletable": true,
    "editable": true
   },
   "source": [
    "Используя косинусную меру близости в качестве функции релевантности, отсортируйте документы по убыванию релевантности запроса."
   ]
  },
  {
   "cell_type": "markdown",
   "metadata": {
    "deletable": true,
    "editable": true
   },
   "source": [
    "$cos(d_i, d_j) = \\frac{d_1 \\times d_2}{ ᛁᛁd_1ᛁᛁ ᛁᛁd_2ᛁᛁ} $\n",
    "\n",
    "\n"
   ]
  },
  {
   "cell_type": "markdown",
   "metadata": {
    "deletable": true,
    "editable": true
   },
   "source": [
    "## Задание 2"
   ]
  },
  {
   "cell_type": "markdown",
   "metadata": {
    "deletable": true,
    "editable": true
   },
   "source": [
    "Группа лингвистов проанализировала толковые и иноязычные словари русского языка и посчитала для каждой пары слов A, B из заданного списка слов следующий показатель: сколько раз слово B (или его иноязычный аналог) используется в определении слова A. Результаты приведены в таблице ниже."
   ]
  },
  {
   "cell_type": "markdown",
   "metadata": {
    "deletable": true,
    "editable": true
   },
   "source": [
    "![title](table.png)"
   ]
  },
  {
   "cell_type": "markdown",
   "metadata": {
    "deletable": true,
    "editable": true
   },
   "source": [
    "Предположите, какие два слова больше всего похожи друг на друга по смыслу.\n"
   ]
  },
  {
   "cell_type": "markdown",
   "metadata": {
    "deletable": true,
    "editable": true
   },
   "source": [
    "Выполните PPMI преобразование матрицы близости и посчитайте попарную близость между словами. Подтверждается ли ваша гипотеза из первого задания?\n"
   ]
  },
  {
   "cell_type": "code",
   "execution_count": 3,
   "metadata": {
    "collapsed": false,
    "deletable": true,
    "editable": true,
    "scrolled": false
   },
   "outputs": [],
   "source": [
    "import numpy as np\n",
    "F = np.array([[0,16,13,12,10,6,0],\n",
    "              [18,0,9,12,5,6,2],\n",
    "             [37,7,0,6,7,4,0],\n",
    "             [26,26,9,0,6,8,2],\n",
    "             [39,11,22,27,0,3,0],\n",
    "             [1,0,2,0,1,0,3],\n",
    "              [4,1,4,1,4,3,0]])"
   ]
  },
  {
   "cell_type": "markdown",
   "metadata": {
    "deletable": true,
    "editable": true
   },
   "source": [
    "Используйте SVD для снижения размерности и пересчитайте попарную близость между векторами слов. Подтверждается ли ваша гипотеза из первого задания?"
   ]
  },
  {
   "cell_type": "code",
   "execution_count": null,
   "metadata": {
    "collapsed": false,
    "deletable": true,
    "editable": true
   },
   "outputs": [],
   "source": []
  }
 ],
 "metadata": {
  "kernelspec": {
   "display_name": "Python 3",
   "language": "python",
   "name": "python3"
  },
  "language_info": {
   "codemirror_mode": {
    "name": "ipython",
    "version": 3
   },
   "file_extension": ".py",
   "mimetype": "text/x-python",
   "name": "python",
   "nbconvert_exporter": "python",
   "pygments_lexer": "ipython3",
   "version": "3.6.0"
  }
 },
 "nbformat": 4,
 "nbformat_minor": 2
}
