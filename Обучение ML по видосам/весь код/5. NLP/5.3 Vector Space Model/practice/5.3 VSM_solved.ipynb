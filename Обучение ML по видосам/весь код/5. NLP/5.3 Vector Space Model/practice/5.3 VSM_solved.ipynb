{
 "cells": [
  {
   "cell_type": "markdown",
   "metadata": {
    "deletable": true,
    "editable": true
   },
   "source": [
    "# Задания"
   ]
  },
  {
   "cell_type": "markdown",
   "metadata": {
    "deletable": true,
    "editable": true
   },
   "source": [
    "## Задание 1"
   ]
  },
  {
   "cell_type": "markdown",
   "metadata": {
    "deletable": true,
    "editable": true
   },
   "source": [
    "Рассмотрим маленькую коллекцию документов, состоящую из следующих документов: \n",
    "\n",
    "“new york times”, “new york post”, “los angeles times”.\n",
    "\n",
    "Перечислите все уникальные термы в коллекции и запишите матрицу терм-документ."
   ]
  },
  {
   "cell_type": "code",
   "execution_count": 9,
   "metadata": {
    "collapsed": false,
    "deletable": true,
    "editable": true,
    "scrolled": true
   },
   "outputs": [
    {
     "data": {
      "text/html": [
       "<div>\n",
       "<style scoped>\n",
       "    .dataframe tbody tr th:only-of-type {\n",
       "        vertical-align: middle;\n",
       "    }\n",
       "\n",
       "    .dataframe tbody tr th {\n",
       "        vertical-align: top;\n",
       "    }\n",
       "\n",
       "    .dataframe thead th {\n",
       "        text-align: right;\n",
       "    }\n",
       "</style>\n",
       "<table border=\"1\" class=\"dataframe\">\n",
       "  <thead>\n",
       "    <tr style=\"text-align: right;\">\n",
       "      <th></th>\n",
       "      <th>d1</th>\n",
       "      <th>d2</th>\n",
       "      <th>d3</th>\n",
       "      <th>term</th>\n",
       "    </tr>\n",
       "  </thead>\n",
       "  <tbody>\n",
       "    <tr>\n",
       "      <th>0</th>\n",
       "      <td>1</td>\n",
       "      <td>1</td>\n",
       "      <td>0</td>\n",
       "      <td>new</td>\n",
       "    </tr>\n",
       "    <tr>\n",
       "      <th>1</th>\n",
       "      <td>1</td>\n",
       "      <td>1</td>\n",
       "      <td>0</td>\n",
       "      <td>york</td>\n",
       "    </tr>\n",
       "    <tr>\n",
       "      <th>2</th>\n",
       "      <td>1</td>\n",
       "      <td>0</td>\n",
       "      <td>1</td>\n",
       "      <td>times</td>\n",
       "    </tr>\n",
       "    <tr>\n",
       "      <th>3</th>\n",
       "      <td>0</td>\n",
       "      <td>1</td>\n",
       "      <td>0</td>\n",
       "      <td>post</td>\n",
       "    </tr>\n",
       "    <tr>\n",
       "      <th>4</th>\n",
       "      <td>0</td>\n",
       "      <td>0</td>\n",
       "      <td>1</td>\n",
       "      <td>los</td>\n",
       "    </tr>\n",
       "    <tr>\n",
       "      <th>5</th>\n",
       "      <td>0</td>\n",
       "      <td>0</td>\n",
       "      <td>1</td>\n",
       "      <td>angeles</td>\n",
       "    </tr>\n",
       "  </tbody>\n",
       "</table>\n",
       "</div>"
      ],
      "text/plain": [
       "   d1  d2  d3     term\n",
       "0   1   1   0      new\n",
       "1   1   1   0     york\n",
       "2   1   0   1    times\n",
       "3   0   1   0     post\n",
       "4   0   0   1      los\n",
       "5   0   0   1  angeles"
      ]
     },
     "execution_count": 9,
     "metadata": {},
     "output_type": "execute_result"
    }
   ],
   "source": [
    "# Матрица терм-документ: \n",
    "\n",
    "import pandas as pd\n",
    "\n",
    "columns = ['term','document']\n",
    "docs = ['d1', 'd2', 'd3']\n",
    "\n",
    "d1_data = [{'term': 'new', 'd1': 1, 'd2':1, 'd3':0},\n",
    "         {'term': 'york',  'd1': 1, 'd2':1, 'd3':0},\n",
    "         {'term': 'times',  'd1': 1, 'd2':0, 'd3':1},\n",
    "          {'term': 'post',  'd1': 0, 'd2':1, 'd3':0},\n",
    "           {'term': 'los',  'd1': 0, 'd2':0, 'd3':1},\n",
    "           {'term': 'angeles',  'd1': 0, 'd2':0, 'd3':1}]\n",
    "d1 = pd.DataFrame(data = d1_data)\n",
    "d1"
   ]
  },
  {
   "cell_type": "markdown",
   "metadata": {
    "deletable": true,
    "editable": true
   },
   "source": [
    "Найдите для всех терм частоты (tf) и обратные документные частоты idf.\n"
   ]
  },
  {
   "cell_type": "raw",
   "metadata": {
    "deletable": true,
    "editable": true
   },
   "source": [
    "Решение:\n",
    "\n",
    "1. Обозначим через d1,d2,d3 соотв-но документы, всю коллекцтю - D.\n",
    "Уникальные термы: new, york, times, post, los, angeles.\n",
    "\n",
    "d1 = “new york times”\n",
    "d2= “new york post”\n",
    "d3 = “los angeles times”\n",
    "\n",
    "tf('new', d1) = 1/3\n",
    "tf('new', d2) = 1/3\n",
    "tf('new', d3) = 0\n",
    "idf('new', D) = log(3/2) = 0.4055\n",
    "\n",
    "tf('york', d1) = 1/3\n",
    "tf('york', d2) = 1/3\n",
    "tf('york', d3) = 0\n",
    "idf('york', D) = log(3/2) = 0.4055\n",
    "\n",
    "tf('times', d1) = 1/3\n",
    "tf('times', d2) = 0\n",
    "tf('times', d3) = 1/3\n",
    "idf('times', D) = log(3/2) = 0.4055\n",
    "\n",
    "tf('post', d1) = 0\n",
    "tf('post', d2) = 1/3\n",
    "tf('post', d3) = 0\n",
    "idf('post', D) = log(3) = 1.0986\n",
    "\n",
    "tf('los', d1) = 0\n",
    "tf('los', d2) = 0\n",
    "tf('los', d3) = 1/3\n",
    "idf('los', D) = log(3) = 1.0986\n",
    "\n",
    "tf('angeles', d1) = 0\n",
    "tf('angeles', d1) = 0\n",
    "tf('angeles', d1) = 1/3\n",
    "idf('angeles', D) = log(3) = 1.0986"
   ]
  },
  {
   "cell_type": "markdown",
   "metadata": {
    "deletable": true,
    "editable": true
   },
   "source": [
    "Пусть дан запрос q=“new new times”. Найдите координаты вектора-запроса в нашем векторном пространстве и примените к нему tf − idf преобразование."
   ]
  },
  {
   "cell_type": "raw",
   "metadata": {
    "deletable": true,
    "editable": true
   },
   "source": [
    "Найдем веса tf для каждого из слов в документе d4 = “new new times”:\n",
    "\n",
    "tf('new', d4) = 2/3\n",
    "tf('times', d4) = 1/3\n",
    "\n",
    "Веса idf мы знаем из предыдущего пункта:\n",
    "\n",
    "idf('new', D) = log(3/2) = 0.4055\n",
    "idf('times', D) = log(3/2) = 0.4055\n",
    "\n",
    "\n",
    "tf-idf('new', d4, D) = 2/3 * log(3/2) = 0.27\n",
    "tf-idf('times', d4, D) = 1/3 * log(3/2) = 0.135\n",
    "\n",
    "Координаты вектора-запроса q = (0.27, 0.27, 0.135)"
   ]
  },
  {
   "cell_type": "markdown",
   "metadata": {
    "deletable": true,
    "editable": true
   },
   "source": [
    "Используя косинусную меру близости в качестве функции релевантности, отсортируйте документы по убыванию релевантности запроса."
   ]
  },
  {
   "cell_type": "markdown",
   "metadata": {
    "deletable": true,
    "editable": true
   },
   "source": [
    "Найдем косинусные меры близости для всех трех документов с вектором q по формуле:\n",
    "\n",
    "$cos(d_i, d_j) = \\frac{d_1 \\times d_2}{ ᛁᛁd_1ᛁᛁ ᛁᛁd_2ᛁᛁ} $\n",
    "\n",
    "$d_1$ = (0.135, 0.135, 0.135)\n",
    "\n",
    "$d_2$ = (0.135, 0.135, 0.366) \n",
    "\n",
    "$d_1$ = (0.366, 0.366, 0.135)\n"
   ]
  },
  {
   "cell_type": "code",
   "execution_count": 37,
   "metadata": {
    "collapsed": false,
    "deletable": true,
    "editable": true
   },
   "outputs": [
    {
     "name": "stdout",
     "output_type": "stream",
     "text": [
      "0.962250448649\n",
      "0.731584510603\n",
      "0.996414868109\n"
     ]
    }
   ],
   "source": [
    "import numpy as np\n",
    "\n",
    "d1 = np.array([0.135, 0.135, 0.135]) # new york times\n",
    "d2 = np.array([0.135, 0.135, 0.366]) # new york post\n",
    "d3 = np.array([0.366, 0.366, 0.135]) # los angeles times\n",
    "q = np.array([0.27, 0.27, 0.135])\n",
    "\n",
    "def cos_score(d, q):\n",
    "    return np.dot(d,q)/(np.sqrt(np.dot(q,q))*np.sqrt(np.dot(d,d)))\n",
    "\n",
    "print(cos_score(d1,q), cos_score(d2,q), cos_score(d3,q), sep='\\n')"
   ]
  },
  {
   "cell_type": "markdown",
   "metadata": {
    "deletable": true,
    "editable": true
   },
   "source": [
    "Документы в порядке убывания релевантности запроса q: $d_3, d_1, d_2$"
   ]
  },
  {
   "cell_type": "markdown",
   "metadata": {
    "deletable": true,
    "editable": true
   },
   "source": [
    "## Задание 2"
   ]
  },
  {
   "cell_type": "markdown",
   "metadata": {
    "deletable": true,
    "editable": true
   },
   "source": [
    "Группа лингвистов проанализировала толковые и иноязычные словари русского языка и посчитала для каждой пары слов A, B из заданного списка слов следующий показатель: сколько раз слово B (или его иноязычный аналог) используется в определении слова A. Результаты приведены в таблице ниже."
   ]
  },
  {
   "cell_type": "markdown",
   "metadata": {
    "deletable": true,
    "editable": true
   },
   "source": [
    "![title](table.png)"
   ]
  },
  {
   "cell_type": "markdown",
   "metadata": {
    "deletable": true,
    "editable": true
   },
   "source": [
    "Предположите, какие два слова больше всего похожи друг на друга по смыслу.\n"
   ]
  },
  {
   "cell_type": "markdown",
   "metadata": {
    "deletable": true,
    "editable": true
   },
   "source": [
    "Выполните PPMI преобразование матрицы близости и посчитайте попарную близость между словами. Подтверждается ли ваша гипотеза из первого задания?\n"
   ]
  },
  {
   "cell_type": "code",
   "execution_count": 95,
   "metadata": {
    "collapsed": false,
    "deletable": true,
    "editable": true,
    "scrolled": false
   },
   "outputs": [
    {
     "name": "stderr",
     "output_type": "stream",
     "text": [
      "/Library/Frameworks/Python.framework/Versions/3.6/lib/python3.6/site-packages/ipykernel_launcher.py:18: RuntimeWarning: divide by zero encountered in log2\n"
     ]
    },
    {
     "data": {
      "text/plain": [
       "[(10.248961375058819, 'создание', 'творчество'),\n",
       " (6.5887107470334261, 'создание', 'труд'),\n",
       " (6.4269596770368143, 'создание', 'дело'),\n",
       " (5.8667438386513435, 'творчество', 'дело'),\n",
       " (5.5892098631224343, 'творчество', 'создание'),\n",
       " (5.0284949086479553, 'творчество', 'труд'),\n",
       " (4.5055695117331807, 'создание', 'работа'),\n",
       " (3.9453536733477095, 'творчество', 'работа'),\n",
       " (3.8778292821706875, 'деятельность', 'творчество'),\n",
       " (3.6978175877099009, 'работа', 'дело')]"
      ]
     },
     "execution_count": 95,
     "metadata": {},
     "output_type": "execute_result"
    }
   ],
   "source": [
    "F = np.array([[0,16,13,12,10,6,0],\n",
    "              [18,0,9,12,5,6,2],\n",
    "             [37,7,0,6,7,4,0],\n",
    "             [26,26,9,0,6,8,2],\n",
    "             [39,11,22,27,0,3,0],\n",
    "             [1,0,2,0,1,0,3],\n",
    "              [4,1,4,1,4,3,0]])\n",
    "\n",
    "words = ['работа','деятельность','труд','действие','дело','создание','творчество']\n",
    "\n",
    "PPMI_matrix = np.zeros((7,7))\n",
    "res = []\n",
    "for i in range (len(words)):\n",
    "    p_i = np.sum(F, axis=1)[i]/np.sum(F)\n",
    "    for j in range (len(words)):\n",
    "        if (i != j):\n",
    "            p_j = np.sum(F, axis=0)[j]/np.sum(F)\n",
    "            p_ij = F[i][j]/np.sum(F, axis=1)[i]\n",
    "            PPMI = max(0, np.log2(p_ij/(p_i*p_j)))\n",
    "            #print(words[i], words[j], PPMI)\n",
    "            res.append((PPMI, words[i], words[j]))\n",
    "            PPMI_matrix[i][j] = PPMI\n",
    "            \n",
    "sorted(res, key=lambda v: v[0], reverse=True)[:10]"
   ]
  },
  {
   "cell_type": "code",
   "execution_count": 82,
   "metadata": {
    "collapsed": false,
    "deletable": true,
    "editable": true
   },
   "outputs": [
    {
     "name": "stdout",
     "output_type": "stream",
     "text": [
      "[[  0.           3.48954627   3.23808028   3.14726512   3.69781759\n",
      "    3.09835552   0.        ]\n",
      " [  2.88932492   0.           2.97246616   3.41216571   2.96271818\n",
      "    3.36325611   3.87782928]\n",
      " [  3.46825805   2.10120655   0.           1.95157047   2.98754977\n",
      "    2.31769837   0.        ]\n",
      " [  2.28714599   3.32219294   1.83977251   0.           2.09305894\n",
      "    2.64559996   2.74513564]\n",
      " [  2.06083089   1.26990724   2.31800153   2.63811946   0.           0.41928486\n",
      "    0.        ]\n",
      " [  4.50556951   0.           6.58871075   0.           6.42695968   0.\n",
      "   10.24896138]\n",
      " [  3.94535367   2.98040062   5.02849491   3.05315696   5.86674384\n",
      "    5.58920986   0.        ]]\n"
     ]
    }
   ],
   "source": [
    "print(PPMI_matrix)"
   ]
  },
  {
   "cell_type": "markdown",
   "metadata": {
    "deletable": true,
    "editable": true
   },
   "source": [
    "Используйте SVD для снижения размерности и пересчитайте попарную близость между векторами слов. Подтверждается ли ваша гипотеза из первого задания?"
   ]
  },
  {
   "cell_type": "code",
   "execution_count": 104,
   "metadata": {
    "collapsed": false,
    "deletable": true,
    "editable": true
   },
   "outputs": [
    {
     "data": {
      "text/plain": [
       "array([[  0.32889984,   3.06844196,   3.82262413,   2.53498644,\n",
       "          3.56422031,   3.33695553,  -0.42609659],\n",
       "       [  3.6166534 ,   0.17836378,   3.54945203,   3.22296468,\n",
       "          3.17303969,   2.29171058,   3.14191074],\n",
       "       [  3.50385595,   1.95307587,   0.39792841,   1.52719699,\n",
       "          2.3248292 ,   3.03726463,   0.09764437],\n",
       "       [  2.36193078,   2.52985295,   1.68602938,  -0.18402949,\n",
       "          3.39380756,   2.20749604,   2.0724109 ],\n",
       "       [  1.30292344,   0.04979316,   1.61114927,   2.47027362,\n",
       "          1.0403564 ,   1.45547654,   0.10594463],\n",
       "       [  4.3191423 ,   0.03329731,   6.51493654,   0.01477574,\n",
       "          6.12886482,   0.41508831,  10.52813685],\n",
       "       [  3.59875138,   3.90566636,   4.45314207,   3.87625721,\n",
       "          5.44023165,   5.35789186,   0.75155691]])"
      ]
     },
     "execution_count": 104,
     "metadata": {},
     "output_type": "execute_result"
    }
   ],
   "source": [
    "U, s, V = np.linalg.svd(PPMI_matrix)\n",
    "\n",
    "# обнулим последние три значения, k = 3\n",
    "for i in range(4,7):\n",
    "    s[i] = 0\n",
    "    V[i] = np.zeros(7)\n",
    "    for j in range(7):\n",
    "        U[j][i] = 0\n",
    "\n",
    "\n",
    "new_PPMI = U.dot(np.diag(s)).dot(V)\n",
    "new_PPMI"
   ]
  },
  {
   "cell_type": "code",
   "execution_count": 105,
   "metadata": {
    "collapsed": false,
    "deletable": true,
    "editable": true
   },
   "outputs": [
    {
     "data": {
      "text/plain": [
       "[('создание', 'творчество', 10.528136854894825),\n",
       " ('создание', 'труд', 6.5149365447868073),\n",
       " ('создание', 'дело', 6.1288648217044974),\n",
       " ('творчество', 'дело', 5.4402316545090184),\n",
       " ('творчество', 'создание', 5.3578918621852187),\n",
       " ('творчество', 'труд', 4.4531420725044928),\n",
       " ('создание', 'работа', 4.3191422950531617),\n",
       " ('творчество', 'деятельность', 3.9056663566093341),\n",
       " ('творчество', 'действие', 3.8762572137881746),\n",
       " ('работа', 'труд', 3.8226241293890553)]"
      ]
     },
     "execution_count": 105,
     "metadata": {},
     "output_type": "execute_result"
    }
   ],
   "source": [
    "new_res = [(words[i], words[j], new_PPMI[i][j]) for j in range(7) for i in range(7)]\n",
    "sorted(new_res, key=lambda v: v[2], reverse=True)[:10]"
   ]
  },
  {
   "cell_type": "code",
   "execution_count": null,
   "metadata": {
    "collapsed": true,
    "deletable": true,
    "editable": true
   },
   "outputs": [],
   "source": []
  }
 ],
 "metadata": {
  "kernelspec": {
   "display_name": "Python 3",
   "language": "python",
   "name": "python3"
  },
  "language_info": {
   "codemirror_mode": {
    "name": "ipython",
    "version": 3
   },
   "file_extension": ".py",
   "mimetype": "text/x-python",
   "name": "python",
   "nbconvert_exporter": "python",
   "pygments_lexer": "ipython3",
   "version": "3.6.0"
  }
 },
 "nbformat": 4,
 "nbformat_minor": 2
}
