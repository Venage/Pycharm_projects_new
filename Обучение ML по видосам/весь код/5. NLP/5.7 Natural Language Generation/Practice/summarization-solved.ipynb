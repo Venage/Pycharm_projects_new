{
 "cells": [
  {
   "cell_type": "markdown",
   "metadata": {},
   "source": [
    "# Суммаризация новостей\n",
    "Входные данные: новости (таблица df)\n",
    "1. Создайте новый столбец в таблице – summary и поместите в него первое предложение из текста.\n",
    "2. Сгенерируйте саммари каждого текста, используя gensim.summarize()\n",
    "3. Используя nltk.translate.bleu_score.sentence_bleu([true_summary], generated_summary), оцените качество сгенерированных саммари \n",
    "4. Вычислите средний BLEU по всей коллекции текстов\n",
    "5. Лемматизация и удаление стоп-слов – на ваше усмотрение"
   ]
  },
  {
   "cell_type": "code",
   "execution_count": 28,
   "metadata": {
    "collapsed": false
   },
   "outputs": [
    {
     "data": {
      "text/html": [
       "<div>\n",
       "<table border=\"1\" class=\"dataframe\">\n",
       "  <thead>\n",
       "    <tr style=\"text-align: right;\">\n",
       "      <th></th>\n",
       "      <th>text</th>\n",
       "      <th>date</th>\n",
       "      <th>event</th>\n",
       "      <th>class</th>\n",
       "    </tr>\n",
       "  </thead>\n",
       "  <tbody>\n",
       "    <tr>\n",
       "      <th>0</th>\n",
       "      <td>В ПЕТЕРБУРГЕ ПРОШЕЛ МИТИНГ ПРОТИВ ПЕРЕДАЧИ ИС...</td>\n",
       "      <td>2017-01-10</td>\n",
       "      <td>Передача РПЦ Исаакиевского собора</td>\n",
       "      <td>Внутренняя политика РФ</td>\n",
       "    </tr>\n",
       "    <tr>\n",
       "      <th>1</th>\n",
       "      <td>Lenta.co, Москва, 14 января 2017 СИТУАЦИЯ С П...</td>\n",
       "      <td>2017-01-10</td>\n",
       "      <td>Передача РПЦ Исаакиевского собора</td>\n",
       "      <td>Внутренняя политика РФ</td>\n",
       "    </tr>\n",
       "    <tr>\n",
       "      <th>2</th>\n",
       "      <td>Аргументы и Факты (aif.ru), Москва, 14 января...</td>\n",
       "      <td>2017-01-10</td>\n",
       "      <td>Передача РПЦ Исаакиевского собора</td>\n",
       "      <td>Внутренняя политика РФ</td>\n",
       "    </tr>\n",
       "    <tr>\n",
       "      <th>3</th>\n",
       "      <td>Google Новости ТОП, Москва, 14 января 2017 АК...</td>\n",
       "      <td>2017-01-10</td>\n",
       "      <td>Передача РПЦ Исаакиевского собора</td>\n",
       "      <td>Внутренняя политика РФ</td>\n",
       "    </tr>\n",
       "    <tr>\n",
       "      <th>4</th>\n",
       "      <td>Газета.Ru, Москва, 13 января 2017 В МОСКОВСКО...</td>\n",
       "      <td>2017-01-10</td>\n",
       "      <td>Передача РПЦ Исаакиевского собора</td>\n",
       "      <td>Внутренняя политика РФ</td>\n",
       "    </tr>\n",
       "  </tbody>\n",
       "</table>\n",
       "</div>"
      ],
      "text/plain": [
       "                                                text        date  \\\n",
       "0   В ПЕТЕРБУРГЕ ПРОШЕЛ МИТИНГ ПРОТИВ ПЕРЕДАЧИ ИС...  2017-01-10   \n",
       "1   Lenta.co, Москва, 14 января 2017 СИТУАЦИЯ С П...  2017-01-10   \n",
       "2   Аргументы и Факты (aif.ru), Москва, 14 января...  2017-01-10   \n",
       "3   Google Новости ТОП, Москва, 14 января 2017 АК...  2017-01-10   \n",
       "4   Газета.Ru, Москва, 13 января 2017 В МОСКОВСКО...  2017-01-10   \n",
       "\n",
       "                                event                   class  \n",
       "0  Передача РПЦ Исаакиевского собора   Внутренняя политика РФ  \n",
       "1  Передача РПЦ Исаакиевского собора   Внутренняя политика РФ  \n",
       "2  Передача РПЦ Исаакиевского собора   Внутренняя политика РФ  \n",
       "3  Передача РПЦ Исаакиевского собора   Внутренняя политика РФ  \n",
       "4  Передача РПЦ Исаакиевского собора   Внутренняя политика РФ  "
      ]
     },
     "execution_count": 28,
     "metadata": {},
     "output_type": "execute_result"
    }
   ],
   "source": [
    "import pandas as pd\n",
    "\n",
    "df = pd.read_csv('news.csv')\n",
    "df.head()"
   ]
  },
  {
   "cell_type": "code",
   "execution_count": 18,
   "metadata": {
    "collapsed": false
   },
   "outputs": [],
   "source": [
    "import re\n",
    "regex = re.compile(\"[А-Яа-я]+\")\n",
    "from nltk.tokenize import sent_tokenize\n",
    "from nltk.corpus import stopwords\n",
    "from pymystem3 import Mystem\n",
    "\n",
    "def words_only(text, regex=regex):\n",
    "    return \" \".join(regex.findall(text))\n",
    "\n",
    "\n",
    "def split_sents(text):\n",
    "    return sent_tokenize(text)\n",
    "\n",
    "\n",
    "def  remove_stopwords(text, mystopwords = stopwords.words('russian')):\n",
    "    try:\n",
    "        return \" \".join([token for token in text.split() if not token in mystopwords])\n",
    "    except:\n",
    "        return \" \"\n",
    "    \n",
    "m = Mystem()\n",
    "def lemmatize(text, mystem=m):\n",
    "    try:\n",
    "        return \"\".join(m.lemmatize(text)).strip()  \n",
    "    except:\n",
    "        return \" \""
   ]
  },
  {
   "cell_type": "code",
   "execution_count": 31,
   "metadata": {
    "collapsed": false
   },
   "outputs": [],
   "source": [
    "from nltk.tokenize import sent_tokenize\n",
    "summaries = []\n",
    "for index, row in df.iterrows():\n",
    "\n",
    "    text = row.text\n",
    "    sents = sent_tokenize(text)\n",
    "    if '2017' in sents[0]:\n",
    "        summary = sents[0].split('2017')[1]\n",
    "    else:\n",
    "        summary = sents[0]\n",
    "    summaries.append(summary) \n",
    "df['summary'] = summaries"
   ]
  },
  {
   "cell_type": "code",
   "execution_count": 36,
   "metadata": {
    "collapsed": false
   },
   "outputs": [],
   "source": [
    "df.text = df.text.str.lower()\n",
    "df.text = df.text.apply(remove_stopwords) \n",
    "df.text = df.text.apply(lemmatize)"
   ]
  },
  {
   "cell_type": "code",
   "execution_count": 37,
   "metadata": {
    "collapsed": false
   },
   "outputs": [],
   "source": [
    "df.summary = df.summary.str.lower()\n",
    "df.summary = df.summary.apply(remove_stopwords) \n",
    "df.summary = df.summary.apply(lemmatize)"
   ]
  },
  {
   "cell_type": "code",
   "execution_count": 45,
   "metadata": {
    "collapsed": false
   },
   "outputs": [
    {
     "name": "stdout",
     "output_type": "stream",
     "text": [
      "год здание капитолий вашингтон готовый инаугурация новый президент сша.\n",
      "\n",
      "инаугурация 45-го президент сша дональд трамп полдень 20 январь (20:00 мск) миллиардер трамп становиться хозяин белый дом, сменить пост барак обама ранний утро 20 январь 2017 год здание капитолий вашингтон готовый инаугурация новый президент сша.\n",
      "0.28421976445468305\n"
     ]
    }
   ],
   "source": [
    "from gensim.summarization import summarize\n",
    "import nltk\n",
    "\n",
    "text = df.iloc[100].text\n",
    "generated_summary = summarize(text, ratio = 0.05)\n",
    "\n",
    "BLEUscore = nltk.translate.bleu_score.sentence_bleu([df.iloc[100].summary], generated_summary)\n",
    "\n"
   ]
  }
 ],
 "metadata": {
  "kernelspec": {
   "display_name": "Python 3",
   "language": "python",
   "name": "python3"
  },
  "language_info": {
   "codemirror_mode": {
    "name": "ipython",
    "version": 3
   },
   "file_extension": ".py",
   "mimetype": "text/x-python",
   "name": "python",
   "nbconvert_exporter": "python",
   "pygments_lexer": "ipython3",
   "version": "3.6.0"
  }
 },
 "nbformat": 4,
 "nbformat_minor": 2
}
