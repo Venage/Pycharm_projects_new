{
 "cells": [
  {
   "cell_type": "markdown",
   "metadata": {},
   "source": [
    "http://scikit-learn.org/stable/auto_examples/linear_model/plot_logistic_l1_l2_sparsity.html"
   ]
  },
  {
   "cell_type": "code",
   "execution_count": 1,
   "metadata": {
    "collapsed": true
   },
   "outputs": [],
   "source": [
    "import numpy as np\n",
    "import matplotlib.pyplot as plt\n",
    "\n",
    "from sklearn.linear_model import LogisticRegression\n",
    "from sklearn import datasets\n",
    "from sklearn.preprocessing import StandardScaler"
   ]
  },
  {
   "cell_type": "code",
   "execution_count": 2,
   "metadata": {
    "collapsed": true
   },
   "outputs": [],
   "source": [
    "?LogisticRegression"
   ]
  },
  {
   "cell_type": "code",
   "execution_count": 9,
   "metadata": {
    "collapsed": true
   },
   "outputs": [],
   "source": [
    "digits = datasets.load_digits()\n",
    "X, y = digits.data, digits.target"
   ]
  },
  {
   "cell_type": "code",
   "execution_count": 10,
   "metadata": {
    "collapsed": true
   },
   "outputs": [],
   "source": [
    "# комментарии"
   ]
  },
  {
   "cell_type": "code",
   "execution_count": 11,
   "metadata": {
    "collapsed": false
   },
   "outputs": [
    {
     "data": {
      "text/plain": [
       "array([[ 0.        , -0.33501649, -0.04308102,  0.27407152, -0.66447751,\n",
       "        -0.84412939, -0.40972392, -0.12502292, -0.05907756, -0.62400926,\n",
       "         0.4829745 ,  0.75962245, -0.05842586,  1.12772113,  0.87958306,\n",
       "        -0.13043338, -0.04462507,  0.11144272,  0.89588044, -0.86066632,\n",
       "        -1.14964846,  0.51547187,  1.90596347, -0.11422184, -0.03337973,\n",
       "         0.48648928,  0.46988512, -1.49990136, -1.61406277,  0.07639777,\n",
       "         1.54181413, -0.04723238,  0.        ,  0.76465553,  0.05263019,\n",
       "        -1.44763006, -1.73666443,  0.04361588,  1.43955804,  0.        ,\n",
       "        -0.06134367,  0.8105536 ,  0.63011714, -1.12245711, -1.06623158,\n",
       "         0.66096475,  0.81845076, -0.08874162, -0.03543326,  0.74211893,\n",
       "         1.15065212, -0.86867056,  0.11012973,  0.53761116, -0.75743581,\n",
       "        -0.20978513, -0.02359646, -0.29908135,  0.08671869,  0.20829258,\n",
       "        -0.36677122, -1.14664746, -0.5056698 , -0.19600752]])"
      ]
     },
     "execution_count": 11,
     "metadata": {},
     "output_type": "execute_result"
    }
   ],
   "source": [
    "X = StandardScaler().fit_transform(X)\n",
    "X[:1]"
   ]
  },
  {
   "cell_type": "code",
   "execution_count": 12,
   "metadata": {
    "collapsed": false
   },
   "outputs": [
    {
     "data": {
      "text/plain": [
       "array([0, 1, 2, ..., 8, 9, 8])"
      ]
     },
     "execution_count": 12,
     "metadata": {},
     "output_type": "execute_result"
    }
   ],
   "source": [
    "y"
   ]
  },
  {
   "cell_type": "code",
   "execution_count": 13,
   "metadata": {
    "collapsed": false
   },
   "outputs": [
    {
     "data": {
      "text/plain": [
       "array([0, 0, 0, ..., 1, 1, 1])"
      ]
     },
     "execution_count": 13,
     "metadata": {},
     "output_type": "execute_result"
    }
   ],
   "source": [
    "y = (y > 4).astype(np.int)\n",
    "y"
   ]
  },
  {
   "cell_type": "code",
   "execution_count": 19,
   "metadata": {
    "collapsed": false
   },
   "outputs": [
    {
     "name": "stdout",
     "output_type": "stream",
     "text": [
      "0 100\n",
      "1 1\n",
      "2 0.01\n"
     ]
    }
   ],
   "source": [
    "for i, C in enumerate((100, 1, 0.01)):\n",
    "    print( i, C )"
   ]
  },
  {
   "cell_type": "code",
   "execution_count": 17,
   "metadata": {
    "collapsed": false
   },
   "outputs": [
    {
     "name": "stdout",
     "output_type": "stream",
     "text": [
      "score with L1 penalty: 0.9098\n",
      "score with L2 penalty: 0.9098\n",
      "score with L1 penalty: 0.9087\n",
      "score with L2 penalty: 0.9093\n",
      "score with L1 penalty: 0.8631\n",
      "score with L2 penalty: 0.8915\n"
     ]
    }
   ],
   "source": [
    "for i, C in enumerate((100, 1, 0.01)):\n",
    "    clf_l1_LR = LogisticRegression(C=C, penalty='l1', tol=0.01)\n",
    "    clf_l2_LR = LogisticRegression(C=C, penalty='l2', tol=0.01)\n",
    "    \n",
    "    clf_l1_LR.fit(X, y)\n",
    "    clf_l2_LR.fit(X, y)\n",
    "    \n",
    "    # коэффициенты признаков\n",
    "    coef_l1_LR = clf_l1_LR.coef_.ravel()\n",
    "    coef_l2_LR = clf_l2_LR.coef_.ravel()\n",
    "    \n",
    "    print(\"score with L1 penalty: %.4f\" % clf_l1_LR.score(X, y))\n",
    "    print(\"score with L2 penalty: %.4f\" % clf_l2_LR.score(X, y))"
   ]
  },
  {
   "cell_type": "code",
   "execution_count": null,
   "metadata": {
    "collapsed": true
   },
   "outputs": [],
   "source": [
    "?L"
   ]
  }
 ],
 "metadata": {
  "kernelspec": {
   "display_name": "Python 3",
   "language": "python",
   "name": "python3"
  },
  "language_info": {
   "codemirror_mode": {
    "name": "ipython",
    "version": 3
   },
   "file_extension": ".py",
   "mimetype": "text/x-python",
   "name": "python",
   "nbconvert_exporter": "python",
   "pygments_lexer": "ipython3",
   "version": "3.6.0"
  }
 },
 "nbformat": 4,
 "nbformat_minor": 2
}
