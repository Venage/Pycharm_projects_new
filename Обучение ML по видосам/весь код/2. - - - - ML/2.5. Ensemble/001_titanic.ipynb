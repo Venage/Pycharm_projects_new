{
 "cells": [
  {
   "cell_type": "markdown",
   "metadata": {},
   "source": [
    "# Titanic: Machine Learning from Disaster"
   ]
  },
  {
   "cell_type": "code",
   "execution_count": 3,
   "metadata": {
    "collapsed": true
   },
   "outputs": [],
   "source": [
    "# https://www.kaggle.com/c/titanic"
   ]
  },
  {
   "cell_type": "code",
   "execution_count": 1,
   "metadata": {
    "collapsed": true
   },
   "outputs": [],
   "source": [
    "import sklearn\n",
    "import pandas as pd"
   ]
  },
  {
   "cell_type": "code",
   "execution_count": 2,
   "metadata": {
    "collapsed": true
   },
   "outputs": [],
   "source": [
    "# Загружаем данные из файлов\n",
    "train = pd.read_csv('./titanic/train.csv')\n",
    "test = pd.read_csv('./titanic/test.csv')"
   ]
  },
  {
   "cell_type": "code",
   "execution_count": 3,
   "metadata": {
    "collapsed": true
   },
   "outputs": [],
   "source": [
    "# сохраняем столбец идентификаторов пассажиров для тестовых данных\n",
    "test_passenger_id = test['PassengerId']"
   ]
  },
  {
   "cell_type": "code",
   "execution_count": 4,
   "metadata": {},
   "outputs": [
    {
     "data": {
      "text/html": [
       "<div>\n",
       "<style>\n",
       "    .dataframe thead tr:only-child th {\n",
       "        text-align: right;\n",
       "    }\n",
       "\n",
       "    .dataframe thead th {\n",
       "        text-align: left;\n",
       "    }\n",
       "\n",
       "    .dataframe tbody tr th {\n",
       "        vertical-align: top;\n",
       "    }\n",
       "</style>\n",
       "<table border=\"1\" class=\"dataframe\">\n",
       "  <thead>\n",
       "    <tr style=\"text-align: right;\">\n",
       "      <th></th>\n",
       "      <th>PassengerId</th>\n",
       "      <th>Survived</th>\n",
       "      <th>Pclass</th>\n",
       "      <th>Name</th>\n",
       "      <th>Sex</th>\n",
       "      <th>Age</th>\n",
       "      <th>SibSp</th>\n",
       "      <th>Parch</th>\n",
       "      <th>Ticket</th>\n",
       "      <th>Fare</th>\n",
       "      <th>Cabin</th>\n",
       "      <th>Embarked</th>\n",
       "    </tr>\n",
       "  </thead>\n",
       "  <tbody>\n",
       "    <tr>\n",
       "      <th>0</th>\n",
       "      <td>1</td>\n",
       "      <td>0</td>\n",
       "      <td>3</td>\n",
       "      <td>Braund, Mr. Owen Harris</td>\n",
       "      <td>male</td>\n",
       "      <td>22.0</td>\n",
       "      <td>1</td>\n",
       "      <td>0</td>\n",
       "      <td>A/5 21171</td>\n",
       "      <td>7.2500</td>\n",
       "      <td>NaN</td>\n",
       "      <td>S</td>\n",
       "    </tr>\n",
       "    <tr>\n",
       "      <th>1</th>\n",
       "      <td>2</td>\n",
       "      <td>1</td>\n",
       "      <td>1</td>\n",
       "      <td>Cumings, Mrs. John Bradley (Florence Briggs Th...</td>\n",
       "      <td>female</td>\n",
       "      <td>38.0</td>\n",
       "      <td>1</td>\n",
       "      <td>0</td>\n",
       "      <td>PC 17599</td>\n",
       "      <td>71.2833</td>\n",
       "      <td>C85</td>\n",
       "      <td>C</td>\n",
       "    </tr>\n",
       "    <tr>\n",
       "      <th>2</th>\n",
       "      <td>3</td>\n",
       "      <td>1</td>\n",
       "      <td>3</td>\n",
       "      <td>Heikkinen, Miss. Laina</td>\n",
       "      <td>female</td>\n",
       "      <td>26.0</td>\n",
       "      <td>0</td>\n",
       "      <td>0</td>\n",
       "      <td>STON/O2. 3101282</td>\n",
       "      <td>7.9250</td>\n",
       "      <td>NaN</td>\n",
       "      <td>S</td>\n",
       "    </tr>\n",
       "    <tr>\n",
       "      <th>3</th>\n",
       "      <td>4</td>\n",
       "      <td>1</td>\n",
       "      <td>1</td>\n",
       "      <td>Futrelle, Mrs. Jacques Heath (Lily May Peel)</td>\n",
       "      <td>female</td>\n",
       "      <td>35.0</td>\n",
       "      <td>1</td>\n",
       "      <td>0</td>\n",
       "      <td>113803</td>\n",
       "      <td>53.1000</td>\n",
       "      <td>C123</td>\n",
       "      <td>S</td>\n",
       "    </tr>\n",
       "    <tr>\n",
       "      <th>4</th>\n",
       "      <td>5</td>\n",
       "      <td>0</td>\n",
       "      <td>3</td>\n",
       "      <td>Allen, Mr. William Henry</td>\n",
       "      <td>male</td>\n",
       "      <td>35.0</td>\n",
       "      <td>0</td>\n",
       "      <td>0</td>\n",
       "      <td>373450</td>\n",
       "      <td>8.0500</td>\n",
       "      <td>NaN</td>\n",
       "      <td>S</td>\n",
       "    </tr>\n",
       "  </tbody>\n",
       "</table>\n",
       "</div>"
      ],
      "text/plain": [
       "   PassengerId  Survived  Pclass  \\\n",
       "0            1         0       3   \n",
       "1            2         1       1   \n",
       "2            3         1       3   \n",
       "3            4         1       1   \n",
       "4            5         0       3   \n",
       "\n",
       "                                                Name     Sex   Age  SibSp  \\\n",
       "0                            Braund, Mr. Owen Harris    male  22.0      1   \n",
       "1  Cumings, Mrs. John Bradley (Florence Briggs Th...  female  38.0      1   \n",
       "2                             Heikkinen, Miss. Laina  female  26.0      0   \n",
       "3       Futrelle, Mrs. Jacques Heath (Lily May Peel)  female  35.0      1   \n",
       "4                           Allen, Mr. William Henry    male  35.0      0   \n",
       "\n",
       "   Parch            Ticket     Fare Cabin Embarked  \n",
       "0      0         A/5 21171   7.2500   NaN        S  \n",
       "1      0          PC 17599  71.2833   C85        C  \n",
       "2      0  STON/O2. 3101282   7.9250   NaN        S  \n",
       "3      0            113803  53.1000  C123        S  \n",
       "4      0            373450   8.0500   NaN        S  "
      ]
     },
     "execution_count": 4,
     "metadata": {},
     "output_type": "execute_result"
    }
   ],
   "source": [
    "train.head()"
   ]
  },
  {
   "cell_type": "markdown",
   "metadata": {},
   "source": [
    "## Предобработка данных, добавление признаков"
   ]
  },
  {
   "cell_type": "code",
   "execution_count": 5,
   "metadata": {
    "collapsed": true
   },
   "outputs": [],
   "source": [
    "# https://www.kaggle.com/arthurtok/introduction-to-ensembling-stacking-in-python\n",
    "\n",
    "import re\n",
    "\n",
    "RARE_TITLES = ['Lady', 'Countess','Capt', 'Col', 'Don', 'Dr', 'Major', 'Rev', 'Sir', 'Jonkheer', 'Dona']\n",
    "\n",
    "# создаем словарь для исправления префиксов имени\n",
    "TITLES = dict((title, 'Rare') for title in RARE_TITLES)\n",
    "\n",
    "TITLES['Mlle'] = 'Miss'\n",
    "TITLES['Ms'] = 'Miss'\n",
    "TITLES['Mme'] = 'Mrs'\n",
    "\n",
    "def get_title(name):\n",
    "    \"\"\" Возвращает префикс имени \"\"\"\n",
    "    match = re.search(' ([A-Za-z]+)\\.', name)\n",
    "    if match:\n",
    "        # исправляем опечатки в префиксе имени\n",
    "        return TITLES.get(match.group(1), match.group(1))\n",
    "    return ''\n",
    "\n",
    "# Применяем процесс для обучающего и тестового наборов\n",
    "for dataset in [test, train]:\n",
    "    # длина имени\n",
    "    dataset['Name_Length'] = train['Name'].apply(len)\n",
    "    # была ли каюта у пассажира\n",
    "    dataset['Has_Cabin'] = train[\"Cabin\"].apply(lambda x: 0 if type(x) == float else 1)\n",
    "    # сколько членов семьи было на корабле\n",
    "    dataset['FamilySize'] = dataset['SibSp'] + dataset['Parch'] + 1\n",
    "    # флаг = 1, если путешествует в одиночестве\n",
    "    dataset['IsAlone'] = 0\n",
    "    dataset.loc[dataset['FamilySize'] == 1, 'IsAlone'] = 1\n",
    "    # заполняем пропуски для Embarked\n",
    "    dataset['Embarked'] = dataset['Embarked'].fillna('S')\n",
    "    # заполняем индексами\n",
    "    dataset['Embarked'] = dataset['Embarked'].map( {'S': 0, 'C': 1, 'Q': 2} ).astype(int)\n",
    "    # заполняем пропуски Fare медианой\n",
    "    dataset['Fare'] = dataset['Fare'].fillna(train['Fare'].median())\n",
    "    # заполняем пропуски возраста медианой\n",
    "    dataset['Age'] = dataset['Age'].fillna(train['Age'].median())\n",
    "    # добавляем префикс имени как отдельный категориальный признак\n",
    "    dataset['Title'] = dataset['Name'].apply(get_title)\n",
    "    dataset['Title'] = dataset['Title'].map( {'Mr': 1, \n",
    "                                              'Miss': 2, \n",
    "                                              'Mrs': 3,\n",
    "                                              'Master': 4,\n",
    "                                              'Rare': 5} )\n",
    "    # заполняем неизвестные префиксы нулями\n",
    "    dataset['Title'] = dataset['Title'].fillna(0)\n",
    "    # бинаризуем пол\n",
    "    dataset['Sex'] = dataset['Sex'].map( {'female': 0, 'male': 1} ).astype(int)\n",
    "    # категоризируем стоимость билета\n",
    "    dataset.loc[dataset['Fare'] <= 7.91, 'Fare'] = 0\n",
    "    dataset.loc[(dataset['Fare'] > 7.91) & (dataset['Fare'] <= 14.454), 'Fare'] = 1\n",
    "    dataset.loc[(dataset['Fare'] > 14.454) & (dataset['Fare'] <= 31), 'Fare'] = 2\n",
    "    dataset.loc[dataset['Fare'] > 31, 'Fare'] = 3\n",
    "    dataset['Fare'] = dataset['Fare'].astype(int)\n",
    "    # категоризируем возраст\n",
    "    dataset.loc[dataset['Age'] <= 16, 'Age'] = 0\n",
    "    dataset.loc[(dataset['Age'] > 16) & (dataset['Age'] <= 32), 'Age'] = 1\n",
    "    dataset.loc[(dataset['Age'] > 32) & (dataset['Age'] <= 48), 'Age'] = 2\n",
    "    dataset.loc[(dataset['Age'] > 48) & (dataset['Age'] <= 64), 'Age'] = 3\n",
    "    dataset.loc[dataset['Age'] > 64, 'Age']"
   ]
  },
  {
   "cell_type": "code",
   "execution_count": 48,
   "metadata": {
    "collapsed": true
   },
   "outputs": [],
   "source": [
    "# Удаляем неиспользуемые столбцы\n",
    "DROP_COL = ['PassengerId', 'Name', 'Ticket', 'Cabin']\n",
    "\n",
    "X_train = np.array(train.drop(DROP_COL + ['Survived'], axis=1))\n",
    "y_train = np.array(train['Survived'])\n",
    "X_test = np.array(test.drop(DROP_COL, axis=1))"
   ]
  },
  {
   "cell_type": "markdown",
   "metadata": {},
   "source": [
    "## Предсказание моделей для стеккинга"
   ]
  },
  {
   "cell_type": "code",
   "execution_count": 106,
   "metadata": {},
   "outputs": [],
   "source": [
    "import numpy as np\n",
    "from sklearn.model_selection import cross_val_predict\n",
    "from sklearn.model_selection import KFold\n",
    "from sklearn.ensemble import RandomForestClassifier\n",
    "from sklearn.ensemble import ExtraTreesClassifier\n",
    "from sklearn.ensemble import GradientBoostingClassifier\n",
    "from sklearn.ensemble import AdaBoostClassifier\n",
    "\n",
    "def cross_val_predict_proba(estimator, X_train, y_train, X_test, random_state=None, n_splits=5):\n",
    "    y_test = np.zeros((len(X_test), n_splits), np.float32)\n",
    "    \n",
    "    kfold = KFold(n_splits=n_splits, \n",
    "                  shuffle=True,\n",
    "                  random_state=random_state)\n",
    "\n",
    "    y_predict = np.zeros_like(y_train, np.float32)\n",
    "    for i, (train_idx, test_idx) in enumerate(kfold.split(y_train)):\n",
    "        estimator.fit(X_train[train_idx], y_train[train_idx])\n",
    "        y_predict[test_idx] = estimator.predict_proba(X_train[test_idx])[:, 1]\n",
    "        y_test[:, i] = estimator.predict_proba(X_test)[:, 1]\n",
    "    \n",
    "    return y_predict, np.mean(y_test, axis=1)\n",
    "\n",
    "# TODO: подобрать гиперпараметры отдельных моделей\n",
    "\n",
    "# инициализирем модели с подобранными гиперпараметрами\n",
    "estimators = [RandomForestClassifier(random_state=54232), \n",
    "              ExtraTreesClassifier(random_state=23412),\n",
    "              AdaBoostClassifier(random_state=24212), \n",
    "              GradientBoostingClassifier(random_state=2732982)]\n",
    "\n",
    "# получаем предсказания вероятностей ансамблей на кросс-валидации для обучающей выборки\n",
    "predicted = [cross_val_predict_proba(est, X_train, y_train, X_test) for est in estimators]\n",
    "\n",
    "X_train_stack = np.stack([p[0] for p in predicted], axis=1)\n",
    "X_test_stack = np.stack([p[1] for p in predicted], axis=1)"
   ]
  },
  {
   "cell_type": "markdown",
   "metadata": {},
   "source": [
    "## Объединяем предсказания ансамблей с помощью логистической регрессии"
   ]
  },
  {
   "cell_type": "code",
   "execution_count": 134,
   "metadata": {},
   "outputs": [
    {
     "data": {
      "text/html": [
       "<div>\n",
       "<style>\n",
       "    .dataframe thead tr:only-child th {\n",
       "        text-align: right;\n",
       "    }\n",
       "\n",
       "    .dataframe thead th {\n",
       "        text-align: left;\n",
       "    }\n",
       "\n",
       "    .dataframe tbody tr th {\n",
       "        vertical-align: top;\n",
       "    }\n",
       "</style>\n",
       "<table border=\"1\" class=\"dataframe\">\n",
       "  <thead>\n",
       "    <tr style=\"text-align: right;\">\n",
       "      <th></th>\n",
       "      <th>mean_fit_time</th>\n",
       "      <th>mean_score_time</th>\n",
       "      <th>mean_test_score</th>\n",
       "      <th>mean_train_score</th>\n",
       "      <th>param_C</th>\n",
       "      <th>param_class_weight</th>\n",
       "      <th>param_penalty</th>\n",
       "      <th>params</th>\n",
       "      <th>rank_test_score</th>\n",
       "      <th>split0_test_score</th>\n",
       "      <th>...</th>\n",
       "      <th>split1_test_score</th>\n",
       "      <th>split1_train_score</th>\n",
       "      <th>split2_test_score</th>\n",
       "      <th>split2_train_score</th>\n",
       "      <th>split3_test_score</th>\n",
       "      <th>split3_train_score</th>\n",
       "      <th>std_fit_time</th>\n",
       "      <th>std_score_time</th>\n",
       "      <th>std_test_score</th>\n",
       "      <th>std_train_score</th>\n",
       "    </tr>\n",
       "  </thead>\n",
       "  <tbody>\n",
       "    <tr>\n",
       "      <th>10</th>\n",
       "      <td>0.002841</td>\n",
       "      <td>0.000840</td>\n",
       "      <td>-0.411206</td>\n",
       "      <td>-0.407174</td>\n",
       "      <td>1</td>\n",
       "      <td>None</td>\n",
       "      <td>l1</td>\n",
       "      <td>{'C': 1.0, 'class_weight': None, 'penalty': 'l1'}</td>\n",
       "      <td>1</td>\n",
       "      <td>-0.473942</td>\n",
       "      <td>...</td>\n",
       "      <td>-0.423562</td>\n",
       "      <td>-0.402609</td>\n",
       "      <td>-0.385148</td>\n",
       "      <td>-0.416383</td>\n",
       "      <td>-0.361953</td>\n",
       "      <td>-0.424017</td>\n",
       "      <td>0.000617</td>\n",
       "      <td>0.000190</td>\n",
       "      <td>0.042398</td>\n",
       "      <td>0.014586</td>\n",
       "    </tr>\n",
       "    <tr>\n",
       "      <th>23</th>\n",
       "      <td>0.000990</td>\n",
       "      <td>0.000761</td>\n",
       "      <td>-0.411394</td>\n",
       "      <td>-0.407007</td>\n",
       "      <td>3</td>\n",
       "      <td>None</td>\n",
       "      <td>l2</td>\n",
       "      <td>{'C': 3.0, 'class_weight': None, 'penalty': 'l2'}</td>\n",
       "      <td>2</td>\n",
       "      <td>-0.473668</td>\n",
       "      <td>...</td>\n",
       "      <td>-0.422555</td>\n",
       "      <td>-0.402864</td>\n",
       "      <td>-0.387398</td>\n",
       "      <td>-0.415697</td>\n",
       "      <td>-0.361733</td>\n",
       "      <td>-0.424300</td>\n",
       "      <td>0.000066</td>\n",
       "      <td>0.000038</td>\n",
       "      <td>0.041957</td>\n",
       "      <td>0.014737</td>\n",
       "    </tr>\n",
       "    <tr>\n",
       "      <th>19</th>\n",
       "      <td>0.001004</td>\n",
       "      <td>0.000851</td>\n",
       "      <td>-0.411409</td>\n",
       "      <td>-0.407207</td>\n",
       "      <td>2.5</td>\n",
       "      <td>None</td>\n",
       "      <td>l2</td>\n",
       "      <td>{'C': 2.5, 'class_weight': None, 'penalty': 'l2'}</td>\n",
       "      <td>3</td>\n",
       "      <td>-0.472913</td>\n",
       "      <td>...</td>\n",
       "      <td>-0.422588</td>\n",
       "      <td>-0.403041</td>\n",
       "      <td>-0.387816</td>\n",
       "      <td>-0.415890</td>\n",
       "      <td>-0.362100</td>\n",
       "      <td>-0.424454</td>\n",
       "      <td>0.000099</td>\n",
       "      <td>0.000203</td>\n",
       "      <td>0.041511</td>\n",
       "      <td>0.014696</td>\n",
       "    </tr>\n",
       "  </tbody>\n",
       "</table>\n",
       "<p>3 rows × 21 columns</p>\n",
       "</div>"
      ],
      "text/plain": [
       "    mean_fit_time  mean_score_time  mean_test_score  mean_train_score param_C  \\\n",
       "10       0.002841         0.000840        -0.411206         -0.407174       1   \n",
       "23       0.000990         0.000761        -0.411394         -0.407007       3   \n",
       "19       0.001004         0.000851        -0.411409         -0.407207     2.5   \n",
       "\n",
       "   param_class_weight param_penalty  \\\n",
       "10               None            l1   \n",
       "23               None            l2   \n",
       "19               None            l2   \n",
       "\n",
       "                                               params  rank_test_score  \\\n",
       "10  {'C': 1.0, 'class_weight': None, 'penalty': 'l1'}                1   \n",
       "23  {'C': 3.0, 'class_weight': None, 'penalty': 'l2'}                2   \n",
       "19  {'C': 2.5, 'class_weight': None, 'penalty': 'l2'}                3   \n",
       "\n",
       "    split0_test_score       ...         split1_test_score  split1_train_score  \\\n",
       "10          -0.473942       ...                 -0.423562           -0.402609   \n",
       "23          -0.473668       ...                 -0.422555           -0.402864   \n",
       "19          -0.472913       ...                 -0.422588           -0.403041   \n",
       "\n",
       "    split2_test_score  split2_train_score  split3_test_score  \\\n",
       "10          -0.385148           -0.416383          -0.361953   \n",
       "23          -0.387398           -0.415697          -0.361733   \n",
       "19          -0.387816           -0.415890          -0.362100   \n",
       "\n",
       "    split3_train_score  std_fit_time  std_score_time  std_test_score  \\\n",
       "10           -0.424017      0.000617        0.000190        0.042398   \n",
       "23           -0.424300      0.000066        0.000038        0.041957   \n",
       "19           -0.424454      0.000099        0.000203        0.041511   \n",
       "\n",
       "    std_train_score  \n",
       "10         0.014586  \n",
       "23         0.014737  \n",
       "19         0.014696  \n",
       "\n",
       "[3 rows x 21 columns]"
      ]
     },
     "execution_count": 134,
     "metadata": {},
     "output_type": "execute_result"
    }
   ],
   "source": [
    "from sklearn.model_selection import GridSearchCV\n",
    "from sklearn.linear_model import LogisticRegression\n",
    "\n",
    "kfold = KFold(shuffle=True, n_splits=4, random_state=19746)\n",
    "params = {'class_weight': ['balanced', None],\n",
    "          'penalty': ['l1', 'l2'],\n",
    "          'C': [0.4, 0.5, 1., 2., 2.5, 3., 3.5, 4.]}\n",
    "\n",
    "grid = GridSearchCV(LogisticRegression(), params, scoring='neg_log_loss', cv=kfold)\n",
    "grid.fit(X_train_stack, y_train)\n",
    "pd.DataFrame(grid.cv_results_).sort_values('rank_test_score')[:3]"
   ]
  },
  {
   "cell_type": "code",
   "execution_count": 135,
   "metadata": {},
   "outputs": [
    {
     "data": {
      "text/plain": [
       "array([[ 0.69409073,  0.16450228,  0.        ,  4.30609215]])"
      ]
     },
     "execution_count": 135,
     "metadata": {},
     "output_type": "execute_result"
    }
   ],
   "source": [
    "grid.best_estimator_.coef_"
   ]
  },
  {
   "cell_type": "code",
   "execution_count": 136,
   "metadata": {},
   "outputs": [
    {
     "data": {
      "text/plain": [
       "LogisticRegression(C=1.0, class_weight=None, dual=False, fit_intercept=True,\n",
       "          intercept_scaling=1, max_iter=100, multi_class='ovr', n_jobs=1,\n",
       "          penalty='l1', random_state=None, solver='liblinear', tol=0.0001,\n",
       "          verbose=0, warm_start=False)"
      ]
     },
     "execution_count": 136,
     "metadata": {},
     "output_type": "execute_result"
    }
   ],
   "source": [
    "grid.best_estimator_.fit(X_train_stack, y_train)"
   ]
  },
  {
   "cell_type": "code",
   "execution_count": 137,
   "metadata": {},
   "outputs": [
    {
     "data": {
      "text/plain": [
       "array([[ 0.69672038,  0.16442023,  0.        ,  4.30346911]])"
      ]
     },
     "execution_count": 137,
     "metadata": {},
     "output_type": "execute_result"
    }
   ],
   "source": [
    "grid.best_estimator_.coef_"
   ]
  },
  {
   "cell_type": "code",
   "execution_count": 130,
   "metadata": {
    "collapsed": true
   },
   "outputs": [],
   "source": [
    "predicted = grid.best_estimator_.predict(X_test_stack)"
   ]
  },
  {
   "cell_type": "markdown",
   "metadata": {},
   "source": [
    "## Формируем фалй для отправки"
   ]
  },
  {
   "cell_type": "code",
   "execution_count": 131,
   "metadata": {
    "collapsed": true
   },
   "outputs": [],
   "source": [
    "with open('submission.txt', 'w') as out:\n",
    "    out.write('PassengerId,Survived\\n')\n",
    "    for passenger, y in zip(test_passenger_id, predicted):\n",
    "        out.write('%s,%s\\n' % (passenger, y))"
   ]
  }
 ],
 "metadata": {
  "kernelspec": {
   "display_name": "Python 3",
   "language": "python",
   "name": "python3"
  },
  "language_info": {
   "codemirror_mode": {
    "name": "ipython",
    "version": 3
   },
   "file_extension": ".py",
   "mimetype": "text/x-python",
   "name": "python",
   "nbconvert_exporter": "python",
   "pygments_lexer": "ipython3",
   "version": "3.6.1"
  }
 },
 "nbformat": 4,
 "nbformat_minor": 2
}
