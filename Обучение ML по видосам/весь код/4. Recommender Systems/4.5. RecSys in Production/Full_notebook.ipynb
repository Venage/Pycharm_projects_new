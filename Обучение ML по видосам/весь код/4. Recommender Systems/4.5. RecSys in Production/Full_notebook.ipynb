{
  "cells": [
    {
      "metadata": {
        "_cell_guid": "2796f74c-54ad-419a-b064-78b2d6fe2d5d",
        "collapsed": true,
        "_uuid": "29323239dc59cf0e8c5eaefd61d35ace5e706cb5",
        "trusted": false
      },
      "cell_type": "code",
      "source": "import numpy as np\nimport pandas as pd\nimport gc",
      "execution_count": 1,
      "outputs": []
    },
    {
      "metadata": {
        "_cell_guid": "47184e29-69d0-4491-9a21-86bc72295143",
        "collapsed": true,
        "_uuid": "f64b494acddf1af663f0cd7b7fc0d58e21a7fdcb",
        "trusted": false
      },
      "cell_type": "code",
      "source": "train = pd.read_csv(\"../input/train.csv\")\ntest = pd.read_csv(\"../input/test.csv\")",
      "execution_count": 2,
      "outputs": []
    },
    {
      "metadata": {
        "_cell_guid": "5574e125-7bf2-40ac-9ab1-ccca29879379",
        "_uuid": "ba221860bd31dc7ca2ec01983f54bbce707a593a",
        "trusted": false,
        "collapsed": true
      },
      "cell_type": "code",
      "source": "train[\"id\"] = -1\ntest[\"target\"] = -1\ndata = train.append(test)\ndel train\ndel test\ngc.collect()",
      "execution_count": 3,
      "outputs": []
    },
    {
      "metadata": {
        "_cell_guid": "9bf2fbb0-1f3d-4dba-bf1e-9685ef05ee20",
        "_uuid": "0429c2b7d5a60d2c594d2a9b1d46d7eaebd325fc",
        "trusted": false,
        "collapsed": true
      },
      "cell_type": "code",
      "source": "data[\"user_id\"] = data[\"msno\"].astype(\"category\").cat.codes.copy()\ndata[\"item_id\"] = data[\"song_id\"].astype(\"category\").cat.codes.copy()\ndata.drop([\"msno\", \"song_id\"], inplace=True)\ngc.collect()\ntrain_data = data[data[\"id\"] == -1][[\"user_id\", \"item_id\", \"target\"]]\ntest_data = data[data[\"id\"] != -1][[\"user_id\", \"item_id\", \"id\"]]\ndel data\ngc.collect()",
      "execution_count": 4,
      "outputs": []
    },
    {
      "metadata": {
        "_cell_guid": "58069b84-aff6-47a3-9d25-c5c32217ff37",
        "_uuid": "455194a864c66cb3af2ad49718bbc8d1a581bb65",
        "trusted": false,
        "collapsed": true
      },
      "cell_type": "code",
      "source": "from sklearn.model_selection import train_test_split\n\ntrain_train, train_validation = train_test_split(train_data, train_size=0.8)\ndel train_data\ngc.collect()",
      "execution_count": 5,
      "outputs": []
    },
    {
      "metadata": {
        "_cell_guid": "640dccdf-274e-4bfb-a8c4-3a982b14bddf",
        "_uuid": "48d0f45f634ea88a8a597c03458207d65f8f4b66",
        "trusted": false,
        "collapsed": true
      },
      "cell_type": "code",
      "source": "# создаём разреженную матрицу item*user\nfrom scipy.sparse import coo_matrix\n\nsparse_train = coo_matrix((\n    train_train[\"target\"].astype(np.float32),\n    (\n        train_train[\"user_id\"],\n        train_train[\"item_id\"]\n    )\n))\nsample_weight = coo_matrix((\n    np.ones(train_train.shape[0]),\n    (\n        train_train[\"user_id\"],\n        train_train[\"item_id\"]\n    )\n))",
      "execution_count": 6,
      "outputs": []
    },
    {
      "metadata": {
        "_cell_guid": "e7901eea-f9b4-4b97-b513-ecc8c3bae688",
        "collapsed": true,
        "_uuid": "b271dc2575792e4de7fddac652cbbd25a945392e",
        "trusted": false
      },
      "cell_type": "code",
      "source": "# функция, которая красиво печатает информацию о разреженных матрицах\n\ndef sparse_info(sparse_matrix) -> None:\n    print(\"Размерности матрицы: {}\".format(sparse_matrix.shape))\n    print(\"Ненулевых элементов в матрице: {}\".format(sparse_matrix.nnz))\n    print(\"Доля ненулевых элементов: {}\"\n          .format(sparse_matrix.nnz / sparse_matrix.shape[0] / sparse_matrix.shape[1])\n    )\n    print(\"Среднее значение ненулевых элементов: {}\".format(sparse_matrix.data.mean()))\n    print(\"Максимальное значение ненулевых элементов: {}\".format(sparse_matrix.data.max()))\n    print(\"Минимальное значение ненулевых элементов: {}\".format(sparse_matrix.data.min()))",
      "execution_count": 7,
      "outputs": []
    },
    {
      "metadata": {
        "_cell_guid": "9b67b208-efef-4421-b3da-5caaa13007d0",
        "_uuid": "efda4fd8668752bfc3eb83e9fbabeaa7e23b23f4",
        "trusted": false,
        "collapsed": true
      },
      "cell_type": "code",
      "source": "sparse_info(sparse_train)",
      "execution_count": 8,
      "outputs": []
    },
    {
      "metadata": {
        "_cell_guid": "c1008805-0649-4d6b-ae1d-64713be6e265",
        "_uuid": "6c6d66f480da59dd39db0af99c6f966e0999fd66",
        "trusted": false,
        "collapsed": true
      },
      "cell_type": "code",
      "source": "# добавляем дополнительные фичи\nfrom scipy.sparse import hstack, identity\n\nitem_features = hstack([\n    identity(train_train.shape[0]),\n])",
      "execution_count": 9,
      "outputs": []
    },
    {
      "metadata": {
        "_cell_guid": "eac70ed4-ac45-4328-a51d-d5f03bf295fb",
        "_uuid": "feba7915f355f2766aedf25a1114cfffd4bc865e",
        "trusted": false,
        "collapsed": true
      },
      "cell_type": "code",
      "source": "import time\nfrom lightfm import LightFM\n\nmodel = LightFM(loss=\"warp\")\nprint(\"строим модель LightFM\")\nstart = time.time()\nmodel.fit(\n    interactions=sparse_train,\n    sample_weight=sample_weight,\n    num_threads=4,\n    epochs=100,\n    verbose=True,\n    item_features=item_features\n)\nprint(\"построили LightFM за {} секунд\".format(time.time() - start))",
      "execution_count": 10,
      "outputs": []
    },
    {
      "metadata": {
        "_cell_guid": "1e9b2f71-abac-4a47-be46-f958643c0625",
        "_uuid": "e9934644250b920aa4181fc839fc81f1e75041a2",
        "trusted": false,
        "collapsed": true
      },
      "cell_type": "code",
      "source": "def get_recs(dataset, item_features):\n    print(\"получаем рекомендации\")\n    start = time.time()\n    recs = model.predict(\n        user_ids=np.array(dataset[\"user_id\"].astype(np.int32).tolist()),\n        item_ids=np.array(dataset[\"item_id\"].astype(np.int32).tolist()),\n        item_features=item_features,\n        num_threads=4\n    )\n    print(\"получили рекомендации за {} секунд\".format(time.time() - start))\n    return recs",
      "execution_count": 11,
      "outputs": []
    },
    {
      "metadata": {
        "_cell_guid": "7e6c4f46-33ba-44d1-9aa1-6936971c1126",
        "_uuid": "001e47689b253eea4e963c4173aa7fed04094fda",
        "trusted": false,
        "collapsed": true
      },
      "cell_type": "code",
      "source": "from sklearn.metrics import roc_auc_score\n\ntrain_recs = get_recs(train_train, item_features)\nprint(\"train AUC: {}\".format(roc_auc_score(train_train[\"target\"], train_recs)))\nvalidation_recs = get_recs(train_validation, item_features)\nprint(\"test AUC: {}\".format(roc_auc_score(train_validation[\"target\"], validation_recs)))",
      "execution_count": 12,
      "outputs": []
    },
    {
      "metadata": {
        "_cell_guid": "d647e839-c5e9-42b5-b2a8-6f6090c353a0",
        "collapsed": true,
        "_uuid": "b8abb46c275ab22e088200479960666380be6404",
        "trusted": false
      },
      "cell_type": "code",
      "source": "",
      "execution_count": null,
      "outputs": []
    }
  ],
  "metadata": {
    "language_info": {
      "pygments_lexer": "ipython3",
      "nbconvert_exporter": "python",
      "file_extension": ".py",
      "version": "3.6.3",
      "name": "python",
      "codemirror_mode": {
        "version": 3,
        "name": "ipython"
      },
      "mimetype": "text/x-python"
    },
    "kernelspec": {
      "display_name": "Python 3",
      "language": "python",
      "name": "python3"
    }
  },
  "nbformat": 4,
  "nbformat_minor": 1
}