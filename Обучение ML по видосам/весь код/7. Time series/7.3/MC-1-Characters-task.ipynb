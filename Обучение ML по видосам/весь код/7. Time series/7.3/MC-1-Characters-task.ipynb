{
 "cells": [
  {
   "cell_type": "code",
   "execution_count": 1,
   "metadata": {},
   "outputs": [
    {
     "name": "stdout",
     "output_type": "stream",
     "text": [
      "Populating the interactive namespace from numpy and matplotlib\n"
     ]
    }
   ],
   "source": [
    "%pylab inline"
   ]
  },
  {
   "cell_type": "code",
   "execution_count": 2,
   "metadata": {},
   "outputs": [],
   "source": [
    "import re\n",
    "from itertools import izip"
   ]
  },
  {
   "cell_type": "markdown",
   "metadata": {},
   "source": [
    "Оценим марковскую цепь, управляющую символами русского алфавита в книге \"Война и мир\""
   ]
  },
  {
   "cell_type": "code",
   "execution_count": 3,
   "metadata": {},
   "outputs": [],
   "source": [
    "with open('data/book1.txt') as book:\n",
    "    data = book.read()\n",
    "data = data.decode('utf-8')"
   ]
  },
  {
   "cell_type": "code",
   "execution_count": 4,
   "metadata": {},
   "outputs": [],
   "source": [
    "RUSSIAN = u'абвгдеёжзийклмнопрстуфхцчшщьыъэюя'"
   ]
  },
  {
   "cell_type": "code",
   "execution_count": 5,
   "metadata": {},
   "outputs": [],
   "source": [
    "mc = dict.fromkeys(RUSSIAN, None)\n",
    "for c in RUSSIAN:\n",
    "    mc[c] = dict.fromkeys(RUSSIAN, 0)"
   ]
  },
  {
   "cell_type": "code",
   "execution_count": 6,
   "metadata": {},
   "outputs": [
    {
     "name": "stdout",
     "output_type": "stream",
     "text": [
      "Лев Николаевич Толстой\r\n",
      "Война и мир. Книга 1\r\n",
      "\r\n",
      "Война и мир – 1\r\n",
      "\r\n",
      " \r\n",
      " http://www.lib.ru\r\n",
      "\r\n",
      "Аннотация \r\n",
      "\r\n",
      "Роман Льва Толстого «Война и мир» лежит в основании величественного здания русской классической литературы. С непревзойденным мастерством Толстой воссоздал великую духом Россию – образы этой «книги на все времена» и сейчас пленяют свежестью чувств и щедростью души, искренностью страстей, силой и чистотой убеждений.\r\n",
      "В книгу вошли первый и второй тома романа.\r\n",
      "\r\n",
      "Лев Николаевич Толстой\r\n",
      "ВОЙНА И МИР\r\n",
      "\r\n",
      "Том 1\r\n",
      "\r\n",
      "ЧАСТЬ ПЕРВАЯ\r\n",
      "\r\n",
      "\r\n",
      "I\r\n",
      "\r\n",
      "– Еh bien, mon prince. Genes et Lucques ne sont plus que des apanages, des поместья, de la famille Buonaparte. Non, je vous previens, que si vous ne me dites pas, que nous avons la guerre, si vous vous permettez encore de pallier toutes les infamies, toutes les atrocites de cet Antichrist (ma parole, j'y crois) – je ne vous connais plus, vous n'etes plus mon ami, vous n'etes plus мой верный раб, comme vous dites. [Ну, что, князь, Генуа и Лукка стали не бо\n"
     ]
    }
   ],
   "source": [
    "print data[:1000]"
   ]
  },
  {
   "cell_type": "code",
   "execution_count": 7,
   "metadata": {},
   "outputs": [],
   "source": [
    "russian_only = ''.join(re.findall(U'[А-Яа-яё]+', data)).lower()"
   ]
  },
  {
   "cell_type": "code",
   "execution_count": 8,
   "metadata": {},
   "outputs": [
    {
     "name": "stdout",
     "output_type": "stream",
     "text": [
      "левниколаевичтолстойвойнаимиркнигавойнаимираннотацияроманльватолстоговойнаимирлежитвоснованиивеличественногозданиярусскойклассическойлитературыснепревзойденныммастерствомтолстойвоссоздалвеликуюдухомроссиюобразыэтойкнигинавсевременаисейчаспленяютсвежестьючувствищедростьюдушиискренностьюстрастейсилойичистотойубежденийвкнигувошлипервыйивторойтомароманалевниколаевичтолстойвойнаимиртомчастьперваяепоместьямойверныйрабнучтокнязьгенуаилуккасталинебольшекакпоместьямифамилиибонапартенетяваспредупреждаюесливымненескажетечтоунасвойнаесливыещепозволитесебезащищатьвсегадостивсеужасыэтогоантихристаправояверючтоонантихристявасбольшенезнаювыужнедругмойвыужнемойверныйрабкаквыговоритенуздравствуйтездравствуйтеявижучтояваспугаюсадитесьирассказывайтетакговорилавиюлегодаизвестнаяаннапавловнашерерфрейлинаиприближеннаяимператрицымариифеодоровнывстречаяважногоичиновногокнязявасилияпервогоприехавшегонаеевечераннапавловнакашляланесколькоднейунеебылгриппкаконаговорилагриппбылтогдановоесловоупотреблявшеесятолькоре\n"
     ]
    }
   ],
   "source": [
    "print russian_only[:1000]"
   ]
  },
  {
   "cell_type": "markdown",
   "metadata": {},
   "source": [
    "**Задание 1.** Используя заданный вам текст, подсчитайте частоту вхождений каждого символа после каждого. Нормируйте эту частоту для получения соответствующей вероятности."
   ]
  },
  {
   "cell_type": "code",
   "execution_count": 13,
   "metadata": {},
   "outputs": [],
   "source": [
    "### your code here"
   ]
  },
  {
   "cell_type": "markdown",
   "metadata": {},
   "source": [
    "**Задание 2.** Используя подсчитанную матрицу переходных вероятностей, вычислите вероятность наблюдения следующих последовательностей символов:\n",
    " - пы\n",
    " - мама \n",
    " - константинопольский\n",
    " - мамамамамамамамамама"
   ]
  },
  {
   "cell_type": "code",
   "execution_count": 14,
   "metadata": {},
   "outputs": [],
   "source": [
    "### your code here"
   ]
  },
  {
   "cell_type": "markdown",
   "metadata": {},
   "source": [
    "**Задание 3.** Используя подсчитанную матрицу переходных вероятностей, подсчитайте вероятности наблюдать строки с заданными началом и концом: начинающиеся на \"х\" и оканчивающеся на \"й\" "
   ]
  },
  {
   "cell_type": "code",
   "execution_count": 15,
   "metadata": {},
   "outputs": [],
   "source": [
    "### your code here"
   ]
  },
  {
   "cell_type": "markdown",
   "metadata": {},
   "source": [
    "**Задание 4.** Используя подсчитанную матрицу переходных вероятностей, сгенерируйте строку длины 10, начинающуся с \"я\"."
   ]
  },
  {
   "cell_type": "code",
   "execution_count": 16,
   "metadata": {},
   "outputs": [],
   "source": [
    "### your code here"
   ]
  }
 ],
 "metadata": {
  "kernelspec": {
   "display_name": "Python 2",
   "language": "python",
   "name": "python2"
  },
  "language_info": {
   "codemirror_mode": {
    "name": "ipython",
    "version": 2
   },
   "file_extension": ".py",
   "mimetype": "text/x-python",
   "name": "python",
   "nbconvert_exporter": "python",
   "pygments_lexer": "ipython2",
   "version": "2.7.14"
  }
 },
 "nbformat": 4,
 "nbformat_minor": 2
}
